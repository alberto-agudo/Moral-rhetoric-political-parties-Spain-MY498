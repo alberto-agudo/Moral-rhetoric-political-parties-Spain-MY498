{
 "cells": [
  {
   "cell_type": "markdown",
   "id": "87a3a73d-7b5a-42ab-987c-ee37e5ae7b10",
   "metadata": {
    "tags": []
   },
   "source": [
    "# MORAL FOUNDATIONS DICTIONARY TRANSLATION TO SPANISH"
   ]
  },
  {
   "cell_type": "code",
   "execution_count": 1,
   "id": "42760ce5-7af6-4fd0-a848-5a7c6dd1e5f9",
   "metadata": {},
   "outputs": [],
   "source": [
    "import rpy2.robjects as robjects\n",
    "from rpy2.robjects import pandas2ri\n",
    "import deepl\n",
    "import pickle\n",
    "import re\n",
    "from copy import deepcopy\n",
    "import pandas as pd\n",
    "from nltk.stem import SnowballStemmer\n",
    "# --- \n",
    "pd.set_option('display.max_rows', 205)\n",
    "pd.options.display.max_colwidth = 350"
   ]
  },
  {
   "cell_type": "markdown",
   "id": "9822b2c0-c09b-4354-8506-9c2e0439e7c4",
   "metadata": {},
   "source": [
    "In this notebook we will take the moral foundations dictionary implemented in quanteda, transform it into a Python format, and query an API to translate all words in the dictionary from English to Spanish."
   ]
  },
  {
   "cell_type": "markdown",
   "id": "0fb13074-9e82-48d0-8b4e-7b9301dd11dd",
   "metadata": {
    "tags": []
   },
   "source": [
    "## 1 - Data load and transformation of the dictionary from R:"
   ]
  },
  {
   "cell_type": "code",
   "execution_count": 2,
   "id": "e5a62ede-1720-4273-8957-264b891c50ad",
   "metadata": {},
   "outputs": [],
   "source": [
    "pandas2ri.activate()\n",
    "\n",
    "# Credits on reading an RDS file in Python to:\n",
    "# https://stackoverflow.com/a/42841016/15459665\n",
    "readRDS = robjects.r['readRDS']\n",
    "r_dict = readRDS('../data/mfd_dict.rds')\n",
    "\n",
    "# Translate the MFD dictionary imported from R into a Python dictionary object\n",
    "mfd_dict = {r_dict.names[i]: list(r_dict[i]) for i in range(len(r_dict.names))}"
   ]
  },
  {
   "cell_type": "code",
   "execution_count": 4,
   "id": "ce191074-4c44-4f8a-803b-173b518e0664",
   "metadata": {},
   "outputs": [
    {
     "name": "stdout",
     "output_type": "stream",
     "text": [
      "{'care.virtue': ['alleviate', 'alleviated', 'alleviates', 'alleviating', 'alleviation', 'altruism', 'altruist', 'beneficence', 'beneficiary', 'benefit', 'benefits', 'benefitted', 'benefitting', 'benevolence', 'benevolent', 'care', 'cared', 'caregiver', 'cares', 'caring', 'caringly', 'charitable', 'charity', 'child', 'childbearing', 'childbirth', 'childcare', 'childhood', 'clothe', 'comfort', 'comforted', 'comforting', 'compassion', 'compassionate', 'compassionately', 'condolence', 'condolences', 'console', 'consoled', 'consoles', 'consoling', 'consolingly', 'empathised', 'empathises', 'empathising', 'empathize', 'empathized', 'empathizers', 'empathizes', 'empathizing', 'empathy', 'feed', 'feeder', 'feeding', 'feeds', 'generosity', 'generous', 'generously', 'gentleness', 'heal', 'healed', 'healer', 'healers', 'healing', 'heals', 'health', 'healthcare', 'healthier', 'healthiness', 'healthy', 'help', 'helped', 'helper', 'helpers', 'helpful', 'helpfulness', 'helping', 'helps', 'hospitable', 'hospital', 'hospitalise', 'hospitalises', 'hospitalising', 'hospitality', 'hospitalization', 'hospitalize', 'hospitalized', 'hospitalizes', 'hospitalizing', 'hug', 'hugged', 'hugger', 'hugging', 'hugs', 'humane', 'kindness', 'love', 'loved', 'lover', 'loves', 'loving', 'lovingly', 'merciful', 'mercy', 'mommy', 'mother', 'mothered', 'motherhood', 'mothering', 'motherly', 'mothers', 'nurse', 'nursed', 'nursemaid', 'nursery', 'nurses', 'nursing', 'nurturance', 'nurture', 'nurtured', 'nurturer', 'nurturers', 'nurtures', 'nurturing', 'parenting', 'patient', 'patients', 'pitied', 'pities', 'pity', 'pitying', 'pityingly', 'protect', 'protected', 'protecter', 'protecters', 'protecting', 'protection', 'protective', 'protectiveness', 'protector', 'protectorate', 'protects', 'relief', 'relieve', 'relieved', 'reliever', 'relievers', 'relieves', 'relieving', 'rescue', 'rescued', 'rescuer', 'rescuers', 'rescues', 'rescuing', 'safe', 'safeguard', 'safekeeping', 'safely', 'safeness', 'safety', 'share', 'shared', 'sharer', 'shares', 'sharing', 'solace', 'sympathize', 'sympathizer', 'sympathizers', 'sympathizing', 'sympathy', 'unharmed', 'unharmful', 'vulnerability', 'vulnerable', 'warmhearted', 'wound', 'wounded', 'wounding', 'wounds'], 'care.vice': ['abused', 'abuser', 'abusers', 'abuses', 'abusing', 'ache', 'ached', 'aches', 'aching', 'achingly', 'afflict', 'afflicted', 'affliction', 'afflictions', 'afflicts', 'agonize', 'agonized', 'agonizing', 'agonizingly', 'agony', 'anguish', 'anguished', 'anguishes', 'anguishing', 'annihilate', 'annihilated', 'annihilates', 'annihilation', 'annihilator', 'assassin', 'assassinate', 'assassinated', 'assassinates', 'assassinating', 'assassination', 'assassinations', 'assassins', 'assault', 'assaulted', 'assaulter', 'assaulters', 'assaulting', 'assaults', 'attack', 'attacked', 'attacker', 'attackers', 'attacks', 'brutalisation', 'brutalise', 'brutalises', 'brutality', 'brutalization', 'brutalize', 'brutalized', 'brutalizes', 'brutalizing', 'bullied', 'bullies', 'bully', 'bullyboy', 'bullying', 'carnage', 'casualties', 'casualty', 'coldhearted', 'cried', 'crier', 'cries', 'cruel', 'cruelness', 'cruelty', 'crying', 'damage', 'damaged', 'damager', 'damages', 'damaging', 'destroy', 'destroyed', 'destroyer', 'destroyers', 'destroying', 'destroys', 'destruction', 'die', 'discomfort', 'discomforted', 'discomforting', 'discomforts', 'distress', 'distressed', 'distresses', 'distressing', 'distressingly', 'duress', 'endanger', 'endangered', 'endangering', 'endangers', 'exploit', 'exploitation', 'exploited', 'exploiter', 'exploiters', 'exploiting', 'exploits', 'fatalities', 'fatality', 'fight', 'fighter', 'fighters', 'fighting', 'fights', 'genocidal', 'genocide', 'genocides', 'harass', 'harassed', 'harasser', 'harassers', 'harasses', 'harassing', 'harassment', 'harm', 'harmed', 'harmful', 'harmfulness', 'harming', 'harms', 'harsh', 'harsher', 'harshness', 'hunger', 'hungered', 'hungering', 'hungers', 'hurt', 'hurtful', 'hurting', 'hurts', 'inflict', 'inflicted', 'inflicting', 'inflicts', 'inhospitable', 'inhospitality', 'inhuman', 'inhumanity', 'injured', 'injurer', 'injurers', 'injures', 'injuring', 'injurious', 'injury', 'kill', 'killed', 'killer', 'killers', 'killing', 'kills', 'malevolence', 'malevolent', 'maltreat', 'maltreated', 'maltreating', 'maltreatment', 'manhandle', 'manhandles', 'mistreat', 'mistreated', 'mistreating', 'mistreatment', 'mistreats', 'molest', 'molestation', 'molested', 'molester', 'molesters', 'molesting', 'molests', 'murder', 'murdered', 'murderer', 'murderers', 'murderess', 'murdering', 'murderous', 'murders', 'needier', 'neediness', 'needy', 'pain', 'pained', 'painfulness', 'paining', 'pains', 'persecute', 'persecuted', 'persecutes', 'persecuting', 'persecution', 'punch', 'punched', 'puncher', 'punchers', 'punches', 'punching', 'rape', 'raped', 'rapes', 'raping', 'rapist', 'rapists', 'ravage', 'ravaged', 'ravages', 'ravaging', 'smite', 'smother', 'smothered', 'smothering', 'smothers', 'sorrow', 'sorrowful', 'sorrows', 'stabbed', 'stabber', 'stabbers', 'stabbing', 'stabs', 'suffer', 'suffered', 'sufferer', 'sufferers', 'suffering', 'suffers', 'threat', 'threaten', 'threatened', 'threatening', 'threateningly', 'threatens', 'threats', 'torment', 'tormented', 'tormenter', 'tormenters', 'tormenting', 'tormentor', 'torments', 'torture', 'tortured', 'torturer', 'torturers', 'tortures', 'torturing', 'torturous', 'tribulation', 'tribulations', 'uncaring', 'uncaringly', 'uncharitable', 'uncompassionate', 'ungenerous', 'unhelpful', 'unhelpfulness', 'unkind', 'unkindness', 'unmerciful', 'victim', 'victimises', 'victimization', 'victimize', 'victimizer', 'victimizers', 'victimizes', 'victimizing', 'victims', 'violence', 'violent', 'vulnerability', 'vulnerable', 'wound', 'wounded', 'wounding', 'wounds'], 'fairness.virtue': ['avenge', 'avenged', 'avenger', 'avengers', 'avenges', 'avenging', 'been objective', 'being objective', 'civil right', 'civil rights', 'compensate', 'compensated', 'compensates', 'compensating', 'compensation', 'do unto others', 'due process', 'due processes', 'due processing', 'dues', 'egalitarian', 'egalitarians', 'equal', 'equalities', 'equality', 'equalize', 'equalizer', 'equalizers', 'equals', 'equitable', 'equities', 'equity', 'eye for an eye', 'fair', 'fairminded', 'fairness', 'fairplay', 'golden rule', 'honest', 'honesty', 'impartial', 'impartiality', 'integrity', 'justice', 'justices', 'justification', 'justified', 'justifies', 'justify', 'justifying', 'justness', 'karma', 'law', 'lawful', 'lawfully', 'laws', 'lawyer', 'lawyered', 'lawyering', 'lawyers', 'level playing field', 'level playing fields', 'level the playing field', 'levels the playing field', 'objectiveness', 'parity', 'pay back', 'payback', 'proportional', 'proportionality', 'reciprocal', 'reciprocity', 'referee', 'refereed', 'refereeing', 'referees', 'repaid', 'reparation', 'reparations', 'repay', 'repaying', 'repayment', 'repayments', 'repays', 'restitution', 'retaliate', 'retaliated', 'retaliates', 'retaliating', 'retaliation', 'retribution', 'retributions', 'revenge', 'revenger', 'rights', 'sportsmanship', 'square deal', 'square dealer', 'square dealers', 'square dealing', 'square deals', 'tit for tat', 'tribunal', 'tribunals', 'trust', 'trusted', 'trusting', 'trusts', 'trustworthiness', 'trustworthy', 'unbias', 'unbiased', 'unprejudiced', 'vengeance', 'will share'], 'fairness.vice': ['am partial', 'bamboozle', 'bamboozled', 'bamboozles', 'bamboozling', 'be partial', 'been partial', 'behind their back', 'behind their backs', 'being partial', 'betray', 'betrayal', 'betrayed', 'betrayer', 'betrayers', 'betraying', 'betrays', 'bias', 'biased', 'biases', 'biasing', 'bigot', 'bigoted', 'bigots', 'bilk', 'bilked', 'bilking', 'bilks', 'blackmail', 'blackmailed', 'blackmailer', 'blackmailers', 'blackmailing', 'blackmails', 'chauvinists', 'cheat', 'cheated', 'cheater', 'cheaters', 'cheating', 'cheats', 'con artist', 'con artists', 'connive', 'connived', 'conniver', 'connivers', 'connives', 'conniving', 'crook', 'crooked', 'crooks', 'deceipt', 'deceive', 'deceived', 'deceiver', 'deceivers', 'deceives', 'deceiving', 'deceivingly', 'deception', 'defraud', 'defrauded', 'defrauder', 'defrauders', 'defrauding', 'defrauds', 'did rob', 'disadvantaged', 'discriminate', 'discriminated', 'discriminates', 'discriminating', 'discrimination', 'dishonest', 'dishonesty', 'disparity', 'disproportion', 'disproportionate', 'disproportionately', 'disproportioned', 'disproportions', 'distrust', 'distrusted', 'distrustful', 'distrusting', 'distrusts', 'double cross', 'double crossed', 'double crosser', 'double crossers', 'double crosses', 'double crossing', 'dupe', 'dupes', 'duping', 'duplicitous', 'economic disparity', 'exploit', 'exploitation', 'exploited', 'exploiter', 'exploiters', 'exploiting', 'exploits', 'false advertise', 'false advertised', 'false advertisement', 'false advertiser', 'false advertisers', 'false advertises', 'false advertising', 'false impression', 'false impressions', 'false witness', 'favoritism', 'fleeced', 'fleecing', 'fraud', 'frauds', 'fraudulent', 'free rider', 'free riders', 'freeload', 'freeloader', 'freeloaders', 'freeloading', 'go back on', 'hoodwink', 'hoodwinked', 'hoodwinking', 'hoodwinks', 'hypocrisy', 'hypocrite', 'hypocrites', 'imbalance', 'imbalanced', 'imbalances', 'imposter', 'imposters', 'inequalities', 'inequality', 'inequities', 'inequity', 'injustice', 'injustices', 'liar', 'liars', 'lied', 'lying', 'mislead', 'misleader', 'misleaders', 'misleading', 'misleadingly', 'misleads', 'mooch', 'mooched', 'moocher', 'moochers', 'mooches', 'mooching', 'oppress', 'oppression', 'partiality', 'pickpocket', 'pickpocketed', 'pickpocketing', 'pickpockets', 'plagiarism', 'plagiaristic', 'prejudice', 'prejudiced', 'prejudicing', 'racism', 'racist', 'racists', 'ripoff', 'ripoffs', 'ripped off', 'ripping off', 'rips off', 'robbed', 'robber', 'robbers', 'robbing', 'robs', 'scam', 'scammed', 'scammer', 'scammers', 'scamming', 'scams', 'segregate', 'segregated', 'segregates', 'segregating', 'segregation', 'sexism', 'sexist', 'sexists', 'shyster', 'shysters', 'stacked deck', 'stacked the deck', 'stacking the deck', 'stacks the deck', 'steal', 'stealing', 'steals', 'stole', 'stolen', 'suckered', 'swindle', 'swindled', 'swindler', 'swindlers', 'swindles', 'swindling', 'taking advantage', 'theft', 'thief', 'thieves', 'thieving', 'tricked', 'tricking', 'trickster', 'unequal', 'unequaled', 'unfair', 'unfairness', 'unjust', 'untrustworthiness', 'untrustworthy', 'was partial', 'will rob'], 'loyalty.virtue': ['all for one', 'allegiance', 'allegiances', 'allegiant', 'allied', 'allies', 'ally', 'belong', 'belonged', 'belonging', 'belongs', 'bowed', 'brothers in arms', 'clan', 'clans', 'clique', 'cliques', 'coalition', 'coalitions', 'cohort', 'cohorts', 'collective', 'collectively', 'collectives', 'commune', 'communes', 'communion', 'communities', 'community', 'companies', 'companion', 'companions', 'companionship', 'companionships', 'company', 'comrade', 'comradery', 'comrades', 'congregate', 'congregates', 'congregating', 'congregation', 'congregations', 'corps', 'countries', 'country', 'cult', 'cults', 'death do us part', 'enlist', 'enlisted', 'enlisting', 'enlistment', 'enlists', 'faction', 'factions', 'familiar', 'familiarities', 'familiarity', 'families', 'family', 'fellow', 'fellows', 'fellowship', 'fellowships', 'fidelity', 'follower', 'followers', 'group', 'grouped', 'grouping', 'groups', 'hazing', 'hazings', 'herd', 'herded', 'herder', 'herders', 'herding', 'herds', 'homeland', 'homelands', 'horde', 'hordes', 'indivisible', 'ingroup', 'insider', 'insiders', 'joining', 'kin', 'kinship', 'loyal', 'loyalties', 'loyalty', 'nation', 'nations', 'old glory', 'one for all', 'organization', 'organizations', 'patriot', 'patriots', 'player', 'pledge', 'pledged', 'pledger', 'pledgers', 'pledges', 'pledging', 'sacrifice', 'sacrificed', 'sacrifices', 'sacrificial', 'sacrificing', 'sect', 'sects', 'solidarities', 'solidarity', 'team player', 'together', 'tribal', 'tribalism', 'tribe', 'tribes', 'troop', 'trooper', 'troopers', 'troops', 'troupe', 'troupes', 'undivided', 'union jack', 'unite', 'united', 'uniter', 'uniters', 'unites', 'uniting', 'unity', 'us against them', 'war', 'wife'], 'loyalty.vice': ['against us', 'apostate', 'apostates', 'backstab', 'backstabbed', 'backstabber', 'backstabbers', 'backstabbing', 'backstabs', 'betray', 'betrayed', 'betrayer', 'betrayers', 'betraying', 'betrays', 'cheat on', 'cheated on', 'cheating on', 'cheats on', 'deserter', 'deserters', 'deserting', 'desertion', 'disloyal', 'enemies', 'enemy', 'heresies', 'heresy', 'heretic', 'heretics', 'infidel', 'infidelity', 'infidels', 'outgroup', 'outgroups', 'outsider', 'outsiders', 'rebel', 'rebellion', 'rebellions', 'rebels', 'traitor', 'traitors', 'treacherous', 'treachery', 'treason', 'unfaithful', 'unfaithfulness', 'unpatriotic'], 'authority.virtue': ['acquiesce', 'acquiesced', 'acquiescent', 'acquiesces', 'acquiescing', 'adhere', 'adhered', 'adherence', 'adheres', 'adhering', 'admiral', 'admirals', 'allegiance', 'allegiances', 'allegiant', 'arrest', 'arrested', 'arresting', 'arrests', 'authorities', 'authority', 'authorize', 'authorized', 'authorizer', 'authorizes', 'authorizing', 'bishop', 'bishops', 'boss', 'bossed', 'bosses', 'bossing', 'bow before', 'bow down', 'bowed', 'bowing', 'bullied', 'bullies', 'bully', 'bullying', 'bullys', 'by the book', 'captain', 'captained', 'captaining', 'captains', 'caste', 'castes', 'ceo', 'chief', 'chiefs', 'chieftain', 'coerce', 'coerced', 'coerces', 'coercing', 'coersion', 'command', 'commandant', 'commanded', 'commander', 'commanders', 'commanding', 'commandingly', 'commandment', 'commandments', 'commands', 'compliance', 'compliant', 'compliantly', 'comply', 'control', 'controlled', 'controller', 'controllers', 'controlling', 'controls', 'corporate ladder', 'corporate ladders', 'covenant', 'covenants', 'dean', 'decree', 'decreeing', 'decrees', 'deference', 'deferential', 'deferentially', 'dictate', 'dictated', 'dictates', 'dictating', 'dictation', 'dictator', 'dictators', 'divine right', 'do as one says', 'dominant', 'dominate', 'dominated', 'dominates', 'dominating', 'dominion', 'dominions', 'duties', 'dutiful', 'duty', 'elder', 'elderly', 'elders', 'emperor', 'emperors', 'empire', 'empires', 'father', 'fathered', 'fathering', 'fathers', 'filial piety', 'forbade', 'forbid', 'forbidding', 'forbiddingly', 'forbids', 'govern', 'governed', 'governess', 'governing', 'governor', 'governors', 'governs', 'guide', 'guides', 'guiding', 'head honcho', 'hierarchical', 'hierarchies', 'hierarchy', 'honor', 'honorable', 'honored', 'honoring', 'honors', 'in charge', 'institution', 'institutional', 'institutions', 'lead by example', 'leader', 'leaders', 'leadership', 'lionize', 'lionizes', 'lionizing', 'lorded over', 'manager', 'managerial', 'managers', 'master', 'matriarch', 'matriarchal', 'matriarchs', 'matriarchy', 'mentor', 'mentored', 'mentoring', 'mentors', 'monarch', 'monarchical', 'monarchies', 'monarchs', 'monarchy', 'nobility', 'noble', 'nobles', 'obedience', 'obedient', 'obediently', 'obey', 'obeyed', 'obeying', 'obeys', 'oligarch', 'oligarchies', 'oligarchs', 'oligarchy', 'oppress', 'order', 'ordered', 'ordering', 'patriarch', 'patriarchs', 'patriarchy', 'pecking order', 'permission', 'permit', 'permits', 'police', 'policing', 'polite', 'politeness', 'pope', 'preside over', 'president', 'presidential', 'presidents', 'prime minister', 'prime ministerial', 'prime ministers', 'principal', 'principals', 'proper', 'protect', 'protected', 'protecting', 'protection', 'protector', 'protectors', 'protects', 'punish', 'punished', 'punisher', 'punishers', 'punishes', 'punishing', 'punishingly', 'punishment', 'punishments', 'punitive', 'queen', 'queens', 'rank', 'ranked', 'ranking', 'ranks', 'regulation', 'regulations', 'respect', 'respected', 'respectful', 'respectfully', 'respecting', 'respects', 'revere', 'revered', 'reverence', 'reverential', 'reveres', 'ringleader', 'ringleaders', 'ruling', 'servant', 'servants', 'slave', 'slaved', 'slaves', 'slaving', 'slavishly', 'social order', 'stature', 'submission', 'submissions', 'submit', 'submits', 'submitted', 'submitter', 'submitters', 'submitting', 'subordinate', 'subordinated', 'subordinates', 'subordinating', 'subordination', 'supervise', 'supervised', 'superviser', 'supervisers', 'supervises', 'supervising', 'supervision', 'take orders', 'take up arms', 'toe the line', 'top dog', 'top gun', 'tradition', 'traditional', 'traitor', 'traitors', 'underling', 'underlings', 'venerate', 'venerated', 'venerates', 'venerating', 'veneration', 'vice president', 'wear the crown', 'willing', 'worship', 'worships'], 'authority.vice': ['anarchist', 'anarchistic', 'anarchists', 'anarchy', 'apostate', 'apostates', 'bedlam', 'chaos', 'chaotic', 'chaotically', 'disarray', 'disarrayed', 'dishonor', 'dishonorable', 'dishonored', 'dishonoring', 'dishonors', 'dishonouring', 'dishonours', 'disobedience', 'disobedient', 'disobey', 'disorder', 'disordered', 'disordering', 'disrespect', 'disrespected', 'disrespecting', 'disrespects', 'dissent', 'dissented', 'dissenter', 'dissenters', 'dissenting', 'dissention', 'dissents', 'dissident', 'dissidents', 'heresies', 'heresy', 'heretic', 'heretical', 'heretics', 'illegal', 'illegality', 'illegals', 'impolite', 'insubordinate', 'insurrection', 'insurrectional', 'insurrectionist', 'insurrections', 'lawless', 'lawlessness', 'misrule', 'misruled', 'misruling', 'mutinied', 'mutinies', 'mutinous', 'mutiny', 'nonconforming', 'nonconformist', 'nonconformists', 'nonconformity', 'orders', 'overpower', 'overpowered', 'overpowering', 'overpowers', 'overthrew', 'overthrow', 'overthrowing', 'overthrown', 'overthrows', 'pandemonium', 'permissive', 'permissiveness', 'rabble rouser', 'rabble rousers', 'rabble rousing', 'raise hell', 'raises hell', 'raising hell', 'rebel', 'rebelled', 'rebelling', 'rebellion', 'rebellions', 'rebels', 'refuse', 'refused', 'refuser', 'refusers', 'refuses', 'refusing', 'renegade', 'renegades', 'riot', 'rioted', 'rioter', 'rioters', 'rioting', 'riots', 'rock the boat', 'sedition', 'subversion', 'subvert', 'subverted', 'subverting', 'subverts', 'traditions', 'transgress', 'transgressed', 'transgresses', 'transgressing', 'transgression', 'treacherous', 'treachery', 'treason', 'trouble maker', 'tumult', 'tumultuous', 'unathorized', 'unlawful', 'unlawfully', 'unlawfulness', 'unruly', 'uprising', 'uprisings'], 'sanctity.virtue': ['abstinance', 'abstinence', 'allah', 'almighty', 'angel', 'apostle', 'apostles', 'atone', 'atoned', 'atonement', 'atones', 'atoning', 'beatification', 'beatify', 'beatifying', 'bible', 'bibles', 'biblical', 'bless', 'blessed', 'blesses', 'blessing', 'blessings', 'blood', 'bloodiness', 'bloody', 'body', 'buddha', 'buddhas', 'buddhist', 'cathedral', 'cathedrals', 'catholic', 'catholicism', 'catholics', 'celibacy', 'celibate', 'chaste', 'chastity', 'christ', 'christian', 'christians', 'church', 'churches', 'clean', 'cleaned', 'cleaner', 'cleaners', 'cleaning', 'cleanliness', 'cleans', 'communion', 'consecrate', 'consecrated', 'consecrates', 'consecrating', 'consecration', 'decency', 'deification', 'deify', 'deism', 'deist', 'deists', 'deities', 'deity', 'devout', 'dignified', 'dignifies', 'dignify', 'dignifying', 'dignities', 'dignity', 'divine', 'divinities', 'divinity', 'elevating', 'enshrine', 'enshrined', 'enshrines', 'enshrining', 'eternal', 'eternally', 'exalt', 'exalted', 'exalting', 'exalts', 'exterminate', 'exterminated', 'exterminates', 'exterminating', 'extermination', 'exterminator', 'exterminators', 'faith', 'faithful', 'faithfully', 'faiths', 'food', 'foods', 'glories', 'glorious', 'gloriously', 'glory', 'god', 'godess', 'godesses', 'godliness', 'godly', 'gods', 'gospel', 'gospels', 'hallow', 'hallowed', 'hallowing', 'hallows', 'heaven', 'heavenly', 'heavens', 'higher power', 'holiness', 'holy', 'holy cross', 'holy crosses', 'imam', 'imams', 'immaculate', 'immaculately', 'immune', 'immunities', 'immunity', 'jesus', 'koran', 'koranic', 'lord', 'lords', 'marriage', 'married', 'marries', 'marring', 'marry', 'marrying', 'mary', 'modesty', 'monasteries', 'monastery', 'monastic', 'monasticism', 'monk', 'monks', 'mosque', 'mosques', 'nobility', 'noble', 'nobles', 'nun', 'nunneries', 'nunnery', 'nuns', 'organic', 'organically', 'organics', 'orthodox', 'orthodoxies', 'orthodoxy', 'pastor', 'piety', 'pious', 'pope', 'pray', 'prayed', 'prayer', 'prayers', 'praying', 'prays', 'priest', 'priestly', 'priests', 'pristine', 'prophet', 'prophetic', 'prophetically', 'prophets', 'prude', 'pure', 'pureness', 'purification', 'purified', 'purifier', 'purifiers', 'purifies', 'purify', 'purifying', 'purities', 'purity', 'rabbi', 'rabbinical', 'rabbis', 'raw', 'refine', 'refined', 'refinement', 'refines', 'refining', 'religion', 'religions', 'religiosity', 'religious', 'religiously', 'repent', 'repented', 'repenting', 'repents', 'reverend', 'righteous', 'righteously', 'righteousness', 'sacred', 'sacredness', 'sacrosanct', 'saint', 'saintliness', 'saintly', 'saints', 'sanctified', 'sanctifies', 'sanctify', 'sanctifying', 'sanctity', 'scripture', 'scriptures', 'shrine', 'soul', 'soulful', 'souls', 'spiritual', 'spirituality', 'spotless', 'spotlessly', 'spotlessness', 'stainless', 'sterile', 'sterility', 'supernatural', 'synagogue', 'synagogues', 'tabernacle', 'talmudic', 'temperance', 'temple', 'temples', 'theological', 'theology', 'torah', 'torahs', 'unadulterated', 'unchaste', 'undefiled', 'unspoiled', 'unsullied', 'untainted', 'untouched', 'virgin', 'virginal', 'virginity', 'virgins', 'wholesome', 'wholesomely', 'wholesomeness', 'worship', 'worships', 'yogi', 'yogis'], 'sanctity.vice': ['abhor', 'abhored', 'abhors', 'addict', 'addicted', 'addicting', 'addiction', 'addictions', 'addicts', 'adulterer', 'adulterers', 'adulterous', 'adultery', 'alcoholic', 'alcoholics', 'alcoholism', 'apostate', 'apostates', 'barf', 'barfed', 'barfing', 'barfs', 'befoul', 'befouled', 'befouling', 'befouls', 'bm', 'cock', 'cockroach', 'cockroaches', 'cocksucker', 'cocksuckers', 'contagion', 'contagious', 'contagiously', 'contaminant', 'contaminants', 'contaminate', 'contaminated', 'contaminates', 'contaminating', 'contamination', 'corpse', 'corpses', 'corrupt', 'corrupted', 'corrupting', 'corruption', 'corrupts', 'crappy', 'cum', 'cunt', 'cunts', 'curse', 'cursed', 'curses', 'cursing', 'damn', 'damnation', 'damned', 'damning', 'damns', 'debase', 'debased', 'debases', 'debasing', 'debaucherous', 'debauchery', 'decay', 'decayed', 'decaying', 'decays', 'defile', 'defiled', 'defiler', 'defilers', 'defiles', 'defiling', 'deflower', 'deflowered', 'deflowering', 'deform', 'deformed', 'deforming', 'deformities', 'deformity', 'deforms', 'degradation', 'degrade', 'degraded', 'degraders', 'degrades', 'degrading', 'degradingly', 'deprave', 'depraved', 'depravities', 'depravity', 'desecrate', 'desecrated', 'desecrates', 'desecrating', 'desecration', 'desecrations', 'deviant', 'deviants', 'devil', 'dirt', 'dirtied', 'dirties', 'dirty', 'dirtying', 'disease', 'diseased', 'diseases', 'disgust', 'disgusted', 'disgusting', 'disgustingly', 'disgusts', 'divorce', 'divorced', 'divorces', 'divorcing', 'douchebag', 'douchebags', 'drug', 'drugged', 'drugging', 'drugs', 'dung', 'epidemic', 'epidemics', 'excrement', 'excrete', 'excreted', 'excretes', 'excreting', 'fecal', 'feces', 'fester', 'festered', 'festering', 'festers', 'filth', 'filthy', 'flesh', 'fornicate', 'fornicated', 'fornicating', 'fornication', 'fornicator', 'fornicators', 'foul', 'fuck', 'fucked', 'fucker', 'fuckers', 'fucking', 'fucks', 'gangrene', 'gangrenous', 'garbage', 'germ', 'germs', 'godless', 'gonorrhea', 'gross', 'grossness', 'harlot', 'harlots', 'hedonism', 'hedonist', 'hedonistic', 'hedonists', 'hell', 'heresies', 'heresy', 'heretic', 'heretical', 'heretics', 'hooker', 'hookers', 'horrific', 'horrifying', 'horror', 'horrors', 'impiety', 'impious', 'impure', 'impurities', 'impurity', 'incest', 'incestuous', 'incestuously', 'indecencies', 'indecency', 'indecent', 'indecently', 'infect', 'infected', 'infecting', 'infection', 'infections', 'infectiousness', 'infects', 'infest', 'infestation', 'infested', 'infesting', 'infests', 'leper', 'lepers', 'leprosy', 'lewd', 'lewdness', 'lice', 'manure', 'mar', 'marred', 'moldy', 'muck', 'mucking', 'mucky', 'mud', 'nausea', 'nauseated', 'nauseating', 'nauseatingly', 'nauseous', 'necrophilia', 'necrophiliac', 'necrophiliacs', 'obscene', 'obscenity', 'pandemic', 'pandemics', 'parasite', 'parasites', 'parasitic', 'parasitically', 'pathogen', 'pathogenic', 'pathogens', 'perverse', 'perversely', 'pervert', 'perverted', 'perverts', 'pestilence', 'phlegm', 'phlegmatic', 'phlegmatically', 'pigsty', 'plague', 'plagued', 'plagues', 'plaguing', 'profane', 'profanities', 'profanity', 'promiscuity', 'promiscuous', 'prostitute', 'prostituted', 'prostitutes', 'prostituting', 'prostitution', 'puke', 'puked', 'pukes', 'puking', 'pus', 'putrid', 'rat', 'rats', 'repugnance', 'repugnant', 'repugnantly', 'repulsed', 'repulses', 'repulsing', 'repulsive', 'repulsiveness', 'revolting', 'risque', 'rot', 'rotten', 'rottenness', 'rubbish', 'satan', 'satanic', 'satanically', 'scabies', 'scatalogical', 'scum', 'scummy', 'scuzz', 'scuzzy', 'sexual', 'sexuality', 'shat', 'shit', 'shite', 'shits', 'shitter', 'shittier', 'shitting', 'shitty', 'sin', 'sinful', 'sinfully', 'sinfulness', 'sinned', 'sinner', 'sinners', 'sinning', 'sins', 'skank', 'skanked', 'skanking', 'skanks', 'skanky', 'sleaze', 'sleaziness', 'sleazy', 'slime', 'slimy', 'slut', 'sluts', 'sluttiness', 'slutting', 'slutty', 'sodomy', 'soiled', 'spoil', 'spoiled', 'spoiling', 'spreading', 'stain', 'stained', 'staining', 'stains', 'sullied', 'sullies', 'sully', 'swear', 'swearing', 'swears', 'swore', 'taint', 'tainted', 'tainting', 'taints', 'tarnish', 'tarnished', 'tarnishes', 'tarnishing', 'tarnishment', 'trash', 'trashed', 'trashiness', 'trashing', 'trashy', 'unclean', 'uncleanliness', 'untouchable', 'untouchables', 'vermin', 'viral', 'virus', 'viruses', 'vomit', 'vomits', 'vomitted', 'vomitting', 'waste', 'wasted', 'waster', 'wasters', 'wastes', 'wasting', 'whore', 'whored', 'whorehouse', 'whorehouses', 'whores', 'whoring']}\n"
     ]
    }
   ],
   "source": [
    "print(mfd_dict)"
   ]
  },
  {
   "cell_type": "markdown",
   "id": "3ab1dc40-d010-47b0-91c6-c7b6d72591a4",
   "metadata": {},
   "source": [
    "Examples of dictionary values:"
   ]
  },
  {
   "cell_type": "code",
   "execution_count": 6,
   "id": "adf93207-4721-4c05-8788-da140312bcd0",
   "metadata": {},
   "outputs": [
    {
     "data": {
      "text/plain": [
       "['alleviate', 'alleviated', 'alleviates', 'alleviating', 'alleviation']"
      ]
     },
     "execution_count": 6,
     "metadata": {},
     "output_type": "execute_result"
    }
   ],
   "source": [
    "mfd_dict['care.virtue'][:5]"
   ]
  },
  {
   "cell_type": "code",
   "execution_count": 7,
   "id": "acb8a0a4-0544-4ca0-b008-ddf6141d2e4e",
   "metadata": {},
   "outputs": [
    {
     "data": {
      "text/plain": [
       "['anarchist', 'anarchistic', 'anarchists', 'anarchy', 'apostate']"
      ]
     },
     "execution_count": 7,
     "metadata": {},
     "output_type": "execute_result"
    }
   ],
   "source": [
    "mfd_dict['authority.vice'][:5]"
   ]
  },
  {
   "cell_type": "markdown",
   "id": "8453f20f-bb04-43d1-a5c0-40bec1407bcd",
   "metadata": {},
   "source": [
    "## 2 - Translation of the dictionary step by step"
   ]
  },
  {
   "cell_type": "markdown",
   "id": "177a5b9c-d895-455c-af91-ac1eac942461",
   "metadata": {},
   "source": [
    "### 2.1: DEEPL API"
   ]
  },
  {
   "cell_type": "markdown",
   "id": "19c91f78-37a3-4b65-a98c-92bc873ed9e8",
   "metadata": {},
   "source": [
    "- Rate limits:"
   ]
  },
  {
   "cell_type": "markdown",
   "id": "e83fc8c7-e196-49d5-b085-58232df64f92",
   "metadata": {},
   "source": [
    "We will use the DeepL API to translate all the words in this dictionary to Spanish. There is a cap on 500,000 characters / month. Let us see whether our dictionary would surpass this cap."
   ]
  },
  {
   "cell_type": "code",
   "execution_count": 9,
   "id": "5a2ee0f4-5b4a-4500-93e4-9cbfed64bed9",
   "metadata": {},
   "outputs": [
    {
     "name": "stdout",
     "output_type": "stream",
     "text": [
      "There are 2103 words in our sample.\n"
     ]
    }
   ],
   "source": [
    "total_words = len([word for words in mfd_dict.values() for word in words])\n",
    "print('There are ' + str(total_words) + ' words in our sample.')"
   ]
  },
  {
   "cell_type": "code",
   "execution_count": 10,
   "id": "d810a543-f220-4a21-9a5c-4f25661e7470",
   "metadata": {},
   "outputs": [
    {
     "name": "stdout",
     "output_type": "stream",
     "text": [
      "There are 17709 characters in our sample.\n"
     ]
    }
   ],
   "source": [
    "total_chars = sum([len(word) for words in mfd_dict.values() for word in words])\n",
    "print('There are ' + str(total_chars) + ' characters in our sample.')"
   ]
  },
  {
   "cell_type": "markdown",
   "id": "a3ce9802-2343-45d2-b042-594fba4c8e79",
   "metadata": {},
   "source": [
    "Hence, we will be able to translate the whole dictionary without surpassing the rate limits."
   ]
  },
  {
   "cell_type": "markdown",
   "id": "6bcb1c72-088c-49c5-babd-9b6e6130568b",
   "metadata": {},
   "source": [
    "- DeepL API setup:"
   ]
  },
  {
   "cell_type": "code",
   "execution_count": 46,
   "id": "7026b298-a0ba-4dd9-ac6d-189c77b5cf46",
   "metadata": {},
   "outputs": [],
   "source": [
    "# Generate object with API key and save it.\n",
    "# auth_key = '63d73ce8-92e8-cb28-67ed-360af519c822:fx'\n",
    "# with open('api_keys/deepl_api_key.txt', 'w') as f:\n",
    "#     f.writelines(auth_key)\n",
    "    \n",
    "# Load the API key:\n",
    "with open('api_keys/deepl_api_key.txt', 'r') as f:\n",
    "    auth_key = f.readline()    \n",
    "    \n",
    "# Generate the translator object:\n",
    "deepl_translator = deepl.Translator(auth_key)"
   ]
  },
  {
   "cell_type": "markdown",
   "id": "8ee9f125-28ae-483c-8864-899e35057469",
   "metadata": {},
   "source": [
    "- DeepL API translation:"
   ]
  },
  {
   "cell_type": "markdown",
   "id": "150d30cd-4bb0-4a19-b4e4-6393c1487ad5",
   "metadata": {},
   "source": [
    "We will translate each of the words in the MFD and check whether they are correctly translated. To this end, we will create tuples with the English word and its Spanish counterpart."
   ]
  },
  {
   "cell_type": "code",
   "execution_count": 133,
   "id": "954dbf76-5ba8-47e0-9d32-6b1c43ca44d4",
   "metadata": {},
   "outputs": [
    {
     "name": "stdout",
     "output_type": "stream",
     "text": [
      "Moral foundation care.virtue completed.\n",
      "Moral foundation care.vice completed.\n",
      "Moral foundation fairness.virtue completed.\n",
      "Moral foundation fairness.vice completed.\n",
      "Moral foundation loyalty.virtue completed.\n",
      "Moral foundation loyalty.vice completed.\n",
      "Moral foundation authority.virtue completed.\n",
      "Moral foundation authority.vice completed.\n",
      "Moral foundation sanctity.virtue completed.\n",
      "Moral foundation sanctity.vice completed.\n"
     ]
    }
   ],
   "source": [
    "# Create the dictionary in Spanish\n",
    "mfd_dict_esp = {}\n",
    "\n",
    "# The deepl package already allows to instantly translate a list of words,\n",
    "# way faster than calling the API word by word.\n",
    "for moral_foundation, words in mfd_dict.items():\n",
    "    result = deepl_translator.translate_text(words, \n",
    "                                             source_lang = \"EN\",\n",
    "                                             target_lang = \"ES\")\n",
    "    es_words = [word_object.text for word_object in result]\n",
    "    mfd_dict_esp[moral_foundation] = es_words\n",
    "        \n",
    "    print(\"Moral foundation\", moral_foundation, \"completed.\")"
   ]
  },
  {
   "cell_type": "markdown",
   "id": "73789ba9-2347-4abc-a8c5-c66900b45e39",
   "metadata": {},
   "source": [
    "Comparison of the resulting dictionaries:"
   ]
  },
  {
   "cell_type": "code",
   "execution_count": 129,
   "id": "eecdfbc1-8ac0-46dd-a9c3-75502d95f8c8",
   "metadata": {},
   "outputs": [
    {
     "data": {
      "text/plain": [
       "(['aliviar', 'aliviado', 'alivia', 'Aliviando', 'alivio'],\n",
       " ['alleviate', 'alleviated', 'alleviates', 'alleviating', 'alleviation'])"
      ]
     },
     "execution_count": 129,
     "metadata": {},
     "output_type": "execute_result"
    }
   ],
   "source": [
    "mfd_dict_esp[\"care.virtue\"][:5], mfd_dict[\"care.virtue\"][:5]"
   ]
  },
  {
   "cell_type": "code",
   "execution_count": 1,
   "id": "e916b715-93f7-4ace-8188-c4c73ac873ac",
   "metadata": {},
   "outputs": [],
   "source": [
    "# Store data (serialize)\n",
    "#with open('dictionaries/deepl_translations.pickle', 'wb') as handle:\n",
    "#    pickle.dump(mfd_dict_esp, handle, protocol = pickle.HIGHEST_PROTOCOL)"
   ]
  },
  {
   "cell_type": "code",
   "execution_count": 2,
   "id": "f4db16a9-dfb7-47ae-8ec6-45a9ae34fb5c",
   "metadata": {},
   "outputs": [],
   "source": [
    "with open('dictionaries/deepl_translations.pickle', 'rb') as handle:\n",
    "    mfd_dict_esp = pickle.load(handle)"
   ]
  },
  {
   "cell_type": "markdown",
   "id": "4d07c394-03b5-4547-b9ff-b912f3ee8b4d",
   "metadata": {},
   "source": [
    "### 2.2: GOOGLE TRANSLATE:"
   ]
  },
  {
   "cell_type": "markdown",
   "id": "7f89e3ed-bd94-4121-bd6e-95d0487d73c5",
   "metadata": {},
   "source": [
    "In order to improve the range of translations and capture words that might otherwise go unnoticed, we will also use the Google Translate API through a [Python module](https://github.com/lushan88a/google_trans_new). \n"
   ]
  },
  {
   "cell_type": "markdown",
   "id": "2a058fb4-99b2-4e09-a322-b20c90b0aae0",
   "metadata": {},
   "source": [
    "Try another translation method, through Google translate:"
   ]
  },
  {
   "cell_type": "code",
   "execution_count": 18,
   "id": "7ac07c50-8aa9-4892-b9a5-0d0337c7afbf",
   "metadata": {},
   "outputs": [],
   "source": [
    "#!pip install google_trans_new"
   ]
  },
  {
   "cell_type": "code",
   "execution_count": 51,
   "id": "44134357-d1de-4233-8468-693a9f516d78",
   "metadata": {},
   "outputs": [],
   "source": [
    "# Setup:\n",
    "trans = google_translator()"
   ]
  },
  {
   "cell_type": "code",
   "execution_count": 61,
   "id": "3813a5d9-bec1-4879-9d39-132ec08c6a21",
   "metadata": {},
   "outputs": [],
   "source": [
    "# Translation process:\n",
    "mfd_dict_es_2 = {}\n",
    "for moral_foundation, words in mfd_dict.items():\n",
    "    es_words = []\n",
    "    \n",
    "    for word in words:\n",
    "        # Translate word\n",
    "        es_word = trans.translate(word, lang_src = 'en', lang_tgt = 'es')\n",
    "        \n",
    "        # Remove whitespace:\n",
    "        if type(es_word) == list:\n",
    "            es_word = [word.strip() for word in es_word]\n",
    "        else:\n",
    "            es_word = es_word.strip()\n",
    "            \n",
    "        # Append to list of words\n",
    "        es_words.append(es_word)\n",
    "            \n",
    "    # Finally, append the words to the part of the dictionary where it belongs:\n",
    "    mfd_dict_es_2[moral_foundation] = es_words\n",
    "    \n",
    "    # Print ending message:\n",
    "    print(\"Moral foundation\", moral_foundation, \"completed.\")"
   ]
  },
  {
   "cell_type": "markdown",
   "id": "83b77c92-d1ec-4eb5-b7c3-49c54eb3864f",
   "metadata": {},
   "source": [
    "## 3. CHECK TRANSLATIONS:"
   ]
  },
  {
   "cell_type": "markdown",
   "id": "dfdf6fab-95aa-4f1e-935c-2829d8196e7a",
   "metadata": {},
   "source": [
    "- We will manually check whether each of the words / expressions makes sense. Try to find alternatives for those that do not work and compare."
   ]
  },
  {
   "cell_type": "code",
   "execution_count": 108,
   "id": "9c05743a-78c1-4841-80f9-d9b486bed627",
   "metadata": {},
   "outputs": [],
   "source": [
    "# Create a dictionary that shows English - Spanish translations in tuples:\n",
    "mfd_dict_en_es = {}\n",
    "for moral_foundation, words in mfd_dict.items():\n",
    "    mfd_dict_en_es[moral_foundation] = []\n",
    "    n_words = len(words)\n",
    "    \n",
    "    # For each word, get its Spanish translation (they are index equivalent)\n",
    "    for ith_word in range(n_words):\n",
    "        en_word = words[ith_word]\n",
    "        esp_word_deepl = mfd_dict_esp[moral_foundation][ith_word]\n",
    "        esp_word_google = mfd_dict_es_2[moral_foundation][ith_word]\n",
    "        mfd_dict_en_es[moral_foundation].append([en_word,\n",
    "                                                 esp_word_deepl,\n",
    "                                                 esp_word_google])"
   ]
  },
  {
   "cell_type": "markdown",
   "id": "6ee2cbc5-a502-4fde-a811-8f5bb9e131ed",
   "metadata": {},
   "source": [
    "- Create an index that shows what words are appropriate for each translation:"
   ]
  },
  {
   "cell_type": "markdown",
   "id": "9fd4bd48-1d50-4ec3-8f2c-2d25b4e6e1e9",
   "metadata": {},
   "source": [
    "This will be a semi-automated process, first I will assume that when both words are the same they will be ok (I will revise them later, but this will remove the burden of needing to read and specify many word pairs). After these have been discarded, I will iterate through the remaining ones and determine which is the best translation."
   ]
  },
  {
   "cell_type": "markdown",
   "id": "3486e951-2ae9-4531-bef0-b8c8095bf472",
   "metadata": {},
   "source": [
    "Codebook:\n",
    "\n",
    "0) Placeholder for other codes (introduced at the beginning), or it can also show that none of the translations for a word in the original MFD is satisfactory.\n",
    "1) Get the first translation (DeepL)\n",
    "2) Get the second translation (Google)\n",
    "3) Get both translations (if the Google translation is a list we will later transform it using a set)\n",
    "4) Both translations are the same and they are valid (used in the automated process).\n",
    "\n",
    "Finally, I will also specify strings with proper comparisons."
   ]
  },
  {
   "cell_type": "code",
   "execution_count": 109,
   "id": "f558d4a0-f73b-4bd0-8414-d0b4bba73aa4",
   "metadata": {
    "tags": []
   },
   "outputs": [],
   "source": [
    "# Automated translation, flag those which are the same:\n",
    "for _, translations in mfd_dict_en_es.items():\n",
    "    for translation in translations:\n",
    "        if translation[1] == translation[2]:\n",
    "            translation.append(4)\n",
    "        else:\n",
    "            translation.append(0)"
   ]
  },
  {
   "cell_type": "code",
   "execution_count": 121,
   "id": "56ca73b5-40ae-44f3-9301-9a36e63a44d2",
   "metadata": {
    "tags": []
   },
   "outputs": [
    {
     "name": "stdout",
     "output_type": "stream",
     "text": [
      "care.virtue\n",
      "care.vice\n",
      "fairness.virtue\n",
      "fairness.vice\n",
      "loyalty.virtue\n",
      "loyalty.vice\n",
      "authority.virtue\n",
      "authority.vice\n",
      "sanctity.virtue\n",
      "['bloodiness', 'sanguinolencia', 'crueldad', 0]\n"
     ]
    },
    {
     "name": "stdin",
     "output_type": "stream",
     "text": [
      "Which is the right translation for this word? 1\n"
     ]
    },
    {
     "name": "stdout",
     "output_type": "stream",
     "text": [
      "['bloody', 'maldito', ['sangriento', 'sangrienta'], 0]\n"
     ]
    },
    {
     "name": "stdin",
     "output_type": "stream",
     "text": [
      "Which is the right translation for this word? 2\n"
     ]
    },
    {
     "name": "stdout",
     "output_type": "stream",
     "text": [
      "['buddha', 'buda', 'Buda', 0]\n"
     ]
    },
    {
     "name": "stdin",
     "output_type": "stream",
     "text": [
      "Which is the right translation for this word? 1\n"
     ]
    },
    {
     "name": "stdout",
     "output_type": "stream",
     "text": [
      "['buddhas', 'budas', 'Budas', 0]\n"
     ]
    },
    {
     "name": "stdin",
     "output_type": "stream",
     "text": [
      "Which is the right translation for this word? 1\n"
     ]
    },
    {
     "name": "stdout",
     "output_type": "stream",
     "text": [
      "['catholic', 'católica', ['católico', 'católica'], 0]\n"
     ]
    },
    {
     "name": "stdin",
     "output_type": "stream",
     "text": [
      "Which is the right translation for this word? 2\n"
     ]
    },
    {
     "name": "stdout",
     "output_type": "stream",
     "text": [
      "['catholics', 'católicos', ['católicos', 'católicas'], 0]\n"
     ]
    },
    {
     "name": "stdin",
     "output_type": "stream",
     "text": [
      "Which is the right translation for this word? 2\n"
     ]
    },
    {
     "name": "stdout",
     "output_type": "stream",
     "text": [
      "['celibate', 'celibato', 'célibe', 0]\n"
     ]
    },
    {
     "name": "stdin",
     "output_type": "stream",
     "text": [
      "Which is the right translation for this word? 2\n"
     ]
    },
    {
     "name": "stdout",
     "output_type": "stream",
     "text": [
      "['chaste', 'casto', ['casto', 'casta'], 0]\n"
     ]
    },
    {
     "name": "stdin",
     "output_type": "stream",
     "text": [
      "Which is the right translation for this word? 2\n"
     ]
    },
    {
     "name": "stdout",
     "output_type": "stream",
     "text": [
      "['christian', 'cristiano', ['cristiano', 'cristiana'], 0]\n"
     ]
    },
    {
     "name": "stdin",
     "output_type": "stream",
     "text": [
      "Which is the right translation for this word? 2\n"
     ]
    },
    {
     "name": "stdout",
     "output_type": "stream",
     "text": [
      "['christians', 'cristianos', ['cristianos', 'cristianas'], 0]\n"
     ]
    },
    {
     "name": "stdin",
     "output_type": "stream",
     "text": [
      "Which is the right translation for this word? 2\n"
     ]
    },
    {
     "name": "stdout",
     "output_type": "stream",
     "text": [
      "['clean', 'limpiar', ['limpio', 'limpia'], 0]\n"
     ]
    },
    {
     "name": "stdin",
     "output_type": "stream",
     "text": [
      "Which is the right translation for this word? 3\n"
     ]
    },
    {
     "name": "stdout",
     "output_type": "stream",
     "text": [
      "['cleaned', 'limpiado', 'limpio', 0]\n"
     ]
    },
    {
     "name": "stdin",
     "output_type": "stream",
     "text": [
      "Which is the right translation for this word? 1\n"
     ]
    },
    {
     "name": "stdout",
     "output_type": "stream",
     "text": [
      "['cleaner', 'limpiador', ['limpiador', 'limpiadora'], 0]\n"
     ]
    },
    {
     "name": "stdin",
     "output_type": "stream",
     "text": [
      "Which is the right translation for this word? 0\n"
     ]
    },
    {
     "name": "stdout",
     "output_type": "stream",
     "text": [
      "['cleaners', 'limpiadores', ['limpiadores', 'limpiadoras'], 0]\n"
     ]
    },
    {
     "name": "stdin",
     "output_type": "stream",
     "text": [
      "Which is the right translation for this word? 2\n"
     ]
    },
    {
     "name": "stdout",
     "output_type": "stream",
     "text": [
      "['cleans', 'limpia', 'limpieza', 0]\n"
     ]
    },
    {
     "name": "stdin",
     "output_type": "stream",
     "text": [
      "Which is the right translation for this word? 3\n"
     ]
    },
    {
     "name": "stdout",
     "output_type": "stream",
     "text": [
      "['consecrated', 'consagrado', ['consagrado', 'consagrada'], 0]\n"
     ]
    },
    {
     "name": "stdin",
     "output_type": "stream",
     "text": [
      "Which is the right translation for this word? 2\n"
     ]
    },
    {
     "name": "stdout",
     "output_type": "stream",
     "text": [
      "['consecrates', 'consagra', 'consagraciones', 0]\n"
     ]
    },
    {
     "name": "stdin",
     "output_type": "stream",
     "text": [
      "Which is the right translation for this word? 1\n"
     ]
    },
    {
     "name": "stdout",
     "output_type": "stream",
     "text": [
      "['consecrating', 'consagrando', 'consagración', 0]\n"
     ]
    },
    {
     "name": "stdin",
     "output_type": "stream",
     "text": [
      "Which is the right translation for this word? 1\n"
     ]
    },
    {
     "name": "stdout",
     "output_type": "stream",
     "text": [
      "['deify', 'deify', 'deificar', 0]\n"
     ]
    },
    {
     "name": "stdin",
     "output_type": "stream",
     "text": [
      "Which is the right translation for this word? 2\n"
     ]
    },
    {
     "name": "stdout",
     "output_type": "stream",
     "text": [
      "['deists', 'deístas', 'deísta', 0]\n"
     ]
    },
    {
     "name": "stdin",
     "output_type": "stream",
     "text": [
      "Which is the right translation for this word? 3\n"
     ]
    },
    {
     "name": "stdout",
     "output_type": "stream",
     "text": [
      "['devout', 'devoto', ['devoto', 'devota'], 0]\n"
     ]
    },
    {
     "name": "stdin",
     "output_type": "stream",
     "text": [
      "Which is the right translation for this word? 2\n"
     ]
    },
    {
     "name": "stdout",
     "output_type": "stream",
     "text": [
      "['dignified', 'digno', ['digno', 'digna'], 0]\n"
     ]
    },
    {
     "name": "stdin",
     "output_type": "stream",
     "text": [
      "Which is the right translation for this word? 2\n"
     ]
    },
    {
     "name": "stdout",
     "output_type": "stream",
     "text": [
      "['dignifying', 'dignificar', 'dignificante', 0]\n"
     ]
    },
    {
     "name": "stdin",
     "output_type": "stream",
     "text": [
      "Which is the right translation for this word? 3\n"
     ]
    },
    {
     "name": "stdout",
     "output_type": "stream",
     "text": [
      "['divine', 'divina', ['divino', 'divina'], 0]\n"
     ]
    },
    {
     "name": "stdin",
     "output_type": "stream",
     "text": [
      "Which is the right translation for this word? 2\n"
     ]
    },
    {
     "name": "stdout",
     "output_type": "stream",
     "text": [
      "['elevating', 'elevando', ['elevador', 'elevadora'], 0]\n"
     ]
    },
    {
     "name": "stdin",
     "output_type": "stream",
     "text": [
      "Which is the right translation for this word? 'edificante'\n"
     ]
    },
    {
     "name": "stdout",
     "output_type": "stream",
     "text": [
      "['enshrine', 'consagrar', 'encerrar', 0]\n"
     ]
    },
    {
     "name": "stdin",
     "output_type": "stream",
     "text": [
      "Which is the right translation for this word? 1\n"
     ]
    },
    {
     "name": "stdout",
     "output_type": "stream",
     "text": [
      "['enshrined', 'consagrado', ['consagrado', 'consagrada'], 0]\n"
     ]
    },
    {
     "name": "stdin",
     "output_type": "stream",
     "text": [
      "Which is the right translation for this word? 2\n"
     ]
    },
    {
     "name": "stdout",
     "output_type": "stream",
     "text": [
      "['enshrines', 'consagra', 'resonancia', 0]\n"
     ]
    },
    {
     "name": "stdin",
     "output_type": "stream",
     "text": [
      "Which is the right translation for this word? 1\n"
     ]
    },
    {
     "name": "stdout",
     "output_type": "stream",
     "text": [
      "['enshrining', 'consagrando', ['consagrado', 'consagrada'], 0]\n"
     ]
    },
    {
     "name": "stdin",
     "output_type": "stream",
     "text": [
      "Which is the right translation for this word? 1\n"
     ]
    },
    {
     "name": "stdout",
     "output_type": "stream",
     "text": [
      "['eternal', 'eterno', ['eterno', 'eterna'], 0]\n"
     ]
    },
    {
     "name": "stdin",
     "output_type": "stream",
     "text": [
      "Which is the right translation for this word? 2\n"
     ]
    },
    {
     "name": "stdout",
     "output_type": "stream",
     "text": [
      "['exalted', 'exaltado', ['exaltado', 'exaltada'], 0]\n"
     ]
    },
    {
     "name": "stdin",
     "output_type": "stream",
     "text": [
      "Which is the right translation for this word? 2\n"
     ]
    },
    {
     "name": "stdout",
     "output_type": "stream",
     "text": [
      "['exalting', 'exaltando', 'exaltación', 0]\n"
     ]
    },
    {
     "name": "stdin",
     "output_type": "stream",
     "text": [
      "Which is the right translation for this word? 1\n"
     ]
    },
    {
     "name": "stdout",
     "output_type": "stream",
     "text": [
      "['exalts', 'exalta', 'exaltaciones', 0]\n"
     ]
    },
    {
     "name": "stdin",
     "output_type": "stream",
     "text": [
      "Which is the right translation for this word? 1\n"
     ]
    },
    {
     "name": "stdout",
     "output_type": "stream",
     "text": [
      "['exterminated', 'exterminado', ['exterminado', 'exterminada'], 0]\n"
     ]
    },
    {
     "name": "stdin",
     "output_type": "stream",
     "text": [
      "Which is the right translation for this word? 2\n"
     ]
    },
    {
     "name": "stdout",
     "output_type": "stream",
     "text": [
      "['exterminates', 'extermina', 'exterminar', 0]\n"
     ]
    },
    {
     "name": "stdin",
     "output_type": "stream",
     "text": [
      "Which is the right translation for this word? 3\n"
     ]
    },
    {
     "name": "stdout",
     "output_type": "stream",
     "text": [
      "['exterminating', 'exterminando', 'exterminar', 0]\n"
     ]
    },
    {
     "name": "stdin",
     "output_type": "stream",
     "text": [
      "Which is the right translation for this word? 1\n"
     ]
    },
    {
     "name": "stdout",
     "output_type": "stream",
     "text": [
      "['exterminator', 'exterminador', ['exterminador', 'exterminadora'], 0]\n"
     ]
    },
    {
     "name": "stdin",
     "output_type": "stream",
     "text": [
      "Which is the right translation for this word? 2\n"
     ]
    },
    {
     "name": "stdout",
     "output_type": "stream",
     "text": [
      "['exterminators', 'exterminadores', ['exterminadores', 'exterminadoras'], 0]\n"
     ]
    },
    {
     "name": "stdin",
     "output_type": "stream",
     "text": [
      "Which is the right translation for this word? 2\n"
     ]
    },
    {
     "name": "stdout",
     "output_type": "stream",
     "text": [
      "['faiths', 'fe', 'creencia', 0]\n"
     ]
    },
    {
     "name": "stdin",
     "output_type": "stream",
     "text": [
      "Which is the right translation for this word? 13\n"
     ]
    },
    {
     "name": "stdout",
     "output_type": "stream",
     "text": [
      "['food', 'alimentos', 'alimento', 0]\n"
     ]
    },
    {
     "name": "stdin",
     "output_type": "stream",
     "text": [
      "Which is the right translation for this word? 3\n"
     ]
    },
    {
     "name": "stdout",
     "output_type": "stream",
     "text": [
      "['glorious', 'glorioso', ['glorioso', 'gloriosa'], 0]\n"
     ]
    },
    {
     "name": "stdin",
     "output_type": "stream",
     "text": [
      "Which is the right translation for this word? 2\n"
     ]
    },
    {
     "name": "stdout",
     "output_type": "stream",
     "text": [
      "['godess', 'diosa', 'diosés', 0]\n"
     ]
    },
    {
     "name": "stdin",
     "output_type": "stream",
     "text": [
      "Which is the right translation for this word? 1\n"
     ]
    },
    {
     "name": "stdout",
     "output_type": "stream",
     "text": [
      "['godliness', 'piedad', 'devoción', 0]\n"
     ]
    },
    {
     "name": "stdin",
     "output_type": "stream",
     "text": [
      "Which is the right translation for this word? 3\n"
     ]
    },
    {
     "name": "stdout",
     "output_type": "stream",
     "text": [
      "['godly', 'piadoso', ['piadoso', 'piadosa'], 0]\n"
     ]
    },
    {
     "name": "stdin",
     "output_type": "stream",
     "text": [
      "Which is the right translation for this word? 2\n"
     ]
    },
    {
     "name": "stdout",
     "output_type": "stream",
     "text": [
      "['gods', 'dioses', 'Dioses', 0]\n"
     ]
    },
    {
     "name": "stdin",
     "output_type": "stream",
     "text": [
      "Which is the right translation for this word? 1\n"
     ]
    },
    {
     "name": "stdout",
     "output_type": "stream",
     "text": [
      "['gospel', 'gospel', 'evangelio', 0]\n"
     ]
    },
    {
     "name": "stdin",
     "output_type": "stream",
     "text": [
      "Which is the right translation for this word? 2\n"
     ]
    },
    {
     "name": "stdout",
     "output_type": "stream",
     "text": [
      "['hallow', 'hallow', 'santificar', 0]\n"
     ]
    },
    {
     "name": "stdin",
     "output_type": "stream",
     "text": [
      "Which is the right translation for this word? 2\n"
     ]
    },
    {
     "name": "stdout",
     "output_type": "stream",
     "text": [
      "['hallowed', 'sagrado', ['sagrado', 'sagrada'], 0]\n"
     ]
    },
    {
     "name": "stdin",
     "output_type": "stream",
     "text": [
      "Which is the right translation for this word? 2\n"
     ]
    },
    {
     "name": "stdout",
     "output_type": "stream",
     "text": [
      "['hallowing', 'sagrado', 'santial', 0]\n"
     ]
    },
    {
     "name": "stdin",
     "output_type": "stream",
     "text": [
      "Which is the right translation for this word? 1\n"
     ]
    },
    {
     "name": "stdout",
     "output_type": "stream",
     "text": [
      "['hallows', 'hallows', 'santilismo', 0]\n"
     ]
    },
    {
     "name": "stdin",
     "output_type": "stream",
     "text": [
      "Which is the right translation for this word? 0\n"
     ]
    },
    {
     "name": "stdout",
     "output_type": "stream",
     "text": [
      "['heavens', 'cielos', 'Cielos', 0]\n"
     ]
    },
    {
     "name": "stdin",
     "output_type": "stream",
     "text": [
      "Which is the right translation for this word? 1\n"
     ]
    },
    {
     "name": "stdout",
     "output_type": "stream",
     "text": [
      "['higher power', 'poder superior', 'mayor potencia', 0]\n"
     ]
    },
    {
     "name": "stdin",
     "output_type": "stream",
     "text": [
      "Which is the right translation for this word? 1\n"
     ]
    },
    {
     "name": "stdout",
     "output_type": "stream",
     "text": [
      "['holy cross', 'santa cruz', 'Santa Cruz', 0]\n"
     ]
    },
    {
     "name": "stdin",
     "output_type": "stream",
     "text": [
      "Which is the right translation for this word? 1\n"
     ]
    },
    {
     "name": "stdout",
     "output_type": "stream",
     "text": [
      "['holy crosses', 'cruces sagradas', 'Cruces sagradas', 0]\n"
     ]
    },
    {
     "name": "stdin",
     "output_type": "stream",
     "text": [
      "Which is the right translation for this word? 0\n"
     ]
    },
    {
     "name": "stdout",
     "output_type": "stream",
     "text": [
      "['immaculate', 'inmaculado', ['inmaculado', 'inmaculada'], 0]\n"
     ]
    },
    {
     "name": "stdin",
     "output_type": "stream",
     "text": [
      "Which is the right translation for this word? 2\n"
     ]
    },
    {
     "name": "stdout",
     "output_type": "stream",
     "text": [
      "['jesus', 'jesus', 'Jesús', 0]\n"
     ]
    },
    {
     "name": "stdin",
     "output_type": "stream",
     "text": [
      "Which is the right translation for this word? 1\n"
     ]
    },
    {
     "name": "stdout",
     "output_type": "stream",
     "text": [
      "['koranic', 'koranic', ['coránico', 'coránica'], 0]\n"
     ]
    },
    {
     "name": "stdin",
     "output_type": "stream",
     "text": [
      "Which is the right translation for this word? 2\n"
     ]
    },
    {
     "name": "stdout",
     "output_type": "stream",
     "text": [
      "['lord', 'lord', 'caballero', 0]\n"
     ]
    },
    {
     "name": "stdin",
     "output_type": "stream",
     "text": [
      "Which is the right translation for this word? ['Señor', 'el Señor']\n"
     ]
    },
    {
     "name": "stdout",
     "output_type": "stream",
     "text": [
      "['lords', 'Señores', 'señores', 0]\n"
     ]
    },
    {
     "name": "stdin",
     "output_type": "stream",
     "text": [
      "Which is the right translation for this word? 1\n"
     ]
    },
    {
     "name": "stdout",
     "output_type": "stream",
     "text": [
      "['married', 'casado', ['casado', 'casada'], 0]\n"
     ]
    },
    {
     "name": "stdin",
     "output_type": "stream",
     "text": [
      "Which is the right translation for this word? 2\n"
     ]
    },
    {
     "name": "stdout",
     "output_type": "stream",
     "text": [
      "['marries', 'se casa con', 'casarse', 0]\n"
     ]
    },
    {
     "name": "stdin",
     "output_type": "stream",
     "text": [
      "Which is the right translation for this word? 2\n"
     ]
    },
    {
     "name": "stdout",
     "output_type": "stream",
     "text": [
      "['marring', 'que marcan', 'matrimonio', 0]\n"
     ]
    },
    {
     "name": "stdin",
     "output_type": "stream",
     "text": [
      "Which is the right translation for this word? 2\n"
     ]
    },
    {
     "name": "stdout",
     "output_type": "stream",
     "text": [
      "['marry', 'casarse con', 'casar', 0]\n"
     ]
    },
    {
     "name": "stdin",
     "output_type": "stream",
     "text": [
      "Which is the right translation for this word? 1\n"
     ]
    },
    {
     "name": "stdout",
     "output_type": "stream",
     "text": [
      "['marrying', 'casarse con', 'casarse', 0]\n"
     ]
    },
    {
     "name": "stdin",
     "output_type": "stream",
     "text": [
      "Which is the right translation for this word? 1\n"
     ]
    },
    {
     "name": "stdout",
     "output_type": "stream",
     "text": [
      "['mary', 'mary', 'María', 0]\n"
     ]
    },
    {
     "name": "stdin",
     "output_type": "stream",
     "text": [
      "Which is the right translation for this word? 2\n"
     ]
    },
    {
     "name": "stdout",
     "output_type": "stream",
     "text": [
      "['monastic', 'monástico', ['monástico', 'monástica'], 0]\n"
     ]
    },
    {
     "name": "stdin",
     "output_type": "stream",
     "text": [
      "Which is the right translation for this word? 2\n"
     ]
    },
    {
     "name": "stdout",
     "output_type": "stream",
     "text": [
      "['monasticism', 'monasticismo', 'monacato', 0]\n"
     ]
    },
    {
     "name": "stdin",
     "output_type": "stream",
     "text": [
      "Which is the right translation for this word? 2\n"
     ]
    },
    {
     "name": "stdout",
     "output_type": "stream",
     "text": [
      "['monks', 'monjes', ['monjes', 'monjas'], 0]\n"
     ]
    },
    {
     "name": "stdin",
     "output_type": "stream",
     "text": [
      "Which is the right translation for this word? 2\n"
     ]
    },
    {
     "name": "stdout",
     "output_type": "stream",
     "text": [
      "['nunneries', 'conventos', 'monjas', 0]\n"
     ]
    },
    {
     "name": "stdin",
     "output_type": "stream",
     "text": [
      "Which is the right translation for this word? 1\n"
     ]
    },
    {
     "name": "stdout",
     "output_type": "stream",
     "text": [
      "['nunnery', 'colegio de monjas', 'convento de monjas', 0]\n"
     ]
    },
    {
     "name": "stdin",
     "output_type": "stream",
     "text": [
      "Which is the right translation for this word? 2\n"
     ]
    },
    {
     "name": "stdout",
     "output_type": "stream",
     "text": [
      "['organic', 'orgánico', ['orgánico', 'orgánica'], 0]\n"
     ]
    },
    {
     "name": "stdin",
     "output_type": "stream",
     "text": [
      "Which is the right translation for this word? 2\n"
     ]
    },
    {
     "name": "stdout",
     "output_type": "stream",
     "text": [
      "['organics', 'orgánicos', ['orgánico', 'orgánica'], 0]\n"
     ]
    },
    {
     "name": "stdin",
     "output_type": "stream",
     "text": [
      "Which is the right translation for this word? 1\n"
     ]
    },
    {
     "name": "stdout",
     "output_type": "stream",
     "text": [
      "['orthodox', 'ortodoxo', ['ortodoxo', 'ortodoxa'], 0]\n"
     ]
    },
    {
     "name": "stdin",
     "output_type": "stream",
     "text": [
      "Which is the right translation for this word? 2\n"
     ]
    },
    {
     "name": "stdout",
     "output_type": "stream",
     "text": [
      "['pastor', 'pastor', ['pastor', 'pastora'], 0]\n"
     ]
    },
    {
     "name": "stdin",
     "output_type": "stream",
     "text": [
      "Which is the right translation for this word? 2\n"
     ]
    },
    {
     "name": "stdout",
     "output_type": "stream",
     "text": [
      "['pious', 'piadoso', ['piadoso', 'piadosa'], 0]\n"
     ]
    },
    {
     "name": "stdin",
     "output_type": "stream",
     "text": [
      "Which is the right translation for this word? 2\n"
     ]
    },
    {
     "name": "stdout",
     "output_type": "stream",
     "text": [
      "['pope', 'Papa', 'papa', 0]\n"
     ]
    },
    {
     "name": "stdin",
     "output_type": "stream",
     "text": [
      "Which is the right translation for this word? 2\n"
     ]
    },
    {
     "name": "stdout",
     "output_type": "stream",
     "text": [
      "['pray', 'reza', 'rezar', 0]\n"
     ]
    },
    {
     "name": "stdin",
     "output_type": "stream",
     "text": [
      "Which is the right translation for this word? 3\n"
     ]
    },
    {
     "name": "stdout",
     "output_type": "stream",
     "text": [
      "['prayed', 'rezó', ['rezado', 'rezada'], 0]\n"
     ]
    },
    {
     "name": "stdin",
     "output_type": "stream",
     "text": [
      "Which is the right translation for this word? 3\n"
     ]
    },
    {
     "name": "stdout",
     "output_type": "stream",
     "text": [
      "['praying', 'rezando', 'Orando', 0]\n"
     ]
    },
    {
     "name": "stdin",
     "output_type": "stream",
     "text": [
      "Which is the right translation for this word? 3\n"
     ]
    },
    {
     "name": "stdout",
     "output_type": "stream",
     "text": [
      "['pristine', 'prístina', ['prístino', 'prístina'], 0]\n"
     ]
    },
    {
     "name": "stdin",
     "output_type": "stream",
     "text": [
      "Which is the right translation for this word? 2\n"
     ]
    },
    {
     "name": "stdout",
     "output_type": "stream",
     "text": [
      "['prophetic', 'profético', ['profético', 'profética'], 0]\n"
     ]
    },
    {
     "name": "stdin",
     "output_type": "stream",
     "text": [
      "Which is the right translation for this word? 2\n"
     ]
    },
    {
     "name": "stdout",
     "output_type": "stream",
     "text": [
      "['pure', 'puro', ['puro', 'pura'], 0]\n"
     ]
    },
    {
     "name": "stdin",
     "output_type": "stream",
     "text": [
      "Which is the right translation for this word? 2\n"
     ]
    },
    {
     "name": "stdout",
     "output_type": "stream",
     "text": [
      "['purification', 'depuración', 'purificación', 0]\n"
     ]
    },
    {
     "name": "stdin",
     "output_type": "stream",
     "text": [
      "Which is the right translation for this word? 3\n"
     ]
    },
    {
     "name": "stdout",
     "output_type": "stream",
     "text": [
      "['purified', 'purificado', ['purificado', 'purificada'], 0]\n"
     ]
    },
    {
     "name": "stdin",
     "output_type": "stream",
     "text": [
      "Which is the right translation for this word? 2\n"
     ]
    },
    {
     "name": "stdout",
     "output_type": "stream",
     "text": [
      "['purifier', 'depurador', ['purificador', 'purificadora'], 0]\n"
     ]
    },
    {
     "name": "stdin",
     "output_type": "stream",
     "text": [
      "Which is the right translation for this word? 3\n"
     ]
    },
    {
     "name": "stdout",
     "output_type": "stream",
     "text": [
      "['purifiers', 'purificadores', ['purificadores', 'purificadoras'], 0]\n"
     ]
    },
    {
     "name": "stdin",
     "output_type": "stream",
     "text": [
      "Which is the right translation for this word? 2\n"
     ]
    },
    {
     "name": "stdout",
     "output_type": "stream",
     "text": [
      "['purifying', 'depuración', 'purificación', 0]\n"
     ]
    },
    {
     "name": "stdin",
     "output_type": "stream",
     "text": [
      "Which is the right translation for this word? 3\n"
     ]
    },
    {
     "name": "stdout",
     "output_type": "stream",
     "text": [
      "['rabbi', 'rabino', ['rabino', 'rabina'], 0]\n"
     ]
    },
    {
     "name": "stdin",
     "output_type": "stream",
     "text": [
      "Which is the right translation for this word? 2\n"
     ]
    },
    {
     "name": "stdout",
     "output_type": "stream",
     "text": [
      "['rabbinical', 'rabino', ['rabínico', 'rabínica'], 0]\n"
     ]
    },
    {
     "name": "stdin",
     "output_type": "stream",
     "text": [
      "Which is the right translation for this word? 2\n"
     ]
    },
    {
     "name": "stdout",
     "output_type": "stream",
     "text": [
      "['rabbis', 'rabinos', ['rabinos', 'rabinas'], 0]\n"
     ]
    },
    {
     "name": "stdin",
     "output_type": "stream",
     "text": [
      "Which is the right translation for this word? 2\n"
     ]
    },
    {
     "name": "stdout",
     "output_type": "stream",
     "text": [
      "['raw', 'crudo', ['crudo', 'cruda'], 0]\n"
     ]
    },
    {
     "name": "stdin",
     "output_type": "stream",
     "text": [
      "Which is the right translation for this word? 2\n"
     ]
    },
    {
     "name": "stdout",
     "output_type": "stream",
     "text": [
      "['refined', 'refinado', ['refinado', 'refinada'], 0]\n"
     ]
    },
    {
     "name": "stdin",
     "output_type": "stream",
     "text": [
      "Which is the right translation for this word? 2\n"
     ]
    },
    {
     "name": "stdout",
     "output_type": "stream",
     "text": [
      "['refining', 'refinado', 'refinación', 0]\n"
     ]
    },
    {
     "name": "stdin",
     "output_type": "stream",
     "text": [
      "Which is the right translation for this word? ['refinación', 'refinamiento']\n"
     ]
    },
    {
     "name": "stdout",
     "output_type": "stream",
     "text": [
      "['religious', 'religioso', ['religioso', 'religiosa'], 0]\n"
     ]
    },
    {
     "name": "stdin",
     "output_type": "stream",
     "text": [
      "Which is the right translation for this word? 2\n"
     ]
    },
    {
     "name": "stdout",
     "output_type": "stream",
     "text": [
      "['repents', 'se arrepiente', 'encender', 0]\n"
     ]
    },
    {
     "name": "stdin",
     "output_type": "stream",
     "text": [
      "Which is the right translation for this word? 1\n"
     ]
    },
    {
     "name": "stdout",
     "output_type": "stream",
     "text": [
      "['reverend', 'reverendo', ['reverendo', 'reverenda'], 0]\n"
     ]
    },
    {
     "name": "stdin",
     "output_type": "stream",
     "text": [
      "Which is the right translation for this word? 2\n"
     ]
    },
    {
     "name": "stdout",
     "output_type": "stream",
     "text": [
      "['righteous', 'justa', ['justo', 'justa'], 0]\n"
     ]
    },
    {
     "name": "stdin",
     "output_type": "stream",
     "text": [
      "Which is the right translation for this word? ['recto', 'recta']\n"
     ]
    },
    {
     "name": "stdout",
     "output_type": "stream",
     "text": [
      "['righteously', 'justamente', 'rectamente', 0]\n"
     ]
    },
    {
     "name": "stdin",
     "output_type": "stream",
     "text": [
      "Which is the right translation for this word? 3\n"
     ]
    },
    {
     "name": "stdout",
     "output_type": "stream",
     "text": [
      "['righteousness', 'rectitud', 'justicia', 0]\n"
     ]
    },
    {
     "name": "stdin",
     "output_type": "stream",
     "text": [
      "Which is the right translation for this word? 1\n"
     ]
    },
    {
     "name": "stdout",
     "output_type": "stream",
     "text": [
      "['sacred', 'sagrado', ['sagrado', 'sagrada'], 0]\n"
     ]
    },
    {
     "name": "stdin",
     "output_type": "stream",
     "text": [
      "Which is the right translation for this word? 2\n"
     ]
    },
    {
     "name": "stdout",
     "output_type": "stream",
     "text": [
      "['sacredness', 'sacralidad', 'santidad', 0]\n"
     ]
    },
    {
     "name": "stdin",
     "output_type": "stream",
     "text": [
      "Which is the right translation for this word? 3\n"
     ]
    },
    {
     "name": "stdout",
     "output_type": "stream",
     "text": [
      "['sacrosanct', 'sacrosanta', ['sacrosanto', 'sacrosanta'], 0]\n"
     ]
    },
    {
     "name": "stdin",
     "output_type": "stream",
     "text": [
      "Which is the right translation for this word? 2\n"
     ]
    },
    {
     "name": "stdout",
     "output_type": "stream",
     "text": [
      "['saint', 'santa', 'Smo', 0]\n"
     ]
    },
    {
     "name": "stdin",
     "output_type": "stream",
     "text": [
      "Which is the right translation for this word? ['santo', 'santa']\n"
     ]
    },
    {
     "name": "stdout",
     "output_type": "stream",
     "text": [
      "['saints', 'santos', ['santos', 'santas'], 0]\n"
     ]
    },
    {
     "name": "stdin",
     "output_type": "stream",
     "text": [
      "Which is the right translation for this word? 2\n"
     ]
    },
    {
     "name": "stdout",
     "output_type": "stream",
     "text": [
      "['sanctified', 'santificado', ['santificado', 'santificada'], 0]\n"
     ]
    },
    {
     "name": "stdin",
     "output_type": "stream",
     "text": [
      "Which is the right translation for this word? 2\n"
     ]
    },
    {
     "name": "stdout",
     "output_type": "stream",
     "text": [
      "['sanctifies', 'santifica', 'santificar', 0]\n"
     ]
    },
    {
     "name": "stdin",
     "output_type": "stream",
     "text": [
      "Which is the right translation for this word? 3\n"
     ]
    },
    {
     "name": "stdout",
     "output_type": "stream",
     "text": [
      "['sanctifying', 'santificar', 'santificante', 0]\n"
     ]
    },
    {
     "name": "stdin",
     "output_type": "stream",
     "text": [
      "Which is the right translation for this word? 3\n"
     ]
    },
    {
     "name": "stdout",
     "output_type": "stream",
     "text": [
      "['scripture', 'Escritura', 'Sagrada Escritura', 0]\n"
     ]
    },
    {
     "name": "stdin",
     "output_type": "stream",
     "text": [
      "Which is the right translation for this word? 3\n"
     ]
    },
    {
     "name": "stdout",
     "output_type": "stream",
     "text": [
      "['soulful', 'soulful', ['conmovedor', 'conmovedora'], 0]\n"
     ]
    },
    {
     "name": "stdin",
     "output_type": "stream",
     "text": [
      "Which is the right translation for this word? 2\n"
     ]
    },
    {
     "name": "stdout",
     "output_type": "stream",
     "text": [
      "['spotless', 'impecable', ['inmaculado', 'inmaculada'], 0]\n"
     ]
    },
    {
     "name": "stdin",
     "output_type": "stream",
     "text": [
      "Which is the right translation for this word? 3\n"
     ]
    },
    {
     "name": "stdout",
     "output_type": "stream",
     "text": [
      "['spotlessly', 'impecable', 'impecablemente', 0]\n"
     ]
    },
    {
     "name": "stdin",
     "output_type": "stream",
     "text": [
      "Which is the right translation for this word? 2\n"
     ]
    },
    {
     "name": "stdout",
     "output_type": "stream",
     "text": [
      "['talmudic', 'talmúdico', ['talmúdico', 'talmúdica'], 0]\n"
     ]
    },
    {
     "name": "stdin",
     "output_type": "stream",
     "text": [
      "Which is the right translation for this word? 2\n"
     ]
    },
    {
     "name": "stdout",
     "output_type": "stream",
     "text": [
      "['theological', 'teológico', ['teológico', 'teológica'], 0]\n"
     ]
    },
    {
     "name": "stdin",
     "output_type": "stream",
     "text": [
      "Which is the right translation for this word? 2\n"
     ]
    },
    {
     "name": "stdout",
     "output_type": "stream",
     "text": [
      "['torah', 'torah', 'Tora', 0]\n"
     ]
    },
    {
     "name": "stdin",
     "output_type": "stream",
     "text": [
      "Which is the right translation for this word? ['Torah', 'Torá', 'Tora']\n"
     ]
    },
    {
     "name": "stdout",
     "output_type": "stream",
     "text": [
      "['torahs', 'torahs', 'Torahs', 0]\n"
     ]
    },
    {
     "name": "stdin",
     "output_type": "stream",
     "text": [
      "Which is the right translation for this word? 0\n"
     ]
    },
    {
     "name": "stdout",
     "output_type": "stream",
     "text": [
      "['unadulterated', 'sin adulterar', ['puro', 'pura'], 0]\n"
     ]
    },
    {
     "name": "stdin",
     "output_type": "stream",
     "text": [
      "Which is the right translation for this word? 3\n"
     ]
    },
    {
     "name": "stdout",
     "output_type": "stream",
     "text": [
      "['unchaste', 'sin casta', 'impúdico', 0]\n"
     ]
    },
    {
     "name": "stdin",
     "output_type": "stream",
     "text": [
      "Which is the right translation for this word? 'incasto'\n"
     ]
    },
    {
     "name": "stdout",
     "output_type": "stream",
     "text": [
      "['undefiled', 'sin contaminar', ['puro', 'pura'], 0]\n"
     ]
    },
    {
     "name": "stdin",
     "output_type": "stream",
     "text": [
      "Which is the right translation for this word? 3\n"
     ]
    },
    {
     "name": "stdout",
     "output_type": "stream",
     "text": [
      "['unsullied', 'unsullied', ['inmaculado', 'inmaculada'], 0]\n"
     ]
    },
    {
     "name": "stdin",
     "output_type": "stream",
     "text": [
      "Which is the right translation for this word? 2\n"
     ]
    },
    {
     "name": "stdout",
     "output_type": "stream",
     "text": [
      "['untainted', 'no contaminado', 'no mental', 0]\n"
     ]
    },
    {
     "name": "stdin",
     "output_type": "stream",
     "text": [
      "Which is the right translation for this word? 1\n"
     ]
    },
    {
     "name": "stdout",
     "output_type": "stream",
     "text": [
      "['untouched', 'sin tocar', ['intacto', 'intacta'], 0]\n"
     ]
    },
    {
     "name": "stdin",
     "output_type": "stream",
     "text": [
      "Which is the right translation for this word? 2\n"
     ]
    },
    {
     "name": "stdout",
     "output_type": "stream",
     "text": [
      "['wholesome', 'saludable', ['sano', 'sana'], 0]\n"
     ]
    },
    {
     "name": "stdin",
     "output_type": "stream",
     "text": [
      "Which is the right translation for this word? 2\n"
     ]
    },
    {
     "name": "stdout",
     "output_type": "stream",
     "text": [
      "['wholesomely', 'sanamente', 'por completo', 0]\n"
     ]
    },
    {
     "name": "stdin",
     "output_type": "stream",
     "text": [
      "Which is the right translation for this word? 1\n"
     ]
    },
    {
     "name": "stdout",
     "output_type": "stream",
     "text": [
      "['wholesomeness', 'la salubridad', 'saliente', 0]\n"
     ]
    },
    {
     "name": "stdin",
     "output_type": "stream",
     "text": [
      "Which is the right translation for this word? 0\n"
     ]
    },
    {
     "name": "stdout",
     "output_type": "stream",
     "text": [
      "['worship', 'culto', 'Adoración', 0]\n"
     ]
    },
    {
     "name": "stdin",
     "output_type": "stream",
     "text": [
      "Which is the right translation for this word? 3\n"
     ]
    },
    {
     "name": "stdout",
     "output_type": "stream",
     "text": [
      "['worships', 'adora', 'adoros', 0]\n"
     ]
    },
    {
     "name": "stdin",
     "output_type": "stream",
     "text": [
      "Which is the right translation for this word? 1\n"
     ]
    },
    {
     "name": "stdout",
     "output_type": "stream",
     "text": [
      "sanctity.vice\n",
      "['abhored', 'abrochado', ['aborrecido', 'aborrecida'], 0]\n"
     ]
    },
    {
     "name": "stdin",
     "output_type": "stream",
     "text": [
      "Which is the right translation for this word? 2\n"
     ]
    },
    {
     "name": "stdout",
     "output_type": "stream",
     "text": [
      "['abhors', 'aborrece', 'aborrecer', 0]\n"
     ]
    },
    {
     "name": "stdin",
     "output_type": "stream",
     "text": [
      "Which is the right translation for this word? 1\n"
     ]
    },
    {
     "name": "stdout",
     "output_type": "stream",
     "text": [
      "['addict', 'adicto', ['adicto', 'adicta'], 0]\n"
     ]
    },
    {
     "name": "stdin",
     "output_type": "stream",
     "text": [
      "Which is the right translation for this word? 2\n"
     ]
    },
    {
     "name": "stdout",
     "output_type": "stream",
     "text": [
      "['addicted', 'adicto', ['adicto', 'adicta'], 0]\n"
     ]
    },
    {
     "name": "stdin",
     "output_type": "stream",
     "text": [
      "Which is the right translation for this word? 0\n"
     ]
    },
    {
     "name": "stdout",
     "output_type": "stream",
     "text": [
      "['addicting', 'adictivo', ['adictivo', 'adictiva'], 0]\n"
     ]
    },
    {
     "name": "stdin",
     "output_type": "stream",
     "text": [
      "Which is the right translation for this word? 2\n"
     ]
    },
    {
     "name": "stdout",
     "output_type": "stream",
     "text": [
      "['addiction', 'adicción', 'adiccion', 0]\n"
     ]
    },
    {
     "name": "stdin",
     "output_type": "stream",
     "text": [
      "Which is the right translation for this word? 1\n"
     ]
    },
    {
     "name": "stdout",
     "output_type": "stream",
     "text": [
      "['addicts', 'adictos', ['adictos', 'adictas'], 0]\n"
     ]
    },
    {
     "name": "stdin",
     "output_type": "stream",
     "text": [
      "Which is the right translation for this word? 2\n"
     ]
    },
    {
     "name": "stdout",
     "output_type": "stream",
     "text": [
      "['adulterer', 'adúltero', ['adúltero', 'adúltera'], 0]\n"
     ]
    },
    {
     "name": "stdin",
     "output_type": "stream",
     "text": [
      "Which is the right translation for this word? 2\n"
     ]
    },
    {
     "name": "stdout",
     "output_type": "stream",
     "text": [
      "['adulterers', 'adúlteros', ['adúlteros', 'adúlteras'], 0]\n"
     ]
    },
    {
     "name": "stdin",
     "output_type": "stream",
     "text": [
      "Which is the right translation for this word? 2\n"
     ]
    },
    {
     "name": "stdout",
     "output_type": "stream",
     "text": [
      "['adulterous', 'adúltera', ['adúltero', 'adúltera'], 0]\n"
     ]
    },
    {
     "name": "stdin",
     "output_type": "stream",
     "text": [
      "Which is the right translation for this word? 2\n"
     ]
    },
    {
     "name": "stdout",
     "output_type": "stream",
     "text": [
      "['alcoholic', 'alcohol', ['alcohólico', 'alcohólica'], 0]\n"
     ]
    },
    {
     "name": "stdin",
     "output_type": "stream",
     "text": [
      "Which is the right translation for this word? 2\n"
     ]
    },
    {
     "name": "stdout",
     "output_type": "stream",
     "text": [
      "['alcoholics', 'alcohólicos', ['alcohólicos', 'alcohólicas'], 0]\n"
     ]
    },
    {
     "name": "stdin",
     "output_type": "stream",
     "text": [
      "Which is the right translation for this word? 2\n"
     ]
    },
    {
     "name": "stdout",
     "output_type": "stream",
     "text": [
      "['barf', 'barf', 'barro', 0]\n"
     ]
    },
    {
     "name": "stdin",
     "output_type": "stream",
     "text": [
      "Which is the right translation for this word? 'vómito'\n"
     ]
    },
    {
     "name": "stdout",
     "output_type": "stream",
     "text": [
      "['barfed', 'vomitado', 'vomito', 0]\n"
     ]
    },
    {
     "name": "stdin",
     "output_type": "stream",
     "text": [
      "Which is the right translation for this word? 3\n"
     ]
    },
    {
     "name": "stdout",
     "output_type": "stream",
     "text": [
      "['barfing', 'vomitando', 'barto', 0]\n"
     ]
    },
    {
     "name": "stdin",
     "output_type": "stream",
     "text": [
      "Which is the right translation for this word? 1\n"
     ]
    },
    {
     "name": "stdout",
     "output_type": "stream",
     "text": [
      "['befouled', 'ensuciado', ['aturdido', 'aturdida'], 0]\n"
     ]
    },
    {
     "name": "stdin",
     "output_type": "stream",
     "text": [
      "Which is the right translation for this word? 1\n"
     ]
    },
    {
     "name": "stdout",
     "output_type": "stream",
     "text": [
      "['befouling', 'ensuciando', ['perseguido', 'perseguida'], 0]\n"
     ]
    },
    {
     "name": "stdin",
     "output_type": "stream",
     "text": [
      "Which is the right translation for this word? 1\n"
     ]
    },
    {
     "name": "stdout",
     "output_type": "stream",
     "text": [
      "['befouls', 'ensucia', ['perseguido', 'perseguida'], 0]\n"
     ]
    },
    {
     "name": "stdin",
     "output_type": "stream",
     "text": [
      "Which is the right translation for this word? 1\n"
     ]
    },
    {
     "name": "stdout",
     "output_type": "stream",
     "text": [
      "['cock', 'gallo', 'polla', 0]\n"
     ]
    },
    {
     "name": "stdin",
     "output_type": "stream",
     "text": [
      "Which is the right translation for this word? 2\n"
     ]
    },
    {
     "name": "stdout",
     "output_type": "stream",
     "text": [
      "['cocksucker', 'Chupapollas', 'cacajero', 0]\n"
     ]
    },
    {
     "name": "stdin",
     "output_type": "stream",
     "text": [
      "Which is the right translation for this word? 1\n"
     ]
    },
    {
     "name": "stdout",
     "output_type": "stream",
     "text": [
      "['cocksuckers', 'chupapollas', 'cacatapas', 0]\n"
     ]
    },
    {
     "name": "stdin",
     "output_type": "stream",
     "text": [
      "Which is the right translation for this word? 1\n"
     ]
    },
    {
     "name": "stdout",
     "output_type": "stream",
     "text": [
      "['contagious', 'contagiosa', ['contagioso', 'contagiosa'], 0]\n"
     ]
    },
    {
     "name": "stdin",
     "output_type": "stream",
     "text": [
      "Which is the right translation for this word? 2\n"
     ]
    },
    {
     "name": "stdout",
     "output_type": "stream",
     "text": [
      "['contaminated', 'contaminado', ['contaminado', 'contaminada'], 0]\n"
     ]
    },
    {
     "name": "stdin",
     "output_type": "stream",
     "text": [
      "Which is the right translation for this word? 2\n"
     ]
    },
    {
     "name": "stdout",
     "output_type": "stream",
     "text": [
      "['contaminates', 'contamina', 'contaminante', 0]\n"
     ]
    },
    {
     "name": "stdin",
     "output_type": "stream",
     "text": [
      "Which is the right translation for this word? 3\n"
     ]
    },
    {
     "name": "stdout",
     "output_type": "stream",
     "text": [
      "['corpses', 'cadáveres', 'cuerpos', 0]\n"
     ]
    },
    {
     "name": "stdin",
     "output_type": "stream",
     "text": [
      "Which is the right translation for this word? 1\n"
     ]
    },
    {
     "name": "stdout",
     "output_type": "stream",
     "text": [
      "['corrupt', 'corrupto', ['corrupto', 'corrupta'], 0]\n"
     ]
    },
    {
     "name": "stdin",
     "output_type": "stream",
     "text": [
      "Which is the right translation for this word? 2\n"
     ]
    },
    {
     "name": "stdout",
     "output_type": "stream",
     "text": [
      "['corrupted', 'corrompido', ['corrupto', 'corrupta'], 0]\n"
     ]
    },
    {
     "name": "stdin",
     "output_type": "stream",
     "text": [
      "Which is the right translation for this word? 1\n"
     ]
    },
    {
     "name": "stdout",
     "output_type": "stream",
     "text": [
      "['corrupting', 'corrompiendo', ['corrupto', 'corrupta'], 0]\n"
     ]
    },
    {
     "name": "stdin",
     "output_type": "stream",
     "text": [
      "Which is the right translation for this word? 1\n"
     ]
    },
    {
     "name": "stdout",
     "output_type": "stream",
     "text": [
      "['corrupts', 'corrompe', ['corrupto', 'corrupta'], 0]\n"
     ]
    },
    {
     "name": "stdin",
     "output_type": "stream",
     "text": [
      "Which is the right translation for this word? 1\n"
     ]
    },
    {
     "name": "stdout",
     "output_type": "stream",
     "text": [
      "['crappy', 'cutre', 'de mierda', 0]\n"
     ]
    },
    {
     "name": "stdin",
     "output_type": "stream",
     "text": [
      "Which is the right translation for this word? 2\n"
     ]
    },
    {
     "name": "stdout",
     "output_type": "stream",
     "text": [
      "['cum', 'cum', 'semen', 0]\n"
     ]
    },
    {
     "name": "stdin",
     "output_type": "stream",
     "text": [
      "Which is the right translation for this word? 2\n"
     ]
    },
    {
     "name": "stdout",
     "output_type": "stream",
     "text": [
      "['cunts', 'coños', 'coño', 0]\n"
     ]
    },
    {
     "name": "stdin",
     "output_type": "stream",
     "text": [
      "Which is the right translation for this word? 3\n"
     ]
    },
    {
     "name": "stdout",
     "output_type": "stream",
     "text": [
      "['cursed', 'maldito', ['maldito', 'maldita'], 0]\n"
     ]
    },
    {
     "name": "stdin",
     "output_type": "stream",
     "text": [
      "Which is the right translation for this word? 2\n"
     ]
    },
    {
     "name": "stdout",
     "output_type": "stream",
     "text": [
      "['cursing', 'maldiciendo', 'maldición', 0]\n"
     ]
    },
    {
     "name": "stdin",
     "output_type": "stream",
     "text": [
      "Which is the right translation for this word? 3\n"
     ]
    },
    {
     "name": "stdout",
     "output_type": "stream",
     "text": [
      "['damn', 'maldito', 'maldita sea', 0]\n"
     ]
    },
    {
     "name": "stdin",
     "output_type": "stream",
     "text": [
      "Which is the right translation for this word? 3\n"
     ]
    },
    {
     "name": "stdout",
     "output_type": "stream",
     "text": [
      "['damned', 'maldito', ['maldito', 'maldita'], 0]\n"
     ]
    },
    {
     "name": "stdin",
     "output_type": "stream",
     "text": [
      "Which is the right translation for this word? 2\n"
     ]
    },
    {
     "name": "stdout",
     "output_type": "stream",
     "text": [
      "['damning', 'condenando', 'maldición', 0]\n"
     ]
    },
    {
     "name": "stdin",
     "output_type": "stream",
     "text": [
      "Which is the right translation for this word? 1\n"
     ]
    },
    {
     "name": "stdout",
     "output_type": "stream",
     "text": [
      "['damns', 'presas', 'maldición', 0]\n"
     ]
    },
    {
     "name": "stdin",
     "output_type": "stream",
     "text": [
      "Which is the right translation for this word? 0\n"
     ]
    },
    {
     "name": "stdout",
     "output_type": "stream",
     "text": [
      "['debased', 'degradado', ['degradado', 'degradada'], 0]\n"
     ]
    },
    {
     "name": "stdin",
     "output_type": "stream",
     "text": [
      "Which is the right translation for this word? 2\n"
     ]
    },
    {
     "name": "stdout",
     "output_type": "stream",
     "text": [
      "['debases', 'debases', 'degradación', 0]\n"
     ]
    },
    {
     "name": "stdin",
     "output_type": "stream",
     "text": [
      "Which is the right translation for this word? 2\n"
     ]
    },
    {
     "name": "stdout",
     "output_type": "stream",
     "text": [
      "['debasing', 'degradando', 'degradación', 0]\n"
     ]
    },
    {
     "name": "stdin",
     "output_type": "stream",
     "text": [
      "Which is the right translation for this word? 1\n"
     ]
    },
    {
     "name": "stdout",
     "output_type": "stream",
     "text": [
      "['debaucherous', 'desenfrenado', 'debaucero', 0]\n"
     ]
    },
    {
     "name": "stdin",
     "output_type": "stream",
     "text": [
      "Which is the right translation for this word? ['desenfrenado', 'desenfrenada', 'libertino', 'libertina']\n"
     ]
    },
    {
     "name": "stdout",
     "output_type": "stream",
     "text": [
      "['debauchery', 'desenfreno', 'libertinaje', 0]\n"
     ]
    },
    {
     "name": "stdin",
     "output_type": "stream",
     "text": [
      "Which is the right translation for this word? 3\n"
     ]
    },
    {
     "name": "stdout",
     "output_type": "stream",
     "text": [
      "['decayed', 'descompuesto', 'decaido', 0]\n"
     ]
    },
    {
     "name": "stdin",
     "output_type": "stream",
     "text": [
      "Which is the right translation for this word? ['deteriorado', 'decaído', 'descompuesto']\n"
     ]
    },
    {
     "name": "stdout",
     "output_type": "stream",
     "text": [
      "['decaying', 'en descomposición', 'decaimiento', 0]\n"
     ]
    },
    {
     "name": "stdin",
     "output_type": "stream",
     "text": [
      "Which is the right translation for this word? 3\n"
     ]
    },
    {
     "name": "stdout",
     "output_type": "stream",
     "text": [
      "['decays', 'decae', 'decaimiento', 0]\n"
     ]
    },
    {
     "name": "stdin",
     "output_type": "stream",
     "text": [
      "Which is the right translation for this word? 1\n"
     ]
    },
    {
     "name": "stdout",
     "output_type": "stream",
     "text": [
      "['defile', 'profanar', 'desfiladero', 0]\n"
     ]
    },
    {
     "name": "stdin",
     "output_type": "stream",
     "text": [
      "Which is the right translation for this word? 1\n"
     ]
    },
    {
     "name": "stdout",
     "output_type": "stream",
     "text": [
      "['defiled', 'profanado', ['contado', 'contada'], 0]\n"
     ]
    },
    {
     "name": "stdin",
     "output_type": "stream",
     "text": [
      "Which is the right translation for this word? 1\n"
     ]
    },
    {
     "name": "stdout",
     "output_type": "stream",
     "text": [
      "['defiler', 'deflector', 'defilador', 0]\n"
     ]
    },
    {
     "name": "stdin",
     "output_type": "stream",
     "text": [
      "Which is the right translation for this word? 'profanador'\n"
     ]
    },
    {
     "name": "stdout",
     "output_type": "stream",
     "text": [
      "['defilers', 'defoliadores', 'defiladores', 0]\n"
     ]
    },
    {
     "name": "stdin",
     "output_type": "stream",
     "text": [
      "Which is the right translation for this word? ['profanadora', 'profanadores', 'profanadoras']\n"
     ]
    },
    {
     "name": "stdout",
     "output_type": "stream",
     "text": [
      "['defiles', 'desfiladero', 'desglose', 0]\n"
     ]
    },
    {
     "name": "stdin",
     "output_type": "stream",
     "text": [
      "Which is the right translation for this word? 0\n"
     ]
    },
    {
     "name": "stdout",
     "output_type": "stream",
     "text": [
      "['defiling', 'profanando', ['filoso', 'filosa'], 0]\n"
     ]
    },
    {
     "name": "stdin",
     "output_type": "stream",
     "text": [
      "Which is the right translation for this word? 1\n"
     ]
    },
    {
     "name": "stdout",
     "output_type": "stream",
     "text": [
      "['deflowered', 'desflorado', ['desvestido', 'desvestida'], 0]\n"
     ]
    },
    {
     "name": "stdin",
     "output_type": "stream",
     "text": [
      "Which is the right translation for this word? ['desflorado', 'desvirgado']\n"
     ]
    },
    {
     "name": "stdout",
     "output_type": "stream",
     "text": [
      "['deflowering', 'desfloración', ['desvestido', 'desvestida'], 0]\n"
     ]
    },
    {
     "name": "stdin",
     "output_type": "stream",
     "text": [
      "Which is the right translation for this word? 1\n"
     ]
    },
    {
     "name": "stdout",
     "output_type": "stream",
     "text": [
      "['deformed', 'deformado', ['deformado', 'deformada'], 0]\n"
     ]
    },
    {
     "name": "stdin",
     "output_type": "stream",
     "text": [
      "Which is the right translation for this word? 2\n"
     ]
    },
    {
     "name": "stdout",
     "output_type": "stream",
     "text": [
      "['deforming', 'deformación', 'deformante', 0]\n"
     ]
    },
    {
     "name": "stdin",
     "output_type": "stream",
     "text": [
      "Which is the right translation for this word? 3\n"
     ]
    },
    {
     "name": "stdout",
     "output_type": "stream",
     "text": [
      "['deformity', 'deformación', 'deformidad', 0]\n"
     ]
    },
    {
     "name": "stdin",
     "output_type": "stream",
     "text": [
      "Which is the right translation for this word? 2\n"
     ]
    },
    {
     "name": "stdout",
     "output_type": "stream",
     "text": [
      "['deforms', 'deforma', 'deformas', 0]\n"
     ]
    },
    {
     "name": "stdin",
     "output_type": "stream",
     "text": [
      "Which is the right translation for this word? 1\n"
     ]
    },
    {
     "name": "stdout",
     "output_type": "stream",
     "text": [
      "['degraded', 'degradado', ['degradado', 'degradada'], 0]\n"
     ]
    },
    {
     "name": "stdin",
     "output_type": "stream",
     "text": [
      "Which is the right translation for this word? 2\n"
     ]
    },
    {
     "name": "stdout",
     "output_type": "stream",
     "text": [
      "['degraders', 'degradadores', 'degradantes', 0]\n"
     ]
    },
    {
     "name": "stdin",
     "output_type": "stream",
     "text": [
      "Which is the right translation for this word? 3\n"
     ]
    },
    {
     "name": "stdout",
     "output_type": "stream",
     "text": [
      "['degrades', 'degrada', 'degradar', 0]\n"
     ]
    },
    {
     "name": "stdin",
     "output_type": "stream",
     "text": [
      "Which is the right translation for this word? 1\n"
     ]
    },
    {
     "name": "stdout",
     "output_type": "stream",
     "text": [
      "['degradingly', 'degradantemente', 'degradante', 0]\n"
     ]
    },
    {
     "name": "stdin",
     "output_type": "stream",
     "text": [
      "Which is the right translation for this word? 3\n"
     ]
    },
    {
     "name": "stdout",
     "output_type": "stream",
     "text": [
      "['deprave', 'Deprave', 'depravar', 0]\n"
     ]
    },
    {
     "name": "stdin",
     "output_type": "stream",
     "text": [
      "Which is the right translation for this word? ['pervertir', 'depravar']\n"
     ]
    },
    {
     "name": "stdout",
     "output_type": "stream",
     "text": [
      "['depraved', 'depravado', ['depravado', 'depravada'], 0]\n"
     ]
    },
    {
     "name": "stdin",
     "output_type": "stream",
     "text": [
      "Which is the right translation for this word? 2\n"
     ]
    },
    {
     "name": "stdout",
     "output_type": "stream",
     "text": [
      "['depravities', 'depravaciones', 'depravedad', 0]\n"
     ]
    },
    {
     "name": "stdin",
     "output_type": "stream",
     "text": [
      "Which is the right translation for this word? 1\n"
     ]
    },
    {
     "name": "stdout",
     "output_type": "stream",
     "text": [
      "['desecrated', 'profanado', ['profanado', 'profanada'], 0]\n"
     ]
    },
    {
     "name": "stdin",
     "output_type": "stream",
     "text": [
      "Which is the right translation for this word? 2\n"
     ]
    },
    {
     "name": "stdout",
     "output_type": "stream",
     "text": [
      "['desecrates', 'profana', 'profanación', 0]\n"
     ]
    },
    {
     "name": "stdin",
     "output_type": "stream",
     "text": [
      "Which is the right translation for this word? 1\n"
     ]
    },
    {
     "name": "stdout",
     "output_type": "stream",
     "text": [
      "['desecrating', 'profanando', 'profanación', 0]\n"
     ]
    },
    {
     "name": "stdin",
     "output_type": "stream",
     "text": [
      "Which is the right translation for this word? 1\n"
     ]
    },
    {
     "name": "stdout",
     "output_type": "stream",
     "text": [
      "['deviant', 'desviado', ['desviado', 'desviada'], 0]\n"
     ]
    },
    {
     "name": "stdin",
     "output_type": "stream",
     "text": [
      "Which is the right translation for this word? 'anormal'\n"
     ]
    },
    {
     "name": "stdout",
     "output_type": "stream",
     "text": [
      "['deviants', 'desviados', ['desviado', 'desviada'], 0]\n"
     ]
    },
    {
     "name": "stdin",
     "output_type": "stream",
     "text": [
      "Which is the right translation for this word? 0\n"
     ]
    },
    {
     "name": "stdout",
     "output_type": "stream",
     "text": [
      "['devil', 'diablo', 'demonio', 0]\n"
     ]
    },
    {
     "name": "stdin",
     "output_type": "stream",
     "text": [
      "Which is the right translation for this word? 3\n"
     ]
    },
    {
     "name": "stdout",
     "output_type": "stream",
     "text": [
      "['dirtied', 'ensuciado', 'sucio', 0]\n"
     ]
    },
    {
     "name": "stdin",
     "output_type": "stream",
     "text": [
      "Which is the right translation for this word? 3\n"
     ]
    },
    {
     "name": "stdout",
     "output_type": "stream",
     "text": [
      "['dirty', 'sucio', ['sucio', 'sucia'], 0]\n"
     ]
    },
    {
     "name": "stdin",
     "output_type": "stream",
     "text": [
      "Which is the right translation for this word? 2\n"
     ]
    },
    {
     "name": "stdout",
     "output_type": "stream",
     "text": [
      "['dirtying', 'ensuciando', 'sucio', 0]\n"
     ]
    },
    {
     "name": "stdin",
     "output_type": "stream",
     "text": [
      "Which is the right translation for this word? 1\n"
     ]
    },
    {
     "name": "stdout",
     "output_type": "stream",
     "text": [
      "['diseased', 'enfermo', ['enfermo', 'enferma'], 0]\n"
     ]
    },
    {
     "name": "stdin",
     "output_type": "stream",
     "text": [
      "Which is the right translation for this word? 2\n"
     ]
    },
    {
     "name": "stdout",
     "output_type": "stream",
     "text": [
      "['disgusted', 'asqueado', 'disgustado', 0]\n"
     ]
    },
    {
     "name": "stdin",
     "output_type": "stream",
     "text": [
      "Which is the right translation for this word? 3\n"
     ]
    },
    {
     "name": "stdout",
     "output_type": "stream",
     "text": [
      "['disgusting', 'asqueroso', 'desagradable', 0]\n"
     ]
    },
    {
     "name": "stdin",
     "output_type": "stream",
     "text": [
      "Which is the right translation for this word? 3\n"
     ]
    },
    {
     "name": "stdout",
     "output_type": "stream",
     "text": [
      "['disgusts', 'disgustos', 'asco', 0]\n"
     ]
    },
    {
     "name": "stdin",
     "output_type": "stream",
     "text": [
      "Which is the right translation for this word? 3\n"
     ]
    },
    {
     "name": "stdout",
     "output_type": "stream",
     "text": [
      "['divorced', 'divorciado', ['divorciado', 'divorciada'], 0]\n"
     ]
    },
    {
     "name": "stdin",
     "output_type": "stream",
     "text": [
      "Which is the right translation for this word? 2\n"
     ]
    },
    {
     "name": "stdout",
     "output_type": "stream",
     "text": [
      "['douchebag', 'douchebag', 'gilipollas', 0]\n"
     ]
    },
    {
     "name": "stdin",
     "output_type": "stream",
     "text": [
      "Which is the right translation for this word? 2\n"
     ]
    },
    {
     "name": "stdout",
     "output_type": "stream",
     "text": [
      "['douchebags', 'douchebags', 'imbéciles', 0]\n"
     ]
    },
    {
     "name": "stdin",
     "output_type": "stream",
     "text": [
      "Which is the right translation for this word? 2\n"
     ]
    },
    {
     "name": "stdout",
     "output_type": "stream",
     "text": [
      "['drug', 'medicamento', 'droga', 0]\n"
     ]
    },
    {
     "name": "stdin",
     "output_type": "stream",
     "text": [
      "Which is the right translation for this word? 2\n"
     ]
    },
    {
     "name": "stdout",
     "output_type": "stream",
     "text": [
      "['drugged', 'drogado', ['drogado', 'drogada'], 0]\n"
     ]
    },
    {
     "name": "stdin",
     "output_type": "stream",
     "text": [
      "Which is the right translation for this word? 2\n"
     ]
    },
    {
     "name": "stdout",
     "output_type": "stream",
     "text": [
      "['drugging', 'drogando', 'drogadicción', 0]\n"
     ]
    },
    {
     "name": "stdin",
     "output_type": "stream",
     "text": [
      "Which is the right translation for this word? 3\n"
     ]
    },
    {
     "name": "stdout",
     "output_type": "stream",
     "text": [
      "['epidemics', 'epidemias', 'epidemia', 0]\n"
     ]
    },
    {
     "name": "stdin",
     "output_type": "stream",
     "text": [
      "Which is the right translation for this word? 3\n"
     ]
    },
    {
     "name": "stdout",
     "output_type": "stream",
     "text": [
      "['excrement', 'excrementos', 'excremento', 0]\n"
     ]
    },
    {
     "name": "stdin",
     "output_type": "stream",
     "text": [
      "Which is the right translation for this word? 3\n"
     ]
    },
    {
     "name": "stdout",
     "output_type": "stream",
     "text": [
      "['excreted', 'excretado', ['excretado', 'excretada'], 0]\n"
     ]
    },
    {
     "name": "stdin",
     "output_type": "stream",
     "text": [
      "Which is the right translation for this word? 2\n"
     ]
    },
    {
     "name": "stdout",
     "output_type": "stream",
     "text": [
      "['excretes', 'excreta', 'excretos', 0]\n"
     ]
    },
    {
     "name": "stdin",
     "output_type": "stream",
     "text": [
      "Which is the right translation for this word? 1\n"
     ]
    },
    {
     "name": "stdout",
     "output_type": "stream",
     "text": [
      "['excreting', 'excretar', 'excretoso', 0]\n"
     ]
    },
    {
     "name": "stdin",
     "output_type": "stream",
     "text": [
      "Which is the right translation for this word? 1\n"
     ]
    },
    {
     "name": "stdout",
     "output_type": "stream",
     "text": [
      "['fester', 'fester', 'enconarse', 0]\n"
     ]
    },
    {
     "name": "stdin",
     "output_type": "stream",
     "text": [
      "Which is the right translation for this word? 2\n"
     ]
    },
    {
     "name": "stdout",
     "output_type": "stream",
     "text": [
      "['festered', 'festered', 'festrado', 0]\n"
     ]
    },
    {
     "name": "stdin",
     "output_type": "stream",
     "text": [
      "Which is the right translation for this word? 'purulento'\n"
     ]
    },
    {
     "name": "stdout",
     "output_type": "stream",
     "text": [
      "['festering', 'enconada', 'fallecimiento', 0]\n"
     ]
    },
    {
     "name": "stdin",
     "output_type": "stream",
     "text": [
      "Which is the right translation for this word? 1\n"
     ]
    },
    {
     "name": "stdout",
     "output_type": "stream",
     "text": [
      "['festers', 'festers', 'festeros', 0]\n"
     ]
    },
    {
     "name": "stdin",
     "output_type": "stream",
     "text": [
      "Which is the right translation for this word? 0\n"
     ]
    },
    {
     "name": "stdout",
     "output_type": "stream",
     "text": [
      "['filth', 'suciedad', 'inmundicia', 0]\n"
     ]
    },
    {
     "name": "stdin",
     "output_type": "stream",
     "text": [
      "Which is the right translation for this word? 3\n"
     ]
    },
    {
     "name": "stdout",
     "output_type": "stream",
     "text": [
      "['filthy', 'sucio', ['sucio', 'sucia'], 0]\n"
     ]
    },
    {
     "name": "stdin",
     "output_type": "stream",
     "text": [
      "Which is the right translation for this word? 2\n"
     ]
    },
    {
     "name": "stdout",
     "output_type": "stream",
     "text": [
      "['fornicated', 'fornicado', ['fornido', 'fornida'], 0]\n"
     ]
    },
    {
     "name": "stdin",
     "output_type": "stream",
     "text": [
      "Which is the right translation for this word? 1\n"
     ]
    },
    {
     "name": "stdout",
     "output_type": "stream",
     "text": [
      "['fornicating', 'fornicando', ['fornido', 'fornida'], 0]\n"
     ]
    },
    {
     "name": "stdin",
     "output_type": "stream",
     "text": [
      "Which is the right translation for this word? 1\n"
     ]
    },
    {
     "name": "stdout",
     "output_type": "stream",
     "text": [
      "['fuck', 'a la mierda', 'Mierda', 0]\n"
     ]
    },
    {
     "name": "stdin",
     "output_type": "stream",
     "text": [
      "Which is the right translation for this word? ['joder', 'mierda']\n"
     ]
    },
    {
     "name": "stdout",
     "output_type": "stream",
     "text": [
      "['fucked', 'jodido', ['follado', 'follada'], 0]\n"
     ]
    },
    {
     "name": "stdin",
     "output_type": "stream",
     "text": [
      "Which is the right translation for this word? 3\n"
     ]
    },
    {
     "name": "stdout",
     "output_type": "stream",
     "text": [
      "['fucker', 'maldito', ['cabrón', 'cabrona'], 0]\n"
     ]
    },
    {
     "name": "stdin",
     "output_type": "stream",
     "text": [
      "Which is the right translation for this word? 3\n"
     ]
    },
    {
     "name": "stdout",
     "output_type": "stream",
     "text": [
      "['fuckers', 'malditos', 'cabrones', 0]\n"
     ]
    },
    {
     "name": "stdin",
     "output_type": "stream",
     "text": [
      "Which is the right translation for this word? 2\n"
     ]
    },
    {
     "name": "stdout",
     "output_type": "stream",
     "text": [
      "['fucking', 'maldito', ['maldito', 'maldita'], 0]\n"
     ]
    },
    {
     "name": "stdin",
     "output_type": "stream",
     "text": [
      "Which is the right translation for this word? 2\n"
     ]
    },
    {
     "name": "stdout",
     "output_type": "stream",
     "text": [
      "['fucks', 'se folla a', 'folla', 0]\n"
     ]
    },
    {
     "name": "stdin",
     "output_type": "stream",
     "text": [
      "Which is the right translation for this word? 2\n"
     ]
    },
    {
     "name": "stdout",
     "output_type": "stream",
     "text": [
      "['gangrenous', 'gangrenoso', ['gangrenoso', 'gangrenosa'], 0]\n"
     ]
    },
    {
     "name": "stdin",
     "output_type": "stream",
     "text": [
      "Which is the right translation for this word? 2\n"
     ]
    },
    {
     "name": "stdout",
     "output_type": "stream",
     "text": [
      "['godless', 'sin dios', ['impío', 'impía'], 0]\n"
     ]
    },
    {
     "name": "stdin",
     "output_type": "stream",
     "text": [
      "Which is the right translation for this word? 2\n"
     ]
    },
    {
     "name": "stdout",
     "output_type": "stream",
     "text": [
      "['gross', 'bruto', ['bruto', 'bruta'], 0]\n"
     ]
    },
    {
     "name": "stdin",
     "output_type": "stream",
     "text": [
      "Which is the right translation for this word? ['bruto', 'bruta', 'grosero', 'grosera']\n"
     ]
    },
    {
     "name": "stdout",
     "output_type": "stream",
     "text": [
      "['grossness', 'asquerosidad', 'grosería', 0]\n"
     ]
    },
    {
     "name": "stdin",
     "output_type": "stream",
     "text": [
      "Which is the right translation for this word? 3\n"
     ]
    },
    {
     "name": "stdout",
     "output_type": "stream",
     "text": [
      "['harlots', 'harlots', 'ramas', 0]\n"
     ]
    },
    {
     "name": "stdin",
     "output_type": "stream",
     "text": [
      "Which is the right translation for this word? 'rameras'\n"
     ]
    },
    {
     "name": "stdout",
     "output_type": "stream",
     "text": [
      "['heresies', 'herejías', 'herejes', 0]\n"
     ]
    },
    {
     "name": "stdin",
     "output_type": "stream",
     "text": [
      "Which is the right translation for this word? 3\n"
     ]
    },
    {
     "name": "stdout",
     "output_type": "stream",
     "text": [
      "['heretical', 'herético', ['herético', 'herética'], 0]\n"
     ]
    },
    {
     "name": "stdin",
     "output_type": "stream",
     "text": [
      "Which is the right translation for this word? 2\n"
     ]
    },
    {
     "name": "stdout",
     "output_type": "stream",
     "text": [
      "['hooker', 'prostituta', 'puta', 0]\n"
     ]
    },
    {
     "name": "stdin",
     "output_type": "stream",
     "text": [
      "Which is the right translation for this word? 3\n"
     ]
    },
    {
     "name": "stdout",
     "output_type": "stream",
     "text": [
      "['horrific', 'horrible', ['horrendo', 'horrenda'], 0]\n"
     ]
    },
    {
     "name": "stdin",
     "output_type": "stream",
     "text": [
      "Which is the right translation for this word? 3\n"
     ]
    },
    {
     "name": "stdout",
     "output_type": "stream",
     "text": [
      "['impious', 'impío', ['impío', 'impía'], 0]\n"
     ]
    },
    {
     "name": "stdin",
     "output_type": "stream",
     "text": [
      "Which is the right translation for this word? 2\n"
     ]
    },
    {
     "name": "stdout",
     "output_type": "stream",
     "text": [
      "['impure', 'impuro', ['impuro', 'impura'], 0]\n"
     ]
    },
    {
     "name": "stdin",
     "output_type": "stream",
     "text": [
      "Which is the right translation for this word? 2\n"
     ]
    },
    {
     "name": "stdout",
     "output_type": "stream",
     "text": [
      "['incestuous', 'incestuoso', ['incestuoso', 'incestuosa'], 0]\n"
     ]
    },
    {
     "name": "stdin",
     "output_type": "stream",
     "text": [
      "Which is the right translation for this word? 2\n"
     ]
    },
    {
     "name": "stdout",
     "output_type": "stream",
     "text": [
      "['incestuously', 'incestuosamente', ['incestuoso', 'incestuosa'], 0]\n"
     ]
    },
    {
     "name": "stdin",
     "output_type": "stream",
     "text": [
      "Which is the right translation for this word? 1\n"
     ]
    },
    {
     "name": "stdout",
     "output_type": "stream",
     "text": [
      "['indecencies', 'indecencias', 'indecencia', 0]\n"
     ]
    },
    {
     "name": "stdin",
     "output_type": "stream",
     "text": [
      "Which is the right translation for this word? 3\n"
     ]
    },
    {
     "name": "stdout",
     "output_type": "stream",
     "text": [
      "['infected', 'infectado', ['infectado', 'infectada'], 0]\n"
     ]
    },
    {
     "name": "stdin",
     "output_type": "stream",
     "text": [
      "Which is the right translation for this word? 2\n"
     ]
    },
    {
     "name": "stdout",
     "output_type": "stream",
     "text": [
      "['infecting', 'infectando', ['infectado', 'infectada'], 0]\n"
     ]
    },
    {
     "name": "stdin",
     "output_type": "stream",
     "text": [
      "Which is the right translation for this word? 1\n"
     ]
    },
    {
     "name": "stdout",
     "output_type": "stream",
     "text": [
      "['infects', 'infecta', ['infectos', 'infectas'], 0]\n"
     ]
    },
    {
     "name": "stdin",
     "output_type": "stream",
     "text": [
      "Which is the right translation for this word? 3\n"
     ]
    },
    {
     "name": "stdout",
     "output_type": "stream",
     "text": [
      "['infested', 'infestado', ['infestado', 'infestada'], 0]\n"
     ]
    },
    {
     "name": "stdin",
     "output_type": "stream",
     "text": [
      "Which is the right translation for this word? 2\n"
     ]
    },
    {
     "name": "stdout",
     "output_type": "stream",
     "text": [
      "['infesting', 'infestando', ['infestado', 'infestada'], 0]\n"
     ]
    },
    {
     "name": "stdin",
     "output_type": "stream",
     "text": [
      "Which is the right translation for this word? 1\n"
     ]
    },
    {
     "name": "stdout",
     "output_type": "stream",
     "text": [
      "['infests', 'infestaciones', 'infestas', 0]\n"
     ]
    },
    {
     "name": "stdin",
     "output_type": "stream",
     "text": [
      "Which is the right translation for this word? 3\n"
     ]
    },
    {
     "name": "stdout",
     "output_type": "stream",
     "text": [
      "['lepers', 'los leprosos', 'leprosos', 0]\n"
     ]
    },
    {
     "name": "stdin",
     "output_type": "stream",
     "text": [
      "Which is the right translation for this word? 2\n"
     ]
    },
    {
     "name": "stdout",
     "output_type": "stream",
     "text": [
      "['lewd', 'lewd', ['lascivo', 'lasciva'], 0]\n"
     ]
    },
    {
     "name": "stdin",
     "output_type": "stream",
     "text": [
      "Which is the right translation for this word? 2\n"
     ]
    },
    {
     "name": "stdout",
     "output_type": "stream",
     "text": [
      "['lewdness', 'lewdness', 'lascivia', 0]\n"
     ]
    },
    {
     "name": "stdin",
     "output_type": "stream",
     "text": [
      "Which is the right translation for this word? 2\n"
     ]
    },
    {
     "name": "stdout",
     "output_type": "stream",
     "text": [
      "['lice', 'piojos', 'piojo', 0]\n"
     ]
    },
    {
     "name": "stdin",
     "output_type": "stream",
     "text": [
      "Which is the right translation for this word? 3\n"
     ]
    },
    {
     "name": "stdout",
     "output_type": "stream",
     "text": [
      "['marred', 'estropeado', ['apagado', 'apagada'], 0]\n"
     ]
    },
    {
     "name": "stdin",
     "output_type": "stream",
     "text": [
      "Which is the right translation for this word? 1\n"
     ]
    },
    {
     "name": "stdout",
     "output_type": "stream",
     "text": [
      "['moldy', 'mohoso', ['mohoso', 'mohosa'], 0]\n"
     ]
    },
    {
     "name": "stdin",
     "output_type": "stream",
     "text": [
      "Which is the right translation for this word? 2\n"
     ]
    },
    {
     "name": "stdout",
     "output_type": "stream",
     "text": [
      "['muck', 'muck', 'estiércol', 0]\n"
     ]
    },
    {
     "name": "stdin",
     "output_type": "stream",
     "text": [
      "Which is the right translation for this word? 2\n"
     ]
    },
    {
     "name": "stdout",
     "output_type": "stream",
     "text": [
      "['mucking', 'cagando', 'tocarse', 0]\n"
     ]
    },
    {
     "name": "stdin",
     "output_type": "stream",
     "text": [
      "Which is the right translation for this word? 3\n"
     ]
    },
    {
     "name": "stdout",
     "output_type": "stream",
     "text": [
      "['mucky', 'mucky', ['asqueroso', 'asquerosa'], 0]\n"
     ]
    },
    {
     "name": "stdin",
     "output_type": "stream",
     "text": [
      "Which is the right translation for this word? 2\n"
     ]
    },
    {
     "name": "stdout",
     "output_type": "stream",
     "text": [
      "['mud', 'barro', 'lodo', 0]\n"
     ]
    },
    {
     "name": "stdin",
     "output_type": "stream",
     "text": [
      "Which is the right translation for this word? 3\n"
     ]
    },
    {
     "name": "stdout",
     "output_type": "stream",
     "text": [
      "['nauseating', 'nauseabundo', ['nauseabundo', 'nauseabunda'], 0]\n"
     ]
    },
    {
     "name": "stdin",
     "output_type": "stream",
     "text": [
      "Which is the right translation for this word? 2\n"
     ]
    },
    {
     "name": "stdout",
     "output_type": "stream",
     "text": [
      "['nauseatingly', 'nauseabundo', 'asquerosamente', 0]\n"
     ]
    },
    {
     "name": "stdin",
     "output_type": "stream",
     "text": [
      "Which is the right translation for this word? 2\n"
     ]
    },
    {
     "name": "stdout",
     "output_type": "stream",
     "text": [
      "['nauseous', 'náuseas', ['nauseabundo', 'nauseabunda'], 0]\n"
     ]
    },
    {
     "name": "stdin",
     "output_type": "stream",
     "text": [
      "Which is the right translation for this word? 3\n"
     ]
    },
    {
     "name": "stdout",
     "output_type": "stream",
     "text": [
      "['necrophiliac', 'necrófilo', ['necrófilo', 'necrófila'], 0]\n"
     ]
    },
    {
     "name": "stdin",
     "output_type": "stream",
     "text": [
      "Which is the right translation for this word? 2\n"
     ]
    },
    {
     "name": "stdout",
     "output_type": "stream",
     "text": [
      "['necrophiliacs', 'necrófilos', ['necrofílicos', 'necrofílicas'], 0]\n"
     ]
    },
    {
     "name": "stdin",
     "output_type": "stream",
     "text": [
      "Which is the right translation for this word? 3\n"
     ]
    },
    {
     "name": "stdout",
     "output_type": "stream",
     "text": [
      "['obscene', 'obsceno', ['obsceno', 'obscena'], 0]\n"
     ]
    },
    {
     "name": "stdin",
     "output_type": "stream",
     "text": [
      "Which is the right translation for this word? 2\n"
     ]
    },
    {
     "name": "stdout",
     "output_type": "stream",
     "text": [
      "['pandemics', 'pandemias', 'pandemia', 0]\n"
     ]
    },
    {
     "name": "stdin",
     "output_type": "stream",
     "text": [
      "Which is the right translation for this word? 3\n"
     ]
    },
    {
     "name": "stdout",
     "output_type": "stream",
     "text": [
      "['parasitic', 'parásito', ['parásito', 'parásita'], 0]\n"
     ]
    },
    {
     "name": "stdin",
     "output_type": "stream",
     "text": [
      "Which is the right translation for this word? 2\n"
     ]
    },
    {
     "name": "stdout",
     "output_type": "stream",
     "text": [
      "['parasitically', 'parasitariamente', 'parasíticamente', 0]\n"
     ]
    },
    {
     "name": "stdin",
     "output_type": "stream",
     "text": [
      "Which is the right translation for this word? 3\n"
     ]
    },
    {
     "name": "stdout",
     "output_type": "stream",
     "text": [
      "['pathogen', 'patógeno', ['patógeno', 'patógena'], 0]\n"
     ]
    },
    {
     "name": "stdin",
     "output_type": "stream",
     "text": [
      "Which is the right translation for this word? 2\n"
     ]
    },
    {
     "name": "stdout",
     "output_type": "stream",
     "text": [
      "['pathogenic', 'patógeno', ['patógeno', 'patógena'], 0]\n"
     ]
    },
    {
     "name": "stdin",
     "output_type": "stream",
     "text": [
      "Which is the right translation for this word? 2\n"
     ]
    },
    {
     "name": "stdout",
     "output_type": "stream",
     "text": [
      "['pathogens', 'patógenos', ['patógenos', 'patógenas'], 0]\n"
     ]
    },
    {
     "name": "stdin",
     "output_type": "stream",
     "text": [
      "Which is the right translation for this word? 2\n"
     ]
    },
    {
     "name": "stdout",
     "output_type": "stream",
     "text": [
      "['perverse', 'perverso', ['perverso', 'perversa'], 0]\n"
     ]
    },
    {
     "name": "stdin",
     "output_type": "stream",
     "text": [
      "Which is the right translation for this word? 2\n"
     ]
    },
    {
     "name": "stdout",
     "output_type": "stream",
     "text": [
      "['pervert', 'pervertido', ['pervertido', 'pervertida'], 0]\n"
     ]
    },
    {
     "name": "stdin",
     "output_type": "stream",
     "text": [
      "Which is the right translation for this word? 2\n"
     ]
    },
    {
     "name": "stdout",
     "output_type": "stream",
     "text": [
      "['perverted', 'pervertido', ['pervertido', 'pervertida'], 0]\n"
     ]
    },
    {
     "name": "stdin",
     "output_type": "stream",
     "text": [
      "Which is the right translation for this word? 2\n"
     ]
    },
    {
     "name": "stdout",
     "output_type": "stream",
     "text": [
      "['perverts', 'pervertidos', ['pervertido', 'pervertida'], 0]\n"
     ]
    },
    {
     "name": "stdin",
     "output_type": "stream",
     "text": [
      "Which is the right translation for this word? 1\n"
     ]
    },
    {
     "name": "stdout",
     "output_type": "stream",
     "text": [
      "['phlegmatic', 'flemático', ['flemático', 'flemática'], 0]\n"
     ]
    },
    {
     "name": "stdin",
     "output_type": "stream",
     "text": [
      "Which is the right translation for this word? 2\n"
     ]
    },
    {
     "name": "stdout",
     "output_type": "stream",
     "text": [
      "['phlegmatically', 'flemáticamente', 'flégicamente', 0]\n"
     ]
    },
    {
     "name": "stdin",
     "output_type": "stream",
     "text": [
      "Which is the right translation for this word? 1\n"
     ]
    },
    {
     "name": "stdout",
     "output_type": "stream",
     "text": [
      "['plague', 'plaga', 'Plaga', 0]\n"
     ]
    },
    {
     "name": "stdin",
     "output_type": "stream",
     "text": [
      "Which is the right translation for this word? 1\n"
     ]
    },
    {
     "name": "stdout",
     "output_type": "stream",
     "text": [
      "['plagued', 'plagado', ['asado', 'asada'], 0]\n"
     ]
    },
    {
     "name": "stdin",
     "output_type": "stream",
     "text": [
      "Which is the right translation for this word? 1\n"
     ]
    },
    {
     "name": "stdout",
     "output_type": "stream",
     "text": [
      "['plaguing', 'plagando', ['asado', 'asada'], 0]\n"
     ]
    },
    {
     "name": "stdin",
     "output_type": "stream",
     "text": [
      "Which is the right translation for this word? 1\n"
     ]
    },
    {
     "name": "stdout",
     "output_type": "stream",
     "text": [
      "['profane', 'profano', ['profano', 'profana'], 0]\n"
     ]
    },
    {
     "name": "stdin",
     "output_type": "stream",
     "text": [
      "Which is the right translation for this word? 2\n"
     ]
    },
    {
     "name": "stdout",
     "output_type": "stream",
     "text": [
      "['profanities', 'profanidades', 'blasfemias', 0]\n"
     ]
    },
    {
     "name": "stdin",
     "output_type": "stream",
     "text": [
      "Which is the right translation for this word? 3\n"
     ]
    },
    {
     "name": "stdout",
     "output_type": "stream",
     "text": [
      "['profanity', 'profanidad', 'blasfemia', 0]\n"
     ]
    },
    {
     "name": "stdin",
     "output_type": "stream",
     "text": [
      "Which is the right translation for this word? 3\n"
     ]
    },
    {
     "name": "stdout",
     "output_type": "stream",
     "text": [
      "['promiscuous', 'promiscuo', ['promiscuo', 'promiscua'], 0]\n"
     ]
    },
    {
     "name": "stdin",
     "output_type": "stream",
     "text": [
      "Which is the right translation for this word? 2\n"
     ]
    },
    {
     "name": "stdout",
     "output_type": "stream",
     "text": [
      "['prostitute', 'prostituta', ['prostituto', 'prostituta'], 0]\n"
     ]
    },
    {
     "name": "stdin",
     "output_type": "stream",
     "text": [
      "Which is the right translation for this word? 2\n"
     ]
    },
    {
     "name": "stdout",
     "output_type": "stream",
     "text": [
      "['prostituted', 'prostituido', ['prostituido', 'prostituida'], 0]\n"
     ]
    },
    {
     "name": "stdin",
     "output_type": "stream",
     "text": [
      "Which is the right translation for this word? 2\n"
     ]
    },
    {
     "name": "stdout",
     "output_type": "stream",
     "text": [
      "['prostituting', 'prostituyendo', 'prostitut', 0]\n"
     ]
    },
    {
     "name": "stdin",
     "output_type": "stream",
     "text": [
      "Which is the right translation for this word? 1\n"
     ]
    },
    {
     "name": "stdout",
     "output_type": "stream",
     "text": [
      "['puked', 'vomitó', ['vomitado', 'vomitada'], 0]\n"
     ]
    },
    {
     "name": "stdin",
     "output_type": "stream",
     "text": [
      "Which is the right translation for this word? 3\n"
     ]
    },
    {
     "name": "stdout",
     "output_type": "stream",
     "text": [
      "['pukes', 'vómitos', 'vómito', 0]\n"
     ]
    },
    {
     "name": "stdin",
     "output_type": "stream",
     "text": [
      "Which is the right translation for this word? 3\n"
     ]
    },
    {
     "name": "stdout",
     "output_type": "stream",
     "text": [
      "['puking', 'vómitos', 'vomitona', 0]\n"
     ]
    },
    {
     "name": "stdin",
     "output_type": "stream",
     "text": [
      "Which is the right translation for this word? 2\n"
     ]
    },
    {
     "name": "stdout",
     "output_type": "stream",
     "text": [
      "['putrid', 'pútrido', ['podrido', 'podrida'], 0]\n"
     ]
    },
    {
     "name": "stdin",
     "output_type": "stream",
     "text": [
      "Which is the right translation for this word? 3\n"
     ]
    },
    {
     "name": "stdout",
     "output_type": "stream",
     "text": [
      "['rat', 'rata', ['rato', 'rata'], 0]\n"
     ]
    },
    {
     "name": "stdin",
     "output_type": "stream",
     "text": [
      "Which is the right translation for this word? 1\n"
     ]
    },
    {
     "name": "stdout",
     "output_type": "stream",
     "text": [
      "['repulsed', 'repelido', ['rechazado', 'rechazada'], 0]\n"
     ]
    },
    {
     "name": "stdin",
     "output_type": "stream",
     "text": [
      "Which is the right translation for this word? 3\n"
     ]
    },
    {
     "name": "stdout",
     "output_type": "stream",
     "text": [
      "['repulses', 'repele', 'repulsión', 0]\n"
     ]
    },
    {
     "name": "stdin",
     "output_type": "stream",
     "text": [
      "Which is the right translation for this word? 2\n"
     ]
    },
    {
     "name": "stdout",
     "output_type": "stream",
     "text": [
      "['repulsive', 'repulsivo', ['repulsivo', 'repulsiva'], 0]\n"
     ]
    },
    {
     "name": "stdin",
     "output_type": "stream",
     "text": [
      "Which is the right translation for this word? 2\n"
     ]
    },
    {
     "name": "stdout",
     "output_type": "stream",
     "text": [
      "['repulsiveness', 'repulsión', 'repulsivo', 0]\n"
     ]
    },
    {
     "name": "stdin",
     "output_type": "stream",
     "text": [
      "Which is the right translation for this word? 1\n"
     ]
    },
    {
     "name": "stdout",
     "output_type": "stream",
     "text": [
      "['risque', 'arriesgado', 'de color subido', 0]\n"
     ]
    },
    {
     "name": "stdin",
     "output_type": "stream",
     "text": [
      "Which is the right translation for this word? 'subido de tono'\n"
     ]
    },
    {
     "name": "stdout",
     "output_type": "stream",
     "text": [
      "['rotten', 'podrido', ['podrido', 'podrida'], 0]\n"
     ]
    },
    {
     "name": "stdin",
     "output_type": "stream",
     "text": [
      "Which is the right translation for this word? 2\n"
     ]
    },
    {
     "name": "stdout",
     "output_type": "stream",
     "text": [
      "['satan', 'satanás', 'Satán', 0]\n"
     ]
    },
    {
     "name": "stdin",
     "output_type": "stream",
     "text": [
      "Which is the right translation for this word? 3\n"
     ]
    },
    {
     "name": "stdout",
     "output_type": "stream",
     "text": [
      "['satanic', 'satánico', ['satánico', 'satánica'], 0]\n"
     ]
    },
    {
     "name": "stdin",
     "output_type": "stream",
     "text": [
      "Which is the right translation for this word? 2\n"
     ]
    },
    {
     "name": "stdout",
     "output_type": "stream",
     "text": [
      "['scatalogical', 'escatológico', 'escatalógico', 0]\n"
     ]
    },
    {
     "name": "stdin",
     "output_type": "stream",
     "text": [
      "Which is the right translation for this word? 1\n"
     ]
    },
    {
     "name": "stdout",
     "output_type": "stream",
     "text": [
      "['scummy', 'sucio', ['espumoso', 'espumosa'], 0]\n"
     ]
    },
    {
     "name": "stdin",
     "output_type": "stream",
     "text": [
      "Which is the right translation for this word? 1\n"
     ]
    },
    {
     "name": "stdout",
     "output_type": "stream",
     "text": [
      "['scuzz', 'scuzz', 'escupir', 0]\n"
     ]
    },
    {
     "name": "stdin",
     "output_type": "stream",
     "text": [
      "Which is the right translation for this word? 'porquería'\n"
     ]
    },
    {
     "name": "stdout",
     "output_type": "stream",
     "text": [
      "['scuzzy', 'scuzzy', ['chiflado', 'chiflada'], 0]\n"
     ]
    },
    {
     "name": "stdin",
     "output_type": "stream",
     "text": [
      "Which is the right translation for this word? 0\n"
     ]
    },
    {
     "name": "stdout",
     "output_type": "stream",
     "text": [
      "['shat', 'shat', 'rompecería', 0]\n"
     ]
    },
    {
     "name": "stdin",
     "output_type": "stream",
     "text": [
      "Which is the right translation for this word? 0\n"
     ]
    },
    {
     "name": "stdout",
     "output_type": "stream",
     "text": [
      "['shits', 'mierdas', 'mierda', 0]\n"
     ]
    },
    {
     "name": "stdin",
     "output_type": "stream",
     "text": [
      "Which is the right translation for this word? 3\n"
     ]
    },
    {
     "name": "stdout",
     "output_type": "stream",
     "text": [
      "['shitter', 'shitter', 'chaveta', 0]\n"
     ]
    },
    {
     "name": "stdin",
     "output_type": "stream",
     "text": [
      "Which is the right translation for this word? 0\n"
     ]
    },
    {
     "name": "stdout",
     "output_type": "stream",
     "text": [
      "['shittier', 'más mierda', 'de mierda', 0]\n"
     ]
    },
    {
     "name": "stdin",
     "output_type": "stream",
     "text": [
      "Which is the right translation for this word? 0\n"
     ]
    },
    {
     "name": "stdout",
     "output_type": "stream",
     "text": [
      "['shitting', 'cagando', 'mierda', 0]\n"
     ]
    },
    {
     "name": "stdin",
     "output_type": "stream",
     "text": [
      "Which is the right translation for this word? 1\n"
     ]
    },
    {
     "name": "stdout",
     "output_type": "stream",
     "text": [
      "['shitty', 'mierda', 'de mierda', 0]\n"
     ]
    },
    {
     "name": "stdin",
     "output_type": "stream",
     "text": [
      "Which is the right translation for this word? 2\n"
     ]
    },
    {
     "name": "stdout",
     "output_type": "stream",
     "text": [
      "['sin', 'sin', 'pecado', 0]\n"
     ]
    },
    {
     "name": "stdin",
     "output_type": "stream",
     "text": [
      "Which is the right translation for this word? 2\n"
     ]
    },
    {
     "name": "stdout",
     "output_type": "stream",
     "text": [
      "['sinful', 'pecaminoso', ['pecaminoso', 'pecaminosa'], 0]\n"
     ]
    },
    {
     "name": "stdin",
     "output_type": "stream",
     "text": [
      "Which is the right translation for this word? 2\n"
     ]
    },
    {
     "name": "stdout",
     "output_type": "stream",
     "text": [
      "['sinned', 'pecó', 'pecado', 0]\n"
     ]
    },
    {
     "name": "stdin",
     "output_type": "stream",
     "text": [
      "Which is the right translation for this word? 1\n"
     ]
    },
    {
     "name": "stdout",
     "output_type": "stream",
     "text": [
      "['sinner', 'pecador', ['pecador', 'pecadora'], 0]\n"
     ]
    },
    {
     "name": "stdin",
     "output_type": "stream",
     "text": [
      "Which is the right translation for this word? 2\n"
     ]
    },
    {
     "name": "stdout",
     "output_type": "stream",
     "text": [
      "['sinners', 'pecadores', ['pecadores', 'pecadoras'], 0]\n"
     ]
    },
    {
     "name": "stdin",
     "output_type": "stream",
     "text": [
      "Which is the right translation for this word? 2\n"
     ]
    },
    {
     "name": "stdout",
     "output_type": "stream",
     "text": [
      "['sinning', 'pecador', 'pecado', 0]\n"
     ]
    },
    {
     "name": "stdin",
     "output_type": "stream",
     "text": [
      "Which is the right translation for this word? 'pecando'\n"
     ]
    },
    {
     "name": "stdout",
     "output_type": "stream",
     "text": [
      "['skanked', 'skanked', 'bandeado', 0]\n"
     ]
    },
    {
     "name": "stdin",
     "output_type": "stream",
     "text": [
      "Which is the right translation for this word? 0\n"
     ]
    },
    {
     "name": "stdout",
     "output_type": "stream",
     "text": [
      "['skanks', 'zorras', 'skanks', 0]\n"
     ]
    },
    {
     "name": "stdin",
     "output_type": "stream",
     "text": [
      "Which is the right translation for this word? 1\n"
     ]
    },
    {
     "name": "stdout",
     "output_type": "stream",
     "text": [
      "['sleaze', 'sordidez', 'desaseo', 0]\n"
     ]
    },
    {
     "name": "stdin",
     "output_type": "stream",
     "text": [
      "Which is the right translation for this word? 3\n"
     ]
    },
    {
     "name": "stdout",
     "output_type": "stream",
     "text": [
      "['sleaziness', 'sordidez', 'maleza', 0]\n"
     ]
    },
    {
     "name": "stdin",
     "output_type": "stream",
     "text": [
      "Which is the right translation for this word? 0\n"
     ]
    },
    {
     "name": "stdout",
     "output_type": "stream",
     "text": [
      "['sleazy', 'sórdido', ['sórdido', 'sórdida'], 0]\n"
     ]
    },
    {
     "name": "stdin",
     "output_type": "stream",
     "text": [
      "Which is the right translation for this word? 2\n"
     ]
    },
    {
     "name": "stdout",
     "output_type": "stream",
     "text": [
      "['slimy', 'viscoso', ['baboso', 'babosa'], 0]\n"
     ]
    },
    {
     "name": "stdin",
     "output_type": "stream",
     "text": [
      "Which is the right translation for this word? 3\n"
     ]
    },
    {
     "name": "stdout",
     "output_type": "stream",
     "text": [
      "['slut', 'zorra', 'puta', 0]\n"
     ]
    },
    {
     "name": "stdin",
     "output_type": "stream",
     "text": [
      "Which is the right translation for this word? 3\n"
     ]
    },
    {
     "name": "stdout",
     "output_type": "stream",
     "text": [
      "['sluttiness', 'zorra', 'holgazanía', 0]\n"
     ]
    },
    {
     "name": "stdin",
     "output_type": "stream",
     "text": [
      "Which is the right translation for this word? 0\n"
     ]
    },
    {
     "name": "stdout",
     "output_type": "stream",
     "text": [
      "['slutting', 'putas', 'puta', 0]\n"
     ]
    },
    {
     "name": "stdin",
     "output_type": "stream",
     "text": [
      "Which is the right translation for this word? 1\n"
     ]
    },
    {
     "name": "stdout",
     "output_type": "stream",
     "text": [
      "['slutty', 'zorra', ['cachondo', 'cachonda'], 0]\n"
     ]
    },
    {
     "name": "stdin",
     "output_type": "stream",
     "text": [
      "Which is the right translation for this word? 2\n"
     ]
    },
    {
     "name": "stdout",
     "output_type": "stream",
     "text": [
      "['spoil', 'estropear', 'arruinar', 0]\n"
     ]
    },
    {
     "name": "stdin",
     "output_type": "stream",
     "text": [
      "Which is the right translation for this word? 3\n"
     ]
    },
    {
     "name": "stdout",
     "output_type": "stream",
     "text": [
      "['spoiled', 'estropeado', ['arruinado', 'arruinada'], 0]\n"
     ]
    },
    {
     "name": "stdin",
     "output_type": "stream",
     "text": [
      "Which is the right translation for this word? 3\n"
     ]
    },
    {
     "name": "stdout",
     "output_type": "stream",
     "text": [
      "['spoiling', 'echando a perder', 'arruinando', 0]\n"
     ]
    },
    {
     "name": "stdin",
     "output_type": "stream",
     "text": [
      "Which is the right translation for this word? 3\n"
     ]
    },
    {
     "name": "stdout",
     "output_type": "stream",
     "text": [
      "['spreading', 'difundiendo', 'extensión', 0]\n"
     ]
    },
    {
     "name": "stdin",
     "output_type": "stream",
     "text": [
      "Which is the right translation for this word? 1\n"
     ]
    },
    {
     "name": "stdout",
     "output_type": "stream",
     "text": [
      "['staining', 'tinción', 'manchas', 0]\n"
     ]
    },
    {
     "name": "stdin",
     "output_type": "stream",
     "text": [
      "Which is the right translation for this word? 2\n"
     ]
    },
    {
     "name": "stdout",
     "output_type": "stream",
     "text": [
      "['sullied', 'mancillado', ['manchado', 'manchada'], 0]\n"
     ]
    },
    {
     "name": "stdin",
     "output_type": "stream",
     "text": [
      "Which is the right translation for this word? 3\n"
     ]
    },
    {
     "name": "stdout",
     "output_type": "stream",
     "text": [
      "['sullies', 'sullies', 'muleos', 0]\n"
     ]
    },
    {
     "name": "stdin",
     "output_type": "stream",
     "text": [
      "Which is the right translation for this word? 0\n"
     ]
    },
    {
     "name": "stdout",
     "output_type": "stream",
     "text": [
      "['sully', 'sully', 'manchar', 0]\n"
     ]
    },
    {
     "name": "stdin",
     "output_type": "stream",
     "text": [
      "Which is the right translation for this word? 2\n"
     ]
    },
    {
     "name": "stdout",
     "output_type": "stream",
     "text": [
      "['swear', 'jura', 'jurar', 0]\n"
     ]
    },
    {
     "name": "stdin",
     "output_type": "stream",
     "text": [
      "Which is the right translation for this word? 3\n"
     ]
    },
    {
     "name": "stdout",
     "output_type": "stream",
     "text": [
      "['swearing', 'juramento', 'maldición', 0]\n"
     ]
    },
    {
     "name": "stdin",
     "output_type": "stream",
     "text": [
      "Which is the right translation for this word? 1\n"
     ]
    },
    {
     "name": "stdout",
     "output_type": "stream",
     "text": [
      "['swears', 'jura', 'maldita', 0]\n"
     ]
    },
    {
     "name": "stdin",
     "output_type": "stream",
     "text": [
      "Which is the right translation for this word? 3\n"
     ]
    },
    {
     "name": "stdout",
     "output_type": "stream",
     "text": [
      "['swore', 'juró', 'juramentar', 0]\n"
     ]
    },
    {
     "name": "stdin",
     "output_type": "stream",
     "text": [
      "Which is the right translation for this word? 3\n"
     ]
    },
    {
     "name": "stdout",
     "output_type": "stream",
     "text": [
      "['tainted', 'contaminado', ['contaminado', 'contaminada'], 0]\n"
     ]
    },
    {
     "name": "stdin",
     "output_type": "stream",
     "text": [
      "Which is the right translation for this word? 3\n"
     ]
    },
    {
     "name": "stdout",
     "output_type": "stream",
     "text": [
      "['tainting', 'manchando', 'abierta', 0]\n"
     ]
    },
    {
     "name": "stdin",
     "output_type": "stream",
     "text": [
      "Which is the right translation for this word? 1\n"
     ]
    },
    {
     "name": "stdout",
     "output_type": "stream",
     "text": [
      "['taints', 'mancha', 'manchas', 0]\n"
     ]
    },
    {
     "name": "stdin",
     "output_type": "stream",
     "text": [
      "Which is the right translation for this word? 3\n"
     ]
    },
    {
     "name": "stdout",
     "output_type": "stream",
     "text": [
      "['tarnish', 'empañar', 'deslustre', 0]\n"
     ]
    },
    {
     "name": "stdin",
     "output_type": "stream",
     "text": [
      "Which is the right translation for this word? 3\n"
     ]
    },
    {
     "name": "stdout",
     "output_type": "stream",
     "text": [
      "['tarnished', 'empañado', ['empañado', 'empañada'], 0]\n"
     ]
    },
    {
     "name": "stdin",
     "output_type": "stream",
     "text": [
      "Which is the right translation for this word? 2\n"
     ]
    },
    {
     "name": "stdout",
     "output_type": "stream",
     "text": [
      "['tarnishes', 'empaña', 'empañas', 0]\n"
     ]
    },
    {
     "name": "stdin",
     "output_type": "stream",
     "text": [
      "Which is the right translation for this word? 3\n"
     ]
    },
    {
     "name": "stdout",
     "output_type": "stream",
     "text": [
      "['tarnishing', 'empañando', 'desfloración', 0]\n"
     ]
    },
    {
     "name": "stdin",
     "output_type": "stream",
     "text": [
      "Which is the right translation for this word? 1\n"
     ]
    },
    {
     "name": "stdout",
     "output_type": "stream",
     "text": [
      "['tarnishment', 'empañamiento', 'hojas', 0]\n"
     ]
    },
    {
     "name": "stdin",
     "output_type": "stream",
     "text": [
      "Which is the right translation for this word? 1\n"
     ]
    },
    {
     "name": "stdout",
     "output_type": "stream",
     "text": [
      "['trashed', 'destrozado', 'basura', 0]\n"
     ]
    },
    {
     "name": "stdin",
     "output_type": "stream",
     "text": [
      "Which is the right translation for this word? 3\n"
     ]
    },
    {
     "name": "stdout",
     "output_type": "stream",
     "text": [
      "['trashing', 'tirando a la basura', 'basura', 0]\n"
     ]
    },
    {
     "name": "stdin",
     "output_type": "stream",
     "text": [
      "Which is the right translation for this word? 3\n"
     ]
    },
    {
     "name": "stdout",
     "output_type": "stream",
     "text": [
      "['trashy', 'basura', 'baja calidad', 0]\n"
     ]
    },
    {
     "name": "stdin",
     "output_type": "stream",
     "text": [
      "Which is the right translation for this word? 1\n"
     ]
    },
    {
     "name": "stdout",
     "output_type": "stream",
     "text": [
      "['unclean', 'sucio', ['inmundo', 'inmunda'], 0]\n"
     ]
    },
    {
     "name": "stdin",
     "output_type": "stream",
     "text": [
      "Which is the right translation for this word? 2\n"
     ]
    },
    {
     "name": "stdout",
     "output_type": "stream",
     "text": [
      "['vermin', 'bichos', 'alimañas', 0]\n"
     ]
    },
    {
     "name": "stdin",
     "output_type": "stream",
     "text": [
      "Which is the right translation for this word? 3\n"
     ]
    },
    {
     "name": "stdout",
     "output_type": "stream",
     "text": [
      "['vomitted', 'vomitado', ['vomitado', 'vomitada'], 0]\n"
     ]
    },
    {
     "name": "stdin",
     "output_type": "stream",
     "text": [
      "Which is the right translation for this word? 2\n"
     ]
    },
    {
     "name": "stdout",
     "output_type": "stream",
     "text": [
      "['waste', 'residuos', 'desperdicio', 0]\n"
     ]
    },
    {
     "name": "stdin",
     "output_type": "stream",
     "text": [
      "Which is the right translation for this word? 1\n"
     ]
    },
    {
     "name": "stdout",
     "output_type": "stream",
     "text": [
      "['wasted', 'desperdiciado', ['desperdiciado', 'desperdiciada'], 0]\n"
     ]
    },
    {
     "name": "stdin",
     "output_type": "stream",
     "text": [
      "Which is the right translation for this word? ['desechado', 'desechada']\n"
     ]
    },
    {
     "name": "stdout",
     "output_type": "stream",
     "text": [
      "['waster', 'desperdicio', 'desastre', 0]\n"
     ]
    },
    {
     "name": "stdin",
     "output_type": "stream",
     "text": [
      "Which is the right translation for this word? 3\n"
     ]
    },
    {
     "name": "stdout",
     "output_type": "stream",
     "text": [
      "['wasters', 'derrochadores', ['agotador', 'agotadora'], 0]\n"
     ]
    },
    {
     "name": "stdin",
     "output_type": "stream",
     "text": [
      "Which is the right translation for this word? 1\n"
     ]
    },
    {
     "name": "stdout",
     "output_type": "stream",
     "text": [
      "['wastes', 'residuos', 'desechos', 0]\n"
     ]
    },
    {
     "name": "stdin",
     "output_type": "stream",
     "text": [
      "Which is the right translation for this word? 3\n"
     ]
    },
    {
     "name": "stdout",
     "output_type": "stream",
     "text": [
      "['wasting', 'desperdiciando', 'debilitante', 0]\n"
     ]
    },
    {
     "name": "stdin",
     "output_type": "stream",
     "text": [
      "Which is the right translation for this word? 1\n"
     ]
    },
    {
     "name": "stdout",
     "output_type": "stream",
     "text": [
      "['whored', 'puta', 'puro', 0]\n"
     ]
    },
    {
     "name": "stdin",
     "output_type": "stream",
     "text": [
      "Which is the right translation for this word? 1\n"
     ]
    },
    {
     "name": "stdout",
     "output_type": "stream",
     "text": [
      "['whorehouse', 'prostíbulo', 'burdel', 0]\n"
     ]
    },
    {
     "name": "stdin",
     "output_type": "stream",
     "text": [
      "Which is the right translation for this word? 3\n"
     ]
    },
    {
     "name": "stdout",
     "output_type": "stream",
     "text": [
      "['whorehouses', 'puticlubs', 'casas', 0]\n"
     ]
    },
    {
     "name": "stdin",
     "output_type": "stream",
     "text": [
      "Which is the right translation for this word? 1\n"
     ]
    },
    {
     "name": "stdout",
     "output_type": "stream",
     "text": [
      "['whoring', 'puta', 'prostituta', 0]\n"
     ]
    },
    {
     "name": "stdin",
     "output_type": "stream",
     "text": [
      "Which is the right translation for this word? 3\n"
     ]
    }
   ],
   "source": [
    "### Manual translation, flag which of them are valid:\n",
    "for mfd, translations in mfd_dict_en_es.items():\n",
    "    print(mfd)\n",
    "    for translation in translations:\n",
    "        # If 1: Pick only the first one\n",
    "        # If 2: Pick the first two\n",
    "        # If 3: Pick both\n",
    "        # Else (string): New translation\n",
    "        if translation[3] != 0:\n",
    "            continue\n",
    "        else:\n",
    "            print(translation)\n",
    "            pick_translation = input('Which is the right translation for this word?')\n",
    "            translation[3] = pick_translation"
   ]
  },
  {
   "cell_type": "markdown",
   "id": "0b4928a2-4d7e-40b8-b1d3-b2fbfeff56f6",
   "metadata": {},
   "source": [
    "- After translating the non-automatic words, there have been several manual erros while coding the proper translations. I will fix them:"
   ]
  },
  {
   "cell_type": "markdown",
   "id": "3b95198c-a4c7-42a7-95e2-1f5b0883d242",
   "metadata": {},
   "source": [
    "Corrections: \"molestando\", change the first \"2[1]\",  \"1bm\", \"33\", \"civil right\" = derechos (not \"derecho civil\"), \"cheat\" (include \"hacer trampa\"), \"false witness\" (incluir ambas), include 3, 'supervises': 3, 'subverting': 3, 'faiths': 3, 'jesus': 2, 'waste': 3, 'wasted': 3\n",
    "Remove \"compañía\"?, it can also be interpreted as business company."
   ]
  },
  {
   "cell_type": "code",
   "execution_count": 45,
   "id": "130e2ba1-7597-4f09-a208-5bc44ed86c40",
   "metadata": {},
   "outputs": [
    {
     "name": "stdout",
     "output_type": "stream",
     "text": [
      "care.virtue\n",
      "['empathized', 'empatiza con', ['empatizado', 'empatizada'], '2[1]']\n"
     ]
    },
    {
     "name": "stdin",
     "output_type": "stream",
     "text": [
      "Which is the right translation for this word? 2\n"
     ]
    },
    {
     "name": "stdout",
     "output_type": "stream",
     "text": [
      "care.vice\n",
      "['unkind', 'poco amable', 'cruel', '1bm']\n"
     ]
    },
    {
     "name": "stdin",
     "output_type": "stream",
     "text": [
      "Which is the right translation for this word? 1\n"
     ]
    },
    {
     "name": "stdout",
     "output_type": "stream",
     "text": [
      "fairness.virtue\n",
      "['civil right', 'derecho civil', 'derecho Civil', '1']\n"
     ]
    },
    {
     "name": "stdin",
     "output_type": "stream",
     "text": [
      "Which is the right translation for this word? derechos\n"
     ]
    },
    {
     "name": "stdout",
     "output_type": "stream",
     "text": [
      "fairness.vice\n",
      "['cheat', 'engañar', 'hacer trampa', '1']\n"
     ]
    },
    {
     "name": "stdin",
     "output_type": "stream",
     "text": [
      "Which is the right translation for this word? 3\n"
     ]
    },
    {
     "name": "stdout",
     "output_type": "stream",
     "text": [
      "['false witness', 'falso testimonio', 'falso testigo', '2']\n"
     ]
    },
    {
     "name": "stdin",
     "output_type": "stream",
     "text": [
      "Which is the right translation for this word? 3\n"
     ]
    },
    {
     "name": "stdout",
     "output_type": "stream",
     "text": [
      "loyalty.virtue\n",
      "['grouping', 'agrupación', 'agrupamiento', '33']\n"
     ]
    },
    {
     "name": "stdin",
     "output_type": "stream",
     "text": [
      "Which is the right translation for this word? 3\n"
     ]
    },
    {
     "name": "stdout",
     "output_type": "stream",
     "text": [
      "loyalty.vice\n",
      "authority.virtue\n",
      "['supervises', 'supervisa', 'supervisión', '2']\n"
     ]
    },
    {
     "name": "stdin",
     "output_type": "stream",
     "text": [
      "Which is the right translation for this word? 3\n"
     ]
    },
    {
     "name": "stdout",
     "output_type": "stream",
     "text": [
      "authority.vice\n",
      "['subverting', 'subvirtiendo', 'subvertir', '2']\n"
     ]
    },
    {
     "name": "stdin",
     "output_type": "stream",
     "text": [
      "Which is the right translation for this word? 3\n"
     ]
    },
    {
     "name": "stdout",
     "output_type": "stream",
     "text": [
      "sanctity.virtue\n",
      "['faiths', 'fe', 'creencia', '13']\n"
     ]
    },
    {
     "name": "stdin",
     "output_type": "stream",
     "text": [
      "Which is the right translation for this word? 3\n"
     ]
    },
    {
     "name": "stdout",
     "output_type": "stream",
     "text": [
      "['jesus', 'jesus', 'Jesús', '1']\n"
     ]
    },
    {
     "name": "stdin",
     "output_type": "stream",
     "text": [
      "Which is the right translation for this word? 2\n"
     ]
    },
    {
     "name": "stdout",
     "output_type": "stream",
     "text": [
      "sanctity.vice\n",
      "['waste', 'residuos', 'desperdicio', '1']\n"
     ]
    },
    {
     "name": "stdin",
     "output_type": "stream",
     "text": [
      "Which is the right translation for this word? 3\n"
     ]
    },
    {
     "name": "stdout",
     "output_type": "stream",
     "text": [
      "['wasted', 'desperdiciado', ['desperdiciado', 'desperdiciada'], \"['desechado', 'desechada']\"]\n"
     ]
    },
    {
     "name": "stdin",
     "output_type": "stream",
     "text": [
      "Which is the right translation for this word? 3\n"
     ]
    }
   ],
   "source": [
    "### Manual correction of errors\n",
    "for mfd, translations in mfd_dict_en_es.items():\n",
    "    print(mfd)\n",
    "    for translation in translations:\n",
    "        if (translation[3] in [\"2[1]\", \"1bm\", \"33\"] or\n",
    "            translation[0] in [\"civil right\", \"cheat\", \"false witness\", \"supervises\",\n",
    "                               \"subverting\", \"faiths\", \"jesus\", \"waste\", \"wasted\"]):\n",
    "            print(translation)\n",
    "            pick_translation = input('Which is the right translation for this word?')\n",
    "            translation[3] = pick_translation"
   ]
  },
  {
   "cell_type": "markdown",
   "id": "5cbe65e8-22d1-478c-9960-bbf6d5481464",
   "metadata": {},
   "source": [
    "- Check that all words with the same translation are correct "
   ]
  },
  {
   "cell_type": "code",
   "execution_count": 136,
   "id": "cde362e5-96dc-4e17-8228-b8f2b3587d05",
   "metadata": {
    "tags": []
   },
   "outputs": [
    {
     "name": "stdout",
     "output_type": "stream",
     "text": [
      "care.virtue\n",
      "care.vice\n",
      "fairness.virtue\n",
      "fairness.vice\n",
      "loyalty.virtue\n",
      "loyalty.vice\n",
      "authority.virtue\n",
      "authority.vice\n",
      "sanctity.virtue\n",
      "sanctity.vice\n"
     ]
    }
   ],
   "source": [
    "#### Manual check of similar words\n",
    "for mfd, translations in mfd_dict_en_es.items():\n",
    "    print(mfd)\n",
    "    for translation in translations:\n",
    "        # Code: Same as before\n",
    "        if translation[3] == 4:\n",
    "            print(translation)\n",
    "            pick_translation = input('Which is the right translation for this word?')\n",
    "            translation[3] = pick_translation"
   ]
  },
  {
   "cell_type": "markdown",
   "id": "ebba492a-387e-455b-ba53-a0c713333a73",
   "metadata": {},
   "source": [
    "Manual errors correction:"
   ]
  },
  {
   "cell_type": "markdown",
   "id": "6aa51ff6-12b8-4fdd-a61a-24bd371872bc",
   "metadata": {},
   "source": [
    "'console': ['consolar', 'consuelo'], 'abuses': 'abusa', 'aching': ['dolor', 'doliendo'], 'threatening': ['amenazante', 'amenazador'], 'level the playing field': ['nivelar', 'nivela', 'nivelado', 'igualdad de condiciones'], 'trusted': ['de confianza', 'confianza', 'confiar'], 'be partial': ['parcial', 'parcialidad', 'ser parcial'], 'prejudice': ['prejuicio', 'prejuzgar'], 'scamming': 'estafando', 'company'?, 'herding': 'en manada', 'together': ['juntos', 'juntas', 'unidos', 'unidas'], 'unity': ['unidad', 'unión'], 'backstabbed': ['por la espalda', 'apuñalado por la espalda'], 'monarch': ['rey', 'reinado', 'reinar'], 'punitive': ['punitivo', 'punitiva'], 'refuses': ['se niega', 'negarse'], 'faithfully': 'religiosamente', 'priest': ['sacerdote', 'párroco'], 'repenting': 4, 'repent': ['arrepentirse', 'arrepentimiento'], 'theology': ['teología', 'teológico'], 'foul': ['nauseabundo', 'fétido', 'hediondo', 'repugnante', 'asqueroso', 'inmundo', 'infecto']"
   ]
  },
  {
   "cell_type": "code",
   "execution_count": 46,
   "id": "2d9a8f1d-6b4f-4e02-b24e-19df8ca3c62d",
   "metadata": {},
   "outputs": [
    {
     "name": "stdout",
     "output_type": "stream",
     "text": [
      "care.virtue\n",
      "['console', 'consola', 'consola', 4]\n",
      "care.vice\n",
      "['abuses', 'abusos', 'abusos', 4]\n",
      "['aching', 'dolor', 'dolor', 4]\n",
      "['threatening', 'amenazante', 'amenazante', 4]\n",
      "fairness.virtue\n",
      "['level the playing field', 'nivelar el campo de juego', 'nivelar el campo de juego', 4]\n",
      "['trusted', 'de confianza', 'de confianza', 4]\n",
      "fairness.vice\n",
      "['be partial', 'ser parcial', 'ser parcial', 4]\n",
      "['prejudice', 'prejuicio', 'prejuicio', 4]\n",
      "['scamming', 'estafa', 'estafa', 4]\n",
      "loyalty.virtue\n",
      "['company', 'empresa', 'empresa', 4]\n"
     ]
    },
    {
     "name": "stdin",
     "output_type": "stream",
     "text": [
      "Which is the correct translation for this word? 4\n"
     ]
    },
    {
     "name": "stdout",
     "output_type": "stream",
     "text": [
      "['herding', 'pastoreo', 'pastoreo', 4]\n",
      "['together', 'juntos', 'juntos', 4]\n",
      "['unity', 'unidad', 'unidad', 4]\n",
      "loyalty.vice\n",
      "['backstabbed', 'apuñalado por la espalda', 'apuñalado por la espalda', 4]\n",
      "authority.virtue\n",
      "['monarch', 'monarca', 'monarca', 4]\n",
      "['punitive', 'punitivo', 'punitivo', 4]\n",
      "authority.vice\n",
      "['refuses', 'se niega', 'se niega', 4]\n",
      "sanctity.virtue\n",
      "['faithfully', 'fielmente', 'fielmente', 4]\n",
      "['priest', 'sacerdote', 'sacerdote', 4]\n",
      "['repent', 'arrepentirse', 'arrepentirse', 4]\n",
      "['repenting', 'arrepentido', 'arrepentido', 4]\n",
      "['theology', 'teología', 'teología', 4]\n",
      "sanctity.vice\n",
      "['foul', 'falta', 'falta', 4]\n"
     ]
    }
   ],
   "source": [
    "### Manual errors in categorizing words correction:\n",
    "corrections = {'console': ['consolar', 'consuelo'], 'abuses': \n",
    "               'abusa', 'aching': ['dolor', 'doliendo'], \n",
    "               'threatening': ['amenazante', 'amenazador'], \n",
    "               'level the playing field': ['nivelar', 'nivela', 'nivelado', 'igualdad de condiciones'], \n",
    "               'trusted': ['de confianza', 'confianza', 'confiar'], \n",
    "               'be partial': ['parcial', 'parcialidad', 'ser parcial'], \n",
    "               'prejudice': ['prejuicio', 'prejuzgar'], \n",
    "               'scamming': 'estafando', 'company': [], 'herding': 'en manada', \n",
    "               'together': ['juntos', 'juntas', 'unidos', 'unidas'], \n",
    "               'unity': ['unidad', 'unión'], 'backstabbed': ['por la espalda', 'apuñalado por la espalda'],\n",
    "               'monarch': ['rey', 'reinado', 'reinar'], 'punitive': ['punitivo', 'punitiva'], \n",
    "               'refuses': ['se niega', 'negarse'], 'faithfully': 'religiosamente', \n",
    "               'priest': ['sacerdote', 'párroco'], 'repenting': 4, \n",
    "               'repent': ['arrepentirse', 'arrepentimiento'], 'theology': ['teología', 'teológico'],\n",
    "               'foul': ['nauseabundo', 'fétido', 'hediondo', 'repugnante', 'asqueroso', 'inmundo', 'infecto']}\n",
    "\n",
    "#### Manual check of similar words\n",
    "for mfd, translations in mfd_dict_en_es.items():\n",
    "    print(mfd)\n",
    "    for translation in translations:\n",
    "        # Code: Same as before\n",
    "        if translation[0] in corrections.keys():\n",
    "            if translation[0] == 'company':\n",
    "                print(translation)\n",
    "                pick_translation = input('Which is the correct translation for this word?')\n",
    "                translation[3] = pick_translation\n",
    "                continue\n",
    "            \n",
    "            print(translation)\n",
    "            pick_translation = corrections[translation[0]]\n",
    "            translation[3] = pick_translation"
   ]
  },
  {
   "cell_type": "markdown",
   "id": "42ca9c56-45e9-4f8c-ad73-4733406e5a47",
   "metadata": {},
   "source": [
    "- Final words to include from those we thought were bad translations:"
   ]
  },
  {
   "cell_type": "code",
   "execution_count": 47,
   "id": "8f6ce68e-2ade-4dc3-8498-cba892abd86c",
   "metadata": {},
   "outputs": [],
   "source": [
    "corrections = {'torturous': \"2\", \"bigoted\": \"1\", \n",
    "               \"duplicitous\": [\"artero\", \"artera\", \"arteros\", \"arteras\",\n",
    "                               \"taimado\", \"taimada\", \"taimados\", \"taimadas\"],\n",
    "               \n",
    "               \"false advertised\": [\"falso\", \"falsa\", \"falsos\", \"falsas\"]\n",
    "               \n",
    "              }\n",
    "\n",
    "for foundation, translations in mfd_dict_en_es.items():\n",
    "    for translation in translations:\n",
    "        if translation[3] == \"0\" and translation[0] in corrections.keys():\n",
    "            translation[3] = corrections[translation[0]]"
   ]
  },
  {
   "cell_type": "code",
   "execution_count": 48,
   "id": "f84d3c4a-3daa-4e2d-b00f-1c71633e0750",
   "metadata": {},
   "outputs": [],
   "source": [
    "# Store data (serialize)\n",
    "with open('dictionaries/mfd_en_esp_manual.pickle', 'wb') as handle:\n",
    "    pickle.dump(mfd_dict_en_es, handle, protocol = pickle.HIGHEST_PROTOCOL)"
   ]
  },
  {
   "cell_type": "markdown",
   "id": "f86b2c30-ee28-43f5-ab8a-61d1772a1780",
   "metadata": {},
   "source": [
    "## 4. EXTRACT TRANSLATIONS AND AVOID REPETITIONS"
   ]
  },
  {
   "cell_type": "markdown",
   "id": "5d9e5ccd-a8b8-473b-9785-bbc0468b131b",
   "metadata": {},
   "source": [
    "Here we will use the previous codebook to know which translation to pick between DeepL, Google Translate, and our own personal translations."
   ]
  },
  {
   "cell_type": "code",
   "execution_count": 80,
   "id": "0d41110d-de5c-4886-8bf1-d130ee68aa00",
   "metadata": {},
   "outputs": [],
   "source": [
    "with open('dictionaries/mfd_en_esp_manual.pickle', 'rb') as handle:\n",
    "    mfd_dict_en_es = pickle.load(handle)"
   ]
  },
  {
   "cell_type": "code",
   "execution_count": 81,
   "id": "425dca8c-2661-4f4b-82c2-7a5fe7066a87",
   "metadata": {},
   "outputs": [
    {
     "name": "stdout",
     "output_type": "stream",
     "text": [
      "care.virtue\n",
      "care.vice\n",
      "fairness.virtue\n",
      "fairness.vice\n",
      "loyalty.virtue\n",
      "loyalty.vice\n",
      "authority.virtue\n",
      "authority.vice\n",
      "sanctity.virtue\n",
      "sanctity.vice\n"
     ]
    }
   ],
   "source": [
    "# Iterate through the dictionary and use the previous codebook to insert words in a list.\n",
    "mfd_dict_es_final = {}\n",
    "for foundation, translations in mfd_dict_en_es.items():\n",
    "    print(foundation)\n",
    "    mfd_dict_es_final[foundation] = []\n",
    "    for translation in translations:\n",
    "        # Set both translations in lowercase\n",
    "        translation[1] = translation[1].lower()\n",
    "        type_google_translate = type(translation[2])\n",
    "        if type_google_translate == list:\n",
    "            for word in range(len(translation[2])):\n",
    "                lowercase_word = translation[2][word].lower()\n",
    "                translation[2][word] = lowercase_word\n",
    "        else:\n",
    "            translation[2] = translation[2].lower()\n",
    "            \n",
    "        # Get the number of the translation\n",
    "        input_translation = str(translation[3])\n",
    "        \n",
    "        # If it is a number, pick the translation following the codebook\n",
    "        if re.search(\"[0-9]\", input_translation):\n",
    "            # 3 = pick both translations\n",
    "            if input_translation == \"3\":\n",
    "                # We only need to check that the second one is a list\n",
    "                # Add only new words\n",
    "                if translation[1] not in mfd_dict_es_final[foundation]:\n",
    "                    mfd_dict_es_final[foundation].append(translation[1])\n",
    "                if type_google_translate == list:\n",
    "                    for esp_word in translation[2]:\n",
    "                        if esp_word not in mfd_dict_es_final[foundation]:\n",
    "                            mfd_dict_es_final[foundation].append(esp_word)\n",
    "                else:\n",
    "                    if translation[2] not in mfd_dict_es_final[foundation]:\n",
    "                        mfd_dict_es_final[foundation].append(translation[2])\n",
    "            # 1 or 4, pick first translation\n",
    "            elif input_translation in [\"1\", \"4\"]:\n",
    "                if translation[1] not in mfd_dict_es_final[foundation]:\n",
    "                    mfd_dict_es_final[foundation].append(translation[1])\n",
    "            elif input_translation == \"2\":\n",
    "                if type_google_translate == list:\n",
    "                    for esp_word in translation[2]:\n",
    "                        if esp_word not in mfd_dict_es_final[foundation]:\n",
    "                            mfd_dict_es_final[foundation].append(esp_word)\n",
    "                else:\n",
    "                    if translation[2] not in mfd_dict_es_final[foundation]:\n",
    "                        mfd_dict_es_final[foundation].append(translation[2])\n",
    "                        \n",
    "            # If there is a zero we will not consider it\n",
    "            \n",
    "            \n",
    "        # If the string is not a number, but a word or list of words that we inputted,\n",
    "        # then we add them to our list of translations\n",
    "        else:\n",
    "            if input_translation != \"\":\n",
    "                # Pattern to match words in the shape of a list as we inputted them while translating\n",
    "                # It takes all words separated by a whitespace (so that n-grams are included)\n",
    "                pattern = \"\\s*\\w+(?:\\s+\\w+)*\\s*\"\n",
    "                translation_ls = re.findall(pattern, input_translation)\n",
    "                n_words = len(translation_ls)\n",
    "                if n_words > 1:\n",
    "                    for esp_word in translation_ls:\n",
    "                        if esp_word not in mfd_dict_es_final[foundation]:\n",
    "                            mfd_dict_es_final[foundation].append(esp_word)\n",
    "                elif n_words == 1:\n",
    "                    if translation_ls[0] not in mfd_dict_es_final[foundation]:\n",
    "                        mfd_dict_es_final[foundation].append(translation_ls[0])\n",
    "            \n",
    "    # Finally, get the unique words using a set and transform it back into a list.\n",
    "    #unique_words = set(mfd_dict_es_final[foundation])\n",
    "    #mfd_dict_es_final[foundation] = list(unique_words)"
   ]
  },
  {
   "cell_type": "code",
   "execution_count": 82,
   "id": "b2352fe4-06cf-4ab4-b0ba-039f52632a2b",
   "metadata": {},
   "outputs": [
    {
     "name": "stdout",
     "output_type": "stream",
     "text": [
      "care.virtue : ['aliviar', 'aliviado', 'aliviada', 'alivia', 'aliviando']\n",
      "care.vice : ['abusado', 'abusada', 'abusador', 'abusadora', 'abusadores']\n",
      "fairness.virtue : ['vengarse', 'vengar', 'vengado', 'vengada', 'vengador']\n",
      "fairness.vice : ['soy parcial', 'embaucar', 'engatusar', 'embaucado', 'engañado']\n",
      "loyalty.virtue : ['todos para uno', 'lealtad', 'lealtades', 'leal', 'aliado']\n",
      "loyalty.vice : ['contra nosotros', 'apóstata', 'apóstatas', 'apuñalar por la espalda', 'por la espalda']\n",
      "authority.virtue : ['consentir', 'ceder', 'consintió', 'conformado', 'conformada']\n",
      "authority.vice : ['anarquista', 'anarquistas', 'anarquía', 'apóstata', 'apóstatas']\n",
      "sanctity.virtue : ['abstinencia', 'alá', 'todopoderoso', 'todopoderosa', 'ángel']\n",
      "sanctity.vice : ['aborrecer', 'aborrecido', 'aborrecida', 'aborrece', 'adicto']\n"
     ]
    }
   ],
   "source": [
    "for foundation, words in mfd_dict_es_final.items():\n",
    "    print(foundation, \":\", words[:5])"
   ]
  },
  {
   "cell_type": "markdown",
   "id": "23c4da96-9abb-433f-9021-689fa29d450a",
   "metadata": {},
   "source": [
    "- Let us store this raw dictionary. Later it can be modified by:\n",
    "    1) stemming\n",
    "    2) including / removing certain context-specific words with semantic importance. "
   ]
  },
  {
   "cell_type": "code",
   "execution_count": 83,
   "id": "127197df-e65a-4e36-9b46-db48bd7a59ca",
   "metadata": {},
   "outputs": [],
   "source": [
    "#with open('dictionaries/raw_mfd_esp.pickle', 'wb') as handle:\n",
    "#    pickle.dump(mfd_dict_es_final, handle, protocol = pickle.HIGHEST_PROTOCOL)"
   ]
  },
  {
   "cell_type": "code",
   "execution_count": 6,
   "id": "98263668-4e4b-415a-b790-e63204a593c8",
   "metadata": {},
   "outputs": [],
   "source": [
    "with open('dictionaries/raw_mfd_esp.pickle', 'rb') as handle:\n",
    "    mfd_dict_es_final = pickle.load(handle)"
   ]
  },
  {
   "cell_type": "markdown",
   "id": "bf66c5ee-e452-440b-8f8e-1443439b0b6c",
   "metadata": {
    "tags": []
   },
   "source": [
    "## 5. CHECK THE INCLUSION AND ELIMINATION OF ADDITIONAL CONTEXT-SPECIFIC WORDS"
   ]
  },
  {
   "cell_type": "markdown",
   "id": "8c0158d8-7ad0-4432-8afa-9be4021cdf07",
   "metadata": {},
   "source": [
    "- Definitions of loyalty and authority according to The Righteous Mind, by Jonathan Haidt:\n",
    "\n",
    "> Loyalty: The Loyalty/betrayal foundation is just a part of our innate preparation for meeting the adaptive challenge of forming cohesive coalitions. The original trigger for the Loyalty foundation is anything that tells you who is a team player and who is a traitor, particularly when your team is fighting with other teams.\n",
    "\n",
    "> Authority: \"The current triggers of the Authority/subversion foundation, therefore, include anything that is construed as an act of obedience, disobedience, respect, disrespect, submission, or rebellion, with regard to authorities perceived to be legitimate.\""
   ]
  },
  {
   "cell_type": "markdown",
   "id": "0e7bc053-48f5-4c08-87b5-08dc6c079444",
   "metadata": {},
   "source": [
    "- There are several words that represent certain moral foundations for the particular case of Spain, these are: \n",
    "\n",
    "1) Mentioning the name of the country is usually associated with glorifying the concept of nation:\n",
    "    - `Loyalty.virtue: ['españa', 'españoles', 'españolas', 'español', 'española', 'unidad de españa']`\n",
    "\n",
    "2) The independence process in Catalonia is considered a threat to the group (could be either against loyalty or against authority). Some politicians mention it for the purposes of exalting their respect for the nation. I need references here on whether it is **loyalty or authority**.\n",
    "    - `Loyalty.vice: ['separatista', 'separatistas', 'separatismo', 'secesión', 'secesionista', 'secesionistas', 'secesionismo', 'independentismo', 'independentista', 'independentistas']`\n",
    "\n",
    "3) Particularly, the far right party also refers to the attempt of the Catalonian parliament to claim independence as a coup, and there are many related words to this:\n",
    "    - `authority.vice: ['golpista', 'golpistas', 'golpe de estado']`\n",
    "    - (Also 'eta' and 'etarra' have been added to the final dictionary as violations of the loyalty foundation, although after the stemming process)"
   ]
  },
  {
   "cell_type": "code",
   "execution_count": 86,
   "id": "4c6d0ec3-b81b-4679-b2b2-0790b377d2b4",
   "metadata": {},
   "outputs": [],
   "source": [
    "extended_mfd_esp = deepcopy(mfd_dict_es_final)\n",
    "new_words_dict = {'loyalty.virtue': ['españa', 'españoles', 'españolas', 'español',\n",
    "                                     'española', 'unidad de españa'],\n",
    "                  'loyalty.vice': ['separatista', 'separatistas', 'separatismo', \n",
    "                                   'secesión', 'secesionista', 'secesionistas', \n",
    "                                   'secesionismo', 'independentismo', \n",
    "                                   'independentista', 'independentistas'],\n",
    "                  'authority.vice': ['golpista', 'golpistas', 'golpe de estado']}\n",
    "\n",
    "for foundation, words in new_words_dict.items():\n",
    "    extended_mfd_esp[foundation].extend(words)"
   ]
  },
  {
   "cell_type": "markdown",
   "id": "1f575613-46fc-40f9-bd39-549714c45f7f",
   "metadata": {},
   "source": [
    "- Words that might pose problems and could be removed after some sanity checks:\n",
    "\n",
    "1) 'Comunidad', 'comunidades'. These are the name of the regional administrations of Spain (e.g., \"Comunidad de Madrid\"), and we should take that into account (otherwise it will be difficult to filter out the semantics of mentioning the sense of community against power problems between administrations in Spain).\n",
    "2) 'compañía', 'compañías'. If it is understood as accompanying somebody it is ok, but the far left party often uses it because it also means \"company\" in the business sense. \n",
    "3) 'Beneficio', 'beneficios'. These could be good if we understand them as the benefits of a food for healing, or how your presence benefits me. Nevertheless, they are also usually used by the far left to say \"profit / profits\".\n",
    "4) 'Clasificado': This does not only mean ranked, but also classified (less important).\n",
    "5) 'Iglesias': Could mean churches, but it is also the surname of the far left political candidate. Could be erased if it is present in many texts. \n",
    "6) 'Fiel': It is the translation of faithful in a religious sense, but also for the moral foundation of loyalty.virtue."
   ]
  },
  {
   "cell_type": "markdown",
   "id": "3a69971d-ab08-4e8c-a1dd-65e229ae2d3f",
   "metadata": {},
   "source": [
    "- Let us search those words in the tweets dataset:"
   ]
  },
  {
   "cell_type": "code",
   "execution_count": 87,
   "id": "ff13aa51-d367-44bc-8681-54fa1e4e8778",
   "metadata": {},
   "outputs": [],
   "source": [
    "tweets_df = pd.read_csv(\"../data/tweets_df.csv\")"
   ]
  },
  {
   "cell_type": "markdown",
   "id": "d7c8f9ad-6f27-46b4-bb3d-ace94c91ad69",
   "metadata": {},
   "source": [
    "1) Comunidad / Comunidades"
   ]
  },
  {
   "cell_type": "code",
   "execution_count": 88,
   "id": "46cb0c39-6b3d-4b60-a93a-213d014a15c1",
   "metadata": {},
   "outputs": [
    {
     "data": {
      "text/html": [
       "<div>\n",
       "<style scoped>\n",
       "    .dataframe tbody tr th:only-of-type {\n",
       "        vertical-align: middle;\n",
       "    }\n",
       "\n",
       "    .dataframe tbody tr th {\n",
       "        vertical-align: top;\n",
       "    }\n",
       "\n",
       "    .dataframe thead th {\n",
       "        text-align: right;\n",
       "    }\n",
       "</style>\n",
       "<table border=\"1\" class=\"dataframe\">\n",
       "  <thead>\n",
       "    <tr style=\"text-align: right;\">\n",
       "      <th></th>\n",
       "      <th>screen_name</th>\n",
       "      <th>text</th>\n",
       "    </tr>\n",
       "  </thead>\n",
       "  <tbody>\n",
       "    <tr>\n",
       "      <th>162</th>\n",
       "      <td>vox_es</td>\n",
       "      <td>📰 @Santi_ABASCAL proclama en Valencia que la Comunidad Valenciana \"es la vanguardia nacional al padecer la vecindad del separatismo\".\\n\\nVOX ha logrado reunir a 8.000 personas en el acto más multitudinario de la campaña valenciana.\\n\\n⬇️⬇️⬇️\\n https://t.co/zrb6DKBXZC</td>\n",
       "    </tr>\n",
       "    <tr>\n",
       "      <th>278</th>\n",
       "      <td>vox_es</td>\n",
       "      <td>@monasterioR @telemadrid 🗨 \"Cuanto más trabajo dentro de en la Comunidad de Madrid, más segura estoy de que hay que desmontar las Autonomías\".\\n\\n📢 #MonasterioTelemadrid https://t.co/pZCM3z5FR6</td>\n",
       "    </tr>\n",
       "    <tr>\n",
       "      <th>309</th>\n",
       "      <td>vox_es</td>\n",
       "      <td>@ivanedlm @EspejoPublico 🗨 @ivanedlm \"Rivera ha disparado el número de altos cargos en la Comunidad de Madrid nada más llegar al gobierno para dar la cabida suficiente a todos sus enchufados\". https://t.co/gOhGGqYszv</td>\n",
       "    </tr>\n",
       "    <tr>\n",
       "      <th>622</th>\n",
       "      <td>populares</td>\n",
       "      <td>▶️ @pablocasado_: \"Las Comunidades Autónomas han acercado la administración a todos los españoles. Nuestros gobiernos son austeros, bajan impuestos y lideran la sanidad y educación. El problema no son las autonomías, sino los desleales\". https://t.co/gwRPxHGBmh</td>\n",
       "    </tr>\n",
       "    <tr>\n",
       "      <th>658</th>\n",
       "      <td>populares</td>\n",
       "      <td>📺 @anapastorjulian: \"Las Comunidades Autónomas han acercado la gestión de los servicios públicos a los ciudadanos. Tenemos que garantizar la cohesión y la calidad en el Sistema Nacional de Salud; con las mismas prestaciones en toda España\".\\n\\n#ÚltimaOportunidadL6 https://t.co/tpzzZFrMeL</td>\n",
       "    </tr>\n",
       "    <tr>\n",
       "      <th>688</th>\n",
       "      <td>populares</td>\n",
       "      <td>\"Mi compromiso es firme: cuando sea presidente del gobierno voy a mejorar la financiación autonómica de todos los valencianos, es de justicia. No puede haber un agravio comparativo así\".\\n\\n📡  @pablocasado_ se compromete con la Comunidad Valenciana\\n#PorTodoLoQueNosUne https://t.co/MSFKrrFieQ</td>\n",
       "    </tr>\n",
       "    <tr>\n",
       "      <th>690</th>\n",
       "      <td>populares</td>\n",
       "      <td>⏩ @isabelbonig: \"Necesitamos un gobierno que vuelva a instalar la libertad educativa en las aulas. \\nEsta Comunidad siente en castellano como en valenciano\".\\n\\n#PorTodoLoQueNosUne https://t.co/pBd8Xy6zhF</td>\n",
       "    </tr>\n",
       "    <tr>\n",
       "      <th>692</th>\n",
       "      <td>populares</td>\n",
       "      <td>⏩ @isabelbonig: \"Esta tierra te necesita, @pablocasado_, porque su compromiso con esta Comunidad es patente y ha hecho que te hayas ganado la admiración de todo el pueblo valenciano. Por ello este pueblo el #10N te devolverá su compromiso, te lo garantizo\".\\n\\n#PorTodoLoQueNosUne https://t.co/3uWEURpeca</td>\n",
       "    </tr>\n",
       "    <tr>\n",
       "      <th>694</th>\n",
       "      <td>populares</td>\n",
       "      <td>⏩ @BelenHoyo: \"Un buen político tiene que mirar hacia delante; frenando la desaceleración económica, creando empleo o bajando los impuestos. Necesitamos impulsar nuestra industria, llevando a cabo políticas responsables\".\\n\\n#PorTodoLoQueNosUne en la Comunidad Valenciana https://t.co/AOHBbeQiqe</td>\n",
       "    </tr>\n",
       "    <tr>\n",
       "      <th>696</th>\n",
       "      <td>populares</td>\n",
       "      <td>⏩@mjosecatala: \"Los valencianos no necesitamos un presidente que esté mirando al suelo. Queremos un presidente que nos mire a los ojos y nosdiga que va a estar con esta comunidad en materia de infraestructuras o financiación\" \\n👉Es lo que hace @pablocasado_.\\n\\n#PorTodoLoQueNosUne https://t.co/WqFuSLBz0O</td>\n",
       "    </tr>\n",
       "    <tr>\n",
       "      <th>765</th>\n",
       "      <td>populares</td>\n",
       "      <td>🗣@TeoGarciaEgea: “Si queremos que la provincia de #Alicante tenga voz, que la Comunidad Valenciana tenga peso, hay que unir el voto en el @populares” #PorTodoLoQueNosUne https://t.co/Sf3CpHgxF1</td>\n",
       "    </tr>\n",
       "    <tr>\n",
       "      <th>767</th>\n",
       "      <td>populares</td>\n",
       "      <td>Hoy he transmitido a los comerciantes y hosteleros del distrito Centro de Madrid que les apoyaremos desde el Gobierno de España, como ya hacen Ayuntamiento y Comunidad, con medidas como la extensión de la tarifa plana de 12 a 24 meses o una ley para crear una empresa en 5 días. https://t.co/xdDziFcJXV</td>\n",
       "    </tr>\n",
       "    <tr>\n",
       "      <th>802</th>\n",
       "      <td>populares</td>\n",
       "      <td>“Ha pasado lo que alertábamos: antes de que se rompa España se rompería Cataluña. Y Cataluña se ha roto en dos comunidades y en mil pedazos”.\\n\\n👉 @pablocasado_ #PorTodoLoQueNosUne https://t.co/5FyC6nVg1v</td>\n",
       "    </tr>\n",
       "    <tr>\n",
       "      <th>848</th>\n",
       "      <td>populares</td>\n",
       "      <td>📺 @cayetanaAT a los independentistas: \"Nadie ha hecho más para destruir la convivencia dentro de esta comunidad que ustedes. Jalean a la gente para que vaya a tirar adoquines y piedras contra la policía y luego van a verles al hospital. Qué hipocresía\".\\n\\n#DebatTV3 #votaPP https://t.co/AlPGKw671k</td>\n",
       "    </tr>\n",
       "    <tr>\n",
       "      <th>1029</th>\n",
       "      <td>populares</td>\n",
       "      <td>📺 \"Pedro Sánchez no puede estar con una mano tendida a los constitucionalistas y con otra, en Comunidades Autónomas y Ayuntamientos, gobernar con aquellos que no respetan la ley y la Constitución. O está con el constitucionalismo o con Torra\".\\n\\n👉🏼 @TeoGarciaEgea en #DebateRTRM https://t.co/0jikscRPzd</td>\n",
       "    </tr>\n",
       "    <tr>\n",
       "      <th>1034</th>\n",
       "      <td>populares</td>\n",
       "      <td>➡️@sanchezcesar: En el PP creemos en la igualdad de oportunidades, viva donde vivan. \\n\\nNo me gustaría vivir en una Comunidad en la que no tener título de valenciano, me impida ser profesor de instituto público; como para en la Comunidad Valenciana por culpa de Compromís y PSOE. https://t.co/5h2zTiwSTD</td>\n",
       "    </tr>\n",
       "    <tr>\n",
       "      <th>1084</th>\n",
       "      <td>Albert_Rivera</td>\n",
       "      <td>🏍 Hay que eliminar de las carreteras españolas todos los guardarraíles asesinos que cada año amputan y matan a decenas de motoristas. Nuestro plan es sustituirlos por Sistemas de Protección a Motoristas, como ya vamos a hacer en la Comunidad de Madrid👇🏻 https://t.co/wNnIj4DQDv</td>\n",
       "    </tr>\n",
       "    <tr>\n",
       "      <th>1276</th>\n",
       "      <td>CiudadanosCs</td>\n",
       "      <td>La señora Montero haciendo mofa de la situación personal de Inés Arrimadas, una Andaluza que se trasladó a Cataluña.\\nLos que vivimos en una comunidad distinta a aquella en que nacimos no entendemos el comentario. \\nQué nivel, qué nivel #UltimaOportunidadL6</td>\n",
       "    </tr>\n",
       "    <tr>\n",
       "      <th>1281</th>\n",
       "      <td>CiudadanosCs</td>\n",
       "      <td>🍊 @InesArrimadas \"El PSOE gobierna en la Diputación de Barcelona con Torra\" #ÚltimaOportunidadL6\\n🚨 Si no cortamos de raíz el problema del nacionalismo, en 10 o 15 años  vamos a ver lo que está pasando en Cataluña en Navarra, Baleares y la Comunidad Valenciana. https://t.co/LSKFXxTRsG</td>\n",
       "    </tr>\n",
       "    <tr>\n",
       "      <th>1320</th>\n",
       "      <td>CiudadanosCs</td>\n",
       "      <td>La movilidad del siglo XXI se asienta sobre 4 pilares: seguridad, accesibilidad, rapidez y sostenibilidad.\\n\\n✅ La @ComunidadMadrid será un aliado para quienes apuesten por ello. #ForoNissan\\n\\n#VamosMadrid https://t.co/2pYAXFjLdq</td>\n",
       "    </tr>\n",
       "    <tr>\n",
       "      <th>1328</th>\n",
       "      <td>CiudadanosCs</td>\n",
       "      <td>Hoy perdemos a un gran referente para las investigadoras de nuestro país. Una pionera no solo en la ciencia, sino también abriendo camino en la igualdad de la comunidad científica. Descanse en paz. https://t.co/vPouBhAd1t</td>\n",
       "    </tr>\n",
       "    <tr>\n",
       "      <th>1331</th>\n",
       "      <td>CiudadanosCs</td>\n",
       "      <td>🇪🇸 @Albert_Rivera \"En la Comunidad de Madrid vamos a suprimir 30.000 metros de guardarraíles asesinos, que amenazan la seguridad de nuestras carreteras\" #ValladolidEnMarcha\\n💪😊 Cuando gobernemos, haremos lo mismo en toda España. https://t.co/gYTi9YruBw</td>\n",
       "    </tr>\n",
       "    <tr>\n",
       "      <th>1352</th>\n",
       "      <td>CiudadanosCs</td>\n",
       "      <td>Esperamos que, después del Bus-Vao de la A-2, el Gobierno del PSOE desbloquee también otros proyectos clave para los madrileños, como la variante de la A-1. Que @sanchezcastejon deje de castigar a la @ComunidadMadrid. Y ahora, este #10N, es el momento de cambiar las cosas https://t.co/EJ82vRcq3M</td>\n",
       "    </tr>\n",
       "    <tr>\n",
       "      <th>1383</th>\n",
       "      <td>CiudadanosCs</td>\n",
       "      <td>🇪🇸 @Albert_Rivera \"Antes en la Comunidad de Madrid había Gürtel y Púnica, ahora con Cs tenemos una Consejería de Regeneración Democrática\" #EPDesayunoRivera\\n👉 Hay que recuperar la confianza de los ciudadanos en la política con medidas contra la corrupción https://t.co/jfGj9qjD1B</td>\n",
       "    </tr>\n",
       "    <tr>\n",
       "      <th>1389</th>\n",
       "      <td>CiudadanosCs</td>\n",
       "      <td>⁉️ ¿Qué más tiene que pasar para que Sánchez deje de pactar con los separatistas?\\n🇪🇸 @Albert_Rivera \"No es normal que un gobierno de una comunidad autónoma, con dinero de todos, se dedique a destruir el Estado\" #EPDesayunoRivera\\n⚖️ ¡Aplicar el 155 es una obligación en #Cataluña! https://t.co/5hZOLlScic</td>\n",
       "    </tr>\n",
       "    <tr>\n",
       "      <th>1390</th>\n",
       "      <td>CiudadanosCs</td>\n",
       "      <td>🇪🇸 @Albert_Rivera \"Andalucía y todas las comunidades donde gobierna Cs se van a convertir en un oasis de libertad y certidumbre\" #EPDesayunoRivera\\n🍊 Hoy ya gobernamos para 20 millones de ciudadanos y queremos conseguir lo mismo en toda España. https://t.co/9SfogtIJkE</td>\n",
       "    </tr>\n",
       "    <tr>\n",
       "      <th>1434</th>\n",
       "      <td>CiudadanosCs</td>\n",
       "      <td>⚖️ Con Cs el nuevo sistema de financiación va a ser justo con todos los españoles. \\n🇪🇸 @Albert_Rivera \"El nuevo modelo de financiación no va a estar guardado en un cajón y lo van a negociar las 17 comunidades de igual a igual, con luz y taquígrafos\" #SevillaEnMarcha https://t.co/J0BqufXSnu</td>\n",
       "    </tr>\n",
       "    <tr>\n",
       "      <th>1461</th>\n",
       "      <td>CiudadanosCs</td>\n",
       "      <td>🔝 #MadridenDanza ya es uno de los festivales de referencia internacional de la danza.\\n\\n📽 Desde el Gobierno regional apostamos por una cultura que llegue a todos los rincones de la Comunidad de Madrid. #VamosMadrid 👇🏻 https://t.co/mdD0URL00K</td>\n",
       "    </tr>\n",
       "    <tr>\n",
       "      <th>1480</th>\n",
       "      <td>CiudadanosCs</td>\n",
       "      <td>🇪🇸 @Albert_Rivera \"No hay derecho a que en algunas comunidades haya cinco estaciones de AVE mientras que en Extremadura no hay ni un tren digno\" #MéridaEnMarcha\\n\\n🚅 Si Cs gobierna España el tren para los extremeños será una realidad, no un sueño. https://t.co/pOfUxPAkeT</td>\n",
       "    </tr>\n",
       "    <tr>\n",
       "      <th>1586</th>\n",
       "      <td>CiudadanosCs</td>\n",
       "      <td>En la @ComunidadMadrid no vamos a dar ni un paso atrás en la lucha contra la #LGTBIfobia 👇🏼\\n\\n#VamosMadrid\\nhttps://t.co/70mAlSPfyA</td>\n",
       "    </tr>\n",
       "    <tr>\n",
       "      <th>1590</th>\n",
       "      <td>CiudadanosCs</td>\n",
       "      <td>🔴 Los datos del paro del Gobierno Sánchez son preocupantes. Frente a esta incertidumbre, en la Comunidad de Madrid seguimos apostando por políticas que generan empleo, riqueza e inversión.\\n \\n#VamosMadrid https://t.co/JImnePcTHa</td>\n",
       "    </tr>\n",
       "    <tr>\n",
       "      <th>1838</th>\n",
       "      <td>PSOE</td>\n",
       "      <td>🎞️ @mjmonteroc: Nosotros queremos un Gobierno fuerte y estable.\\n\\nQuiero condenar a estos partidos que señalan a periodistas o que instan al Gobierno de España a ilegalizar partidos como ha ocurrido en la Comunidad de Madrid. ¿Qué piensan Arrimadas y Pastor?\\n\\n#UltimaOportunidadL6 https://t.co/hkPEtOZm1d</td>\n",
       "    </tr>\n",
       "    <tr>\n",
       "      <th>1910</th>\n",
       "      <td>PSOE</td>\n",
       "      <td>Cerdán @santicl :\"Los socialistas vamos a mantener los dos diputados en Navarra y trabajamos para que el #10N  seamos primera fuerza política en nuestra Comunidad\".\\n#AhoraSi \\n@NavarraTV https://t.co/r6XUI1wYxe</td>\n",
       "    </tr>\n",
       "    <tr>\n",
       "      <th>2258</th>\n",
       "      <td>PabloIglesias</td>\n",
       "      <td>🗞 De repente, te llega un burofax en que te suben la renta más de un 80% y te empiezan a cobrar el IBI y la Comunidad.\\n\\nEso es lo que está haciendo el fondo buitre Azora a decenas de familias en Barcelona y Madrid 👇\\n\\nhttps://t.co/TLQeNQoQpx</td>\n",
       "    </tr>\n",
       "    <tr>\n",
       "      <th>2499</th>\n",
       "      <td>PODEMOS</td>\n",
       "      <td>Gracias @Irene_Montero_ por ser la ÚNICA persona en esta campaña que ha hecho una referencia a los derechos de la comunidad #LGTBI y a la intención de @vox_es de mermar esos derechos. Y TAMBIÉN #Cultura y el #EstatutoDelArtista!! BRAVO!! GRACIAS!!!! 🙌🏻🙌🏻🙌🏻 #UltimaOportunidadL6</td>\n",
       "    </tr>\n",
       "  </tbody>\n",
       "</table>\n",
       "</div>"
      ],
      "text/plain": [
       "        screen_name  \\\n",
       "162          vox_es   \n",
       "278          vox_es   \n",
       "309          vox_es   \n",
       "622       populares   \n",
       "658       populares   \n",
       "688       populares   \n",
       "690       populares   \n",
       "692       populares   \n",
       "694       populares   \n",
       "696       populares   \n",
       "765       populares   \n",
       "767       populares   \n",
       "802       populares   \n",
       "848       populares   \n",
       "1029      populares   \n",
       "1034      populares   \n",
       "1084  Albert_Rivera   \n",
       "1276   CiudadanosCs   \n",
       "1281   CiudadanosCs   \n",
       "1320   CiudadanosCs   \n",
       "1328   CiudadanosCs   \n",
       "1331   CiudadanosCs   \n",
       "1352   CiudadanosCs   \n",
       "1383   CiudadanosCs   \n",
       "1389   CiudadanosCs   \n",
       "1390   CiudadanosCs   \n",
       "1434   CiudadanosCs   \n",
       "1461   CiudadanosCs   \n",
       "1480   CiudadanosCs   \n",
       "1586   CiudadanosCs   \n",
       "1590   CiudadanosCs   \n",
       "1838           PSOE   \n",
       "1910           PSOE   \n",
       "2258  PabloIglesias   \n",
       "2499        PODEMOS   \n",
       "\n",
       "                                                                                                                                                                                                                                                                                                                     text  \n",
       "162                                           📰 @Santi_ABASCAL proclama en Valencia que la Comunidad Valenciana \"es la vanguardia nacional al padecer la vecindad del separatismo\".\\n\\nVOX ha logrado reunir a 8.000 personas en el acto más multitudinario de la campaña valenciana.\\n\\n⬇️⬇️⬇️\\n https://t.co/zrb6DKBXZC  \n",
       "278                                                                                                                     @monasterioR @telemadrid 🗨 \"Cuanto más trabajo dentro de en la Comunidad de Madrid, más segura estoy de que hay que desmontar las Autonomías\".\\n\\n📢 #MonasterioTelemadrid https://t.co/pZCM3z5FR6  \n",
       "309                                                                                              @ivanedlm @EspejoPublico 🗨 @ivanedlm \"Rivera ha disparado el número de altos cargos en la Comunidad de Madrid nada más llegar al gobierno para dar la cabida suficiente a todos sus enchufados\". https://t.co/gOhGGqYszv  \n",
       "622                                                 ▶️ @pablocasado_: \"Las Comunidades Autónomas han acercado la administración a todos los españoles. Nuestros gobiernos son austeros, bajan impuestos y lideran la sanidad y educación. El problema no son las autonomías, sino los desleales\". https://t.co/gwRPxHGBmh  \n",
       "658                      📺 @anapastorjulian: \"Las Comunidades Autónomas han acercado la gestión de los servicios públicos a los ciudadanos. Tenemos que garantizar la cohesión y la calidad en el Sistema Nacional de Salud; con las mismas prestaciones en toda España\".\\n\\n#ÚltimaOportunidadL6 https://t.co/tpzzZFrMeL  \n",
       "688                 \"Mi compromiso es firme: cuando sea presidente del gobierno voy a mejorar la financiación autonómica de todos los valencianos, es de justicia. No puede haber un agravio comparativo así\".\\n\\n📡  @pablocasado_ se compromete con la Comunidad Valenciana\\n#PorTodoLoQueNosUne https://t.co/MSFKrrFieQ  \n",
       "690                                                                                                          ⏩ @isabelbonig: \"Necesitamos un gobierno que vuelva a instalar la libertad educativa en las aulas. \\nEsta Comunidad siente en castellano como en valenciano\".\\n\\n#PorTodoLoQueNosUne https://t.co/pBd8Xy6zhF  \n",
       "692      ⏩ @isabelbonig: \"Esta tierra te necesita, @pablocasado_, porque su compromiso con esta Comunidad es patente y ha hecho que te hayas ganado la admiración de todo el pueblo valenciano. Por ello este pueblo el #10N te devolverá su compromiso, te lo garantizo\".\\n\\n#PorTodoLoQueNosUne https://t.co/3uWEURpeca  \n",
       "694               ⏩ @BelenHoyo: \"Un buen político tiene que mirar hacia delante; frenando la desaceleración económica, creando empleo o bajando los impuestos. Necesitamos impulsar nuestra industria, llevando a cabo políticas responsables\".\\n\\n#PorTodoLoQueNosUne en la Comunidad Valenciana https://t.co/AOHBbeQiqe  \n",
       "696     ⏩@mjosecatala: \"Los valencianos no necesitamos un presidente que esté mirando al suelo. Queremos un presidente que nos mire a los ojos y nosdiga que va a estar con esta comunidad en materia de infraestructuras o financiación\" \\n👉Es lo que hace @pablocasado_.\\n\\n#PorTodoLoQueNosUne https://t.co/WqFuSLBz0O  \n",
       "765                                                                                                                     🗣@TeoGarciaEgea: “Si queremos que la provincia de #Alicante tenga voz, que la Comunidad Valenciana tenga peso, hay que unir el voto en el @populares” #PorTodoLoQueNosUne https://t.co/Sf3CpHgxF1  \n",
       "767        Hoy he transmitido a los comerciantes y hosteleros del distrito Centro de Madrid que les apoyaremos desde el Gobierno de España, como ya hacen Ayuntamiento y Comunidad, con medidas como la extensión de la tarifa plana de 12 a 24 meses o una ley para crear una empresa en 5 días. https://t.co/xdDziFcJXV  \n",
       "802                                                                                                          “Ha pasado lo que alertábamos: antes de que se rompa España se rompería Cataluña. Y Cataluña se ha roto en dos comunidades y en mil pedazos”.\\n\\n👉 @pablocasado_ #PorTodoLoQueNosUne https://t.co/5FyC6nVg1v  \n",
       "848            📺 @cayetanaAT a los independentistas: \"Nadie ha hecho más para destruir la convivencia dentro de esta comunidad que ustedes. Jalean a la gente para que vaya a tirar adoquines y piedras contra la policía y luego van a verles al hospital. Qué hipocresía\".\\n\\n#DebatTV3 #votaPP https://t.co/AlPGKw671k  \n",
       "1029      📺 \"Pedro Sánchez no puede estar con una mano tendida a los constitucionalistas y con otra, en Comunidades Autónomas y Ayuntamientos, gobernar con aquellos que no respetan la ley y la Constitución. O está con el constitucionalismo o con Torra\".\\n\\n👉🏼 @TeoGarciaEgea en #DebateRTRM https://t.co/0jikscRPzd  \n",
       "1034     ➡️@sanchezcesar: En el PP creemos en la igualdad de oportunidades, viva donde vivan. \\n\\nNo me gustaría vivir en una Comunidad en la que no tener título de valenciano, me impida ser profesor de instituto público; como para en la Comunidad Valenciana por culpa de Compromís y PSOE. https://t.co/5h2zTiwSTD  \n",
       "1084                                🏍 Hay que eliminar de las carreteras españolas todos los guardarraíles asesinos que cada año amputan y matan a decenas de motoristas. Nuestro plan es sustituirlos por Sistemas de Protección a Motoristas, como ya vamos a hacer en la Comunidad de Madrid👇🏻 https://t.co/wNnIj4DQDv  \n",
       "1276                                                    La señora Montero haciendo mofa de la situación personal de Inés Arrimadas, una Andaluza que se trasladó a Cataluña.\\nLos que vivimos en una comunidad distinta a aquella en que nacimos no entendemos el comentario. \\nQué nivel, qué nivel #UltimaOportunidadL6  \n",
       "1281                        🍊 @InesArrimadas \"El PSOE gobierna en la Diputación de Barcelona con Torra\" #ÚltimaOportunidadL6\\n🚨 Si no cortamos de raíz el problema del nacionalismo, en 10 o 15 años  vamos a ver lo que está pasando en Cataluña en Navarra, Baleares y la Comunidad Valenciana. https://t.co/LSKFXxTRsG  \n",
       "1320                                                                               La movilidad del siglo XXI se asienta sobre 4 pilares: seguridad, accesibilidad, rapidez y sostenibilidad.\\n\\n✅ La @ComunidadMadrid será un aliado para quienes apuesten por ello. #ForoNissan\\n\\n#VamosMadrid https://t.co/2pYAXFjLdq  \n",
       "1328                                                                                        Hoy perdemos a un gran referente para las investigadoras de nuestro país. Una pionera no solo en la ciencia, sino también abriendo camino en la igualdad de la comunidad científica. Descanse en paz. https://t.co/vPouBhAd1t  \n",
       "1331                                                         🇪🇸 @Albert_Rivera \"En la Comunidad de Madrid vamos a suprimir 30.000 metros de guardarraíles asesinos, que amenazan la seguridad de nuestras carreteras\" #ValladolidEnMarcha\\n💪😊 Cuando gobernemos, haremos lo mismo en toda España. https://t.co/gYTi9YruBw  \n",
       "1352             Esperamos que, después del Bus-Vao de la A-2, el Gobierno del PSOE desbloquee también otros proyectos clave para los madrileños, como la variante de la A-1. Que @sanchezcastejon deje de castigar a la @ComunidadMadrid. Y ahora, este #10N, es el momento de cambiar las cosas https://t.co/EJ82vRcq3M  \n",
       "1383                             🇪🇸 @Albert_Rivera \"Antes en la Comunidad de Madrid había Gürtel y Púnica, ahora con Cs tenemos una Consejería de Regeneración Democrática\" #EPDesayunoRivera\\n👉 Hay que recuperar la confianza de los ciudadanos en la política con medidas contra la corrupción https://t.co/jfGj9qjD1B  \n",
       "1389    ⁉️ ¿Qué más tiene que pasar para que Sánchez deje de pactar con los separatistas?\\n🇪🇸 @Albert_Rivera \"No es normal que un gobierno de una comunidad autónoma, con dinero de todos, se dedique a destruir el Estado\" #EPDesayunoRivera\\n⚖️ ¡Aplicar el 155 es una obligación en #Cataluña! https://t.co/5hZOLlScic  \n",
       "1390                                         🇪🇸 @Albert_Rivera \"Andalucía y todas las comunidades donde gobierna Cs se van a convertir en un oasis de libertad y certidumbre\" #EPDesayunoRivera\\n🍊 Hoy ya gobernamos para 20 millones de ciudadanos y queremos conseguir lo mismo en toda España. https://t.co/9SfogtIJkE  \n",
       "1434                  ⚖️ Con Cs el nuevo sistema de financiación va a ser justo con todos los españoles. \\n🇪🇸 @Albert_Rivera \"El nuevo modelo de financiación no va a estar guardado en un cajón y lo van a negociar las 17 comunidades de igual a igual, con luz y taquígrafos\" #SevillaEnMarcha https://t.co/J0BqufXSnu  \n",
       "1461                                                                   🔝 #MadridenDanza ya es uno de los festivales de referencia internacional de la danza.\\n\\n📽 Desde el Gobierno regional apostamos por una cultura que llegue a todos los rincones de la Comunidad de Madrid. #VamosMadrid 👇🏻 https://t.co/mdD0URL00K  \n",
       "1480                                      🇪🇸 @Albert_Rivera \"No hay derecho a que en algunas comunidades haya cinco estaciones de AVE mientras que en Extremadura no hay ni un tren digno\" #MéridaEnMarcha\\n\\n🚅 Si Cs gobierna España el tren para los extremeños será una realidad, no un sueño. https://t.co/pOfUxPAkeT  \n",
       "1586                                                                                                                                                                                 En la @ComunidadMadrid no vamos a dar ni un paso atrás en la lucha contra la #LGTBIfobia 👇🏼\\n\\n#VamosMadrid\\nhttps://t.co/70mAlSPfyA  \n",
       "1590                                                                                🔴 Los datos del paro del Gobierno Sánchez son preocupantes. Frente a esta incertidumbre, en la Comunidad de Madrid seguimos apostando por políticas que generan empleo, riqueza e inversión.\\n \\n#VamosMadrid https://t.co/JImnePcTHa  \n",
       "1838  🎞️ @mjmonteroc: Nosotros queremos un Gobierno fuerte y estable.\\n\\nQuiero condenar a estos partidos que señalan a periodistas o que instan al Gobierno de España a ilegalizar partidos como ha ocurrido en la Comunidad de Madrid. ¿Qué piensan Arrimadas y Pastor?\\n\\n#UltimaOportunidadL6 https://t.co/hkPEtOZm1d  \n",
       "1910                                                                                                  Cerdán @santicl :\"Los socialistas vamos a mantener los dos diputados en Navarra y trabajamos para que el #10N  seamos primera fuerza política en nuestra Comunidad\".\\n#AhoraSi \\n@NavarraTV https://t.co/r6XUI1wYxe  \n",
       "2258                                                                 🗞 De repente, te llega un burofax en que te suben la renta más de un 80% y te empiezan a cobrar el IBI y la Comunidad.\\n\\nEso es lo que está haciendo el fondo buitre Azora a decenas de familias en Barcelona y Madrid 👇\\n\\nhttps://t.co/TLQeNQoQpx  \n",
       "2499                                Gracias @Irene_Montero_ por ser la ÚNICA persona en esta campaña que ha hecho una referencia a los derechos de la comunidad #LGTBI y a la intención de @vox_es de mermar esos derechos. Y TAMBIÉN #Cultura y el #EstatutoDelArtista!! BRAVO!! GRACIAS!!!! 🙌🏻🙌🏻🙌🏻 #UltimaOportunidadL6  "
      ]
     },
     "execution_count": 88,
     "metadata": {},
     "output_type": "execute_result"
    }
   ],
   "source": [
    "tweets_df[tweets_df.text.str.contains(\"comunidad\", case = False)].loc[:, [\"screen_name\", \"text\"]]"
   ]
  },
  {
   "cell_type": "markdown",
   "id": "2d56d7d4-a247-4e42-b885-0ff32e501839",
   "metadata": {},
   "source": [
    "Out of the 35 tweets in which the word \"comunidad\" or \"comunidades\" appear, in 34 of them they have an administrative instead of group meaning. Recommended deletion."
   ]
  },
  {
   "cell_type": "markdown",
   "id": "b07578ab-db99-499a-a701-8c4909b48b46",
   "metadata": {},
   "source": [
    "2) Compañía(s)"
   ]
  },
  {
   "cell_type": "code",
   "execution_count": 89,
   "id": "711ad908-c622-4276-8fa7-615b01b90964",
   "metadata": {},
   "outputs": [
    {
     "data": {
      "text/html": [
       "<div>\n",
       "<style scoped>\n",
       "    .dataframe tbody tr th:only-of-type {\n",
       "        vertical-align: middle;\n",
       "    }\n",
       "\n",
       "    .dataframe tbody tr th {\n",
       "        vertical-align: top;\n",
       "    }\n",
       "\n",
       "    .dataframe thead th {\n",
       "        text-align: right;\n",
       "    }\n",
       "</style>\n",
       "<table border=\"1\" class=\"dataframe\">\n",
       "  <thead>\n",
       "    <tr style=\"text-align: right;\">\n",
       "      <th></th>\n",
       "      <th>screen_name</th>\n",
       "      <th>text</th>\n",
       "    </tr>\n",
       "  </thead>\n",
       "  <tbody>\n",
       "    <tr>\n",
       "      <th>60</th>\n",
       "      <td>Santi_ABASCAL</td>\n",
       "      <td>De lo mejor de echarse a la carretera para hacer campaña electoral es la compañía y el ejemplo de este hombre bueno y heroico, José Antonio Ortega Lara. #Oviedo #EspañaSiempre 🇪🇸 https://t.co/eweHGV2ltM</td>\n",
       "    </tr>\n",
       "    <tr>\n",
       "      <th>981</th>\n",
       "      <td>populares</td>\n",
       "      <td>De visita por Toledo en la inmejorable  compañía de  @marianorajoy, @paconunez_ y tantos amigos del @populares @PP_CLM. Seguimos siendo el partido que hace crecer a España siempre que gobierna. El #10N tenemos la oportunidad de volver a lograrlo. #PorTodoLoQueNosUne #VotaPP https://t.co/fIyvtRGlXh</td>\n",
       "    </tr>\n",
       "    <tr>\n",
       "      <th>1564</th>\n",
       "      <td>CiudadanosCs</td>\n",
       "      <td>De camino a Castrejón de Trabancos a visitar la cooperativa COCETRA con @owoniqui. Con compañía así, al fin del mundo!\\n@Valladolid_Cs @CsCastillayLeon https://t.co/kk3JktwoBc</td>\n",
       "    </tr>\n",
       "  </tbody>\n",
       "</table>\n",
       "</div>"
      ],
      "text/plain": [
       "        screen_name  \\\n",
       "60    Santi_ABASCAL   \n",
       "981       populares   \n",
       "1564   CiudadanosCs   \n",
       "\n",
       "                                                                                                                                                                                                                                                                                                            text  \n",
       "60                                                                                                    De lo mejor de echarse a la carretera para hacer campaña electoral es la compañía y el ejemplo de este hombre bueno y heroico, José Antonio Ortega Lara. #Oviedo #EspañaSiempre 🇪🇸 https://t.co/eweHGV2ltM  \n",
       "981   De visita por Toledo en la inmejorable  compañía de  @marianorajoy, @paconunez_ y tantos amigos del @populares @PP_CLM. Seguimos siendo el partido que hace crecer a España siempre que gobierna. El #10N tenemos la oportunidad de volver a lograrlo. #PorTodoLoQueNosUne #VotaPP https://t.co/fIyvtRGlXh  \n",
       "1564                                                                                                                             De camino a Castrejón de Trabancos a visitar la cooperativa COCETRA con @owoniqui. Con compañía así, al fin del mundo!\\n@Valladolid_Cs @CsCastillayLeon https://t.co/kk3JktwoBc  "
      ]
     },
     "execution_count": 89,
     "metadata": {},
     "output_type": "execute_result"
    }
   ],
   "source": [
    "tweets_df[tweets_df.text.str.contains(\"compañía\", case = False)].loc[:, [\"screen_name\", \"text\"]]"
   ]
  },
  {
   "cell_type": "markdown",
   "id": "f6addf6c-e7b1-49ad-8f49-8513e1f398e3",
   "metadata": {},
   "source": [
    "Surprisingly, here the word is used with a companionship meaning."
   ]
  },
  {
   "cell_type": "markdown",
   "id": "6bd6c472-b607-4de5-a3de-6dbfbc47f1fe",
   "metadata": {},
   "source": [
    "3) Beneficio(s)"
   ]
  },
  {
   "cell_type": "code",
   "execution_count": 90,
   "id": "dbd374a2-06e0-4c95-ad33-26541230e3bd",
   "metadata": {},
   "outputs": [
    {
     "data": {
      "text/html": [
       "<div>\n",
       "<style scoped>\n",
       "    .dataframe tbody tr th:only-of-type {\n",
       "        vertical-align: middle;\n",
       "    }\n",
       "\n",
       "    .dataframe tbody tr th {\n",
       "        vertical-align: top;\n",
       "    }\n",
       "\n",
       "    .dataframe thead th {\n",
       "        text-align: right;\n",
       "    }\n",
       "</style>\n",
       "<table border=\"1\" class=\"dataframe\">\n",
       "  <thead>\n",
       "    <tr style=\"text-align: right;\">\n",
       "      <th></th>\n",
       "      <th>screen_name</th>\n",
       "      <th>text</th>\n",
       "    </tr>\n",
       "  </thead>\n",
       "  <tbody>\n",
       "    <tr>\n",
       "      <th>312</th>\n",
       "      <td>vox_es</td>\n",
       "      <td>#ESPAÑAVOTA | LA ENTREVISTA \\n@monasterioR : \"La progresividad es importante, pero no se puede desincentivar tener beneficios\" \\n📡 directo https://t.co/ygpf7Gbuwy\\n📲 #MonasterioTelemadrid  \\n@vox_es @madrid_vox \\n  \\n@madrid_vox https://t.co/ym7vS8IYrL</td>\n",
       "    </tr>\n",
       "    <tr>\n",
       "      <th>651</th>\n",
       "      <td>populares</td>\n",
       "      <td>📺 @gmariscalanaya en el #debatee10Ncongresortve: El aumento de gasto trae beneficio a la sociedad. Con menos impuestos mas capacidad de gasto de los canarios y mayor crecimiento de la economía. https://t.co/SMofU0APui</td>\n",
       "    </tr>\n",
       "    <tr>\n",
       "      <th>673</th>\n",
       "      <td>populares</td>\n",
       "      <td>🎙 @cucagamarra en @RadioRioja 👉 \"Nuestro proyecto político está abierto a todo el votante de centro-derecha. Los españoles saben que sabemos gestionar bien con políticas eficaces en beneficio de todos\".\\n\\nEl interés general es lo que nos mueve para trabajar por España.</td>\n",
       "    </tr>\n",
       "    <tr>\n",
       "      <th>1121</th>\n",
       "      <td>Albert_Rivera</td>\n",
       "      <td>- ¿En qué ha trabajado usted?\\n\\n- Adriana Lastra: “Pues...ehm... en muchas cosas... que no tengo por qué explicitar porque yo no hablo de mi vida privada”.\\n\\nOtra enchufada sin oficio ni beneficio capaz de llegar a ser diputada y portavoz del @PSOE. https://t.co/ADTUxSbzOF</td>\n",
       "    </tr>\n",
       "    <tr>\n",
       "      <th>1212</th>\n",
       "      <td>CiudadanosCs</td>\n",
       "      <td>Para que nuestros #agricultores y #ganaderos puedan garantizar la rentabilidad de sus explotaciones mediante la mejora de la Ley de la Cadena Alimentaria y que los precios cubran los costes y los beneficios. #VotaCiudadanos https://t.co/I1vANgPxTP</td>\n",
       "    </tr>\n",
       "    <tr>\n",
       "      <th>1238</th>\n",
       "      <td>CiudadanosCs</td>\n",
       "      <td>Los amigos y familiares de @XimoPuig ya sabían lo que ocurriría cuando los socialistas ganaran:\\n\\n«¡Nos vamos a forrar!»\\n\\nY acertaron: facturas duplicadas, lluvia de subvenciones, programas fantasma, +300% en beneficios...\\n\\nSe llama clientelismo.\\nSe llama socialismo. https://t.co/nqsOdNaoE1</td>\n",
       "    </tr>\n",
       "    <tr>\n",
       "      <th>1576</th>\n",
       "      <td>CiudadanosCs</td>\n",
       "      <td>Nuestra propuesta:\\n✅ Tarifa plana de autónomos 2 años\\n✅ Bonificación del 100% al 1er contrato de jóvenes\\n✅ Impuesto de Sociedades del 15% para PYMES que reinviertan beneficios\\n✅ Eliminar contratos basura: todos indefinidos\\n✅ Las Startups no pagarán impuestos en 2 años</td>\n",
       "    </tr>\n",
       "    <tr>\n",
       "      <th>1672</th>\n",
       "      <td>sanchezcastejon</td>\n",
       "      <td>Pido el voto al @PSOE para tener un Gobierno fuerte, estable, que nos permita construir convivencia en España, hacer políticas sociales en beneficio de los españoles y españolas. La cohesión social y territorial deben ir de la mano, nos hacen mejores como sociedad. #ElDebate4N https://t.co/O28yFoRbvJ</td>\n",
       "    </tr>\n",
       "    <tr>\n",
       "      <th>1778</th>\n",
       "      <td>PSOE</td>\n",
       "      <td>🗣El #PSOE siempre defenderá la cohesión social y territorial porque nos hacen mejores como país y sociedad\\n\\nPido el voto para tener un Gobierno fuerte y estable que permita construir convivencia en #España y políticas sociales en beneficio de todos los españoles\\n\\n#VotaConCorazón https://t.co/buLoCWxjKN</td>\n",
       "    </tr>\n",
       "    <tr>\n",
       "      <th>1958</th>\n",
       "      <td>PSOE</td>\n",
       "      <td>La cohesión social y territorial nos hacen mejor como país y como sociedad. \\n\\nSi quieres un 𝗚𝗼𝗯𝗶𝗲𝗿𝗻𝗼 𝗳𝘂𝗲𝗿𝘁𝗲 𝘆 𝗲𝘀𝘁𝗮𝗯𝗹𝗲 que permita construir convivencia en España y permita hacer políticas sociales en beneficio de la ciudadanía, #VotaPSOE /❤ \\n\\n#AhoraSí https://t.co/ZrNHKsvIir</td>\n",
       "    </tr>\n",
       "    <tr>\n",
       "      <th>2571</th>\n",
       "      <td>PODEMOS</td>\n",
       "      <td>✅ Que la crisis dejen de pagarla los de siempre. Por ello, proponemos:\\n\\n🏦Recuperar los 60.000 millones de euros del rescate bancario.\\n💰 Impuesto para las grandes fortunas. \\n💨 Impuesto sobre los beneficios de las grandes empresas por contaminar. \\n\\n#aversivoyaserdeUP https://t.co/JtdjdeB1K7</td>\n",
       "    </tr>\n",
       "  </tbody>\n",
       "</table>\n",
       "</div>"
      ],
      "text/plain": [
       "          screen_name  \\\n",
       "312            vox_es   \n",
       "651         populares   \n",
       "673         populares   \n",
       "1121    Albert_Rivera   \n",
       "1212     CiudadanosCs   \n",
       "1238     CiudadanosCs   \n",
       "1576     CiudadanosCs   \n",
       "1672  sanchezcastejon   \n",
       "1778             PSOE   \n",
       "1958             PSOE   \n",
       "2571          PODEMOS   \n",
       "\n",
       "                                                                                                                                                                                                                                                                                                                     text  \n",
       "312                                                          #ESPAÑAVOTA | LA ENTREVISTA \\n@monasterioR : \"La progresividad es importante, pero no se puede desincentivar tener beneficios\" \\n📡 directo https://t.co/ygpf7Gbuwy\\n📲 #MonasterioTelemadrid  \\n@vox_es @madrid_vox \\n  \\n@madrid_vox https://t.co/ym7vS8IYrL  \n",
       "651                                                                                             📺 @gmariscalanaya en el #debatee10Ncongresortve: El aumento de gasto trae beneficio a la sociedad. Con menos impuestos mas capacidad de gasto de los canarios y mayor crecimiento de la economía. https://t.co/SMofU0APui  \n",
       "673                                        🎙 @cucagamarra en @RadioRioja 👉 \"Nuestro proyecto político está abierto a todo el votante de centro-derecha. Los españoles saben que sabemos gestionar bien con políticas eficaces en beneficio de todos\".\\n\\nEl interés general es lo que nos mueve para trabajar por España.  \n",
       "1121                                  - ¿En qué ha trabajado usted?\\n\\n- Adriana Lastra: “Pues...ehm... en muchas cosas... que no tengo por qué explicitar porque yo no hablo de mi vida privada”.\\n\\nOtra enchufada sin oficio ni beneficio capaz de llegar a ser diputada y portavoz del @PSOE. https://t.co/ADTUxSbzOF  \n",
       "1212                                                              Para que nuestros #agricultores y #ganaderos puedan garantizar la rentabilidad de sus explotaciones mediante la mejora de la Ley de la Cadena Alimentaria y que los precios cubran los costes y los beneficios. #VotaCiudadanos https://t.co/I1vANgPxTP  \n",
       "1238            Los amigos y familiares de @XimoPuig ya sabían lo que ocurriría cuando los socialistas ganaran:\\n\\n«¡Nos vamos a forrar!»\\n\\nY acertaron: facturas duplicadas, lluvia de subvenciones, programas fantasma, +300% en beneficios...\\n\\nSe llama clientelismo.\\nSe llama socialismo. https://t.co/nqsOdNaoE1  \n",
       "1576                                    Nuestra propuesta:\\n✅ Tarifa plana de autónomos 2 años\\n✅ Bonificación del 100% al 1er contrato de jóvenes\\n✅ Impuesto de Sociedades del 15% para PYMES que reinviertan beneficios\\n✅ Eliminar contratos basura: todos indefinidos\\n✅ Las Startups no pagarán impuestos en 2 años  \n",
       "1672        Pido el voto al @PSOE para tener un Gobierno fuerte, estable, que nos permita construir convivencia en España, hacer políticas sociales en beneficio de los españoles y españolas. La cohesión social y territorial deben ir de la mano, nos hacen mejores como sociedad. #ElDebate4N https://t.co/O28yFoRbvJ  \n",
       "1778  🗣El #PSOE siempre defenderá la cohesión social y territorial porque nos hacen mejores como país y sociedad\\n\\nPido el voto para tener un Gobierno fuerte y estable que permita construir convivencia en #España y políticas sociales en beneficio de todos los españoles\\n\\n#VotaConCorazón https://t.co/buLoCWxjKN  \n",
       "1958                              La cohesión social y territorial nos hacen mejor como país y como sociedad. \\n\\nSi quieres un 𝗚𝗼𝗯𝗶𝗲𝗿𝗻𝗼 𝗳𝘂𝗲𝗿𝘁𝗲 𝘆 𝗲𝘀𝘁𝗮𝗯𝗹𝗲 que permita construir convivencia en España y permita hacer políticas sociales en beneficio de la ciudadanía, #VotaPSOE /❤ \\n\\n#AhoraSí https://t.co/ZrNHKsvIir  \n",
       "2571              ✅ Que la crisis dejen de pagarla los de siempre. Por ello, proponemos:\\n\\n🏦Recuperar los 60.000 millones de euros del rescate bancario.\\n💰 Impuesto para las grandes fortunas. \\n💨 Impuesto sobre los beneficios de las grandes empresas por contaminar. \\n\\n#aversivoyaserdeUP https://t.co/JtdjdeB1K7  "
      ]
     },
     "execution_count": 90,
     "metadata": {},
     "output_type": "execute_result"
    }
   ],
   "source": [
    "tweets_df[tweets_df.text.str.contains(\"beneficio\", case = False)].loc[:, [\"screen_name\", \"text\"]]"
   ]
  },
  {
   "cell_type": "markdown",
   "id": "8d166c97-d5e2-4860-8b50-dc9632529045",
   "metadata": {},
   "source": [
    "Out of 10 tweets that include this word, 5 times it is used meaning profit, whereas in the other 5 it means improvement of the population. Doubt"
   ]
  },
  {
   "cell_type": "markdown",
   "id": "85cfc992-37ac-46d0-9f3f-f7e79f822a77",
   "metadata": {},
   "source": [
    "4) Clasificado/a"
   ]
  },
  {
   "cell_type": "code",
   "execution_count": 91,
   "id": "e948517f-553e-4031-a018-a00130fc486e",
   "metadata": {},
   "outputs": [
    {
     "data": {
      "text/html": [
       "<div>\n",
       "<style scoped>\n",
       "    .dataframe tbody tr th:only-of-type {\n",
       "        vertical-align: middle;\n",
       "    }\n",
       "\n",
       "    .dataframe tbody tr th {\n",
       "        vertical-align: top;\n",
       "    }\n",
       "\n",
       "    .dataframe thead th {\n",
       "        text-align: right;\n",
       "    }\n",
       "</style>\n",
       "<table border=\"1\" class=\"dataframe\">\n",
       "  <thead>\n",
       "    <tr style=\"text-align: right;\">\n",
       "      <th></th>\n",
       "      <th>screen_name</th>\n",
       "      <th>text</th>\n",
       "    </tr>\n",
       "  </thead>\n",
       "  <tbody>\n",
       "  </tbody>\n",
       "</table>\n",
       "</div>"
      ],
      "text/plain": [
       "Empty DataFrame\n",
       "Columns: [screen_name, text]\n",
       "Index: []"
      ]
     },
     "execution_count": 91,
     "metadata": {},
     "output_type": "execute_result"
    }
   ],
   "source": [
    "tweets_df[tweets_df.text.str.contains(\"clasificad*\", case = False)].loc[:, [\"screen_name\", \"text\"]]"
   ]
  },
  {
   "cell_type": "markdown",
   "id": "21e56d8f-fbb2-4755-b486-91b8786b7fb0",
   "metadata": {},
   "source": [
    "Does not seem like a concern."
   ]
  },
  {
   "cell_type": "markdown",
   "id": "1110a243-3170-43de-95de-dc277ade8766",
   "metadata": {},
   "source": [
    "5) Iglesias:"
   ]
  },
  {
   "cell_type": "code",
   "execution_count": 92,
   "id": "f4632b78-430b-43d1-9705-15cdfc15d039",
   "metadata": {},
   "outputs": [
    {
     "data": {
      "text/html": [
       "<div>\n",
       "<style scoped>\n",
       "    .dataframe tbody tr th:only-of-type {\n",
       "        vertical-align: middle;\n",
       "    }\n",
       "\n",
       "    .dataframe tbody tr th {\n",
       "        vertical-align: top;\n",
       "    }\n",
       "\n",
       "    .dataframe thead th {\n",
       "        text-align: right;\n",
       "    }\n",
       "</style>\n",
       "<table border=\"1\" class=\"dataframe\">\n",
       "  <thead>\n",
       "    <tr style=\"text-align: right;\">\n",
       "      <th></th>\n",
       "      <th>screen_name</th>\n",
       "      <th>text</th>\n",
       "    </tr>\n",
       "  </thead>\n",
       "  <tbody>\n",
       "    <tr>\n",
       "      <th>46</th>\n",
       "      <td>Santi_ABASCAL</td>\n",
       "      <td>Santiago Abascal pulveriza a Pablo Iglesias: \"Yo me jugaba la vida amenazado por ETA en el País Vasco mientras usted iba a las herriko tabernas\" https://t.co/l4ipLDzvmo https://t.co/6lIE4ocmCk</td>\n",
       "    </tr>\n",
       "    <tr>\n",
       "      <th>69</th>\n",
       "      <td>Santi_ABASCAL</td>\n",
       "      <td>📺 La audiencia de @El_Hormiguero:\\n\\n@Santi_ABASCAL - 4.049.000\\nRivera - 2.458.000\\nErrejón - 2.089.000\\nCasado - 2.049.000\\nIglesias - 1.477.000\\n\\nY eso que los únicos boicoteados éramos nosotros. Millones de españoles ya no obedecen a la dictadura progre 💪🏻</td>\n",
       "    </tr>\n",
       "    <tr>\n",
       "      <th>321</th>\n",
       "      <td>vox_es</td>\n",
       "      <td>Santiago Abascal pulveriza a Pablo Iglesias: \"Yo me jugaba la vida amenazado por ETA en el País Vasco mientras usted iba a las herriko tabernas\" https://t.co/l4ipLDzvmo https://t.co/6lIE4ocmCk</td>\n",
       "    </tr>\n",
       "    <tr>\n",
       "      <th>325</th>\n",
       "      <td>vox_es</td>\n",
       "      <td>⚡ Monumental repaso de Santiago Abascal a Pedro Sánchez y Pablo Iglesias por la memoria histórica https://t.co/zzhFzaoyBn vía @ldtv</td>\n",
       "    </tr>\n",
       "    <tr>\n",
       "      <th>345</th>\n",
       "      <td>vox_es</td>\n",
       "      <td>\"No hay que elegir entre nuestros abuelos\" \\n\"Nuestros abuelos se abrazaron, nuestros padres convivieron y usted quiere enfrentar a los nietos\" \\n@Santi_ABASCAL a Sánchez. \\n(Y de paso, un sopapo a Iglesias justo al principio por Comunista)\\n\\n#debate5rtve https://t.co/deoprsuPoo</td>\n",
       "    </tr>\n",
       "    <tr>\n",
       "      <th>347</th>\n",
       "      <td>vox_es</td>\n",
       "      <td>Abascal a Sánchez: \"Si Vd. quiere ilegalizar los totalitarismos, quizá acabará ilegalizando a su socio Iglesias, que es el único de este debate que simpatiza con una ideología de este corte, en su caso el comunismo\"\\n#DebateElectoral</td>\n",
       "    </tr>\n",
       "    <tr>\n",
       "      <th>348</th>\n",
       "      <td>vox_es</td>\n",
       "      <td>.@Santi_ABASCAL a Pablo Iglesias: \"Soy el único que se ha jugado la vida mientras usted estaba en una herriko taberna y Pedro Sánchez jugaba al baloncesto\".\\n\\n#ElDebate4N</td>\n",
       "    </tr>\n",
       "    <tr>\n",
       "      <th>349</th>\n",
       "      <td>vox_es</td>\n",
       "      <td>📺 @Santi_ABASCAL pulveriza a Pablo Iglesias \"No me va a dar lecciones de democracia ni de defensa del orden constitucional. Yo me jugaba la vida amenazado por ETA en el País Vasco mientras usted presumía de que ETA tenía perspicacia política\".\\n\\n📢 #ElDebate4N #DebateElectoral https://t.co/GtRi8aT0EL</td>\n",
       "    </tr>\n",
       "    <tr>\n",
       "      <th>361</th>\n",
       "      <td>vox_es</td>\n",
       "      <td>Y @Santi_ABASCAL siguiendo la tradición de Iván y Ortega Smith, los pone en fila y les va sacudiendo uno a uno, Sánchez, Casado, Iglesias... Que no pueden hacer otra cosa que mirar al suelo y poner cara de que pase rápido. \\n#debatea5RTVE https://t.co/Io4IKYyRVw</td>\n",
       "    </tr>\n",
       "    <tr>\n",
       "      <th>467</th>\n",
       "      <td>vox_es</td>\n",
       "      <td>📺 La audiencia de @El_Hormiguero:\\n\\n@Santi_ABASCAL - 4.049.000\\nRivera - 2.458.000\\nErrejón - 2.089.000\\nCasado - 2.049.000\\nIglesias - 1.477.000\\n\\nY eso que los únicos boicoteados éramos nosotros. Millones de españoles ya no obedecen a la dictadura progre 💪🏻</td>\n",
       "    </tr>\n",
       "    <tr>\n",
       "      <th>562</th>\n",
       "      <td>pablocasado_</td>\n",
       "      <td>Sánchez en 2016 quiso forzar 3as elecciones y su partido tuvo que echarle. Es incapaz de pactar con nadie. Por eso acabó mal con González, Rubalcaba, Susana, Iglesias, Rivera... Quien no ha sido capaz de formar Gobierno en 6 meses con 4 opciones no merece otra oportunidad el #10N https://t.co/egVAfzn0kw</td>\n",
       "    </tr>\n",
       "    <tr>\n",
       "      <th>1051</th>\n",
       "      <td>populares</td>\n",
       "      <td>💬 @pablocasado_: “Sánchez acabó mal con González, con Rubalcaba, con Susana Díaz, con Pablo Iglesias, con Rivera, con Mariano Rajoy -con quien pactó la política frente al independentismo y luego le presentó una moción-. Ha demostrado que no es confiable”.\\n\\n#PorTodoLoQueNosUne https://t.co/mmRp3amBEq</td>\n",
       "    </tr>\n",
       "    <tr>\n",
       "      <th>1114</th>\n",
       "      <td>Albert_Rivera</td>\n",
       "      <td>📹Nos facilitan este corte en el que @Albert_Rivera menta la #EquiparacionYa en #ElDebate4N de las #Elecciones10N \\n\\n👉Se agradece, nos hubiera gustado oír también a @sanchezcastejon, @pablocasado_, @Pablo_Iglesias_ y @Santi_ABASCAL saber qué opinan de la #ILPJusapol de @jusapol https://t.co/oDAEdhZNq2 https://t.co/Jdns750d4f</td>\n",
       "    </tr>\n",
       "    <tr>\n",
       "      <th>1573</th>\n",
       "      <td>CiudadanosCs</td>\n",
       "      <td>Hola @Pablo_Iglesias_.\\n\\nAyer decías en el debate \"Yo me siento orgulloso de ser español\"\\n\\n¿Por qué entonces te paseabas por las Herriko Tabernas del País Vasco diciendo que \"cuando os independicéis no nos dejéis solos con los españoles\" mientras hacías muecas de asco?\\n\\nHipócrita. https://t.co/S71d59EeDS</td>\n",
       "    </tr>\n",
       "    <tr>\n",
       "      <th>1688</th>\n",
       "      <td>sanchezcastejon</td>\n",
       "      <td>Mi compromiso es claro: no va a haber gran coalición.\\n\\nAhora Iglesias debe responder: tras el #10N, ¿seguirá sumando sus votos a los de la derecha y la ultraderecha para bloquear la formación de un Gobierno progresista?\\nLos votantes tienen derecho a saberlo. \\n#L6Npedrosánchez https://t.co/Xw8oOfSguO</td>\n",
       "    </tr>\n",
       "    <tr>\n",
       "      <th>1710</th>\n",
       "      <td>sanchezcastejon</td>\n",
       "      <td>No habrá gran coalición. Ese es el compromiso del @PSOE con los votantes progresistas. No pactaremos Gobierno con quien pacta con la ultraderecha.\\n\\nEl Sr. Iglesias debe responder a una pregunta:\\n¿Seguirá bloqueando, por 5ª vez, la formación de un Gobierno progresista? #VOTAPSOE🌹 https://t.co/6TtiO7rD1z</td>\n",
       "    </tr>\n",
       "    <tr>\n",
       "      <th>1740</th>\n",
       "      <td>PSOE</td>\n",
       "      <td>🌹 @sanchezcastejon: Iglesias dice que el PSOE quiere pactar con el PP. \\n\\nEl PP, que queremos pactar con independentistas y UP. \\n\\n⏩ Lo que queremos es un Gobierno progresista, coherente y estable que aborde las grandes transformaciones que necesita España.\\n\\n#VotaConElCorazón https://t.co/skF2hsKXa9</td>\n",
       "    </tr>\n",
       "    <tr>\n",
       "      <th>1923</th>\n",
       "      <td>PSOE</td>\n",
       "      <td>🎞️@sanchezcastejon: Escucho a Iglesias decir que quiero pactar con el PP.  \\nAl PP y Cs, pactar con Iglesias e independentistas. \\nA los independentistas, con PP y Cs.\\nA la ultraderecha, con Cs y el PP.\\n\\nNO, queremos un Gobierno progresista, estable y coherente.\\n\\n#VotaPSOE https://t.co/46f7UBSDA0</td>\n",
       "    </tr>\n",
       "    <tr>\n",
       "      <th>1976</th>\n",
       "      <td>PSOE</td>\n",
       "      <td>🗞 'El Socialista', la cabecera fundada por Pablo Iglesias Posse, entrevista al presidente del Gobierno y secretario general del PSOE, @sanchezcastejon \\n\\nDesbloqueo, propuestas y muchos titulares más, mañana a las 10:00 horas ‼️\\n\\nhttps://t.co/n1192HMzbb\\n\\n#VotaPSOE https://t.co/pmBC9EcPcA</td>\n",
       "    </tr>\n",
       "    <tr>\n",
       "      <th>2032</th>\n",
       "      <td>PSOE</td>\n",
       "      <td>🌹 @sanchezcastejon: Lo dije ayer en el debate, si estamos convocados de nuevo a las urnas era porque no era cierto lo que decía la derecha, de que tenía un pacto con los independentistas, ni lo que decía Iglesias de que tenía un pacto con la derecha.\\n\\n#AhoraSí \\n#VotaPSOE https://t.co/3TufoQkDhc</td>\n",
       "    </tr>\n",
       "    <tr>\n",
       "      <th>2054</th>\n",
       "      <td>PSOE</td>\n",
       "      <td>🌹@sanchezcastejon: Impulsaremos medidas en Vivienda:\\n\\n1⃣Sacar al mercado 20.000 viviendas vacías\\n2⃣Crear un parque público de vivienda  \\n3⃣Ayudas a la emancipación juvenil\\n\\nY lo haremos desde el ministerio de Vivienda, que Iglesias calificó como 'florero'\\n\\n#GanaPSánchez https://t.co/ExpM5uQXqi</td>\n",
       "    </tr>\n",
       "    <tr>\n",
       "      <th>2065</th>\n",
       "      <td>PSOE</td>\n",
       "      <td>🎞️@sanchezcastejon a @Pablo_Iglesias_: Hay discrepancia con Podemos en Cataluña. Defiende un referéndum de autodeterminación en Cataluña y que hay presos políticos y no puedo admitir eso.\\n\\nInsisto en la respuesta: unidad, proporcionalidad y firmeza democrática.\\n\\n#ElDebate4N https://t.co/Vj9qgxaDQj</td>\n",
       "    </tr>\n",
       "    <tr>\n",
       "      <th>2083</th>\n",
       "      <td>PSOE</td>\n",
       "      <td>🗣️@abalosmeco: Cuando pase el #10N debemos centrarnos en la gente, en acabar con la desigualdad y no en el reparto de poderes. \\n\\n👉Vale la pena un Gobierno progresista que pare a la derecha. Nosotros esperamos que Pablo Iglesias no vuelva a impedirlo\\n\\n#AhoraSí \\n#VotaPSOE https://t.co/9aHwbcuMi5</td>\n",
       "    </tr>\n",
       "    <tr>\n",
       "      <th>2142</th>\n",
       "      <td>PSOE</td>\n",
       "      <td>🗣️ @sanchezcastejon: Es evidente que para gobernar habrá que contar con el apoyo de otras fuerzas. Pero Iglesias ofrecía un modelo que supeditaba la estabilidad al independentismo. \\n\\n👉Yo quiero un Gobierno que sea estable y sólido \\n\\n#L6Npedrosánchez\\n#VotaPSOE https://t.co/sVTNb1ttYp</td>\n",
       "    </tr>\n",
       "    <tr>\n",
       "      <th>2146</th>\n",
       "      <td>PSOE</td>\n",
       "      <td>🎞️ @sanchezcastejon en @SextaNocheTV: Le digo a Iglesias que NO va a haber gran coalición. Es mi compromiso\\n\\nQue responda a una pregunta sencilla: ¿Va a seguir sumando sus votos a derecha y ultraderecha para bloquear un gobierno progresista del PSOE? ¿Sí o no?\\n\\n#L6Npedrosánchez https://t.co/7ztXfwCX87</td>\n",
       "    </tr>\n",
       "    <tr>\n",
       "      <th>2147</th>\n",
       "      <td>PSOE</td>\n",
       "      <td>🗣️ @sanchezcastejon: Yo renuncié a ser presidente a cualquier precio y otros han bloqueado sin alternativa. \\n\\nDespués del #10N no va a haber gran coalición. Pero yo le pregunto a Iglesias, ¿va a seguir impidiendo un Gobierno progresista en España? \\n\\n#L6Npedrosánchez\\n#VotaPSOE https://t.co/xd8q8Ehk5m</td>\n",
       "    </tr>\n",
       "    <tr>\n",
       "      <th>2167</th>\n",
       "      <td>PSOE</td>\n",
       "      <td>🌹 @sanchezcastejon: Iglesias aun no ha respondido si va a bloquear la formación de un Gobierno progresista por quinta vez.\\n\\nEl proyecto político de los demás es FRENAR al PSOE. Los independentistas, la derecha y la nueva izquierda quieren un Gobierno débil.\\n\\n#VotaPSOE\\n#AhoraSí https://t.co/9WLcsBpJQ5</td>\n",
       "    </tr>\n",
       "    <tr>\n",
       "      <th>2182</th>\n",
       "      <td>PSOE</td>\n",
       "      <td>▶ Señor Iglesias, ¿va a continuar bloqueando por quinta vez después del #10N la formación de un Gobierno progresista? Sí o no. Responda claro. \\n\\n🌹 GRACIAS a las 1500 personas que arropasteis ayer a @sanchezcastejon en #Pamplona.\\n\\n#AhoraSí\\n#VotaPSOE https://t.co/FWChpVJsoP</td>\n",
       "    </tr>\n",
       "    <tr>\n",
       "      <th>2192</th>\n",
       "      <td>PabloIglesias</td>\n",
       "      <td>Esta tarde estaré en el acto de cierre de campaña de Unidas Podemos junto a @Pablo_Iglesias_, @AdaColau, @Irene_Montero_, @agarzon y más compañeros y compañeras comprometidos con el cambio. Acabaremos la noche con la música de Kiko Veneno y O'Funk'illo ¡Súmate! #UnGobiernoContigo https://t.co/2MMPOz63EN</td>\n",
       "    </tr>\n",
       "    <tr>\n",
       "      <th>2195</th>\n",
       "      <td>PabloIglesias</td>\n",
       "      <td>Es el último día de campaña y me gustaría explicar mis motivos por los que apoyo a @ahorapodemos. Lo personal es político, así que quiero #UnGobiernoContigo en el que las futuras generaciones no se vean abocadas a la precariedad. Este #10N da una oportunidad a @Pablo_Iglesias_. https://t.co/InqrBEH7cQ</td>\n",
       "    </tr>\n",
       "    <tr>\n",
       "      <th>2199</th>\n",
       "      <td>PabloIglesias</td>\n",
       "      <td>Terminado el último debate, ya quedan solo unas horas para el final de la campaña por #UnGobiernoContigo. \\n\\nEsta tarde celebramos que sí se puede con @Pablo_Iglesias_, @AdaColau, @agarzon, @juralde, @MayoralRafa, @ionebelarra y muchos compañeros y compañeras más.\\n\\n¡Os esperamos! https://t.co/UiwDGnVSeK</td>\n",
       "    </tr>\n",
       "    <tr>\n",
       "      <th>2205</th>\n",
       "      <td>PabloIglesias</td>\n",
       "      <td>Estuvimos con Pablo Iglesias en su despacho del Congreso y este es el resultado #Elecciones10N https://t.co/rjCvViexYY</td>\n",
       "    </tr>\n",
       "    <tr>\n",
       "      <th>2214</th>\n",
       "      <td>PabloIglesias</td>\n",
       "      <td>\"Comprar los marcos económicos y territoriales de la derecha refuerza un pensamiento único enemigo de la igualdad, el diálogo y la justicia social\". La opinión de @Pablo_Iglesias_ https://t.co/9OsM274WbP</td>\n",
       "    </tr>\n",
       "    <tr>\n",
       "      <th>2225</th>\n",
       "      <td>PabloIglesias</td>\n",
       "      <td>¿Qué quiere el #Ibex estas #Elecciones10N?\\n\\n@pablo_iglesias_  (@ahorapodemos) dice que matrimonio @PSOE y @populares \\n\\nhttps://t.co/BlZNeyFoBy</td>\n",
       "    </tr>\n",
       "    <tr>\n",
       "      <th>2228</th>\n",
       "      <td>PabloIglesias</td>\n",
       "      <td>El lunes, en el 'minuto de oro' del debate, Pablo Iglesias leyó la Carta de una joven Valenciana de 28 años\\n\\nSe llama Raquel. Hemos hablado con ella y esta es su historia 👇\\n https://t.co/aEgm7juO2A https://t.co/Ht1i25cLRR</td>\n",
       "    </tr>\n",
       "    <tr>\n",
       "      <th>2233</th>\n",
       "      <td>PabloIglesias</td>\n",
       "      <td>Este viernes (18h) el periodista Esteban Hernández, autor de 'El tiempo pervertido: Derecha e izquierda en el siglo XXI', charla con Pablo Iglesias en Otra Vuelta de Tuerka. https://t.co/oWk8HeptoO</td>\n",
       "    </tr>\n",
       "    <tr>\n",
       "      <th>2235</th>\n",
       "      <td>PabloIglesias</td>\n",
       "      <td>¿Por qué Abascal estuvo tan cómodo frente a las otras derechas? ¿Por qué solo Iglesias le dijo unas cuantas verdades a la cara? \\n\\n@Pablo_Iglesias_ estuvo @enlafronteratv en la resaca del debate electoral. Entrevista completa:  https://t.co/x5QHHOpNiZ https://t.co/wyIBCgzWh6</td>\n",
       "    </tr>\n",
       "    <tr>\n",
       "      <th>2241</th>\n",
       "      <td>PabloIglesias</td>\n",
       "      <td>Este viernes cerramos la campaña de Unidas Podemos en el Pabellón 1 de IFEMA en Madrid con @Pablo_Iglesias_, @AdaColau, @agarzon, @juralde, @VeraNoelia, @MayoralRafa, @ionebelarra y muchos compañeros y compañeras más, con la música de @KikoVeneno y @ofunkilloband.\\n\\n¡Os esperamos! https://t.co/Py1q62aGGn</td>\n",
       "    </tr>\n",
       "    <tr>\n",
       "      <th>2248</th>\n",
       "      <td>PabloIglesias</td>\n",
       "      <td>Iglesias: “A la ultraderecha se la combate con políticas económicas, no diciendo que viene el lobo” @pvallin https://t.co/jEfBPdnjd1</td>\n",
       "    </tr>\n",
       "    <tr>\n",
       "      <th>2259</th>\n",
       "      <td>PabloIglesias</td>\n",
       "      <td>Pasar de la resignación a la esperanza. Capacidad de soñar y luchar por lo nuestro. Mañana miércoles, a las 12:30 h., tenemos un encuentro muy especial en la Feria de Valencia con nuestro compañero y candidato a la Presidencia del Gobierno, @Pablo_Iglesias_ #UnGobiernoContigo10N https://t.co/AOZxIVF72e</td>\n",
       "    </tr>\n",
       "    <tr>\n",
       "      <th>2263</th>\n",
       "      <td>PabloIglesias</td>\n",
       "      <td>Hoy en @todoesmentiratv hemos contabilizado las mentiras (inexactitudes si os queréis poner tiquismiquis) de los candidatos a presidente. \\n\\n@pablocasado_  se calzó 16\\n@Santi_ABASCAL 10\\n@Albert_Rivera  7\\n@sanchezcastejon 6\\n@Pablo_Iglesias_ solamente 1\\n\\nQue cada uno lo interprete</td>\n",
       "    </tr>\n",
       "    <tr>\n",
       "      <th>2265</th>\n",
       "      <td>PabloIglesias</td>\n",
       "      <td>#10NCanalSur | A las 21:50 horas entrevistamos en #CanalSur a Pablo Iglesias, candidato a la presidencia por Unidas Podemos | También puedes verla por #CanalSurWeb 👉 https://t.co/8rfgOGAi3p https://t.co/WTyLPPmxjr</td>\n",
       "    </tr>\n",
       "    <tr>\n",
       "      <th>2268</th>\n",
       "      <td>PabloIglesias</td>\n",
       "      <td>¿CONSEGUÍ QUE PABLO IGLESIAS PERREARA LA GASOLINA? EVIDENTEMENTE. \\n👇👇👇 https://t.co/3TLRrglqzl</td>\n",
       "    </tr>\n",
       "    <tr>\n",
       "      <th>2288</th>\n",
       "      <td>PabloIglesias</td>\n",
       "      <td>Esta noche, a partir de las 22.00 h, no te puedes perder el debate de candidatos en @La1_tve, en el que @Pablo_Iglesias_ explicará nuestras medidas para hacer #UnGobiernoContigo. \\nPodrás seguirlo en directo aquí. \\nhttps://t.co/VZT3uQkttw https://t.co/2jrC6hFlV7</td>\n",
       "    </tr>\n",
       "    <tr>\n",
       "      <th>2299</th>\n",
       "      <td>PabloIglesias</td>\n",
       "      <td>🔊El próximo jueves @Pablo_Iglesias_ visita Bilbao para dar a conocer nuestras propuestas para un #GobiernoContigo. \\n\\n📆Jueves, 7 de noviembre.\\n🏤Palacio Euskalduna.\\n⏰10:30h\\n\\n¡Te esperamos! https://t.co/mfg7F12btZ</td>\n",
       "    </tr>\n",
       "    <tr>\n",
       "      <th>2301</th>\n",
       "      <td>PabloIglesias</td>\n",
       "      <td>No te pierdas esta noche @salvadostv.\\n\\n@Pablo_Iglesias_ responde a los militantes del PSOE y Unidas Podemos.\\n\\nSiempre damos la cara. Otros no pueden decir lo mismo.\\n\\nPuedes seguir el directo a partir de las 21.25 h desde aquí. 👇\\nhttps://t.co/V9OoL6vCfM https://t.co/GC8WL4xJVH</td>\n",
       "    </tr>\n",
       "    <tr>\n",
       "      <th>2302</th>\n",
       "      <td>PabloIglesias</td>\n",
       "      <td>Es difícil no emocionarse.\\nGracias @Yolanda_Diaz_ @AntonGomezReino  @Pablo_Iglesias_ y gracias a los que habéis hecho posible esto.\\nUn orgullo ✊💜 https://t.co/t7dAogdbNt</td>\n",
       "    </tr>\n",
       "    <tr>\n",
       "      <th>2305</th>\n",
       "      <td>PabloIglesias</td>\n",
       "      <td>🔴 EN DIRECTO: Encuentro con @Pablo_Iglesias_ en A Coruña #UnGobernoContigo. \\n\\n https://t.co/OWmiRnNQe1</td>\n",
       "    </tr>\n",
       "    <tr>\n",
       "      <th>2307</th>\n",
       "      <td>PabloIglesias</td>\n",
       "      <td>No te pierdas a las 12.30 h el Encuentro con la gente con @Pablo_Iglesias_ en A Coruña. \\n\\nY, si no has podido asistir, ¡recuerda que podrás verlo en streaming desde todas nuestras redes! #UnGobernoContigo 💜 https://t.co/n5XgPqll8F</td>\n",
       "    </tr>\n",
       "    <tr>\n",
       "      <th>2363</th>\n",
       "      <td>PabloIglesias</td>\n",
       "      <td>Estoy ingresado en el @HospitalLaFe, llevo un Diazepam y no conseguía dormir porque mañana me toca quimio, así que me he visto #PabloIglesiasEH\\n\\nGracias de corazón @Pablo_Iglesias_ xk con #UnGobiernoContigo la vida no dependerá de la limosna de nadie y menos de un ricachón evasor</td>\n",
       "    </tr>\n",
       "    <tr>\n",
       "      <th>2369</th>\n",
       "      <td>PODEMOS</td>\n",
       "      <td>👏👏👏😍😍 \\nMagnífico cierre de campaña de @Pablo_Iglesias_ \\n\\n👉 📽 \"Somos la única fuerza política patriota en España, la única que entiende que el patriotismo es la defensa del común. 'Sí se puede' significa más democracia, más poder para los de abajo\".\\n\\n#VotaUnidasPodemos https://t.co/mMW507WEBq</td>\n",
       "    </tr>\n",
       "    <tr>\n",
       "      <th>2370</th>\n",
       "      <td>PODEMOS</td>\n",
       "      <td>📽 \"Sánchez estaba convencido de que con una repetición electoral nos destrozaba y podría gobernar para que el IBEX35 durmiera tranquilo conservando privilegios. Tenéis la llave para desbaratar el plan\".\\n\\n@Pablo_Iglesias_ #VotaUnidasPodemos https://t.co/PrsbBPv33V</td>\n",
       "    </tr>\n",
       "    <tr>\n",
       "      <th>2372</th>\n",
       "      <td>PODEMOS</td>\n",
       "      <td>🔝 Aquí, @Pablo_Iglesias_ explica a @sanchezcastejon la separación de poderes porque últimamente, al no dormir bien, parece que no termina de entenderlo. #VotaUnidasPodemos\\n\\n🔴 DIRECTO:  https://t.co/0RprYfTqDR https://t.co/bWrTQL00X3</td>\n",
       "    </tr>\n",
       "    <tr>\n",
       "      <th>2373</th>\n",
       "      <td>PODEMOS</td>\n",
       "      <td>👉 📽 \"Invito a los que se autoproclaman 'constitucionalistas' a que abran la Constitución, porque lo que nosotros planteamos está dentro de ese documento\".\\n\\n@Pablo_Iglesias_ #VotaUnidasPodemos https://t.co/KoVmTdOwSX</td>\n",
       "    </tr>\n",
       "    <tr>\n",
       "      <th>2374</th>\n",
       "      <td>PODEMOS</td>\n",
       "      <td>👉 📽 “Vamos a ser responsables y a partir del lunes  vamos a dejar todos los reproches atrás y vamos a tender la mano al PSOE para hacer un Gobierno en el que ojalá nosotros seamos mayoritarios”.\\n\\n@Pablo_Iglesias_ #VotaUnidasPodemos\\n\\n🔴 DIRECTO:  https://t.co/0RprYfTqDR https://t.co/dIwsMTIEbF</td>\n",
       "    </tr>\n",
       "    <tr>\n",
       "      <th>2375</th>\n",
       "      <td>PODEMOS</td>\n",
       "      <td>👉 📽 \"Ser español es defender la democracia frente a los ricos. Ser español es defender las instituciones del común\".\\n\\n@Pablo_Iglesias_ #VotaUnidasPodemos\\n\\n🔴 DIRECTO: https://t.co/0RprYfTqDR https://t.co/6Vdz23jr5R</td>\n",
       "    </tr>\n",
       "    <tr>\n",
       "      <th>2376</th>\n",
       "      <td>PODEMOS</td>\n",
       "      <td>👉 📽 “@Irene_Montero_ explicó ayer lo que era la democracia. La democracia es el instrumento de las mayorías sociales para poner límites a los privilegiados”.\\n\\n@Pablo_Iglesias_ #VotaUnidasPodemos\\n\\n🔴 DIRECTO:  https://t.co/0RprYfTqDR https://t.co/pEBSp6w8Xz</td>\n",
       "    </tr>\n",
       "    <tr>\n",
       "      <th>2377</th>\n",
       "      <td>PODEMOS</td>\n",
       "      <td>Muchas personas, empezando por ti, han hecho posible esta campaña. Gracias a todos y a todas.\\n\\nEl agradecimiento de @Pablo_Iglesias_ a toda la gente que sigue creyendo que sí se puede.\\n\\nEl domingo, #VotaUnidasPodemos\\n\\n🔴 DIRECTO:  https://t.co/0RprYfTqDR https://t.co/eJCKOQ3P3S</td>\n",
       "    </tr>\n",
       "    <tr>\n",
       "      <th>2378</th>\n",
       "      <td>PODEMOS</td>\n",
       "      <td>👉 📽 @Pablo_Iglesias_ agradece a quienes han levantado esta campaña, pero no están delante de las cámaras. \\n#VotaUnidasPodemos https://t.co/6YBIRHGBdJ</td>\n",
       "    </tr>\n",
       "    <tr>\n",
       "      <th>2379</th>\n",
       "      <td>PODEMOS</td>\n",
       "      <td>Esta presentación de @AdaColau a @Pablo_Iglesias_ es 🔝\\n\\nGracias Ada 🤩🤩\\n\\n🔴 DIRECTO: https://t.co/pGbJ6FzJBU https://t.co/X2mcnpUYUI</td>\n",
       "    </tr>\n",
       "    <tr>\n",
       "      <th>2446</th>\n",
       "      <td>PODEMOS</td>\n",
       "      <td>📺 \"Con todos nuestros errores, que han sido muchos, somos los únicos que podemos garantizar que haya, por fin, políticas que protejan a la gente\".\\n\\n@Pablo_Iglesias_ en #10NUrnasARV https://t.co/9rolzyIZKH</td>\n",
       "    </tr>\n",
       "    <tr>\n",
       "      <th>2447</th>\n",
       "      <td>PODEMOS</td>\n",
       "      <td>📺 \"Ayer, @Irene_Montero_ hizo algo que es muy importante: confrontar con Vox en economía\".\\n\\n@Pablo_Iglesias_ #10NUrnasARV https://t.co/lF6sljzjJH</td>\n",
       "    </tr>\n",
       "    <tr>\n",
       "      <th>2448</th>\n",
       "      <td>PODEMOS</td>\n",
       "      <td>📺 \"Hemos dicho muchas veces que los debates se tienen que regular por ley. Son el instrumento más democrático en la medida en que hay la menor mediación posible y donde los periodistas hacen preguntas difíciles y dirigen el debate\".\\n\\n@Pablo_Iglesias_ #10NUrnasARV https://t.co/PL6EAaydeW</td>\n",
       "    </tr>\n",
       "    <tr>\n",
       "      <th>2449</th>\n",
       "      <td>PODEMOS</td>\n",
       "      <td>📺 \"Toda la gente que nos está viendo sabe que si hay una garantía de derogación de la reforma laboral, es que nosotros estemos dentro del Gobierno\".\\n\\n@Pablo_Iglesias_ #10NUrnasARV https://t.co/VQQSTQokdl</td>\n",
       "    </tr>\n",
       "    <tr>\n",
       "      <th>2451</th>\n",
       "      <td>PODEMOS</td>\n",
       "      <td>📺 \"Si se habla de ilegalizar a los partidos que incumplan la ley, quizás en el PP deberían callarse, porque son uno de los pocos partidos políticos sentados en el banquillo de los acusados por corrupción\".\\n\\n@Pablo_Iglesias_ #10NUrnasARV https://t.co/R8VtHJxQeb</td>\n",
       "    </tr>\n",
       "    <tr>\n",
       "      <th>2452</th>\n",
       "      <td>PODEMOS</td>\n",
       "      <td>📺 \"Nuestra generosidad va a llegar hasta que en este país haya un Gobierno de coalición en el que se respete a nuestros votantes y tengan la resprestanción proporcional que les toca para hacer políticas que cambien la vida de la gente\".\\n\\n@Pablo_Iglesias_ #10NUrnasARV https://t.co/fr4QPLK51d</td>\n",
       "    </tr>\n",
       "    <tr>\n",
       "      <th>2453</th>\n",
       "      <td>PODEMOS</td>\n",
       "      <td>📺\"Tanto Ciudadanos como el PP no tienen ningún problema con Vox. Con lo cual, hacer cualquier alternativa de Gobierno a la derecha y a la extrema derecha pasa por que el PSOE y nosotros, y otras fuerzas políticas, nos pongamos de acuerdo\".\\n\\n@Pablo_Iglesias_ #10NUrnasARV https://t.co/etBJzHdWqu</td>\n",
       "    </tr>\n",
       "    <tr>\n",
       "      <th>2454</th>\n",
       "      <td>PODEMOS</td>\n",
       "      <td>📺 \"¿Cuál es el principal impedimento para que no haya Gobierno? Que alguien no quiere llegar a acuerdos con otras formaciones políticas cuando estuvo lejísimos de la mayoría absoluta\".\\n\\n@Pablo_Iglesias_ #10NUrnasARV https://t.co/YipPYeKIl7</td>\n",
       "    </tr>\n",
       "    <tr>\n",
       "      <th>2455</th>\n",
       "      <td>PODEMOS</td>\n",
       "      <td>📺 \"Si nosotros estamos fuertes después del domingo y no ocurre lo que Sánchez calculó, y el PSOE pierde apoyos y nosotros los ganamos, entonces, a lo mejor, no le quedará más remedio que hacer un Gobierno de coalición con nosotros\".\\n\\n@Pablo_Iglesias_ #10NUrnasARV https://t.co/mLQcrEtzG3</td>\n",
       "    </tr>\n",
       "    <tr>\n",
       "      <th>2463</th>\n",
       "      <td>PODEMOS</td>\n",
       "      <td>🎥 \"Explicadle a la gente que vamos a traducir su voto en responsabilidades de Gobierno que la ciudadanía, en España, va a notar desde el primer día. Explicadle que sí se puede\".\\n@Pablo_Iglesias_ #UnGobiernoContigo https://t.co/RALC2vkVD0</td>\n",
       "    </tr>\n",
       "    <tr>\n",
       "      <th>2464</th>\n",
       "      <td>PODEMOS</td>\n",
       "      <td>🎥 \"Decían que cuando subiera el salario mínimo a 900 euros iba a ser el apocalipsis económico, pero cuando se subió mejoraron todos los indicadores económicos y hoy en día ni una sola fuerza política se atreve a decir que se baje\". \\n@Pablo_Iglesias_ #UnGobiernoContigo https://t.co/tZngHvzBs1</td>\n",
       "    </tr>\n",
       "    <tr>\n",
       "      <th>2465</th>\n",
       "      <td>PODEMOS</td>\n",
       "      <td>🎥 \"Cuando gobernemos, cada avance que logremos, cada avance de la gente, va a ser imparable\". @Pablo_Iglesias_ #UnGobiernoContigo https://t.co/QX4HkAHk85</td>\n",
       "    </tr>\n",
       "    <tr>\n",
       "      <th>2466</th>\n",
       "      <td>PODEMOS</td>\n",
       "      <td>🎥 \"Cuando hay empresas del IBEX 35, muchas de ellas propietarias de medios de comunicación, que tienen filiales en paraísos fiscales, están robando a la gente\". \\n@Pablo_Iglesias_ #UnGobiernoContigo https://t.co/il3D3vyoyT</td>\n",
       "    </tr>\n",
       "    <tr>\n",
       "      <th>2467</th>\n",
       "      <td>PODEMOS</td>\n",
       "      <td>🎥 \"Hay mucha gente que escuchando ayer a Irene se dio cuenta del significado político de la democracia. Cuando VOX dijo que la política no se meta en la economía, solo Irene preguntó: \"¿Pero, entonces, para que nos vota la gente?\". \\n@Pablo_Iglesias_ #UnGobiernoContigo https://t.co/Hj174cL0KI</td>\n",
       "    </tr>\n",
       "    <tr>\n",
       "      <th>2468</th>\n",
       "      <td>PODEMOS</td>\n",
       "      <td>🎥 \"Se está viendo el trasvase: mucha gente, que con el PSOE que estamos viendo ahora, va a volver a votar a Unidas Podemos, básicamente, porque quiere un Gobierno que intervenga el mercado del alquiler\". \\n@Pablo_Iglesias_ #UnGobiernoContigo https://t.co/KwH8a6GsSC</td>\n",
       "    </tr>\n",
       "    <tr>\n",
       "      <th>2469</th>\n",
       "      <td>PODEMOS</td>\n",
       "      <td>🎥 \"Cuando me entrevistan, siempre insisten en las relaciones personales con Pedro Sánchez para conformar Gobierno. Pero olvidan lo importante, ya en 2015 Podemos e IU superaron en votos al PSOE, pero eligió como socio a Ciudadanos\". \\n@Pablo_Iglesias_ #UnGobiernoContigo https://t.co/6wvRNRQbaU</td>\n",
       "    </tr>\n",
       "    <tr>\n",
       "      <th>2470</th>\n",
       "      <td>PODEMOS</td>\n",
       "      <td>🎥 \"Ahora hay una nueva versión de Pedro Sánchez, que lo que quiere es llegar a un acuerdo con la derecha para afrontar la desaceleración económica, cuyo resultados ya conocemos: que lo paguen las clases populares de nuestro país\". \\n@Pablo_Iglesias_ #UnGobiernoContigo https://t.co/D84o5QAe55</td>\n",
       "    </tr>\n",
       "    <tr>\n",
       "      <th>2472</th>\n",
       "      <td>PODEMOS</td>\n",
       "      <td>🎥 \"Cuando te financia un banco, un banquero te puede decir que le debes dinero y que, si quieres que te perdone la deuda, no se te ocurra hacer ninguna ley que obligue a los bancos a devolver lo que deben a la ciudadanía\".\\n@Pablo_Iglesias_  #UnGobiernoContigo https://t.co/N4YT0V4Rtb</td>\n",
       "    </tr>\n",
       "    <tr>\n",
       "      <th>2475</th>\n",
       "      <td>PODEMOS</td>\n",
       "      <td>Los candidatos de Unidas Podemos al Congreso en CLM acompañando a @Pablo_Iglesias_ en el encuentro con la gente en Toledo, el 10N necesitamos un Unidas podemos fuerte, sí se puede!!!\\n#UnGobiernoContigo https://t.co/BsvaDQ1vet</td>\n",
       "    </tr>\n",
       "    <tr>\n",
       "      <th>2476</th>\n",
       "      <td>PODEMOS</td>\n",
       "      <td>Hoy toca apoyar a @Pablo_Iglesias_ en Toledo, para que España y Castilla - La Mancha puedan tener políticas para la mayoría, no para los menos\\n#UnGobiernoContigo https://t.co/FBrfL4A2Ry</td>\n",
       "    </tr>\n",
       "    <tr>\n",
       "      <th>2478</th>\n",
       "      <td>PODEMOS</td>\n",
       "      <td>📣Esta tarde a las 19 h vamos a cerrar la campaña con la música de @KikoVeneno y @ofunkilloband y las intervenciones de @Pablo_Iglesias_\\n@Irene_Montero_ @agarzon @AdaColau y muchas más.\\n\\n☺Nos vemos en el IFEMA con la alegría de saber que si se puede tener #UnGobiernoContigo 💜 https://t.co/7skPGMR7H4</td>\n",
       "    </tr>\n",
       "    <tr>\n",
       "      <th>2480</th>\n",
       "      <td>PODEMOS</td>\n",
       "      <td>Los que mandan sin presentarse a las elecciones temen a un pueblo que puede conseguir #UnGobiernoContigo para defender El Tajo y cuidar que nuestros jóvenes no tengan que emigrar ; hoy en #Toledo con @Pablo_Iglesias_  y  @Arevalo80MT https://t.co/6U5mO9viEM</td>\n",
       "    </tr>\n",
       "    <tr>\n",
       "      <th>2482</th>\n",
       "      <td>PODEMOS</td>\n",
       "      <td>Terminado el último debate, ya quedan solo unas horas para el final de la campaña por #UnGobiernoContigo. \\n\\nEsta tarde celebramos que sí se puede con @Pablo_Iglesias_, @AdaColau, @agarzon, @juralde, @MayoralRafa, @ionebelarra y muchos compañeros y compañeras más.\\n\\n¡Os esperamos! https://t.co/UiwDGnVSeK</td>\n",
       "    </tr>\n",
       "    <tr>\n",
       "      <th>2483</th>\n",
       "      <td>PODEMOS</td>\n",
       "      <td>Gracias @Pablo_Iglesias_ por hacer un alto en el camino y pasar por CLM, no estás solo, somos muchas las que estamos detrás apoyándote y gracias por arropar a nuestra candidata al Congreso por Toledo @Arevalo80MT \\n#UnGobiernoContigo 💜👏🏻👏🏻👏🏻 https://t.co/lcsh6IkskV</td>\n",
       "    </tr>\n",
       "    <tr>\n",
       "      <th>2484</th>\n",
       "      <td>PODEMOS</td>\n",
       "      <td>🔴 EN DIRECTO: Encuentro con la gente en Toledo, con @Pablo_Iglesias_. #UnGobiernoContigo\\n\\n https://t.co/KQGz14K8MC</td>\n",
       "    </tr>\n",
       "    <tr>\n",
       "      <th>2486</th>\n",
       "      <td>PODEMOS</td>\n",
       "      <td>‼️ En un ratito nos vemos en Toledo con @Pablo_Iglesias_, @Arevalo80MT, @DaniVelasco35 y @olgaavalos2. \\n\\n#UnGobiernoContigo 👇 https://t.co/4mzfkdyqbp</td>\n",
       "    </tr>\n",
       "    <tr>\n",
       "      <th>2539</th>\n",
       "      <td>PODEMOS</td>\n",
       "      <td>📅 Mañana, viernes, no puedes perderte el gran acto de cierre de campaña en Madrid. \\n\\n⏰ A las 19.00 h en el Pabellón 1 de IFEMA (Madrid).\\n\\nCon Kiko Veneno y O'Funk'illo en concierto y la intervención de @Pablo_Iglesias_, @AdaColau, @Irene_Montero_, @agarzon... \\n\\n¡Te esperamos! https://t.co/IxHyDWdB0S</td>\n",
       "    </tr>\n",
       "    <tr>\n",
       "      <th>2564</th>\n",
       "      <td>PODEMOS</td>\n",
       "      <td>🚇 España tiene muchos túneles. \\n💡 Total... Pero hay luz al final del túnel. \\n\\n🎥 No te pierdas la entrevista íntima de @EhUniverso a @Pablo_Iglesias_. 👇\\n\\nhttps://t.co/r0Is9o57YF</td>\n",
       "    </tr>\n",
       "    <tr>\n",
       "      <th>2573</th>\n",
       "      <td>PODEMOS</td>\n",
       "      <td>🎥 \"Había un plan en esta repetición electoral para restaurar el bipartidismo, un plan claramente apoyado por las élites. Esas élites tienen mucho poder; pero el día 10, no. Ese día cualquier persona tiene el mismo poder que los poderosos\". \\n@Pablo_Iglesias_ #UnGobiernoContigo https://t.co/HvrlPggSnf</td>\n",
       "    </tr>\n",
       "    <tr>\n",
       "      <th>2574</th>\n",
       "      <td>PODEMOS</td>\n",
       "      <td>🎥 \"A la extrema derecha no se la combate asustando a la gente, se la combate con políticas públicas. Porque la base de sostenibilidad de la extrema derecha es la pobreza, es la precariedad, es la falta de expectativas\". \\n@Pablo_Iglesias_ #UnGobiernoContigo https://t.co/QqdY2be4Jg</td>\n",
       "    </tr>\n",
       "    <tr>\n",
       "      <th>2575</th>\n",
       "      <td>PODEMOS</td>\n",
       "      <td>🛑🛑 No te pierdas mañana día 8, el acto central de campaña en Toledo, con @Pablo_Iglesias_ y los candidatos al Congreso @Arevalo80MT y @DaniVelasco35 por la provincia de Toledo\\n#UnGobiernoContigo https://t.co/9Wyp5bMH9x</td>\n",
       "    </tr>\n",
       "    <tr>\n",
       "      <th>2576</th>\n",
       "      <td>PODEMOS</td>\n",
       "      <td>🎥 \"Tienen miedo de que lleguemos al Gobierno, porque eso puede convencer a mucha gente de que, aunque tengan alguna diferencia con nosotros, somos los únicos que vamos a defender a sus familias\". \\n@Pablo_Iglesias_ #UnGobiernoContigo https://t.co/a2LPL3DZZe</td>\n",
       "    </tr>\n",
       "    <tr>\n",
       "      <th>2577</th>\n",
       "      <td>PODEMOS</td>\n",
       "      <td>🎥 \"Ni una sola fuerza política del Estado, de todas aquellas que decían que si subíamos el salario mínimo llegaba el Apocalipsis, se atreve ahora a decir a la clase trabajadora que va a tocar ni un solo euro de ese SMI que conseguimos\". \\n@Pablo_Iglesias_ #UnGobiernoContigo https://t.co/h6fghFti3V</td>\n",
       "    </tr>\n",
       "    <tr>\n",
       "      <th>2580</th>\n",
       "      <td>PODEMOS</td>\n",
       "      <td>🎥 \"Si la oligarquía te compra, la oligarquía te vende. Por eso nosotros no pedimos ni un euro a los bancos\". \\n@Pablo_Iglesias_ #UnGobiernoContigo https://t.co/07Ip1lvSoO</td>\n",
       "    </tr>\n",
       "    <tr>\n",
       "      <th>2581</th>\n",
       "      <td>PODEMOS</td>\n",
       "      <td>🎥 \"A Albert Rivera le pudo la ambición y prefirió competir a ver quién lideraba la derecha, si Casado, Abascal o él. Y la respuesta de su plan estupendo, alejándose de los que se pusieron ahí, la vais a ver el domingo\". \\n@Pablo_Iglesias_ #UnGobiernoContigo https://t.co/dogjdaMy0U</td>\n",
       "    </tr>\n",
       "    <tr>\n",
       "      <th>2582</th>\n",
       "      <td>PODEMOS</td>\n",
       "      <td>🎥 \"Dicen que el bloqueo tiene que ver con que hay políticos que se llevan mal, como si la gente fuera idiota. Ya en 2015 Podemos e IU tuvimos más votos que el PSOE, pero Sánchez buscó a Rivera y luego contó a Évole por qué lo hizo\". \\n@Pablo_Iglesias_ #UnGobiernoContigo https://t.co/FI3RNwUFXz</td>\n",
       "    </tr>\n",
       "    <tr>\n",
       "      <th>2583</th>\n",
       "      <td>PODEMOS</td>\n",
       "      <td>🎥 \"Mucha gente que en el pasado votó Unidas Podemos y que dijo: 'Hombre, con Sánchez me lo voy a pensar', va a volver a votar a la única fuerza política que, con muchos errores, sigue diciendo y proponiendo hacer exactamente lo mismo\". \\n@Pablo_Iglesias_ #UnGobiernoContigo https://t.co/V32LUcQX9M</td>\n",
       "    </tr>\n",
       "    <tr>\n",
       "      <th>2584</th>\n",
       "      <td>PODEMOS</td>\n",
       "      <td>🎥 \"¿Por qué Sánchez ha querido repetir las elecciones haciéndolas coincidir con la sentencia? Básicamente, para poder utilizar Cataluña como excusa para gobernar con el PP\". \\n@Pablo_Iglesias_ #UnGobiernoContigo https://t.co/1CodsA4XO9</td>\n",
       "    </tr>\n",
       "    <tr>\n",
       "      <th>2585</th>\n",
       "      <td>PODEMOS</td>\n",
       "      <td>🎥 \"Sánchez nombró vicepresidenta económica nada más y nada menos que a Calviño. Eso es un mensaje muy claro al PP para decirle: 'No os preocupéis que en las políticas económicas vamos a estar de acuerdo'\". \\n@Pablo_Iglesias_ #UnGobiernoContigo https://t.co/WNVdeQKm0u</td>\n",
       "    </tr>\n",
       "    <tr>\n",
       "      <th>2589</th>\n",
       "      <td>PODEMOS</td>\n",
       "      <td>@ahorapodemos @Pablo_Iglesias_ @LanderMartinez_ @Saludisabel @txonigorri @Conchi_Palencia @MiGorrotxategi \"Las cosas hay que decirlas claras, no habido imposibilidad de hacer un gobierno progresista, lo que ha habido es la resistencia del régimen bipartidista para que hubiese un cambio político real. Eso es lo que ha pasado.\" @MiGorrotxategi #U...</td>\n",
       "    </tr>\n",
       "    <tr>\n",
       "      <th>2592</th>\n",
       "      <td>PODEMOS</td>\n",
       "      <td>Grande @Pablo_Iglesias_, altavoz en mano para hablar con la gente que se ha quedado fuera del evento de hoy en Bilbao por la masiva asistencia. Esta vez va la vencida: ¡gobierno progresista para nuestro país y Pablo presidente!\\n\\n#ElQueTieneQueDormirBienEresTu https://t.co/MbdpAHLhb1</td>\n",
       "    </tr>\n",
       "    <tr>\n",
       "      <th>2593</th>\n",
       "      <td>PODEMOS</td>\n",
       "      <td>@ahorapodemos @Pablo_Iglesias_ @LanderMartinez_ @Saludisabel “Pedimos el voto a la gente joven que no se resigna a tener empleos basura, mientras algunos explotan al resto\" @TxoniGorri \"Por la gente mayor que nos da la lección cada lunes con sus movilizaciones, porque no se resignan.” #UnGobiernoContigo https://t.co/FolEi5Gkyd</td>\n",
       "    </tr>\n",
       "    <tr>\n",
       "      <th>2594</th>\n",
       "      <td>PODEMOS</td>\n",
       "      <td>@ahorapodemos @Pablo_Iglesias_ @LanderMartinez_ «Con el apoyo de la gente vamos a tener mucho más peso en el congreso.» @Saludisabel «No queríamos estas elecciones y la razón por la que el PSOE las convoca es que hay una organización que vino a quitarle el sueño al 1% de la población: Unidas Podemos.» #UnGobiernoContigo https://t.co/4QybRPaLt6</td>\n",
       "    </tr>\n",
       "    <tr>\n",
       "      <th>2596</th>\n",
       "      <td>PODEMOS</td>\n",
       "      <td>📢 La ilusión durante la campaña sigue siendo desbordante. De nuevo, el local del acto se quedó pequeño en Bilbao, a pesar de ser temprano y día de diario. @Pablo_Iglesias_ dedicó unas palabras a las personas que se quedaron fuera. #UnGobiernoContigo https://t.co/2tTVQJT2k6</td>\n",
       "    </tr>\n",
       "    <tr>\n",
       "      <th>2597</th>\n",
       "      <td>PODEMOS</td>\n",
       "      <td>Estamos en Bilbao con @Pablo_Iglesias_ \\nSi no has podido venir, síguenos aquí 👇📽️\\nhttps://t.co/KjHtkwLF2X</td>\n",
       "    </tr>\n",
       "    <tr>\n",
       "      <th>2600</th>\n",
       "      <td>PODEMOS</td>\n",
       "      <td>🔴DIRECTO: Llenazo. Sigue el encuentro con Pablo Iglesias hoy en #Bilbao y #Barakaldo.\\nTu eliges si un gobierno con #UnidasPodemos o dejamos que EL PSOE haga un gobierno con la derecha. \\n#UnGobiernoContigo\\nhttps://t.co/CHQeO3Pb2C\\nhttps://t.co/uHnKoglggi\\nhttps://t.co/8D3CiLeYVP https://t.co/jIlJPCBfvC</td>\n",
       "    </tr>\n",
       "    <tr>\n",
       "      <th>2603</th>\n",
       "      <td>PODEMOS</td>\n",
       "      <td>@ahorapodemos «Eskerrik asko a todas y todos por llenar esta sala, gracias @Pablo_Iglesias_  por visitarnos, gracias a nuestros candidatos y candidatas, a la militancia y a todas esas personas que está ahí para que esta campaña y estos actos salgan adelante» @LanderMartinez_ #UnGobiernoContigo https://t.co/14B2XRuA1z</td>\n",
       "    </tr>\n",
       "    <tr>\n",
       "      <th>2605</th>\n",
       "      <td>PODEMOS</td>\n",
       "      <td>Dana prest Bilboko Euskalduna Jauregian @Pablo_Iglesias_|ekin #GobernuBatZurekin eratzeko ditugun proposamenak aurkezteko.\\n\\nTodo listo en el Euskalduna de Bilbao para compartir con Pablo Iglesias las propuestas que permitirán #UnGobiernoContigo podemos https://t.co/nbovgIuQZ7</td>\n",
       "    </tr>\n",
       "    <tr>\n",
       "      <th>2610</th>\n",
       "      <td>PODEMOS</td>\n",
       "      <td>🔴 EN DIRECTO: Encuentro con @Pablo_Iglesias_  en Bilbao. #UnGobiernoContigo\\n\\n https://t.co/tMowpwwyOn</td>\n",
       "    </tr>\n",
       "    <tr>\n",
       "      <th>2625</th>\n",
       "      <td>PODEMOS</td>\n",
       "      <td>No te pierdas mañana el acto en Bilbao con @Pablo_Iglesias_, @juralde, @gagupilar, @RoberUriarte, @MiGorrotxategi, @Conchi_Palencia, @Saludisabel y @LanderMartinez_.\\n\\nA partir de las 10.30 h.\\n\\nSi no puedes asistir, podrás seguir el acto en directo en nuestras redes sociales. https://t.co/7wvnMAuHyU</td>\n",
       "    </tr>\n",
       "    <tr>\n",
       "      <th>2632</th>\n",
       "      <td>PODEMOS</td>\n",
       "      <td>Potent acte d’@EnComu_Podem a Barcelona. Gràcies @AdaColau @Jaumeasens i @Pablo_Iglesias_ per portar la dignitat a la política.\\n\\nPer tanta gent com s’han quedat fora de Cotxeres, l’Ada ha fet una salutació a tothom #10NVotaSolucions https://t.co/yVjOaGapvv</td>\n",
       "    </tr>\n",
       "    <tr>\n",
       "      <th>2636</th>\n",
       "      <td>PODEMOS</td>\n",
       "      <td>📹 @Pablo_Iglesias_: “Al menos esta vez dadnos una oportunidad y dadnos una fuerza suficiente para evitar un acuerdo del PSOE con la derecha”.\\n\\n#10NVotaSolucions #AVerSiVoyASerDeUP https://t.co/WiLF9JDGiE</td>\n",
       "    </tr>\n",
       "    <tr>\n",
       "      <th>2637</th>\n",
       "      <td>PODEMOS</td>\n",
       "      <td>▶️ “Catalunya es mereix un govern d'Espanya que escolti. A tots els catalans que us vau sentir representats al debat per @Pablo_Iglesias_, voteu Pablo Iglesias. Perquè defensar l’Espanya de Pablo Iglesias és defensar Catalunya.”\\n\\n@Jaumeasens a #10NVotaSolucions https://t.co/BwbczW4m6h</td>\n",
       "    </tr>\n",
       "    <tr>\n",
       "      <th>2638</th>\n",
       "      <td>PODEMOS</td>\n",
       "      <td>📹 @Pablo_Iglesias_: “Nosotros tendremos muchos defectos, pero creo que somos la única fuerza política capaz de conseguir un Gobierno que en este país defienda los derechos sociales y apueste por el diálogo en Catalunya”.\\n\\n#AVerSiVoyASerDeUP https://t.co/jhTuReG1JZ</td>\n",
       "    </tr>\n",
       "    <tr>\n",
       "      <th>2639</th>\n",
       "      <td>PODEMOS</td>\n",
       "      <td>📹 @Pablo_Iglesias_: “A la extrema derecha no se la combate con ‘¡que viene el lobo!’, se la combate con políticas sociales, escuelas públicas y apostando por una sanidad pública y universal. Las políticas que empobrecen son las que fomentan su crecimiento\".\\n\\n#10NVotaSolucion https://t.co/lV6RJ6kMAM</td>\n",
       "    </tr>\n",
       "    <tr>\n",
       "      <th>2640</th>\n",
       "      <td>PODEMOS</td>\n",
       "      <td>📹 @Pablo_Iglesias_: “A VOX les dijimos que la extrema derecha a nosotros no nos da ni media lección de ser español. Y hoy aquí quiero decir que visca Catalunya, visca la autonomía catalana, visca la escuela catalana y lo digo orgulloso de ser español”.\\n\\n#AVerSiVoyASerDeUP https://t.co/J5uwEQHySq</td>\n",
       "    </tr>\n",
       "    <tr>\n",
       "      <th>2641</th>\n",
       "      <td>PODEMOS</td>\n",
       "      <td>📹 @Pablo_Iglesias_: “Quiero pedir a la gente que confió en Pedro Sánchez, que confíe en la única fuerza política, que teniendo muchos defectos, ha demostrado que no le compran y que dice la verdad”.\\n\\n#10NVotaSolucions https://t.co/rIRESf4UKW</td>\n",
       "    </tr>\n",
       "    <tr>\n",
       "      <th>2642</th>\n",
       "      <td>PODEMOS</td>\n",
       "      <td>📹 @Pablo_Iglesias_: “El problema es que saben que si estamos en el Gobierno nos van a seguir votando mucho más. Por eso Ana Patricia Botín, la CEOE y las cloacas entran en campaña a trabajar a pleno rendimiento para que no gobernemos”.\\n\\n#10NVotaSolucions #AVerSiVoyASerDeUP https://t.co/qe6Mm8GxAl</td>\n",
       "    </tr>\n",
       "    <tr>\n",
       "      <th>2643</th>\n",
       "      <td>PODEMOS</td>\n",
       "      <td>📹 @Pablo_Iglesias_: “En 2015, @ahorapodemos, @IUnida y @EnComu_Podem, sumamos más de 6 millones de votos. Tuvimos más votos que el PSOE. Lo lógico tendría que haber sido un acuerdo de coalición del PSOE con nosotros. El PSOE se fue con Rivera”.\\n\\n#10NVotaSolucions https://t.co/2eN4TCpPFx</td>\n",
       "    </tr>\n",
       "    <tr>\n",
       "      <th>2644</th>\n",
       "      <td>PODEMOS</td>\n",
       "      <td>📹 @Pablo_Iglesias_: “A mucha gente que votó socialista queriendo un Gobierno de izquierdas, les pido que voten a @EnComu_Podem y a Unidas Podemos para garantizar que en este país hay un Gobierno de izquierdas”.\\n\\n#10NVotaSolucions #AVerSiVoyASerDeUP https://t.co/n4RD96mv5F</td>\n",
       "    </tr>\n",
       "    <tr>\n",
       "      <th>2645</th>\n",
       "      <td>PODEMOS</td>\n",
       "      <td>📹 @Pablo_Iglesias_: “¿Por qué insistimos en la fórmula de un Gobierno de coalición? Porque las cosas no salen a la primera y solo hay una garantía para que Sánchez no pacte con Casado: que nosotros salgamos fuertes del 10 de noviembre”.\\n\\n#10NVotaSolucions #AVerSiVoyASerDeUP https://t.co/MjYxptmmNz</td>\n",
       "    </tr>\n",
       "    <tr>\n",
       "      <th>2646</th>\n",
       "      <td>PODEMOS</td>\n",
       "      <td>📹 @Pablo_Iglesias_: “Ningún socialista va a aceptar que le cambien el 'con Rivera no' por el 'con Casado sí'”.\\n\\n#10NVotaSolucions #AVerSiVoyASerDeUP https://t.co/m0TwqwKdGb</td>\n",
       "    </tr>\n",
       "    <tr>\n",
       "      <th>2647</th>\n",
       "      <td>PODEMOS</td>\n",
       "      <td>📹 @Pablo_Iglesias_: “Pedro Sánchez utiliza a Cataluña como excusa para justificar un acuerdo con la derecha en materia económica”.\\n\\n#10NVotaSolucions #AVerSiVoyASerDeUP https://t.co/ZV4yH4ZXVL</td>\n",
       "    </tr>\n",
       "    <tr>\n",
       "      <th>2648</th>\n",
       "      <td>PODEMOS</td>\n",
       "      <td>📹 @Pablo_Iglesias_: “Ana Patricia Botín ha entrado en campaña a decir que no les gustamos. Os doy las gracias por poder presumir de que somos una fuerza política que no pide dinero a los bancos para hacer la campaña electoral”.\\n\\n#10NVotaSolucions #AVerSiVoyASerDeUP https://t.co/fcsTQcthZQ</td>\n",
       "    </tr>\n",
       "    <tr>\n",
       "      <th>2652</th>\n",
       "      <td>PODEMOS</td>\n",
       "      <td>Si quieres soluciones, vota soluciones.\\n\\nActo en Barcelona con @Pablo_Iglesias_, @AdaColau y @Jaumeasens.\\n\\n🔴 DIRECTO https://t.co/IuqFPuOGtg</td>\n",
       "    </tr>\n",
       "    <tr>\n",
       "      <th>2660</th>\n",
       "      <td>PODEMOS</td>\n",
       "      <td>📷 Así está Barcelona media hora antes del acto con @Pablo_Iglesias_, @JaumeAsens y @AdaColau. Si vives en Barcelona, estás a tiempo de llegar, si no puedes verlo en persona podrás seguir el streaming en nuestras redes a partir de las 18:30 h.\\n#10NVotaSolucions #aversivoyaserdeUP https://t.co/rVGKgbOtuf</td>\n",
       "    </tr>\n",
       "    <tr>\n",
       "      <th>2669</th>\n",
       "      <td>PODEMOS</td>\n",
       "      <td>Este viernes cerramos la campaña de Unidas Podemos en el Pabellón 1 de IFEMA en Madrid con @Pablo_Iglesias_, @AdaColau, @agarzon, @juralde, @VeraNoelia, @MayoralRafa, @ionebelarra y muchos compañeros y compañeras más, con la música de @KikoVeneno y @ofunkilloband.\\n\\n¡Os esperamos! https://t.co/Py1q62aGGn</td>\n",
       "    </tr>\n",
       "    <tr>\n",
       "      <th>2674</th>\n",
       "      <td>PODEMOS</td>\n",
       "      <td>👏👏👏\\n\\n📽 \"El día 10 hay un voto para defender la seguridad, las garantías, la educación y la sanidad pública, un sistema universal de dependencia. Eso es defender la patria\".\\n\\n@Pablo_Iglesias_ #aversivoyaserdeUP https://t.co/54eYeVBnel</td>\n",
       "    </tr>\n",
       "    <tr>\n",
       "      <th>2675</th>\n",
       "      <td>PODEMOS</td>\n",
       "      <td>📽 \"¿Cuál fue la única formación política que recordó el art. 31, que dice que el sistema fiscal tiene que ser redistributivo, y quién propuso un impuesto para que los bancos devuelvan los 60.000 millones?\".\\n\\n@Pablo_Iglesias_ #aversivoyaserdeUP https://t.co/azi9ciJbDS</td>\n",
       "    </tr>\n",
       "    <tr>\n",
       "      <th>2676</th>\n",
       "      <td>PODEMOS</td>\n",
       "      <td>📽 \"Fue un orgullo, como demócrata, decirle a Santiago Abascal que los fascistas no nos dan ni media lección de lo que significa ser español\".\\n@Pablo_Iglesias_ #aversivoyaserdeUP https://t.co/ArFKR6KAI9</td>\n",
       "    </tr>\n",
       "    <tr>\n",
       "      <th>2678</th>\n",
       "      <td>PODEMOS</td>\n",
       "      <td>📽 \"Siempre nos dicen que no se puede. ¿Cuántas veces nos dijeron que era una locura subir el salario mínimo a 900 euros? Hoy, ninguna fuerza política se atreve a proponer que tiene que bajar\".\\n\\n@Pablo_Iglesias_ #aversivoyaserdeUP https://t.co/HryY5wZNte</td>\n",
       "    </tr>\n",
       "    <tr>\n",
       "      <th>2679</th>\n",
       "      <td>PODEMOS</td>\n",
       "      <td>📽 \"La gente socialista es de izquierdas y no quieren ver a su partido gobernando con el PP. Tienen memoria y están hartos de que les engañen\".\\n\\n@Pablo_Iglesias_ #aversivoyaserdeUP https://t.co/4Xl4L3IFIW</td>\n",
       "    </tr>\n",
       "    <tr>\n",
       "      <th>2680</th>\n",
       "      <td>PODEMOS</td>\n",
       "      <td>📽 \"Mucha gente socialista está pensando que le están tomando el pelo...Mucha gente socialista que se identificaba con aquel \"Rivera no\" y que no entiende que el \"Rivera no\" se convierta en \"con Casado sí\" \".\\n\\n@Pablo_Iglesias_ #aversivoyaserdeUP https://t.co/BztAuknPBF</td>\n",
       "    </tr>\n",
       "    <tr>\n",
       "      <th>2682</th>\n",
       "      <td>PODEMOS</td>\n",
       "      <td>🎥 \"Ayer, en 3 entrevistas que me hicieron en Castellón, los periodistas reconocieron que Pablo Iglesias es el único que habla de los problemas de la gente y de la España vaciada. En Castellón sabemos mucho de esta cuestión\".\\n@MarisaSaavedraM #aversivoyaserdeUP https://t.co/UYDyBSRAA2</td>\n",
       "    </tr>\n",
       "    <tr>\n",
       "      <th>2683</th>\n",
       "      <td>PODEMOS</td>\n",
       "      <td>📽 \"Hoy han preguntado en la radio pública a Sánchez por qué insiste en pedir el apoyo a PP y Cs para gobernar. Él ha respondido con otra pregunta: ¿y por qué no?\".\\n\\n@Pablo_Iglesias_ #aversivoyaserdeUP https://t.co/3NW2rFMoR2</td>\n",
       "    </tr>\n",
       "    <tr>\n",
       "      <th>2684</th>\n",
       "      <td>PODEMOS</td>\n",
       "      <td>📽 \"Quiero dar las gracias a toda la gente que nos ha financiado con microcréditos. Gracias a vosotros y a vosotras, ningún banquero de este país va a llamarnos para decirnos lo que tenemos que hacer\".\\n\\n📲 https://t.co/4URpsDT986\\n\\n@Pablo_Iglesias_ #aversivoyaserdeUP https://t.co/DKcq03JfvN</td>\n",
       "    </tr>\n",
       "    <tr>\n",
       "      <th>2689</th>\n",
       "      <td>PODEMOS</td>\n",
       "      <td>🔴 EN DIRECTO: Encuentro con @Pablo_Iglesias_ en Valencia. Coméntalo con #aversivoyaserdeUP. \\n\\nhttps://t.co/dc64y68KCc</td>\n",
       "    </tr>\n",
       "    <tr>\n",
       "      <th>2692</th>\n",
       "      <td>PODEMOS</td>\n",
       "      <td>Pues si, solo el pueblo salva al pueblo, y vamos a seguir luchando. Por el futuro de nuestras hijas e hijos, llena la Fira de València escuchando a @NaiaraDavo @m_tere_perez @TxemaGuijarro @pilar_lima @rmartinezdalmau @MarisaSaavedraM @Pablo_Iglesias_ #aversivoyaserdeUP. @Podem_ https://t.co/9YFQt1CjX4</td>\n",
       "    </tr>\n",
       "    <tr>\n",
       "      <th>2697</th>\n",
       "      <td>PODEMOS</td>\n",
       "      <td>💜Comença l'acte d' #UnidesPodem a #València amb @Pablo_Iglesias_\\ni companyes i companys de la candidatura de la terra: valencianes, castellonenques i alacantins.\\nFem política, perquè si no altres la faran per tu, i probablement contra tu. \\n#aversivoyaserdeUP #SiSePuede https://t.co/So8OR9HHPa</td>\n",
       "    </tr>\n",
       "    <tr>\n",
       "      <th>2701</th>\n",
       "      <td>PODEMOS</td>\n",
       "      <td>🔴 EN DIRECTO: Encuentro con @Pablo_Iglesias_ en Valencia. Coméntalo con #aversivoyaserdeUP.\\n https://t.co/BJG5i8LWWe</td>\n",
       "    </tr>\n",
       "    <tr>\n",
       "      <th>2702</th>\n",
       "      <td>PODEMOS</td>\n",
       "      <td>Tothom reunit circularment a la Fira de València espera 👉 @Pablo_Iglesias_ \\n\\nAmb ell, @Hector_Illueca_ @MarisaSaavedraM @TxemaGuijarro @Roser_Maestro @m_tere_perez @rmartinezdalmau @NaiaraDavo i @pilar_lima \\n\\n👀 Pots seguir-ho ací https://t.co/lY5upk0zrI https://t.co/FvwDhLdJzV https://t.co/hHmzu24VvD</td>\n",
       "    </tr>\n",
       "    <tr>\n",
       "      <th>2719</th>\n",
       "      <td>PODEMOS</td>\n",
       "      <td>En unos minutos empieza el Encuentro con la Gente de @Pablo_Iglesias_ en Valencia. Si estás por allí, sube tu foto con #aversivoyaserdeUP 💜. \\n\\nTambién emitiremos el acto desde nuestras redes. ¡Adelante que sí puede! https://t.co/lVWB8F7BBZ</td>\n",
       "    </tr>\n",
       "    <tr>\n",
       "      <th>2743</th>\n",
       "      <td>PODEMOS</td>\n",
       "      <td>📻 \"Sánchez trata de seducir a la derecha con la excusa de Cataluña, y después vienen los recortes\".\\n\\n@Pablo_Iglesias_ en @HoyPorHoy https://t.co/6iVpbJgziU</td>\n",
       "    </tr>\n",
       "    <tr>\n",
       "      <th>2744</th>\n",
       "      <td>PODEMOS</td>\n",
       "      <td>📻 \"Una negociación de Gobierno no se puede hacer en horas. No volveré a aceptar que negociemos en cinco o doce horas. Una negociación de Gobierno tiene que durar, al menos, algunas semanas\".\\n\\n@Pablo_Iglesias_ @HoyPorHoy https://t.co/HfQn4Z7duU</td>\n",
       "    </tr>\n",
       "    <tr>\n",
       "      <th>2745</th>\n",
       "      <td>PODEMOS</td>\n",
       "      <td>📻 \"Siento mucha tristeza porque perdimos una oportunidad histórica, pero no pudimos hacer más. Hemos demostrado que nadie ha cedido tanto como nosotros\".\\n\\n@Pablo_Iglesias_ en @HoyPorHoy https://t.co/UArmSHuk7g</td>\n",
       "    </tr>\n",
       "    <tr>\n",
       "      <th>2746</th>\n",
       "      <td>PODEMOS</td>\n",
       "      <td>📻 \"Ha habido una discusión muy grande en el Gobierno entre ministras partidarias de la mochila austriaca, como Calviño, y otras más partidarias de políticas de izquierdas. Señalar a Calviño es un guiño hacia los poderes económicos europeos y el PP\".\\n\\n@Pablo_Iglesias_ @HoyPorHoy https://t.co/EhhbZ8b37D</td>\n",
       "    </tr>\n",
       "    <tr>\n",
       "      <th>2747</th>\n",
       "      <td>PODEMOS</td>\n",
       "      <td>📻 \"Cuando alguien no tiene mayoría absoluta hay que buscar un Gobierno de coalición. No es sensato que si estás lejos de esa mayoría quieras todos los sillones para ti\".\\n\\n@Pablo_Iglesias_ en @HoyPorHoy https://t.co/Wbz8WJzvzn</td>\n",
       "    </tr>\n",
       "    <tr>\n",
       "      <th>2748</th>\n",
       "      <td>PODEMOS</td>\n",
       "      <td>📻 \"Vemos a distintos Pedros Sánchez en función de la coyuntura. Por eso, si después de las elecciones estamos fuertes y no le queda más remedio que entenderse con nosotros, no tendrá complejos para hacerlo\".\\n\\n@Pablo_Iglesias_ en @HoyPorHoy https://t.co/4XpL5PoXWu</td>\n",
       "    </tr>\n",
       "    <tr>\n",
       "      <th>2749</th>\n",
       "      <td>PODEMOS</td>\n",
       "      <td>📻 \"La mayoría de personas que votan al PSOE prefieren un acuerdo de Gobierno de coalición con nosotros antes que un acuerdo de investidura con el PP\".\\n\\n@Pablo_Iglesias_ en @HoyPorHoy https://t.co/OP4QwXgZ0D</td>\n",
       "    </tr>\n",
       "    <tr>\n",
       "      <th>2750</th>\n",
       "      <td>PODEMOS</td>\n",
       "      <td>📻 \"La única garantía para evitar que Sánchez busque al PP es que nosotros salgamos muy fuertes del día 10\".\\n\\n@Pablo_Iglesias_ en @HoyPorHoy https://t.co/2doYIwhu9N</td>\n",
       "    </tr>\n",
       "    <tr>\n",
       "      <th>2751</th>\n",
       "      <td>PODEMOS</td>\n",
       "      <td>📻 \"A la extrema derecha se la combate con políticas sociales que garanticen la seguridad de la ciudadanía con sueldos y condiciones de trabajo dignas, con leyes de atención a la dependencia...\".\\n\\n@Pablo_Iglesias_ en @HoyPorHoy https://t.co/jEvcCTDa7n</td>\n",
       "    </tr>\n",
       "    <tr>\n",
       "      <th>2752</th>\n",
       "      <td>PODEMOS</td>\n",
       "      <td>📻 \"Lo que me hace sentir orgulloso de ser español son los servicios públicos y no tener una bandera muy grande\".\\n\\n @Pablo_Iglesias_ en @HoyPorHoy https://t.co/NyxHaB3KVW</td>\n",
       "    </tr>\n",
       "    <tr>\n",
       "      <th>2753</th>\n",
       "      <td>PODEMOS</td>\n",
       "      <td>Comenzamos la mañana con @Pablo_Iglesias_ en @HoyPorHoy. ☕\\n\\n🔴 Puedes verlo en directo aquí: https://t.co/oVzOY2Rd1J\\n\\n¡No te lo pierdas! https://t.co/xufN2z6AKz</td>\n",
       "    </tr>\n",
       "    <tr>\n",
       "      <th>2754</th>\n",
       "      <td>PODEMOS</td>\n",
       "      <td>El líder de Unidas Podemos, Pablo Iglesias (@Pablo_Iglesias_) estará a partir de las 9 en 'Hoy por Hoy'\\nhttps://t.co/bFf3CvSdJy</td>\n",
       "    </tr>\n",
       "    <tr>\n",
       "      <th>2755</th>\n",
       "      <td>PODEMOS</td>\n",
       "      <td>O pasado domingo case 2.000 persoas encheron o Palexco da Coruña no encontro con @Pablo_Iglesias_ defendendo #UnGobernoContigo. \\n\\n📽 As imaxes seguen emocionando. Hoxe estreamos un resumo cos mellores momentos. 👇 https://t.co/hBjsXvz1ti</td>\n",
       "    </tr>\n",
       "    <tr>\n",
       "      <th>2757</th>\n",
       "      <td>PODEMOS</td>\n",
       "      <td>No te pierdas la entrevista que le ha hecho @MonederoJC a @Pablo_Iglesias_ hoy @enlafronteratv.\\n\\nPuedes verla en directo y completa aquí. 👇 #ResacaElectoralELF\\nhttps://t.co/41VVyV1kTs</td>\n",
       "    </tr>\n",
       "    <tr>\n",
       "      <th>2758</th>\n",
       "      <td>PODEMOS</td>\n",
       "      <td>El #DebateElectoral dejó muchos memes, algún que otro dato incorrecto y la sensación de que no hemos avanzado nada de cara al #10N.\\n\\n@MonederoJC ha hablado con @Pablo_Iglesias_ sobre ello. Sigue aquí #ResacaElectoralELF. ¡Te esperamos! https://t.co/l9t3Zg3lHb</td>\n",
       "    </tr>\n",
       "    <tr>\n",
       "      <th>2759</th>\n",
       "      <td>PODEMOS</td>\n",
       "      <td>“Cualquiera que dé un paso adelante con @ahorapodemos se la está jugando”.\\n\\n@Pablo_Iglesias_ y @MonederoJC hablan sobre @VickyRosell en #ResacaDebateELF. Síguelo aquí: https://t.co/hhCZK7goaB https://t.co/tNVxOcH7T8</td>\n",
       "    </tr>\n",
       "    <tr>\n",
       "      <th>2760</th>\n",
       "      <td>PODEMOS</td>\n",
       "      <td>El Derecho no termina de entender los derechos de género.\\n\\nResponde @Pablo_Iglesias_ a @MonederoJC en #ResacaDebateELF. Síguelo aquí: https://t.co/hhCZK7goaB https://t.co/dkcaBTHV7z</td>\n",
       "    </tr>\n",
       "    <tr>\n",
       "      <th>2762</th>\n",
       "      <td>PODEMOS</td>\n",
       "      <td>Simplemente genial éste resumen de Spanish Revolution del #DebateElectoral \\n\\n@Pablo_Iglesias_  fué el único que no normalizó el fascismo en el debate, mientras los demás lo normalizaron. Disfrútalo y comparte. 📽\\n#El10NVotareUP\\n https://t.co/2wWsBJPFlu</td>\n",
       "    </tr>\n",
       "    <tr>\n",
       "      <th>2763</th>\n",
       "      <td>PODEMOS</td>\n",
       "      <td>Pablo Iglesias al final cumplió lo acordado con @BuenismoBien.\\n\\nPablo siempre cumple lo que dice. 🤣 https://t.co/HoxD0qCmP5</td>\n",
       "    </tr>\n",
       "    <tr>\n",
       "      <th>2769</th>\n",
       "      <td>PODEMOS</td>\n",
       "      <td>📅 Mañana, miércoles 6 de noviembre, @Pablo_Iglesias_ estará en un encuentro con la gente en Valencia. ¡No te lo pierdas!\\n\\n⏰ A las 12.30 h en Feria de Valencia.\\n\\n📲 Si no puedes acudir, podrás seguir en directo el encuentro en nuestras redes sociales. https://t.co/73uBLsl5lA</td>\n",
       "    </tr>\n",
       "    <tr>\n",
       "      <th>2770</th>\n",
       "      <td>PODEMOS</td>\n",
       "      <td>🔄 COMPARTE este vídeo viral con los mejores momentos de @Pablo_Iglesias_ en el #DebateElectoral.\\n\\nSimplemente BRUTAL. 👊👊\\nhttps://t.co/BOCTVn0LkW</td>\n",
       "    </tr>\n",
       "    <tr>\n",
       "      <th>2775</th>\n",
       "      <td>PODEMOS</td>\n",
       "      <td>En España los neoliberales se dividen entre los vergonzantes, los cuñaos, los conservadores y los pinochetistas. La sensación es que en el debate electoral solo @Pablo_Iglesias_ defendió la democracia frente a la dictadura de las multinacionales y los fondos buitre.</td>\n",
       "    </tr>\n",
       "    <tr>\n",
       "      <th>2776</th>\n",
       "      <td>PODEMOS</td>\n",
       "      <td>🗓️ El viernes nos vemos junto a @Pablo_Iglesias_, @AdaColau, @VickyRosell, @agarzon, @pnique, @ionebelarra, @VeraNoelia, @juralde y muchos compañeros más para dar el último empujón a esta campaña hacia un #UnGobiernoContigo, bailando al ritmo de @KikoVeneno y @ofunkilloband. 🎶 https://t.co/IfcBgHUYTw</td>\n",
       "    </tr>\n",
       "    <tr>\n",
       "      <th>2778</th>\n",
       "      <td>PODEMOS</td>\n",
       "      <td>Enhorabuena, @Pablo_Iglesias_, por ganar el #DebateElectoral. 👏👏💜💜 https://t.co/H8wX0ZbKO9</td>\n",
       "    </tr>\n",
       "    <tr>\n",
       "      <th>2780</th>\n",
       "      <td>PODEMOS</td>\n",
       "      <td>Los técnicos de Hacienda atribuyen el 70% del fraude a las grandes empresas y a los grandes patrimonios. Ese es el verdadero expolio en nuestro país. \\n@Pablo_Iglesias_, en el #DebateElectoral. 👇 https://t.co/C2eaeRSqAg</td>\n",
       "    </tr>\n",
       "    <tr>\n",
       "      <th>2791</th>\n",
       "      <td>PODEMOS</td>\n",
       "      <td>Lección de patriotismo de @Pablo_Iglesias_ a VOX. 👋👋👇 https://t.co/uaJIiorndL</td>\n",
       "    </tr>\n",
       "    <tr>\n",
       "      <th>2797</th>\n",
       "      <td>PODEMOS</td>\n",
       "      <td>Ayer, @Pablo_Iglesias_ arrasó en el #DebateElectoral con medidas y soluciones para defender los derechos de la gente y los intereses de la mayoría social. Solo hay una opción para lograr un Gobierno progresista: Unidas Podemos. \\nhttps://t.co/Vaw5cNoFIi</td>\n",
       "    </tr>\n",
       "    <tr>\n",
       "      <th>2799</th>\n",
       "      <td>PODEMOS</td>\n",
       "      <td>Tenemos para elegir entre dos empleados de la banca. Sánchez y Rivera. \\nDos vividores de la política que no han dado palo al agua en 40 años. Abascal y Casado.\\nY un profesor universitario. Pablo Iglesias.\\nSolo con eso debería bastarnos para saber a quien elegir.\\n#DebateElectoral</td>\n",
       "    </tr>\n",
       "    <tr>\n",
       "      <th>2800</th>\n",
       "      <td>PODEMOS</td>\n",
       "      <td>BOOOOOOOM\\n\\nZASCÓN de Pablo Iglesias a Abascal. #DebateElectoral https://t.co/WRuadmDWfT</td>\n",
       "    </tr>\n",
       "    <tr>\n",
       "      <th>2801</th>\n",
       "      <td>PODEMOS</td>\n",
       "      <td>📽 @Pablo_Iglesias_ responde a las preguntas de los periodistas después del #DebateElectoral. https://t.co/6bpPa0QAzb</td>\n",
       "    </tr>\n",
       "    <tr>\n",
       "      <th>2803</th>\n",
       "      <td>PODEMOS</td>\n",
       "      <td>Brillante @Pablo_Iglesias_ en el minuto de oro del #DebateElectoral 👏👏\\n\\nQue nadie te convenza de que no se pueden cambiar las cosas. Puede haber un Gobierno que defienda a la gente.\\n\\n¡Sí se puede! https://t.co/yrJIjSvRTz</td>\n",
       "    </tr>\n",
       "    <tr>\n",
       "      <th>2804</th>\n",
       "      <td>PODEMOS</td>\n",
       "      <td>El voto rogado impide a nuestros compatriotas ejercer su derecho al voto. Hay que acabar con el voto robado.\\n\\n@Pablo_Iglesias_ en el #DebateElectoral https://t.co/IAvqru1Awm</td>\n",
       "    </tr>\n",
       "    <tr>\n",
       "      <th>2805</th>\n",
       "      <td>PODEMOS</td>\n",
       "      <td>📺  \"Queremos hacer un Gobierno que sea referencia, que construya un modelo del sur de Europa que defienda los derechos sociales\".\\n@Pablo_Iglesias_ en el #DebateElectoral https://t.co/IgPT7JOrBV</td>\n",
       "    </tr>\n",
       "    <tr>\n",
       "      <th>2806</th>\n",
       "      <td>PODEMOS</td>\n",
       "      <td>📺 La seguridad no la dan ni los muros ni el racismo, la da la protección de las familias y los trabajadores ante las amenazas de las multinacionales y los fondos buitre que no pagan impuestos en España.\\n\\n@Pablo_Iglesias_ en el #DebateElectoral https://t.co/yxttGE5DEX</td>\n",
       "    </tr>\n",
       "    <tr>\n",
       "      <th>2808</th>\n",
       "      <td>PODEMOS</td>\n",
       "      <td>▶️ @Pablo_Iglesias_: \"Es un honor tener a @RosaLluchBramon en nuestras listas que no presume, que trabaja para que este país sea mejor\"\\n\\n#DebateElectoral https://t.co/4gbyfhxpvW</td>\n",
       "    </tr>\n",
       "    <tr>\n",
       "      <th>2809</th>\n",
       "      <td>PODEMOS</td>\n",
       "      <td>📺 \"En nuestras listas tenemos a víctimas del terrorismo que no van dando lecciones a nadie, trabajan para que este país sea un lugar mejor\".\\n\\n@Pablo_Iglesias_ hablando claro y contundente en el #DebateElectoral https://t.co/ek4E8wwGqC</td>\n",
       "    </tr>\n",
       "    <tr>\n",
       "      <th>2810</th>\n",
       "      <td>PODEMOS</td>\n",
       "      <td>📺  \"Hay muchos socialistas que están perplejos pensando en cómo es posible que su candidato prefiera un acuerdo de Gobierno con el PP y Cs. Esto va de lo que le interesa a nuestro país, de proteger a la gente\".\\n@Pablo_Iglesias_ en el #DebateElectoral https://t.co/5mnHq13o6P</td>\n",
       "    </tr>\n",
       "    <tr>\n",
       "      <th>2811</th>\n",
       "      <td>PODEMOS</td>\n",
       "      <td>Muy bien @Pablo_Iglesias_ diciéndole a Sánchez que a la extrema derecha se la combate con políticas sociales y servicios públicos,  y no pidiendo el apoyo a Cs y PP.  #DebateElectoral</td>\n",
       "    </tr>\n",
       "    <tr>\n",
       "      <th>2812</th>\n",
       "      <td>PODEMOS</td>\n",
       "      <td>📺 \"Si tras el 10N no hay mayorías absolutas, el próximo Gobierno será de coalición por la derecha o por la izquierda. Sánchez debería aclarar si quiere a Casado o a nosotros\".\\n\\n@Pablo_Iglesias_ #DebateElectoral https://t.co/5h40WRuPjz</td>\n",
       "    </tr>\n",
       "    <tr>\n",
       "      <th>2813</th>\n",
       "      <td>PODEMOS</td>\n",
       "      <td>Ahí lo tenéis. Pablo Iglesias le vuelve a tender la mano y Pedro Sánchez le responde defendiendo a los empresarios. No hay más preguntas, señoría.</td>\n",
       "    </tr>\n",
       "    <tr>\n",
       "      <th>2814</th>\n",
       "      <td>PODEMOS</td>\n",
       "      <td>📺  \"Para bajar la factura de la luz, tenemos que acabar con las puertas giratorias que hacen que exministros y expresidentes terminen en los consejos de administración de ese oligopolio\".\\n@Pablo_Iglesias_ en el #DebateElectoral https://t.co/G7xtFKpMx2</td>\n",
       "    </tr>\n",
       "    <tr>\n",
       "      <th>2815</th>\n",
       "      <td>PODEMOS</td>\n",
       "      <td>Gran repaso de @Pablo_Iglesias_ de los temas de los que nunca se habla en los debates de televisión. 👏👏🔝\\n\\n#DebateElectoral https://t.co/ZxPfwXlj0z</td>\n",
       "    </tr>\n",
       "    <tr>\n",
       "      <th>2817</th>\n",
       "      <td>PODEMOS</td>\n",
       "      <td>“Tener que derogar” es una perífrasis verbal que Sánchez usa en campaña electoral. Es más, sólo deroga la reforma laboral en campaña electoral @Pablo_Iglesias_ \\n#DebateElectoral https://t.co/nOFayvR4cE</td>\n",
       "    </tr>\n",
       "    <tr>\n",
       "      <th>2818</th>\n",
       "      <td>PODEMOS</td>\n",
       "      <td>✅ Dentista gratis. \\n✅ Atención sanitaria a domicilio en las áreas rurales. \\n✅ Educación de 0 a 3 años gratuita. \\n✅ Material escolar gratuito para las familias vulnerables.\\n✅ Universidad gratuita, incluidos másteres habilitantes.\\n@Pablo_Iglesias_ en #DebateElectoral https://t.co/BhFqFGSgPu</td>\n",
       "    </tr>\n",
       "    <tr>\n",
       "      <th>2819</th>\n",
       "      <td>PODEMOS</td>\n",
       "      <td>📺 \"Cuando llega una crisis, todos sabemos que las mujeres son quienes más las sufren\".\\n\\n@Pablo_Iglesias_ en el #DebateElectoral https://t.co/KCpI7huMuf</td>\n",
       "    </tr>\n",
       "    <tr>\n",
       "      <th>2821</th>\n",
       "      <td>PODEMOS</td>\n",
       "      <td>▶️ @Pablo_Iglesias_: \"Estoy muy orgulloso de vivir en un país que habla muchas lenguas, con múltiples identidades y donde los conflictos se solucionan con diálogo\"\\n\\n#DebateElectoral https://t.co/eHJKmqTWt2</td>\n",
       "    </tr>\n",
       "    <tr>\n",
       "      <th>2822</th>\n",
       "      <td>PODEMOS</td>\n",
       "      <td>Gracias @Pablo_Iglesias_ por hablar del reto de la cohesión territorial en nuestro país y plantear cuestiones que van más allá del conflicto catalán. Gracias por hablar del tren extremeño como paradigma del abandono que sufre nuestra tierra. #DebateElectoral #debatea5RTVE</td>\n",
       "    </tr>\n",
       "    <tr>\n",
       "      <th>2823</th>\n",
       "      <td>PODEMOS</td>\n",
       "      <td>👉@Pablo_Iglesias_ :«Hay algo más importante a que gobierne Sánchez o que gobierne yo, es un Gobierno de izquierdas. Hay que hacer un acuerdo. Si no, el acuerdo será de la derecha».\\n\\nEsto es responsabilidad política. Quizá Pedro Sánchez debería tomar nota. #DebateElectoral https://t.co/BOzYuAXrom</td>\n",
       "    </tr>\n",
       "    <tr>\n",
       "      <th>2824</th>\n",
       "      <td>PODEMOS</td>\n",
       "      <td>📺 \"Hay algo más importante que que gobierne Sánchez o que gobierne yo, y es que haya un Gobierno de izquierdas. Eso pasa porque nos pongamos de acuerdo porque, si no, el acuerdo será con la derecha\".\\n@Pablo_Iglesias_ en el #DebateElectoral https://t.co/hU1UQ1MG8R</td>\n",
       "    </tr>\n",
       "    <tr>\n",
       "      <th>2825</th>\n",
       "      <td>PODEMOS</td>\n",
       "      <td>«No nos tenemos que achicar ante esta derecha ignorante y agresiva que dice que no hay países plurinacionales» @Pablo_Iglesias_ \\nNecesitamos un acuerdo de país que apueste por el entendimiento para resolver el problema catalán, solo con diálogo podremos avanzar. #DebateElectoral https://t.co/xAJ7VDneDB</td>\n",
       "    </tr>\n",
       "    <tr>\n",
       "      <th>2826</th>\n",
       "      <td>PODEMOS</td>\n",
       "      <td>\"A muchos jóvenes de este país se les dice que son autónomos cuando tienen un solo pagador. Si tienes un solo pagador, no eres autónomo\".\\n\\n@Pablo_Iglesias_ en el #DebateElectoral https://t.co/l55r1nxnUy</td>\n",
       "    </tr>\n",
       "    <tr>\n",
       "      <th>2827</th>\n",
       "      <td>PODEMOS</td>\n",
       "      <td>Ni una lección de patriotismo de la extrema derecha. \\n\\n👏👏 @Pablo_Iglesias_ en el #DebateElectoral https://t.co/lroNMyB0aa</td>\n",
       "    </tr>\n",
       "    <tr>\n",
       "      <th>2828</th>\n",
       "      <td>PODEMOS</td>\n",
       "      <td>📺 \"Lo que expolia a nuestro país es el fraude fiscal. Los técnicos de Hacienda atribuyen el 70% del fraude a las grandes empresas y a los grandes patrimonios\".\\n@Pablo_Iglesias_ en el #DebateElectoral https://t.co/G0mltZf5Mz</td>\n",
       "    </tr>\n",
       "    <tr>\n",
       "      <th>2829</th>\n",
       "      <td>PODEMOS</td>\n",
       "      <td>📜 Frente a la crisis, la Constitución española. Los recortes por arriba y no por abajo. ✂️\\n\\n📺 @Pablo_Iglesias_, sobre la desaceleración económica, en el #DebateElectoral https://t.co/zUoQL2AJY6</td>\n",
       "    </tr>\n",
       "    <tr>\n",
       "      <th>2832</th>\n",
       "      <td>PODEMOS</td>\n",
       "      <td>📺 \"Yo me siento orgulloso de ser español. Me importa presumir de un país en el que tenemos una sanidad pública y universal. Eso hace que me sienta orgulloso de ser español, no tener una bandera muy grande\". \\n@Pablo_Iglesias_ en el #DebateElectoral https://t.co/eswRJ5x9vl</td>\n",
       "    </tr>\n",
       "    <tr>\n",
       "      <th>2833</th>\n",
       "      <td>PODEMOS</td>\n",
       "      <td>\"A mí usted no me va a dar ninguna lección de ser español\" #DebateElectoral #DebateA5 #Abascal #Iglesias \\nhttps://t.co/P0RYHOHvU2</td>\n",
       "    </tr>\n",
       "    <tr>\n",
       "      <th>2834</th>\n",
       "      <td>PODEMOS</td>\n",
       "      <td>📺 @Pablo_Iglesias_ en el #DebateElectoral\\n\\n\"Compitiendo con la derecha por quién tiene la medida más dura contra Cataluña no vamos a ninguna parte. Pedro Sánchez se equivoca si busca a la derecha como aliada para tratar de resolver el problema catalán\". https://t.co/laYzlexs9P</td>\n",
       "    </tr>\n",
       "    <tr>\n",
       "      <th>2835</th>\n",
       "      <td>PODEMOS</td>\n",
       "      <td>📺 @Pablo_Iglesias_ en el #DebateElectoral\\n\\n\"Cuando en un bloque que se llama 'cohesión territorial' hablamos solo de Cataluña, faltamos al respeto a millones de españoles que viven en sus carnes los problemas que vive el mundo rural de los que nadie habla\". https://t.co/zSuTbB6wXn</td>\n",
       "    </tr>\n",
       "    <tr>\n",
       "      <th>2836</th>\n",
       "      <td>PODEMOS</td>\n",
       "      <td>📺 \"Se acerca una desaceleración y ya sabemos qué pasaría si gobierna el PSOE con el PP. Por nuestra parte, sin reproches, dispuestos a hacer un Gobierno de coalición que proteja a la gente de este país\". \\n@Pablo_Iglesias_ #DebateElectoral https://t.co/hWa6yKUYv5</td>\n",
       "    </tr>\n",
       "    <tr>\n",
       "      <th>2838</th>\n",
       "      <td>PODEMOS</td>\n",
       "      <td>Las cosas difíciles no salen a la primera, pero hemos demostrado que no nos dejamos comprar. Vamos a trabajar para lograr un Gobierno contigo, con la mayoría social de nuestro país. No te pierdas a @Pablo_Iglesias_ en el #DebateElectoral, a partir de las 22.00 h. https://t.co/G97A4RQtb3</td>\n",
       "    </tr>\n",
       "    <tr>\n",
       "      <th>2845</th>\n",
       "      <td>PODEMOS</td>\n",
       "      <td>🚖 @Pablo_Iglesias_ llega al #DebateElectoral en taxi. ¡No te lo pierdas! Esta noche, a partir de las 22.00 h. https://t.co/coW8D7K8EO</td>\n",
       "    </tr>\n",
       "  </tbody>\n",
       "</table>\n",
       "</div>"
      ],
      "text/plain": [
       "          screen_name  \\\n",
       "46      Santi_ABASCAL   \n",
       "69      Santi_ABASCAL   \n",
       "321            vox_es   \n",
       "325            vox_es   \n",
       "345            vox_es   \n",
       "347            vox_es   \n",
       "348            vox_es   \n",
       "349            vox_es   \n",
       "361            vox_es   \n",
       "467            vox_es   \n",
       "562      pablocasado_   \n",
       "1051        populares   \n",
       "1114    Albert_Rivera   \n",
       "1573     CiudadanosCs   \n",
       "1688  sanchezcastejon   \n",
       "1710  sanchezcastejon   \n",
       "1740             PSOE   \n",
       "1923             PSOE   \n",
       "1976             PSOE   \n",
       "2032             PSOE   \n",
       "2054             PSOE   \n",
       "2065             PSOE   \n",
       "2083             PSOE   \n",
       "2142             PSOE   \n",
       "2146             PSOE   \n",
       "2147             PSOE   \n",
       "2167             PSOE   \n",
       "2182             PSOE   \n",
       "2192    PabloIglesias   \n",
       "2195    PabloIglesias   \n",
       "2199    PabloIglesias   \n",
       "2205    PabloIglesias   \n",
       "2214    PabloIglesias   \n",
       "2225    PabloIglesias   \n",
       "2228    PabloIglesias   \n",
       "2233    PabloIglesias   \n",
       "2235    PabloIglesias   \n",
       "2241    PabloIglesias   \n",
       "2248    PabloIglesias   \n",
       "2259    PabloIglesias   \n",
       "2263    PabloIglesias   \n",
       "2265    PabloIglesias   \n",
       "2268    PabloIglesias   \n",
       "2288    PabloIglesias   \n",
       "2299    PabloIglesias   \n",
       "2301    PabloIglesias   \n",
       "2302    PabloIglesias   \n",
       "2305    PabloIglesias   \n",
       "2307    PabloIglesias   \n",
       "2363    PabloIglesias   \n",
       "2369          PODEMOS   \n",
       "2370          PODEMOS   \n",
       "2372          PODEMOS   \n",
       "2373          PODEMOS   \n",
       "2374          PODEMOS   \n",
       "2375          PODEMOS   \n",
       "2376          PODEMOS   \n",
       "2377          PODEMOS   \n",
       "2378          PODEMOS   \n",
       "2379          PODEMOS   \n",
       "2446          PODEMOS   \n",
       "2447          PODEMOS   \n",
       "2448          PODEMOS   \n",
       "2449          PODEMOS   \n",
       "2451          PODEMOS   \n",
       "2452          PODEMOS   \n",
       "2453          PODEMOS   \n",
       "2454          PODEMOS   \n",
       "2455          PODEMOS   \n",
       "2463          PODEMOS   \n",
       "2464          PODEMOS   \n",
       "2465          PODEMOS   \n",
       "2466          PODEMOS   \n",
       "2467          PODEMOS   \n",
       "2468          PODEMOS   \n",
       "2469          PODEMOS   \n",
       "2470          PODEMOS   \n",
       "2472          PODEMOS   \n",
       "2475          PODEMOS   \n",
       "2476          PODEMOS   \n",
       "2478          PODEMOS   \n",
       "2480          PODEMOS   \n",
       "2482          PODEMOS   \n",
       "2483          PODEMOS   \n",
       "2484          PODEMOS   \n",
       "2486          PODEMOS   \n",
       "2539          PODEMOS   \n",
       "2564          PODEMOS   \n",
       "2573          PODEMOS   \n",
       "2574          PODEMOS   \n",
       "2575          PODEMOS   \n",
       "2576          PODEMOS   \n",
       "2577          PODEMOS   \n",
       "2580          PODEMOS   \n",
       "2581          PODEMOS   \n",
       "2582          PODEMOS   \n",
       "2583          PODEMOS   \n",
       "2584          PODEMOS   \n",
       "2585          PODEMOS   \n",
       "2589          PODEMOS   \n",
       "2592          PODEMOS   \n",
       "2593          PODEMOS   \n",
       "2594          PODEMOS   \n",
       "2596          PODEMOS   \n",
       "2597          PODEMOS   \n",
       "2600          PODEMOS   \n",
       "2603          PODEMOS   \n",
       "2605          PODEMOS   \n",
       "2610          PODEMOS   \n",
       "2625          PODEMOS   \n",
       "2632          PODEMOS   \n",
       "2636          PODEMOS   \n",
       "2637          PODEMOS   \n",
       "2638          PODEMOS   \n",
       "2639          PODEMOS   \n",
       "2640          PODEMOS   \n",
       "2641          PODEMOS   \n",
       "2642          PODEMOS   \n",
       "2643          PODEMOS   \n",
       "2644          PODEMOS   \n",
       "2645          PODEMOS   \n",
       "2646          PODEMOS   \n",
       "2647          PODEMOS   \n",
       "2648          PODEMOS   \n",
       "2652          PODEMOS   \n",
       "2660          PODEMOS   \n",
       "2669          PODEMOS   \n",
       "2674          PODEMOS   \n",
       "2675          PODEMOS   \n",
       "2676          PODEMOS   \n",
       "2678          PODEMOS   \n",
       "2679          PODEMOS   \n",
       "2680          PODEMOS   \n",
       "2682          PODEMOS   \n",
       "2683          PODEMOS   \n",
       "2684          PODEMOS   \n",
       "2689          PODEMOS   \n",
       "2692          PODEMOS   \n",
       "2697          PODEMOS   \n",
       "2701          PODEMOS   \n",
       "2702          PODEMOS   \n",
       "2719          PODEMOS   \n",
       "2743          PODEMOS   \n",
       "2744          PODEMOS   \n",
       "2745          PODEMOS   \n",
       "2746          PODEMOS   \n",
       "2747          PODEMOS   \n",
       "2748          PODEMOS   \n",
       "2749          PODEMOS   \n",
       "2750          PODEMOS   \n",
       "2751          PODEMOS   \n",
       "2752          PODEMOS   \n",
       "2753          PODEMOS   \n",
       "2754          PODEMOS   \n",
       "2755          PODEMOS   \n",
       "2757          PODEMOS   \n",
       "2758          PODEMOS   \n",
       "2759          PODEMOS   \n",
       "2760          PODEMOS   \n",
       "2762          PODEMOS   \n",
       "2763          PODEMOS   \n",
       "2769          PODEMOS   \n",
       "2770          PODEMOS   \n",
       "2775          PODEMOS   \n",
       "2776          PODEMOS   \n",
       "2778          PODEMOS   \n",
       "2780          PODEMOS   \n",
       "2791          PODEMOS   \n",
       "2797          PODEMOS   \n",
       "2799          PODEMOS   \n",
       "2800          PODEMOS   \n",
       "2801          PODEMOS   \n",
       "2803          PODEMOS   \n",
       "2804          PODEMOS   \n",
       "2805          PODEMOS   \n",
       "2806          PODEMOS   \n",
       "2808          PODEMOS   \n",
       "2809          PODEMOS   \n",
       "2810          PODEMOS   \n",
       "2811          PODEMOS   \n",
       "2812          PODEMOS   \n",
       "2813          PODEMOS   \n",
       "2814          PODEMOS   \n",
       "2815          PODEMOS   \n",
       "2817          PODEMOS   \n",
       "2818          PODEMOS   \n",
       "2819          PODEMOS   \n",
       "2821          PODEMOS   \n",
       "2822          PODEMOS   \n",
       "2823          PODEMOS   \n",
       "2824          PODEMOS   \n",
       "2825          PODEMOS   \n",
       "2826          PODEMOS   \n",
       "2827          PODEMOS   \n",
       "2828          PODEMOS   \n",
       "2829          PODEMOS   \n",
       "2832          PODEMOS   \n",
       "2833          PODEMOS   \n",
       "2834          PODEMOS   \n",
       "2835          PODEMOS   \n",
       "2836          PODEMOS   \n",
       "2838          PODEMOS   \n",
       "2845          PODEMOS   \n",
       "\n",
       "                                                                                                                                                                                                                                                                                                                                                               text  \n",
       "46                                                                                                                                                                 Santiago Abascal pulveriza a Pablo Iglesias: \"Yo me jugaba la vida amenazado por ETA en el País Vasco mientras usted iba a las herriko tabernas\" https://t.co/l4ipLDzvmo https://t.co/6lIE4ocmCk  \n",
       "69                                                                                            📺 La audiencia de @El_Hormiguero:\\n\\n@Santi_ABASCAL - 4.049.000\\nRivera - 2.458.000\\nErrejón - 2.089.000\\nCasado - 2.049.000\\nIglesias - 1.477.000\\n\\nY eso que los únicos boicoteados éramos nosotros. Millones de españoles ya no obedecen a la dictadura progre 💪🏻  \n",
       "321                                                                                                                                                                Santiago Abascal pulveriza a Pablo Iglesias: \"Yo me jugaba la vida amenazado por ETA en el País Vasco mientras usted iba a las herriko tabernas\" https://t.co/l4ipLDzvmo https://t.co/6lIE4ocmCk  \n",
       "325                                                                                                                                                                                                                             ⚡ Monumental repaso de Santiago Abascal a Pedro Sánchez y Pablo Iglesias por la memoria histórica https://t.co/zzhFzaoyBn vía @ldtv  \n",
       "345                                                                        \"No hay que elegir entre nuestros abuelos\" \\n\"Nuestros abuelos se abrazaron, nuestros padres convivieron y usted quiere enfrentar a los nietos\" \\n@Santi_ABASCAL a Sánchez. \\n(Y de paso, un sopapo a Iglesias justo al principio por Comunista)\\n\\n#debate5rtve https://t.co/deoprsuPoo  \n",
       "347                                                                                                                       Abascal a Sánchez: \"Si Vd. quiere ilegalizar los totalitarismos, quizá acabará ilegalizando a su socio Iglesias, que es el único de este debate que simpatiza con una ideología de este corte, en su caso el comunismo\"\\n#DebateElectoral  \n",
       "348                                                                                                                                                                                     .@Santi_ABASCAL a Pablo Iglesias: \"Soy el único que se ha jugado la vida mientras usted estaba en una herriko taberna y Pedro Sánchez jugaba al baloncesto\".\\n\\n#ElDebate4N  \n",
       "349                                                   📺 @Santi_ABASCAL pulveriza a Pablo Iglesias \"No me va a dar lecciones de democracia ni de defensa del orden constitucional. Yo me jugaba la vida amenazado por ETA en el País Vasco mientras usted presumía de que ETA tenía perspicacia política\".\\n\\n📢 #ElDebate4N #DebateElectoral https://t.co/GtRi8aT0EL  \n",
       "361                                                                                          Y @Santi_ABASCAL siguiendo la tradición de Iván y Ortega Smith, los pone en fila y les va sacudiendo uno a uno, Sánchez, Casado, Iglesias... Que no pueden hacer otra cosa que mirar al suelo y poner cara de que pase rápido. \\n#debatea5RTVE https://t.co/Io4IKYyRVw  \n",
       "467                                                                                           📺 La audiencia de @El_Hormiguero:\\n\\n@Santi_ABASCAL - 4.049.000\\nRivera - 2.458.000\\nErrejón - 2.089.000\\nCasado - 2.049.000\\nIglesias - 1.477.000\\n\\nY eso que los únicos boicoteados éramos nosotros. Millones de españoles ya no obedecen a la dictadura progre 💪🏻  \n",
       "562                                                Sánchez en 2016 quiso forzar 3as elecciones y su partido tuvo que echarle. Es incapaz de pactar con nadie. Por eso acabó mal con González, Rubalcaba, Susana, Iglesias, Rivera... Quien no ha sido capaz de formar Gobierno en 6 meses con 4 opciones no merece otra oportunidad el #10N https://t.co/egVAfzn0kw  \n",
       "1051                                                 💬 @pablocasado_: “Sánchez acabó mal con González, con Rubalcaba, con Susana Díaz, con Pablo Iglesias, con Rivera, con Mariano Rajoy -con quien pactó la política frente al independentismo y luego le presentó una moción-. Ha demostrado que no es confiable”.\\n\\n#PorTodoLoQueNosUne https://t.co/mmRp3amBEq  \n",
       "1114                         📹Nos facilitan este corte en el que @Albert_Rivera menta la #EquiparacionYa en #ElDebate4N de las #Elecciones10N \\n\\n👉Se agradece, nos hubiera gustado oír también a @sanchezcastejon, @pablocasado_, @Pablo_Iglesias_ y @Santi_ABASCAL saber qué opinan de la #ILPJusapol de @jusapol https://t.co/oDAEdhZNq2 https://t.co/Jdns750d4f  \n",
       "1573                                         Hola @Pablo_Iglesias_.\\n\\nAyer decías en el debate \"Yo me siento orgulloso de ser español\"\\n\\n¿Por qué entonces te paseabas por las Herriko Tabernas del País Vasco diciendo que \"cuando os independicéis no nos dejéis solos con los españoles\" mientras hacías muecas de asco?\\n\\nHipócrita. https://t.co/S71d59EeDS  \n",
       "1688                                               Mi compromiso es claro: no va a haber gran coalición.\\n\\nAhora Iglesias debe responder: tras el #10N, ¿seguirá sumando sus votos a los de la derecha y la ultraderecha para bloquear la formación de un Gobierno progresista?\\nLos votantes tienen derecho a saberlo. \\n#L6Npedrosánchez https://t.co/Xw8oOfSguO  \n",
       "1710                                             No habrá gran coalición. Ese es el compromiso del @PSOE con los votantes progresistas. No pactaremos Gobierno con quien pacta con la ultraderecha.\\n\\nEl Sr. Iglesias debe responder a una pregunta:\\n¿Seguirá bloqueando, por 5ª vez, la formación de un Gobierno progresista? #VOTAPSOE🌹 https://t.co/6TtiO7rD1z  \n",
       "1740                                               🌹 @sanchezcastejon: Iglesias dice que el PSOE quiere pactar con el PP. \\n\\nEl PP, que queremos pactar con independentistas y UP. \\n\\n⏩ Lo que queremos es un Gobierno progresista, coherente y estable que aborde las grandes transformaciones que necesita España.\\n\\n#VotaConElCorazón https://t.co/skF2hsKXa9  \n",
       "1923                                                 🎞️@sanchezcastejon: Escucho a Iglesias decir que quiero pactar con el PP.  \\nAl PP y Cs, pactar con Iglesias e independentistas. \\nA los independentistas, con PP y Cs.\\nA la ultraderecha, con Cs y el PP.\\n\\nNO, queremos un Gobierno progresista, estable y coherente.\\n\\n#VotaPSOE https://t.co/46f7UBSDA0  \n",
       "1976                                                          🗞 'El Socialista', la cabecera fundada por Pablo Iglesias Posse, entrevista al presidente del Gobierno y secretario general del PSOE, @sanchezcastejon \\n\\nDesbloqueo, propuestas y muchos titulares más, mañana a las 10:00 horas ‼️\\n\\nhttps://t.co/n1192HMzbb\\n\\n#VotaPSOE https://t.co/pmBC9EcPcA  \n",
       "2032                                                     🌹 @sanchezcastejon: Lo dije ayer en el debate, si estamos convocados de nuevo a las urnas era porque no era cierto lo que decía la derecha, de que tenía un pacto con los independentistas, ni lo que decía Iglesias de que tenía un pacto con la derecha.\\n\\n#AhoraSí \\n#VotaPSOE https://t.co/3TufoQkDhc  \n",
       "2054                                                 🌹@sanchezcastejon: Impulsaremos medidas en Vivienda:\\n\\n1⃣Sacar al mercado 20.000 viviendas vacías\\n2⃣Crear un parque público de vivienda  \\n3⃣Ayudas a la emancipación juvenil\\n\\nY lo haremos desde el ministerio de Vivienda, que Iglesias calificó como 'florero'\\n\\n#GanaPSánchez https://t.co/ExpM5uQXqi  \n",
       "2065                                                 🎞️@sanchezcastejon a @Pablo_Iglesias_: Hay discrepancia con Podemos en Cataluña. Defiende un referéndum de autodeterminación en Cataluña y que hay presos políticos y no puedo admitir eso.\\n\\nInsisto en la respuesta: unidad, proporcionalidad y firmeza democrática.\\n\\n#ElDebate4N https://t.co/Vj9qgxaDQj  \n",
       "2083                                                    🗣️@abalosmeco: Cuando pase el #10N debemos centrarnos en la gente, en acabar con la desigualdad y no en el reparto de poderes. \\n\\n👉Vale la pena un Gobierno progresista que pare a la derecha. Nosotros esperamos que Pablo Iglesias no vuelva a impedirlo\\n\\n#AhoraSí \\n#VotaPSOE https://t.co/9aHwbcuMi5  \n",
       "2142                                                               🗣️ @sanchezcastejon: Es evidente que para gobernar habrá que contar con el apoyo de otras fuerzas. Pero Iglesias ofrecía un modelo que supeditaba la estabilidad al independentismo. \\n\\n👉Yo quiero un Gobierno que sea estable y sólido \\n\\n#L6Npedrosánchez\\n#VotaPSOE https://t.co/sVTNb1ttYp  \n",
       "2146                                             🎞️ @sanchezcastejon en @SextaNocheTV: Le digo a Iglesias que NO va a haber gran coalición. Es mi compromiso\\n\\nQue responda a una pregunta sencilla: ¿Va a seguir sumando sus votos a derecha y ultraderecha para bloquear un gobierno progresista del PSOE? ¿Sí o no?\\n\\n#L6Npedrosánchez https://t.co/7ztXfwCX87  \n",
       "2147                                              🗣️ @sanchezcastejon: Yo renuncié a ser presidente a cualquier precio y otros han bloqueado sin alternativa. \\n\\nDespués del #10N no va a haber gran coalición. Pero yo le pregunto a Iglesias, ¿va a seguir impidiendo un Gobierno progresista en España? \\n\\n#L6Npedrosánchez\\n#VotaPSOE https://t.co/xd8q8Ehk5m  \n",
       "2167                                             🌹 @sanchezcastejon: Iglesias aun no ha respondido si va a bloquear la formación de un Gobierno progresista por quinta vez.\\n\\nEl proyecto político de los demás es FRENAR al PSOE. Los independentistas, la derecha y la nueva izquierda quieren un Gobierno débil.\\n\\n#VotaPSOE\\n#AhoraSí https://t.co/9WLcsBpJQ5  \n",
       "2182                                                                          ▶ Señor Iglesias, ¿va a continuar bloqueando por quinta vez después del #10N la formación de un Gobierno progresista? Sí o no. Responda claro. \\n\\n🌹 GRACIAS a las 1500 personas que arropasteis ayer a @sanchezcastejon en #Pamplona.\\n\\n#AhoraSí\\n#VotaPSOE https://t.co/FWChpVJsoP  \n",
       "2192                                               Esta tarde estaré en el acto de cierre de campaña de Unidas Podemos junto a @Pablo_Iglesias_, @AdaColau, @Irene_Montero_, @agarzon y más compañeros y compañeras comprometidos con el cambio. Acabaremos la noche con la música de Kiko Veneno y O'Funk'illo ¡Súmate! #UnGobiernoContigo https://t.co/2MMPOz63EN  \n",
       "2195                                                 Es el último día de campaña y me gustaría explicar mis motivos por los que apoyo a @ahorapodemos. Lo personal es político, así que quiero #UnGobiernoContigo en el que las futuras generaciones no se vean abocadas a la precariedad. Este #10N da una oportunidad a @Pablo_Iglesias_. https://t.co/InqrBEH7cQ  \n",
       "2199                                            Terminado el último debate, ya quedan solo unas horas para el final de la campaña por #UnGobiernoContigo. \\n\\nEsta tarde celebramos que sí se puede con @Pablo_Iglesias_, @AdaColau, @agarzon, @juralde, @MayoralRafa, @ionebelarra y muchos compañeros y compañeras más.\\n\\n¡Os esperamos! https://t.co/UiwDGnVSeK  \n",
       "2205                                                                                                                                                                                                                                         Estuvimos con Pablo Iglesias en su despacho del Congreso y este es el resultado #Elecciones10N https://t.co/rjCvViexYY  \n",
       "2214                                                                                                                                                    \"Comprar los marcos económicos y territoriales de la derecha refuerza un pensamiento único enemigo de la igualdad, el diálogo y la justicia social\". La opinión de @Pablo_Iglesias_ https://t.co/9OsM274WbP  \n",
       "2225                                                                                                                                                                                                             ¿Qué quiere el #Ibex estas #Elecciones10N?\\n\\n@pablo_iglesias_  (@ahorapodemos) dice que matrimonio @PSOE y @populares \\n\\nhttps://t.co/BlZNeyFoBy  \n",
       "2228                                                                                                                               El lunes, en el 'minuto de oro' del debate, Pablo Iglesias leyó la Carta de una joven Valenciana de 28 años\\n\\nSe llama Raquel. Hemos hablado con ella y esta es su historia 👇\\n https://t.co/aEgm7juO2A https://t.co/Ht1i25cLRR  \n",
       "2233                                                                                                                                                          Este viernes (18h) el periodista Esteban Hernández, autor de 'El tiempo pervertido: Derecha e izquierda en el siglo XXI', charla con Pablo Iglesias en Otra Vuelta de Tuerka. https://t.co/oWk8HeptoO  \n",
       "2235                                                                           ¿Por qué Abascal estuvo tan cómodo frente a las otras derechas? ¿Por qué solo Iglesias le dijo unas cuantas verdades a la cara? \\n\\n@Pablo_Iglesias_ estuvo @enlafronteratv en la resaca del debate electoral. Entrevista completa:  https://t.co/x5QHHOpNiZ https://t.co/wyIBCgzWh6  \n",
       "2241                                             Este viernes cerramos la campaña de Unidas Podemos en el Pabellón 1 de IFEMA en Madrid con @Pablo_Iglesias_, @AdaColau, @agarzon, @juralde, @VeraNoelia, @MayoralRafa, @ionebelarra y muchos compañeros y compañeras más, con la música de @KikoVeneno y @ofunkilloband.\\n\\n¡Os esperamos! https://t.co/Py1q62aGGn  \n",
       "2248                                                                                                                                                                                                                           Iglesias: “A la ultraderecha se la combate con políticas económicas, no diciendo que viene el lobo” @pvallin https://t.co/jEfBPdnjd1  \n",
       "2259                                                Pasar de la resignación a la esperanza. Capacidad de soñar y luchar por lo nuestro. Mañana miércoles, a las 12:30 h., tenemos un encuentro muy especial en la Feria de Valencia con nuestro compañero y candidato a la Presidencia del Gobierno, @Pablo_Iglesias_ #UnGobiernoContigo10N https://t.co/AOZxIVF72e  \n",
       "2263                                                                 Hoy en @todoesmentiratv hemos contabilizado las mentiras (inexactitudes si os queréis poner tiquismiquis) de los candidatos a presidente. \\n\\n@pablocasado_  se calzó 16\\n@Santi_ABASCAL 10\\n@Albert_Rivera  7\\n@sanchezcastejon 6\\n@Pablo_Iglesias_ solamente 1\\n\\nQue cada uno lo interprete  \n",
       "2265                                                                                                                                          #10NCanalSur | A las 21:50 horas entrevistamos en #CanalSur a Pablo Iglesias, candidato a la presidencia por Unidas Podemos | También puedes verla por #CanalSurWeb 👉 https://t.co/8rfgOGAi3p https://t.co/WTyLPPmxjr  \n",
       "2268                                                                                                                                                                                                                                                                ¿CONSEGUÍ QUE PABLO IGLESIAS PERREARA LA GASOLINA? EVIDENTEMENTE. \\n👇👇👇 https://t.co/3TLRrglqzl  \n",
       "2288                                                                                        Esta noche, a partir de las 22.00 h, no te puedes perder el debate de candidatos en @La1_tve, en el que @Pablo_Iglesias_ explicará nuestras medidas para hacer #UnGobiernoContigo. \\nPodrás seguirlo en directo aquí. \\nhttps://t.co/VZT3uQkttw https://t.co/2jrC6hFlV7  \n",
       "2299                                                                                                                                       🔊El próximo jueves @Pablo_Iglesias_ visita Bilbao para dar a conocer nuestras propuestas para un #GobiernoContigo. \\n\\n📆Jueves, 7 de noviembre.\\n🏤Palacio Euskalduna.\\n⏰10:30h\\n\\n¡Te esperamos! https://t.co/mfg7F12btZ  \n",
       "2301                                                                    No te pierdas esta noche @salvadostv.\\n\\n@Pablo_Iglesias_ responde a los militantes del PSOE y Unidas Podemos.\\n\\nSiempre damos la cara. Otros no pueden decir lo mismo.\\n\\nPuedes seguir el directo a partir de las 21.25 h desde aquí. 👇\\nhttps://t.co/V9OoL6vCfM https://t.co/GC8WL4xJVH  \n",
       "2302                                                                                                                                                                                    Es difícil no emocionarse.\\nGracias @Yolanda_Diaz_ @AntonGomezReino  @Pablo_Iglesias_ y gracias a los que habéis hecho posible esto.\\nUn orgullo ✊💜 https://t.co/t7dAogdbNt  \n",
       "2305                                                                                                                                                                                                                                                       🔴 EN DIRECTO: Encuentro con @Pablo_Iglesias_ en A Coruña #UnGobernoContigo. \\n\\n https://t.co/OWmiRnNQe1  \n",
       "2307                                                                                                                       No te pierdas a las 12.30 h el Encuentro con la gente con @Pablo_Iglesias_ en A Coruña. \\n\\nY, si no has podido asistir, ¡recuerda que podrás verlo en streaming desde todas nuestras redes! #UnGobernoContigo 💜 https://t.co/n5XgPqll8F  \n",
       "2363                                                                     Estoy ingresado en el @HospitalLaFe, llevo un Diazepam y no conseguía dormir porque mañana me toca quimio, así que me he visto #PabloIglesiasEH\\n\\nGracias de corazón @Pablo_Iglesias_ xk con #UnGobiernoContigo la vida no dependerá de la limosna de nadie y menos de un ricachón evasor  \n",
       "2369                                                      👏👏👏😍😍 \\nMagnífico cierre de campaña de @Pablo_Iglesias_ \\n\\n👉 📽 \"Somos la única fuerza política patriota en España, la única que entiende que el patriotismo es la defensa del común. 'Sí se puede' significa más democracia, más poder para los de abajo\".\\n\\n#VotaUnidasPodemos https://t.co/mMW507WEBq  \n",
       "2370                                                                                      📽 \"Sánchez estaba convencido de que con una repetición electoral nos destrozaba y podría gobernar para que el IBEX35 durmiera tranquilo conservando privilegios. Tenéis la llave para desbaratar el plan\".\\n\\n@Pablo_Iglesias_ #VotaUnidasPodemos https://t.co/PrsbBPv33V  \n",
       "2372                                                                                                                     🔝 Aquí, @Pablo_Iglesias_ explica a @sanchezcastejon la separación de poderes porque últimamente, al no dormir bien, parece que no termina de entenderlo. #VotaUnidasPodemos\\n\\n🔴 DIRECTO:  https://t.co/0RprYfTqDR https://t.co/bWrTQL00X3  \n",
       "2373                                                                                                                                      👉 📽 \"Invito a los que se autoproclaman 'constitucionalistas' a que abran la Constitución, porque lo que nosotros planteamos está dentro de ese documento\".\\n\\n@Pablo_Iglesias_ #VotaUnidasPodemos https://t.co/KoVmTdOwSX  \n",
       "2374                                                       👉 📽 “Vamos a ser responsables y a partir del lunes  vamos a dejar todos los reproches atrás y vamos a tender la mano al PSOE para hacer un Gobierno en el que ojalá nosotros seamos mayoritarios”.\\n\\n@Pablo_Iglesias_ #VotaUnidasPodemos\\n\\n🔴 DIRECTO:  https://t.co/0RprYfTqDR https://t.co/dIwsMTIEbF  \n",
       "2375                                                                                                                                      👉 📽 \"Ser español es defender la democracia frente a los ricos. Ser español es defender las instituciones del común\".\\n\\n@Pablo_Iglesias_ #VotaUnidasPodemos\\n\\n🔴 DIRECTO: https://t.co/0RprYfTqDR https://t.co/6Vdz23jr5R  \n",
       "2376                                                                                            👉 📽 “@Irene_Montero_ explicó ayer lo que era la democracia. La democracia es el instrumento de las mayorías sociales para poner límites a los privilegiados”.\\n\\n@Pablo_Iglesias_ #VotaUnidasPodemos\\n\\n🔴 DIRECTO:  https://t.co/0RprYfTqDR https://t.co/pEBSp6w8Xz  \n",
       "2377                                                                    Muchas personas, empezando por ti, han hecho posible esta campaña. Gracias a todos y a todas.\\n\\nEl agradecimiento de @Pablo_Iglesias_ a toda la gente que sigue creyendo que sí se puede.\\n\\nEl domingo, #VotaUnidasPodemos\\n\\n🔴 DIRECTO:  https://t.co/0RprYfTqDR https://t.co/eJCKOQ3P3S  \n",
       "2378                                                                                                                                                                                                         👉 📽 @Pablo_Iglesias_ agradece a quienes han levantado esta campaña, pero no están delante de las cámaras. \\n#VotaUnidasPodemos https://t.co/6YBIRHGBdJ  \n",
       "2379                                                                                                                                                                                                                         Esta presentación de @AdaColau a @Pablo_Iglesias_ es 🔝\\n\\nGracias Ada 🤩🤩\\n\\n🔴 DIRECTO: https://t.co/pGbJ6FzJBU https://t.co/X2mcnpUYUI  \n",
       "2446                                                                                                                                                 📺 \"Con todos nuestros errores, que han sido muchos, somos los únicos que podemos garantizar que haya, por fin, políticas que protejan a la gente\".\\n\\n@Pablo_Iglesias_ en #10NUrnasARV https://t.co/9rolzyIZKH  \n",
       "2447                                                                                                                                                                                                            📺 \"Ayer, @Irene_Montero_ hizo algo que es muy importante: confrontar con Vox en economía\".\\n\\n@Pablo_Iglesias_ #10NUrnasARV https://t.co/lF6sljzjJH  \n",
       "2448                                                              📺 \"Hemos dicho muchas veces que los debates se tienen que regular por ley. Son el instrumento más democrático en la medida en que hay la menor mediación posible y donde los periodistas hacen preguntas difíciles y dirigen el debate\".\\n\\n@Pablo_Iglesias_ #10NUrnasARV https://t.co/PL6EAaydeW  \n",
       "2449                                                                                                                                                  📺 \"Toda la gente que nos está viendo sabe que si hay una garantía de derogación de la reforma laboral, es que nosotros estemos dentro del Gobierno\".\\n\\n@Pablo_Iglesias_ #10NUrnasARV https://t.co/VQQSTQokdl  \n",
       "2451                                                                                         📺 \"Si se habla de ilegalizar a los partidos que incumplan la ley, quizás en el PP deberían callarse, porque son uno de los pocos partidos políticos sentados en el banquillo de los acusados por corrupción\".\\n\\n@Pablo_Iglesias_ #10NUrnasARV https://t.co/R8VtHJxQeb  \n",
       "2452                                                          📺 \"Nuestra generosidad va a llegar hasta que en este país haya un Gobierno de coalición en el que se respete a nuestros votantes y tengan la resprestanción proporcional que les toca para hacer políticas que cambien la vida de la gente\".\\n\\n@Pablo_Iglesias_ #10NUrnasARV https://t.co/fr4QPLK51d  \n",
       "2453                                                       📺\"Tanto Ciudadanos como el PP no tienen ningún problema con Vox. Con lo cual, hacer cualquier alternativa de Gobierno a la derecha y a la extrema derecha pasa por que el PSOE y nosotros, y otras fuerzas políticas, nos pongamos de acuerdo\".\\n\\n@Pablo_Iglesias_ #10NUrnasARV https://t.co/etBJzHdWqu  \n",
       "2454                                                                                                              📺 \"¿Cuál es el principal impedimento para que no haya Gobierno? Que alguien no quiere llegar a acuerdos con otras formaciones políticas cuando estuvo lejísimos de la mayoría absoluta\".\\n\\n@Pablo_Iglesias_ #10NUrnasARV https://t.co/YipPYeKIl7  \n",
       "2455                                                              📺 \"Si nosotros estamos fuertes después del domingo y no ocurre lo que Sánchez calculó, y el PSOE pierde apoyos y nosotros los ganamos, entonces, a lo mejor, no le quedará más remedio que hacer un Gobierno de coalición con nosotros\".\\n\\n@Pablo_Iglesias_ #10NUrnasARV https://t.co/mLQcrEtzG3  \n",
       "2463                                                                                                                 🎥 \"Explicadle a la gente que vamos a traducir su voto en responsabilidades de Gobierno que la ciudadanía, en España, va a notar desde el primer día. Explicadle que sí se puede\".\\n@Pablo_Iglesias_ #UnGobiernoContigo https://t.co/RALC2vkVD0  \n",
       "2464                                                          🎥 \"Decían que cuando subiera el salario mínimo a 900 euros iba a ser el apocalipsis económico, pero cuando se subió mejoraron todos los indicadores económicos y hoy en día ni una sola fuerza política se atreve a decir que se baje\". \\n@Pablo_Iglesias_ #UnGobiernoContigo https://t.co/tZngHvzBs1  \n",
       "2465                                                                                                                                                                                                      🎥 \"Cuando gobernemos, cada avance que logremos, cada avance de la gente, va a ser imparable\". @Pablo_Iglesias_ #UnGobiernoContigo https://t.co/QX4HkAHk85  \n",
       "2466                                                                                                                                 🎥 \"Cuando hay empresas del IBEX 35, muchas de ellas propietarias de medios de comunicación, que tienen filiales en paraísos fiscales, están robando a la gente\". \\n@Pablo_Iglesias_ #UnGobiernoContigo https://t.co/il3D3vyoyT  \n",
       "2467                                                          🎥 \"Hay mucha gente que escuchando ayer a Irene se dio cuenta del significado político de la democracia. Cuando VOX dijo que la política no se meta en la economía, solo Irene preguntó: \"¿Pero, entonces, para que nos vota la gente?\". \\n@Pablo_Iglesias_ #UnGobiernoContigo https://t.co/Hj174cL0KI  \n",
       "2468                                                                                      🎥 \"Se está viendo el trasvase: mucha gente, que con el PSOE que estamos viendo ahora, va a volver a votar a Unidas Podemos, básicamente, porque quiere un Gobierno que intervenga el mercado del alquiler\". \\n@Pablo_Iglesias_ #UnGobiernoContigo https://t.co/KwH8a6GsSC  \n",
       "2469                                                         🎥 \"Cuando me entrevistan, siempre insisten en las relaciones personales con Pedro Sánchez para conformar Gobierno. Pero olvidan lo importante, ya en 2015 Podemos e IU superaron en votos al PSOE, pero eligió como socio a Ciudadanos\". \\n@Pablo_Iglesias_ #UnGobiernoContigo https://t.co/6wvRNRQbaU  \n",
       "2470                                                           🎥 \"Ahora hay una nueva versión de Pedro Sánchez, que lo que quiere es llegar a un acuerdo con la derecha para afrontar la desaceleración económica, cuyo resultados ya conocemos: que lo paguen las clases populares de nuestro país\". \\n@Pablo_Iglesias_ #UnGobiernoContigo https://t.co/D84o5QAe55  \n",
       "2472                                                                   🎥 \"Cuando te financia un banco, un banquero te puede decir que le debes dinero y que, si quieres que te perdone la deuda, no se te ocurra hacer ninguna ley que obligue a los bancos a devolver lo que deben a la ciudadanía\".\\n@Pablo_Iglesias_  #UnGobiernoContigo https://t.co/N4YT0V4Rtb  \n",
       "2475                                                                                                                             Los candidatos de Unidas Podemos al Congreso en CLM acompañando a @Pablo_Iglesias_ en el encuentro con la gente en Toledo, el 10N necesitamos un Unidas podemos fuerte, sí se puede!!!\\n#UnGobiernoContigo https://t.co/BsvaDQ1vet  \n",
       "2476                                                                                                                                                                     Hoy toca apoyar a @Pablo_Iglesias_ en Toledo, para que España y Castilla - La Mancha puedan tener políticas para la mayoría, no para los menos\\n#UnGobiernoContigo https://t.co/FBrfL4A2Ry  \n",
       "2478                                                 📣Esta tarde a las 19 h vamos a cerrar la campaña con la música de @KikoVeneno y @ofunkilloband y las intervenciones de @Pablo_Iglesias_\\n@Irene_Montero_ @agarzon @AdaColau y muchas más.\\n\\n☺Nos vemos en el IFEMA con la alegría de saber que si se puede tener #UnGobiernoContigo 💜 https://t.co/7skPGMR7H4  \n",
       "2480                                                                                              Los que mandan sin presentarse a las elecciones temen a un pueblo que puede conseguir #UnGobiernoContigo para defender El Tajo y cuidar que nuestros jóvenes no tengan que emigrar ; hoy en #Toledo con @Pablo_Iglesias_  y  @Arevalo80MT https://t.co/6U5mO9viEM  \n",
       "2482                                            Terminado el último debate, ya quedan solo unas horas para el final de la campaña por #UnGobiernoContigo. \\n\\nEsta tarde celebramos que sí se puede con @Pablo_Iglesias_, @AdaColau, @agarzon, @juralde, @MayoralRafa, @ionebelarra y muchos compañeros y compañeras más.\\n\\n¡Os esperamos! https://t.co/UiwDGnVSeK  \n",
       "2483                                                                                      Gracias @Pablo_Iglesias_ por hacer un alto en el camino y pasar por CLM, no estás solo, somos muchas las que estamos detrás apoyándote y gracias por arropar a nuestra candidata al Congreso por Toledo @Arevalo80MT \\n#UnGobiernoContigo 💜👏🏻👏🏻👏🏻 https://t.co/lcsh6IkskV  \n",
       "2484                                                                                                                                                                                                                                           🔴 EN DIRECTO: Encuentro con la gente en Toledo, con @Pablo_Iglesias_. #UnGobiernoContigo\\n\\n https://t.co/KQGz14K8MC  \n",
       "2486                                                                                                                                                                                                        ‼️ En un ratito nos vemos en Toledo con @Pablo_Iglesias_, @Arevalo80MT, @DaniVelasco35 y @olgaavalos2. \\n\\n#UnGobiernoContigo 👇 https://t.co/4mzfkdyqbp  \n",
       "2539                                             📅 Mañana, viernes, no puedes perderte el gran acto de cierre de campaña en Madrid. \\n\\n⏰ A las 19.00 h en el Pabellón 1 de IFEMA (Madrid).\\n\\nCon Kiko Veneno y O'Funk'illo en concierto y la intervención de @Pablo_Iglesias_, @AdaColau, @Irene_Montero_, @agarzon... \\n\\n¡Te esperamos! https://t.co/IxHyDWdB0S  \n",
       "2564                                                                                                                                                                          🚇 España tiene muchos túneles. \\n💡 Total... Pero hay luz al final del túnel. \\n\\n🎥 No te pierdas la entrevista íntima de @EhUniverso a @Pablo_Iglesias_. 👇\\n\\nhttps://t.co/r0Is9o57YF  \n",
       "2573                                                  🎥 \"Había un plan en esta repetición electoral para restaurar el bipartidismo, un plan claramente apoyado por las élites. Esas élites tienen mucho poder; pero el día 10, no. Ese día cualquier persona tiene el mismo poder que los poderosos\". \\n@Pablo_Iglesias_ #UnGobiernoContigo https://t.co/HvrlPggSnf  \n",
       "2574                                                                      🎥 \"A la extrema derecha no se la combate asustando a la gente, se la combate con políticas públicas. Porque la base de sostenibilidad de la extrema derecha es la pobreza, es la precariedad, es la falta de expectativas\". \\n@Pablo_Iglesias_ #UnGobiernoContigo https://t.co/QqdY2be4Jg  \n",
       "2575                                                                                                                                    🛑🛑 No te pierdas mañana día 8, el acto central de campaña en Toledo, con @Pablo_Iglesias_ y los candidatos al Congreso @Arevalo80MT y @DaniVelasco35 por la provincia de Toledo\\n#UnGobiernoContigo https://t.co/9Wyp5bMH9x  \n",
       "2576                                                                                              🎥 \"Tienen miedo de que lleguemos al Gobierno, porque eso puede convencer a mucha gente de que, aunque tengan alguna diferencia con nosotros, somos los únicos que vamos a defender a sus familias\". \\n@Pablo_Iglesias_ #UnGobiernoContigo https://t.co/a2LPL3DZZe  \n",
       "2577                                                     🎥 \"Ni una sola fuerza política del Estado, de todas aquellas que decían que si subíamos el salario mínimo llegaba el Apocalipsis, se atreve ahora a decir a la clase trabajadora que va a tocar ni un solo euro de ese SMI que conseguimos\". \\n@Pablo_Iglesias_ #UnGobiernoContigo https://t.co/h6fghFti3V  \n",
       "2580                                                                                                                                                                                     🎥 \"Si la oligarquía te compra, la oligarquía te vende. Por eso nosotros no pedimos ni un euro a los bancos\". \\n@Pablo_Iglesias_ #UnGobiernoContigo https://t.co/07Ip1lvSoO  \n",
       "2581                                                                      🎥 \"A Albert Rivera le pudo la ambición y prefirió competir a ver quién lideraba la derecha, si Casado, Abascal o él. Y la respuesta de su plan estupendo, alejándose de los que se pusieron ahí, la vais a ver el domingo\". \\n@Pablo_Iglesias_ #UnGobiernoContigo https://t.co/dogjdaMy0U  \n",
       "2582                                                         🎥 \"Dicen que el bloqueo tiene que ver con que hay políticos que se llevan mal, como si la gente fuera idiota. Ya en 2015 Podemos e IU tuvimos más votos que el PSOE, pero Sánchez buscó a Rivera y luego contó a Évole por qué lo hizo\". \\n@Pablo_Iglesias_ #UnGobiernoContigo https://t.co/FI3RNwUFXz  \n",
       "2583                                                      🎥 \"Mucha gente que en el pasado votó Unidas Podemos y que dijo: 'Hombre, con Sánchez me lo voy a pensar', va a volver a votar a la única fuerza política que, con muchos errores, sigue diciendo y proponiendo hacer exactamente lo mismo\". \\n@Pablo_Iglesias_ #UnGobiernoContigo https://t.co/V32LUcQX9M  \n",
       "2584                                                                                                                    🎥 \"¿Por qué Sánchez ha querido repetir las elecciones haciéndolas coincidir con la sentencia? Básicamente, para poder utilizar Cataluña como excusa para gobernar con el PP\". \\n@Pablo_Iglesias_ #UnGobiernoContigo https://t.co/1CodsA4XO9  \n",
       "2585                                                                                    🎥 \"Sánchez nombró vicepresidenta económica nada más y nada menos que a Calviño. Eso es un mensaje muy claro al PP para decirle: 'No os preocupéis que en las políticas económicas vamos a estar de acuerdo'\". \\n@Pablo_Iglesias_ #UnGobiernoContigo https://t.co/WNVdeQKm0u  \n",
       "2589  @ahorapodemos @Pablo_Iglesias_ @LanderMartinez_ @Saludisabel @txonigorri @Conchi_Palencia @MiGorrotxategi \"Las cosas hay que decirlas claras, no habido imposibilidad de hacer un gobierno progresista, lo que ha habido es la resistencia del régimen bipartidista para que hubiese un cambio político real. Eso es lo que ha pasado.\" @MiGorrotxategi #U...  \n",
       "2592                                                                  Grande @Pablo_Iglesias_, altavoz en mano para hablar con la gente que se ha quedado fuera del evento de hoy en Bilbao por la masiva asistencia. Esta vez va la vencida: ¡gobierno progresista para nuestro país y Pablo presidente!\\n\\n#ElQueTieneQueDormirBienEresTu https://t.co/MbdpAHLhb1  \n",
       "2593                       @ahorapodemos @Pablo_Iglesias_ @LanderMartinez_ @Saludisabel “Pedimos el voto a la gente joven que no se resigna a tener empleos basura, mientras algunos explotan al resto\" @TxoniGorri \"Por la gente mayor que nos da la lección cada lunes con sus movilizaciones, porque no se resignan.” #UnGobiernoContigo https://t.co/FolEi5Gkyd  \n",
       "2594      @ahorapodemos @Pablo_Iglesias_ @LanderMartinez_ «Con el apoyo de la gente vamos a tener mucho más peso en el congreso.» @Saludisabel «No queríamos estas elecciones y la razón por la que el PSOE las convoca es que hay una organización que vino a quitarle el sueño al 1% de la población: Unidas Podemos.» #UnGobiernoContigo https://t.co/4QybRPaLt6  \n",
       "2596                                                                              📢 La ilusión durante la campaña sigue siendo desbordante. De nuevo, el local del acto se quedó pequeño en Bilbao, a pesar de ser temprano y día de diario. @Pablo_Iglesias_ dedicó unas palabras a las personas que se quedaron fuera. #UnGobiernoContigo https://t.co/2tTVQJT2k6  \n",
       "2597                                                                                                                                                                                                                                                    Estamos en Bilbao con @Pablo_Iglesias_ \\nSi no has podido venir, síguenos aquí 👇📽️\\nhttps://t.co/KjHtkwLF2X  \n",
       "2600                                              🔴DIRECTO: Llenazo. Sigue el encuentro con Pablo Iglesias hoy en #Bilbao y #Barakaldo.\\nTu eliges si un gobierno con #UnidasPodemos o dejamos que EL PSOE haga un gobierno con la derecha. \\n#UnGobiernoContigo\\nhttps://t.co/CHQeO3Pb2C\\nhttps://t.co/uHnKoglggi\\nhttps://t.co/8D3CiLeYVP https://t.co/jIlJPCBfvC  \n",
       "2603                                 @ahorapodemos «Eskerrik asko a todas y todos por llenar esta sala, gracias @Pablo_Iglesias_  por visitarnos, gracias a nuestros candidatos y candidatas, a la militancia y a todas esas personas que está ahí para que esta campaña y estos actos salgan adelante» @LanderMartinez_ #UnGobiernoContigo https://t.co/14B2XRuA1z  \n",
       "2605                                                                         Dana prest Bilboko Euskalduna Jauregian @Pablo_Iglesias_|ekin #GobernuBatZurekin eratzeko ditugun proposamenak aurkezteko.\\n\\nTodo listo en el Euskalduna de Bilbao para compartir con Pablo Iglesias las propuestas que permitirán #UnGobiernoContigo podemos https://t.co/nbovgIuQZ7  \n",
       "2610                                                                                                                                                                                                                                                        🔴 EN DIRECTO: Encuentro con @Pablo_Iglesias_  en Bilbao. #UnGobiernoContigo\\n\\n https://t.co/tMowpwwyOn  \n",
       "2625                                                No te pierdas mañana el acto en Bilbao con @Pablo_Iglesias_, @juralde, @gagupilar, @RoberUriarte, @MiGorrotxategi, @Conchi_Palencia, @Saludisabel y @LanderMartinez_.\\n\\nA partir de las 10.30 h.\\n\\nSi no puedes asistir, podrás seguir el acto en directo en nuestras redes sociales. https://t.co/7wvnMAuHyU  \n",
       "2632                                                                                             Potent acte d’@EnComu_Podem a Barcelona. Gràcies @AdaColau @Jaumeasens i @Pablo_Iglesias_ per portar la dignitat a la política.\\n\\nPer tanta gent com s’han quedat fora de Cotxeres, l’Ada ha fet una salutació a tothom #10NVotaSolucions https://t.co/yVjOaGapvv  \n",
       "2636                                                                                                                                                  📹 @Pablo_Iglesias_: “Al menos esta vez dadnos una oportunidad y dadnos una fuerza suficiente para evitar un acuerdo del PSOE con la derecha”.\\n\\n#10NVotaSolucions #AVerSiVoyASerDeUP https://t.co/WiLF9JDGiE  \n",
       "2637                                                                ▶️ “Catalunya es mereix un govern d'Espanya que escolti. A tots els catalans que us vau sentir representats al debat per @Pablo_Iglesias_, voteu Pablo Iglesias. Perquè defensar l’Espanya de Pablo Iglesias és defensar Catalunya.”\\n\\n@Jaumeasens a #10NVotaSolucions https://t.co/BwbczW4m6h  \n",
       "2638                                                                                     📹 @Pablo_Iglesias_: “Nosotros tendremos muchos defectos, pero creo que somos la única fuerza política capaz de conseguir un Gobierno que en este país defienda los derechos sociales y apueste por el diálogo en Catalunya”.\\n\\n#AVerSiVoyASerDeUP https://t.co/jhTuReG1JZ  \n",
       "2639                                                  📹 @Pablo_Iglesias_: “A la extrema derecha no se la combate con ‘¡que viene el lobo!’, se la combate con políticas sociales, escuelas públicas y apostando por una sanidad pública y universal. Las políticas que empobrecen son las que fomentan su crecimiento\".\\n\\n#10NVotaSolucion https://t.co/lV6RJ6kMAM  \n",
       "2640                                                     📹 @Pablo_Iglesias_: “A VOX les dijimos que la extrema derecha a nosotros no nos da ni media lección de ser español. Y hoy aquí quiero decir que visca Catalunya, visca la autonomía catalana, visca la escuela catalana y lo digo orgulloso de ser español”.\\n\\n#AVerSiVoyASerDeUP https://t.co/J5uwEQHySq  \n",
       "2641                                                                                                            📹 @Pablo_Iglesias_: “Quiero pedir a la gente que confió en Pedro Sánchez, que confíe en la única fuerza política, que teniendo muchos defectos, ha demostrado que no le compran y que dice la verdad”.\\n\\n#10NVotaSolucions https://t.co/rIRESf4UKW  \n",
       "2642                                                    📹 @Pablo_Iglesias_: “El problema es que saben que si estamos en el Gobierno nos van a seguir votando mucho más. Por eso Ana Patricia Botín, la CEOE y las cloacas entran en campaña a trabajar a pleno rendimiento para que no gobernemos”.\\n\\n#10NVotaSolucions #AVerSiVoyASerDeUP https://t.co/qe6Mm8GxAl  \n",
       "2643                                                              📹 @Pablo_Iglesias_: “En 2015, @ahorapodemos, @IUnida y @EnComu_Podem, sumamos más de 6 millones de votos. Tuvimos más votos que el PSOE. Lo lógico tendría que haber sido un acuerdo de coalición del PSOE con nosotros. El PSOE se fue con Rivera”.\\n\\n#10NVotaSolucions https://t.co/2eN4TCpPFx  \n",
       "2644                                                                             📹 @Pablo_Iglesias_: “A mucha gente que votó socialista queriendo un Gobierno de izquierdas, les pido que voten a @EnComu_Podem y a Unidas Podemos para garantizar que en este país hay un Gobierno de izquierdas”.\\n\\n#10NVotaSolucions #AVerSiVoyASerDeUP https://t.co/n4RD96mv5F  \n",
       "2645                                                   📹 @Pablo_Iglesias_: “¿Por qué insistimos en la fórmula de un Gobierno de coalición? Porque las cosas no salen a la primera y solo hay una garantía para que Sánchez no pacte con Casado: que nosotros salgamos fuertes del 10 de noviembre”.\\n\\n#10NVotaSolucions #AVerSiVoyASerDeUP https://t.co/MjYxptmmNz  \n",
       "2646                                                                                                                                                                                 📹 @Pablo_Iglesias_: “Ningún socialista va a aceptar que le cambien el 'con Rivera no' por el 'con Casado sí'”.\\n\\n#10NVotaSolucions #AVerSiVoyASerDeUP https://t.co/m0TwqwKdGb  \n",
       "2647                                                                                                                                                             📹 @Pablo_Iglesias_: “Pedro Sánchez utiliza a Cataluña como excusa para justificar un acuerdo con la derecha en materia económica”.\\n\\n#10NVotaSolucions #AVerSiVoyASerDeUP https://t.co/ZV4yH4ZXVL  \n",
       "2648                                                            📹 @Pablo_Iglesias_: “Ana Patricia Botín ha entrado en campaña a decir que no les gustamos. Os doy las gracias por poder presumir de que somos una fuerza política que no pide dinero a los bancos para hacer la campaña electoral”.\\n\\n#10NVotaSolucions #AVerSiVoyASerDeUP https://t.co/fcsTQcthZQ  \n",
       "2652                                                                                                                                                                                                               Si quieres soluciones, vota soluciones.\\n\\nActo en Barcelona con @Pablo_Iglesias_, @AdaColau y @Jaumeasens.\\n\\n🔴 DIRECTO https://t.co/IuqFPuOGtg  \n",
       "2660                                               📷 Así está Barcelona media hora antes del acto con @Pablo_Iglesias_, @JaumeAsens y @AdaColau. Si vives en Barcelona, estás a tiempo de llegar, si no puedes verlo en persona podrás seguir el streaming en nuestras redes a partir de las 18:30 h.\\n#10NVotaSolucions #aversivoyaserdeUP https://t.co/rVGKgbOtuf  \n",
       "2669                                             Este viernes cerramos la campaña de Unidas Podemos en el Pabellón 1 de IFEMA en Madrid con @Pablo_Iglesias_, @AdaColau, @agarzon, @juralde, @VeraNoelia, @MayoralRafa, @ionebelarra y muchos compañeros y compañeras más, con la música de @KikoVeneno y @ofunkilloband.\\n\\n¡Os esperamos! https://t.co/Py1q62aGGn  \n",
       "2674                                                                                                                  👏👏👏\\n\\n📽 \"El día 10 hay un voto para defender la seguridad, las garantías, la educación y la sanidad pública, un sistema universal de dependencia. Eso es defender la patria\".\\n\\n@Pablo_Iglesias_ #aversivoyaserdeUP https://t.co/54eYeVBnel  \n",
       "2675                                                                                  📽 \"¿Cuál fue la única formación política que recordó el art. 31, que dice que el sistema fiscal tiene que ser redistributivo, y quién propuso un impuesto para que los bancos devuelvan los 60.000 millones?\".\\n\\n@Pablo_Iglesias_ #aversivoyaserdeUP https://t.co/azi9ciJbDS  \n",
       "2676                                                                                                                                                     📽 \"Fue un orgullo, como demócrata, decirle a Santiago Abascal que los fascistas no nos dan ni media lección de lo que significa ser español\".\\n@Pablo_Iglesias_ #aversivoyaserdeUP https://t.co/ArFKR6KAI9  \n",
       "2678                                                                                                📽 \"Siempre nos dicen que no se puede. ¿Cuántas veces nos dijeron que era una locura subir el salario mínimo a 900 euros? Hoy, ninguna fuerza política se atreve a proponer que tiene que bajar\".\\n\\n@Pablo_Iglesias_ #aversivoyaserdeUP https://t.co/HryY5wZNte  \n",
       "2679                                                                                                                                                  📽 \"La gente socialista es de izquierdas y no quieren ver a su partido gobernando con el PP. Tienen memoria y están hartos de que les engañen\".\\n\\n@Pablo_Iglesias_ #aversivoyaserdeUP https://t.co/4Xl4L3IFIW  \n",
       "2680                                                                                 📽 \"Mucha gente socialista está pensando que le están tomando el pelo...Mucha gente socialista que se identificaba con aquel \"Rivera no\" y que no entiende que el \"Rivera no\" se convierta en \"con Casado sí\" \".\\n\\n@Pablo_Iglesias_ #aversivoyaserdeUP https://t.co/BztAuknPBF  \n",
       "2682                                                                  🎥 \"Ayer, en 3 entrevistas que me hicieron en Castellón, los periodistas reconocieron que Pablo Iglesias es el único que habla de los problemas de la gente y de la España vaciada. En Castellón sabemos mucho de esta cuestión\".\\n@MarisaSaavedraM #aversivoyaserdeUP https://t.co/UYDyBSRAA2  \n",
       "2683                                                                                                                             📽 \"Hoy han preguntado en la radio pública a Sánchez por qué insiste en pedir el apoyo a PP y Cs para gobernar. Él ha respondido con otra pregunta: ¿y por qué no?\".\\n\\n@Pablo_Iglesias_ #aversivoyaserdeUP https://t.co/3NW2rFMoR2  \n",
       "2684                                                           📽 \"Quiero dar las gracias a toda la gente que nos ha financiado con microcréditos. Gracias a vosotros y a vosotras, ningún banquero de este país va a llamarnos para decirnos lo que tenemos que hacer\".\\n\\n📲 https://t.co/4URpsDT986\\n\\n@Pablo_Iglesias_ #aversivoyaserdeUP https://t.co/DKcq03JfvN  \n",
       "2689                                                                                                                                                                                                                                        🔴 EN DIRECTO: Encuentro con @Pablo_Iglesias_ en Valencia. Coméntalo con #aversivoyaserdeUP. \\n\\nhttps://t.co/dc64y68KCc  \n",
       "2692                                                Pues si, solo el pueblo salva al pueblo, y vamos a seguir luchando. Por el futuro de nuestras hijas e hijos, llena la Fira de València escuchando a @NaiaraDavo @m_tere_perez @TxemaGuijarro @pilar_lima @rmartinezdalmau @MarisaSaavedraM @Pablo_Iglesias_ #aversivoyaserdeUP. @Podem_ https://t.co/9YFQt1CjX4  \n",
       "2697                                                       💜Comença l'acte d' #UnidesPodem a #València amb @Pablo_Iglesias_\\ni companyes i companys de la candidatura de la terra: valencianes, castellonenques i alacantins.\\nFem política, perquè si no altres la faran per tu, i probablement contra tu. \\n#aversivoyaserdeUP #SiSePuede https://t.co/So8OR9HHPa  \n",
       "2701                                                                                                                                                                                                                                          🔴 EN DIRECTO: Encuentro con @Pablo_Iglesias_ en Valencia. Coméntalo con #aversivoyaserdeUP.\\n https://t.co/BJG5i8LWWe  \n",
       "2702                                              Tothom reunit circularment a la Fira de València espera 👉 @Pablo_Iglesias_ \\n\\nAmb ell, @Hector_Illueca_ @MarisaSaavedraM @TxemaGuijarro @Roser_Maestro @m_tere_perez @rmartinezdalmau @NaiaraDavo i @pilar_lima \\n\\n👀 Pots seguir-ho ací https://t.co/lY5upk0zrI https://t.co/FvwDhLdJzV https://t.co/hHmzu24VvD  \n",
       "2719                                                                                                              En unos minutos empieza el Encuentro con la Gente de @Pablo_Iglesias_ en Valencia. Si estás por allí, sube tu foto con #aversivoyaserdeUP 💜. \\n\\nTambién emitiremos el acto desde nuestras redes. ¡Adelante que sí puede! https://t.co/lVWB8F7BBZ  \n",
       "2743                                                                                                                                                                                                  📻 \"Sánchez trata de seducir a la derecha con la excusa de Cataluña, y después vienen los recortes\".\\n\\n@Pablo_Iglesias_ en @HoyPorHoy https://t.co/6iVpbJgziU  \n",
       "2744                                                                                                          📻 \"Una negociación de Gobierno no se puede hacer en horas. No volveré a aceptar que negociemos en cinco o doce horas. Una negociación de Gobierno tiene que durar, al menos, algunas semanas\".\\n\\n@Pablo_Iglesias_ @HoyPorHoy https://t.co/HfQn4Z7duU  \n",
       "2745                                                                                                                                            📻 \"Siento mucha tristeza porque perdimos una oportunidad histórica, pero no pudimos hacer más. Hemos demostrado que nadie ha cedido tanto como nosotros\".\\n\\n@Pablo_Iglesias_ en @HoyPorHoy https://t.co/UArmSHuk7g  \n",
       "2746                                               📻 \"Ha habido una discusión muy grande en el Gobierno entre ministras partidarias de la mochila austriaca, como Calviño, y otras más partidarias de políticas de izquierdas. Señalar a Calviño es un guiño hacia los poderes económicos europeos y el PP\".\\n\\n@Pablo_Iglesias_ @HoyPorHoy https://t.co/EhhbZ8b37D  \n",
       "2747                                                                                                                            📻 \"Cuando alguien no tiene mayoría absoluta hay que buscar un Gobierno de coalición. No es sensato que si estás lejos de esa mayoría quieras todos los sillones para ti\".\\n\\n@Pablo_Iglesias_ en @HoyPorHoy https://t.co/Wbz8WJzvzn  \n",
       "2748                                                                                      📻 \"Vemos a distintos Pedros Sánchez en función de la coyuntura. Por eso, si después de las elecciones estamos fuertes y no le queda más remedio que entenderse con nosotros, no tendrá complejos para hacerlo\".\\n\\n@Pablo_Iglesias_ en @HoyPorHoy https://t.co/4XpL5PoXWu  \n",
       "2749                                                                                                                                               📻 \"La mayoría de personas que votan al PSOE prefieren un acuerdo de Gobierno de coalición con nosotros antes que un acuerdo de investidura con el PP\".\\n\\n@Pablo_Iglesias_ en @HoyPorHoy https://t.co/OP4QwXgZ0D  \n",
       "2750                                                                                                                                                                                          📻 \"La única garantía para evitar que Sánchez busque al PP es que nosotros salgamos muy fuertes del día 10\".\\n\\n@Pablo_Iglesias_ en @HoyPorHoy https://t.co/2doYIwhu9N  \n",
       "2751                                                                                                   📻 \"A la extrema derecha se la combate con políticas sociales que garanticen la seguridad de la ciudadanía con sueldos y condiciones de trabajo dignas, con leyes de atención a la dependencia...\".\\n\\n@Pablo_Iglesias_ en @HoyPorHoy https://t.co/jEvcCTDa7n  \n",
       "2752                                                                                                                                                                                    📻 \"Lo que me hace sentir orgulloso de ser español son los servicios públicos y no tener una bandera muy grande\".\\n\\n @Pablo_Iglesias_ en @HoyPorHoy https://t.co/NyxHaB3KVW  \n",
       "2753                                                                                                                                                                                            Comenzamos la mañana con @Pablo_Iglesias_ en @HoyPorHoy. ☕\\n\\n🔴 Puedes verlo en directo aquí: https://t.co/oVzOY2Rd1J\\n\\n¡No te lo pierdas! https://t.co/xufN2z6AKz  \n",
       "2754                                                                                                                                                                                                                               El líder de Unidas Podemos, Pablo Iglesias (@Pablo_Iglesias_) estará a partir de las 9 en 'Hoy por Hoy'\\nhttps://t.co/bFf3CvSdJy  \n",
       "2755                                                                                                                  O pasado domingo case 2.000 persoas encheron o Palexco da Coruña no encontro con @Pablo_Iglesias_ defendendo #UnGobernoContigo. \\n\\n📽 As imaxes seguen emocionando. Hoxe estreamos un resumo cos mellores momentos. 👇 https://t.co/hBjsXvz1ti  \n",
       "2757                                                                                                                                                                     No te pierdas la entrevista que le ha hecho @MonederoJC a @Pablo_Iglesias_ hoy @enlafronteratv.\\n\\nPuedes verla en directo y completa aquí. 👇 #ResacaElectoralELF\\nhttps://t.co/41VVyV1kTs  \n",
       "2758                                                                                          El #DebateElectoral dejó muchos memes, algún que otro dato incorrecto y la sensación de que no hemos avanzado nada de cara al #10N.\\n\\n@MonederoJC ha hablado con @Pablo_Iglesias_ sobre ello. Sigue aquí #ResacaElectoralELF. ¡Te esperamos! https://t.co/l9t3Zg3lHb  \n",
       "2759                                                                                                                                      “Cualquiera que dé un paso adelante con @ahorapodemos se la está jugando”.\\n\\n@Pablo_Iglesias_ y @MonederoJC hablan sobre @VickyRosell en #ResacaDebateELF. Síguelo aquí: https://t.co/hhCZK7goaB https://t.co/tNVxOcH7T8  \n",
       "2760                                                                                                                                                                        El Derecho no termina de entender los derechos de género.\\n\\nResponde @Pablo_Iglesias_ a @MonederoJC en #ResacaDebateELF. Síguelo aquí: https://t.co/hhCZK7goaB https://t.co/dkcaBTHV7z  \n",
       "2762                                                                                                Simplemente genial éste resumen de Spanish Revolution del #DebateElectoral \\n\\n@Pablo_Iglesias_  fué el único que no normalizó el fascismo en el debate, mientras los demás lo normalizaron. Disfrútalo y comparte. 📽\\n#El10NVotareUP\\n https://t.co/2wWsBJPFlu  \n",
       "2763                                                                                                                                                                                                                                  Pablo Iglesias al final cumplió lo acordado con @BuenismoBien.\\n\\nPablo siempre cumple lo que dice. 🤣 https://t.co/HoxD0qCmP5  \n",
       "2769                                                                          📅 Mañana, miércoles 6 de noviembre, @Pablo_Iglesias_ estará en un encuentro con la gente en Valencia. ¡No te lo pierdas!\\n\\n⏰ A las 12.30 h en Feria de Valencia.\\n\\n📲 Si no puedes acudir, podrás seguir en directo el encuentro en nuestras redes sociales. https://t.co/73uBLsl5lA  \n",
       "2770                                                                                                                                                                                                            🔄 COMPARTE este vídeo viral con los mejores momentos de @Pablo_Iglesias_ en el #DebateElectoral.\\n\\nSimplemente BRUTAL. 👊👊\\nhttps://t.co/BOCTVn0LkW  \n",
       "2775                                                                                     En España los neoliberales se dividen entre los vergonzantes, los cuñaos, los conservadores y los pinochetistas. La sensación es que en el debate electoral solo @Pablo_Iglesias_ defendió la democracia frente a la dictadura de las multinacionales y los fondos buitre.  \n",
       "2776                                                  🗓️ El viernes nos vemos junto a @Pablo_Iglesias_, @AdaColau, @VickyRosell, @agarzon, @pnique, @ionebelarra, @VeraNoelia, @juralde y muchos compañeros más para dar el último empujón a esta campaña hacia un #UnGobiernoContigo, bailando al ritmo de @KikoVeneno y @ofunkilloband. 🎶 https://t.co/IfcBgHUYTw  \n",
       "2778                                                                                                                                                                                                                                                                     Enhorabuena, @Pablo_Iglesias_, por ganar el #DebateElectoral. 👏👏💜💜 https://t.co/H8wX0ZbKO9  \n",
       "2780                                                                                                                                    Los técnicos de Hacienda atribuyen el 70% del fraude a las grandes empresas y a los grandes patrimonios. Ese es el verdadero expolio en nuestro país. \\n@Pablo_Iglesias_, en el #DebateElectoral. 👇 https://t.co/C2eaeRSqAg  \n",
       "2791                                                                                                                                                                                                                                                                                  Lección de patriotismo de @Pablo_Iglesias_ a VOX. 👋👋👇 https://t.co/uaJIiorndL  \n",
       "2797                                                                                                  Ayer, @Pablo_Iglesias_ arrasó en el #DebateElectoral con medidas y soluciones para defender los derechos de la gente y los intereses de la mayoría social. Solo hay una opción para lograr un Gobierno progresista: Unidas Podemos. \\nhttps://t.co/Vaw5cNoFIi  \n",
       "2799                                                                    Tenemos para elegir entre dos empleados de la banca. Sánchez y Rivera. \\nDos vividores de la política que no han dado palo al agua en 40 años. Abascal y Casado.\\nY un profesor universitario. Pablo Iglesias.\\nSolo con eso debería bastarnos para saber a quien elegir.\\n#DebateElectoral  \n",
       "2800                                                                                                                                                                                                                                                                      BOOOOOOOM\\n\\nZASCÓN de Pablo Iglesias a Abascal. #DebateElectoral https://t.co/WRuadmDWfT  \n",
       "2801                                                                                                                                                                                                                                           📽 @Pablo_Iglesias_ responde a las preguntas de los periodistas después del #DebateElectoral. https://t.co/6bpPa0QAzb  \n",
       "2803                                                                                                                               Brillante @Pablo_Iglesias_ en el minuto de oro del #DebateElectoral 👏👏\\n\\nQue nadie te convenza de que no se pueden cambiar las cosas. Puede haber un Gobierno que defienda a la gente.\\n\\n¡Sí se puede! https://t.co/yrJIjSvRTz  \n",
       "2804                                                                                                                                                                                El voto rogado impide a nuestros compatriotas ejercer su derecho al voto. Hay que acabar con el voto robado.\\n\\n@Pablo_Iglesias_ en el #DebateElectoral https://t.co/IAvqru1Awm  \n",
       "2805                                                                                                                                                             📺  \"Queremos hacer un Gobierno que sea referencia, que construya un modelo del sur de Europa que defienda los derechos sociales\".\\n@Pablo_Iglesias_ en el #DebateElectoral https://t.co/IgPT7JOrBV  \n",
       "2806                                                                                  📺 La seguridad no la dan ni los muros ni el racismo, la da la protección de las familias y los trabajadores ante las amenazas de las multinacionales y los fondos buitre que no pagan impuestos en España.\\n\\n@Pablo_Iglesias_ en el #DebateElectoral https://t.co/yxttGE5DEX  \n",
       "2808                                                                                                                                                                            ▶️ @Pablo_Iglesias_: \"Es un honor tener a @RosaLluchBramon en nuestras listas que no presume, que trabaja para que este país sea mejor\"\\n\\n#DebateElectoral https://t.co/4gbyfhxpvW  \n",
       "2809                                                                                                                   📺 \"En nuestras listas tenemos a víctimas del terrorismo que no van dando lecciones a nadie, trabajan para que este país sea un lugar mejor\".\\n\\n@Pablo_Iglesias_ hablando claro y contundente en el #DebateElectoral https://t.co/ek4E8wwGqC  \n",
       "2810                                                                            📺  \"Hay muchos socialistas que están perplejos pensando en cómo es posible que su candidato prefiera un acuerdo de Gobierno con el PP y Cs. Esto va de lo que le interesa a nuestro país, de proteger a la gente\".\\n@Pablo_Iglesias_ en el #DebateElectoral https://t.co/5mnHq13o6P  \n",
       "2811                                                                                                                                                                        Muy bien @Pablo_Iglesias_ diciéndole a Sánchez que a la extrema derecha se la combate con políticas sociales y servicios públicos,  y no pidiendo el apoyo a Cs y PP.  #DebateElectoral  \n",
       "2812                                                                                                                   📺 \"Si tras el 10N no hay mayorías absolutas, el próximo Gobierno será de coalición por la derecha o por la izquierda. Sánchez debería aclarar si quiere a Casado o a nosotros\".\\n\\n@Pablo_Iglesias_ #DebateElectoral https://t.co/5h40WRuPjz  \n",
       "2813                                                                                                                                                                                                             Ahí lo tenéis. Pablo Iglesias le vuelve a tender la mano y Pedro Sánchez le responde defendiendo a los empresarios. No hay más preguntas, señoría.  \n",
       "2814                                                                                                   📺  \"Para bajar la factura de la luz, tenemos que acabar con las puertas giratorias que hacen que exministros y expresidentes terminen en los consejos de administración de ese oligopolio\".\\n@Pablo_Iglesias_ en el #DebateElectoral https://t.co/G7xtFKpMx2  \n",
       "2815                                                                                                                                                                                                           Gran repaso de @Pablo_Iglesias_ de los temas de los que nunca se habla en los debates de televisión. 👏👏🔝\\n\\n#DebateElectoral https://t.co/ZxPfwXlj0z  \n",
       "2817                                                                                                                                                     “Tener que derogar” es una perífrasis verbal que Sánchez usa en campaña electoral. Es más, sólo deroga la reforma laboral en campaña electoral @Pablo_Iglesias_ \\n#DebateElectoral https://t.co/nOFayvR4cE  \n",
       "2818                                                         ✅ Dentista gratis. \\n✅ Atención sanitaria a domicilio en las áreas rurales. \\n✅ Educación de 0 a 3 años gratuita. \\n✅ Material escolar gratuito para las familias vulnerables.\\n✅ Universidad gratuita, incluidos másteres habilitantes.\\n@Pablo_Iglesias_ en #DebateElectoral https://t.co/BhFqFGSgPu  \n",
       "2819                                                                                                                                                                                                      📺 \"Cuando llega una crisis, todos sabemos que las mujeres son quienes más las sufren\".\\n\\n@Pablo_Iglesias_ en el #DebateElectoral https://t.co/KCpI7huMuf  \n",
       "2821                                                                                                                                                ▶️ @Pablo_Iglesias_: \"Estoy muy orgulloso de vivir en un país que habla muchas lenguas, con múltiples identidades y donde los conflictos se solucionan con diálogo\"\\n\\n#DebateElectoral https://t.co/eHJKmqTWt2  \n",
       "2822                                                                               Gracias @Pablo_Iglesias_ por hablar del reto de la cohesión territorial en nuestro país y plantear cuestiones que van más allá del conflicto catalán. Gracias por hablar del tren extremeño como paradigma del abandono que sufre nuestra tierra. #DebateElectoral #debatea5RTVE  \n",
       "2823                                                     👉@Pablo_Iglesias_ :«Hay algo más importante a que gobierne Sánchez o que gobierne yo, es un Gobierno de izquierdas. Hay que hacer un acuerdo. Si no, el acuerdo será de la derecha».\\n\\nEsto es responsabilidad política. Quizá Pedro Sánchez debería tomar nota. #DebateElectoral https://t.co/BOzYuAXrom  \n",
       "2824                                                                                       📺 \"Hay algo más importante que que gobierne Sánchez o que gobierne yo, y es que haya un Gobierno de izquierdas. Eso pasa porque nos pongamos de acuerdo porque, si no, el acuerdo será con la derecha\".\\n@Pablo_Iglesias_ en el #DebateElectoral https://t.co/hU1UQ1MG8R  \n",
       "2825                                               «No nos tenemos que achicar ante esta derecha ignorante y agresiva que dice que no hay países plurinacionales» @Pablo_Iglesias_ \\nNecesitamos un acuerdo de país que apueste por el entendimiento para resolver el problema catalán, solo con diálogo podremos avanzar. #DebateElectoral https://t.co/xAJ7VDneDB  \n",
       "2826                                                                                                                                                   \"A muchos jóvenes de este país se les dice que son autónomos cuando tienen un solo pagador. Si tienes un solo pagador, no eres autónomo\".\\n\\n@Pablo_Iglesias_ en el #DebateElectoral https://t.co/l55r1nxnUy  \n",
       "2827                                                                                                                                                                                                                                    Ni una lección de patriotismo de la extrema derecha. \\n\\n👏👏 @Pablo_Iglesias_ en el #DebateElectoral https://t.co/lroNMyB0aa  \n",
       "2828                                                                                                                               📺 \"Lo que expolia a nuestro país es el fraude fiscal. Los técnicos de Hacienda atribuyen el 70% del fraude a las grandes empresas y a los grandes patrimonios\".\\n@Pablo_Iglesias_ en el #DebateElectoral https://t.co/G0mltZf5Mz  \n",
       "2829                                                                                                                                                            📜 Frente a la crisis, la Constitución española. Los recortes por arriba y no por abajo. ✂️\\n\\n📺 @Pablo_Iglesias_, sobre la desaceleración económica, en el #DebateElectoral https://t.co/zUoQL2AJY6  \n",
       "2832                                                                               📺 \"Yo me siento orgulloso de ser español. Me importa presumir de un país en el que tenemos una sanidad pública y universal. Eso hace que me sienta orgulloso de ser español, no tener una bandera muy grande\". \\n@Pablo_Iglesias_ en el #DebateElectoral https://t.co/eswRJ5x9vl  \n",
       "2833                                                                                                                                                                                                                             \"A mí usted no me va a dar ninguna lección de ser español\" #DebateElectoral #DebateA5 #Abascal #Iglesias \\nhttps://t.co/P0RYHOHvU2  \n",
       "2834                                                                        📺 @Pablo_Iglesias_ en el #DebateElectoral\\n\\n\"Compitiendo con la derecha por quién tiene la medida más dura contra Cataluña no vamos a ninguna parte. Pedro Sánchez se equivoca si busca a la derecha como aliada para tratar de resolver el problema catalán\". https://t.co/laYzlexs9P  \n",
       "2835                                                                    📺 @Pablo_Iglesias_ en el #DebateElectoral\\n\\n\"Cuando en un bloque que se llama 'cohesión territorial' hablamos solo de Cataluña, faltamos al respeto a millones de españoles que viven en sus carnes los problemas que vive el mundo rural de los que nadie habla\". https://t.co/zSuTbB6wXn  \n",
       "2836                                                                                        📺 \"Se acerca una desaceleración y ya sabemos qué pasaría si gobierna el PSOE con el PP. Por nuestra parte, sin reproches, dispuestos a hacer un Gobierno de coalición que proteja a la gente de este país\". \\n@Pablo_Iglesias_ #DebateElectoral https://t.co/hWa6yKUYv5  \n",
       "2838                                                                Las cosas difíciles no salen a la primera, pero hemos demostrado que no nos dejamos comprar. Vamos a trabajar para lograr un Gobierno contigo, con la mayoría social de nuestro país. No te pierdas a @Pablo_Iglesias_ en el #DebateElectoral, a partir de las 22.00 h. https://t.co/G97A4RQtb3  \n",
       "2845                                                                                                                                                                                                                          🚖 @Pablo_Iglesias_ llega al #DebateElectoral en taxi. ¡No te lo pierdas! Esta noche, a partir de las 22.00 h. https://t.co/coW8D7K8EO  "
      ]
     },
     "execution_count": 92,
     "metadata": {},
     "output_type": "execute_result"
    }
   ],
   "source": [
    "tweets_df[tweets_df.text.str.contains(\"iglesias\", case = False)].loc[:, [\"screen_name\", \"text\"]]"
   ]
  },
  {
   "cell_type": "markdown",
   "id": "a330d6f9-bd47-4f56-9a2e-54d1d383c4f6",
   "metadata": {},
   "source": [
    "Almost all tweets refer to the surname of the politician and not the concept of churches. Furthermore, it is quite common to use it. It should be deleted.\n",
    "\n",
    "Let us check that \"Iglesia\" (the singular, which would mean church), does not appear as a misspelling of the politician surname."
   ]
  },
  {
   "cell_type": "code",
   "execution_count": 93,
   "id": "045acb49-4e29-42c7-af6a-34e6bcefc719",
   "metadata": {},
   "outputs": [
    {
     "data": {
      "text/html": [
       "<div>\n",
       "<style scoped>\n",
       "    .dataframe tbody tr th:only-of-type {\n",
       "        vertical-align: middle;\n",
       "    }\n",
       "\n",
       "    .dataframe tbody tr th {\n",
       "        vertical-align: top;\n",
       "    }\n",
       "\n",
       "    .dataframe thead th {\n",
       "        text-align: right;\n",
       "    }\n",
       "</style>\n",
       "<table border=\"1\" class=\"dataframe\">\n",
       "  <thead>\n",
       "    <tr style=\"text-align: right;\">\n",
       "      <th></th>\n",
       "      <th>screen_name</th>\n",
       "      <th>text</th>\n",
       "    </tr>\n",
       "  </thead>\n",
       "  <tbody>\n",
       "  </tbody>\n",
       "</table>\n",
       "</div>"
      ],
      "text/plain": [
       "Empty DataFrame\n",
       "Columns: [screen_name, text]\n",
       "Index: []"
      ]
     },
     "execution_count": 93,
     "metadata": {},
     "output_type": "execute_result"
    }
   ],
   "source": [
    "tweets_df[tweets_df.text.str.contains(\"\\\\biglesia\\\\b\", case = False)].loc[:, [\"screen_name\", \"text\"]]"
   ]
  },
  {
   "cell_type": "markdown",
   "id": "ad01303b-33bf-4a1b-b9f7-96779818a9ae",
   "metadata": {},
   "source": [
    "Iglesia does not appear in any tweet, so we can leave it."
   ]
  },
  {
   "cell_type": "markdown",
   "id": "cfce3c3c-756b-4959-8e19-85f0a8815139",
   "metadata": {},
   "source": [
    "6) Fiel (sanctity.virtue):"
   ]
  },
  {
   "cell_type": "code",
   "execution_count": 94,
   "id": "891487b6-9c76-4027-9564-67aeebd2dfc1",
   "metadata": {},
   "outputs": [
    {
     "data": {
      "text/html": [
       "<div>\n",
       "<style scoped>\n",
       "    .dataframe tbody tr th:only-of-type {\n",
       "        vertical-align: middle;\n",
       "    }\n",
       "\n",
       "    .dataframe tbody tr th {\n",
       "        vertical-align: top;\n",
       "    }\n",
       "\n",
       "    .dataframe thead th {\n",
       "        text-align: right;\n",
       "    }\n",
       "</style>\n",
       "<table border=\"1\" class=\"dataframe\">\n",
       "  <thead>\n",
       "    <tr style=\"text-align: right;\">\n",
       "      <th></th>\n",
       "      <th>screen_name</th>\n",
       "      <th>text</th>\n",
       "    </tr>\n",
       "  </thead>\n",
       "  <tbody>\n",
       "    <tr>\n",
       "      <th>125</th>\n",
       "      <td>vox_es</td>\n",
       "      <td>📺 @sanchezdelreal en #ExtremaduraDebate\\n\"En una comisión el Ministro Ábalos prometía decenas de miles de millones a los separatistas, mientras el diputado del PSOE por Badajoz no pestañeó. Los extremeños han sido fieles pero no van a ser tontos\"\\n\\n⬇Hilo con sus intervenciones⬇ https://t.co/Ol796ho1DU</td>\n",
       "    </tr>\n",
       "    <tr>\n",
       "      <th>1143</th>\n",
       "      <td>CiudadanosCs</td>\n",
       "      <td>🇪🇸 ¡Necesitamos al frente del Gobierno a un hombre como @Albert_Rivera!\\n\\n💪 Él sabe lo que es dejarse la piel por todos los españoles.\\n🧡 ¡Su valentía es el fiel reflejo de la de sus padres!\\n\\n▶️@InesArrimadas en el cierre de campaña en #Barcelona 👏 #YoVotoCs https://t.co/b3FDvpTc6I</td>\n",
       "    </tr>\n",
       "    <tr>\n",
       "      <th>1158</th>\n",
       "      <td>CiudadanosCs</td>\n",
       "      <td>🔝 @InesArrimadas \"Necesitamos al frente del gobierno de España a un hombre como @Albert_Rivera, que sabe lo que es dejarse la piel por España\" #YoVotoCs🍊\\n♥️💪 Su valentía es fiel reflejo de la de sus padres. ¡Gracias, Agustín y María Jesús! https://t.co/9Kg25NSuWY</td>\n",
       "    </tr>\n",
       "  </tbody>\n",
       "</table>\n",
       "</div>"
      ],
      "text/plain": [
       "       screen_name  \\\n",
       "125         vox_es   \n",
       "1143  CiudadanosCs   \n",
       "1158  CiudadanosCs   \n",
       "\n",
       "                                                                                                                                                                                                                                                                                                                 text  \n",
       "125   📺 @sanchezdelreal en #ExtremaduraDebate\\n\"En una comisión el Ministro Ábalos prometía decenas de miles de millones a los separatistas, mientras el diputado del PSOE por Badajoz no pestañeó. Los extremeños han sido fieles pero no van a ser tontos\"\\n\\n⬇Hilo con sus intervenciones⬇ https://t.co/Ol796ho1DU  \n",
       "1143                    🇪🇸 ¡Necesitamos al frente del Gobierno a un hombre como @Albert_Rivera!\\n\\n💪 Él sabe lo que es dejarse la piel por todos los españoles.\\n🧡 ¡Su valentía es el fiel reflejo de la de sus padres!\\n\\n▶️@InesArrimadas en el cierre de campaña en #Barcelona 👏 #YoVotoCs https://t.co/b3FDvpTc6I  \n",
       "1158                                         🔝 @InesArrimadas \"Necesitamos al frente del gobierno de España a un hombre como @Albert_Rivera, que sabe lo que es dejarse la piel por España\" #YoVotoCs🍊\\n♥️💪 Su valentía es fiel reflejo de la de sus padres. ¡Gracias, Agustín y María Jesús! https://t.co/9Kg25NSuWY  "
      ]
     },
     "execution_count": 94,
     "metadata": {},
     "output_type": "execute_result"
    }
   ],
   "source": [
    "tweets_df[tweets_df.text.str.contains(\"fiel\", case = False)].loc[:, [\"screen_name\", \"text\"]]"
   ]
  },
  {
   "cell_type": "markdown",
   "id": "63c21b08-dc07-4958-97a9-dec44bc580a4",
   "metadata": {},
   "source": [
    "Even though \"fiel\" is hardly ever used, it does not have the sanctity meaning. Its `sanctity.vice` meaning should be deleted."
   ]
  },
  {
   "cell_type": "code",
   "execution_count": 95,
   "id": "5c46263f-b9ae-42b1-8cd6-a8caf79ba15b",
   "metadata": {},
   "outputs": [
    {
     "name": "stdout",
     "output_type": "stream",
     "text": [
      "comunidad has been removed.\n",
      "comunidades has been removed.\n",
      "iglesias has been removed.\n",
      "fiel has been removed.\n"
     ]
    }
   ],
   "source": [
    "# Removing words:\n",
    "words_to_remove = {'loyalty.virtue': ['comunidad', 'comunidades'], \n",
    "                   'sanctity.virtue': ['iglesias', 'fiel']}\n",
    "\n",
    "for foundation, words in words_to_remove.items():\n",
    "    for word in words:\n",
    "        print(word, \"has been removed.\")\n",
    "        extended_mfd_esp[foundation].remove(word)"
   ]
  },
  {
   "cell_type": "code",
   "execution_count": 96,
   "id": "183dc8ef-9726-404a-8b86-b933c7d0e3df",
   "metadata": {},
   "outputs": [],
   "source": [
    "#with open('dictionaries/extended_mfd_esp.pickle', 'wb') as handle:\n",
    "#    pickle.dump(extended_mfd_esp, handle, protocol = pickle.HIGHEST_PROTOCOL)"
   ]
  },
  {
   "cell_type": "code",
   "execution_count": 97,
   "id": "e9d6d3a0",
   "metadata": {},
   "outputs": [],
   "source": [
    "with open('dictionaries/extended_mfd_esp.pickle', 'rb') as handle:\n",
    "    extended_mfd_esp = pickle.load(handle)"
   ]
  },
  {
   "cell_type": "markdown",
   "id": "65a5c230-6eae-4807-9b1d-e99d12cf5197",
   "metadata": {},
   "source": [
    "## 6. STEM WORDS"
   ]
  },
  {
   "cell_type": "markdown",
   "id": "579a8d9e-28e1-4422-806d-eddf71d33b3a",
   "metadata": {},
   "source": [
    "Given that in Spanish there are many word terminations (like verb tenses, plural, masculine and femenine terminations), stemming sounds like a reasonable option. Let us try a Spanish stemmer and manually check whether the resulting dictionary would have many false positives."
   ]
  },
  {
   "cell_type": "code",
   "execution_count": 189,
   "id": "66109662-61cb-40e8-b7e6-c51fb6118372",
   "metadata": {},
   "outputs": [
    {
     "name": "stdout",
     "output_type": "stream",
     "text": [
      "care.virtue\n",
      "care.vice\n",
      "fairness.virtue\n",
      "fairness.vice\n",
      "loyalty.virtue\n",
      "loyalty.vice\n",
      "authority.virtue\n",
      "authority.vice\n",
      "sanctity.virtue\n",
      "sanctity.vice\n"
     ]
    }
   ],
   "source": [
    "stemmer_esp = SnowballStemmer(\"spanish\")\n",
    "snowball_stem_comparisons = {}\n",
    "for foundation, words in extended_mfd_esp.items():\n",
    "    print(foundation)\n",
    "    snowball_stem_comparisons[foundation] = []\n",
    "    for word in words:\n",
    "        stem_word = stemmer_esp.stem(word)\n",
    "        #if stem_word not in snowball_stem_comparisons[foundation]:\n",
    "        snowball_stem_comparisons[foundation].append(stem_word)"
   ]
  },
  {
   "cell_type": "code",
   "execution_count": 190,
   "id": "77e6e079-7196-4fe7-8668-f467818468ac",
   "metadata": {},
   "outputs": [
    {
     "name": "stdout",
     "output_type": "stream",
     "text": [
      "care.virtue\n",
      "care.vice\n",
      "fairness.virtue\n",
      "fairness.vice\n",
      "loyalty.virtue\n",
      "loyalty.vice\n",
      "authority.virtue\n",
      "authority.vice\n",
      "sanctity.virtue\n",
      "sanctity.vice\n"
     ]
    }
   ],
   "source": [
    "# Get the smallest stem that is contained in a string for each foundation\n",
    "for foundation, words in snowball_stem_comparisons.items():\n",
    "    print(foundation)\n",
    "    for word_stem in range(len(words)):\n",
    "        for other_word_stem in words:\n",
    "            if other_word_stem in words[word_stem] and other_word_stem != words[word_stem]:\n",
    "                words[word_stem] = other_word_stem"
   ]
  },
  {
   "cell_type": "code",
   "execution_count": 191,
   "id": "696fc998-64da-499a-8f32-3524b1fc167a",
   "metadata": {},
   "outputs": [],
   "source": [
    "# Let us create a table with the stemming and export it to excel:\n",
    "stems_df = pd.DataFrame(snowball_stem_comparisons.items()).explode(1)\n",
    "originals_df = pd.DataFrame(extended_mfd_esp.items()).explode(1)\n",
    "stemming_df = pd.concat([originals_df.rename({0: 'foundation', 1: 'original_word'}, axis = 1), \n",
    "                         stems_df.rename({1: 'stem'}, axis = 1).drop(0, axis = 1)], axis = 1).reset_index(drop = True)"
   ]
  },
  {
   "cell_type": "markdown",
   "id": "a2d030a8-3bf3-4c94-a997-b60593726c6e",
   "metadata": {},
   "source": [
    "We will use an Excel file to choose which stem makes most sense:"
   ]
  },
  {
   "cell_type": "code",
   "execution_count": 192,
   "id": "7e0aa2fa-04a8-41d4-8a91-e02c0792c186",
   "metadata": {},
   "outputs": [],
   "source": [
    "stemming_df.to_excel(\"../data/raw/stems.xlsx\", index = False)"
   ]
  },
  {
   "cell_type": "markdown",
   "id": "5250eaf5",
   "metadata": {},
   "source": [
    "Here we will manually correct words that might capture other meanings."
   ]
  },
  {
   "cell_type": "markdown",
   "id": "18987ddb-2992-4705-b1d1-9d0f811db9ad",
   "metadata": {},
   "source": [
    "care.virtue: Embrutecer should not have the beginning of the word trimmed. (I.e., we are using \"brut\", but it should capture \"embrutecer\").\n",
    "care.vice: The same for puñal. (It should also include \"puñala\")"
   ]
  },
  {
   "cell_type": "markdown",
   "id": "3b6f6f91-92e4-459b-90a8-f284329b6706",
   "metadata": {},
   "source": [
    "### After the manual review of the stems, we read the resulting Excel and select unique stems to end our Spanish MFD dictionary:"
   ]
  },
  {
   "cell_type": "code",
   "execution_count": 30,
   "id": "2eb57f9d-71a0-4eea-8c34-85ba75491054",
   "metadata": {},
   "outputs": [
    {
     "data": {
      "text/html": [
       "<div>\n",
       "<style scoped>\n",
       "    .dataframe tbody tr th:only-of-type {\n",
       "        vertical-align: middle;\n",
       "    }\n",
       "\n",
       "    .dataframe tbody tr th {\n",
       "        vertical-align: top;\n",
       "    }\n",
       "\n",
       "    .dataframe thead th {\n",
       "        text-align: right;\n",
       "    }\n",
       "</style>\n",
       "<table border=\"1\" class=\"dataframe\">\n",
       "  <thead>\n",
       "    <tr style=\"text-align: right;\">\n",
       "      <th></th>\n",
       "      <th>foundation</th>\n",
       "      <th>original_word</th>\n",
       "      <th>stem</th>\n",
       "      <th>possible_double_meaning</th>\n",
       "      <th>Notes</th>\n",
       "      <th>Doubt</th>\n",
       "    </tr>\n",
       "  </thead>\n",
       "  <tbody>\n",
       "    <tr>\n",
       "      <th>0</th>\n",
       "      <td>care.virtue</td>\n",
       "      <td>aliviar</td>\n",
       "      <td>alivi</td>\n",
       "      <td>NaN</td>\n",
       "      <td>NaN</td>\n",
       "      <td>NaN</td>\n",
       "    </tr>\n",
       "    <tr>\n",
       "      <th>1</th>\n",
       "      <td>care.virtue</td>\n",
       "      <td>aliviado</td>\n",
       "      <td>alivi</td>\n",
       "      <td>NaN</td>\n",
       "      <td>NaN</td>\n",
       "      <td>NaN</td>\n",
       "    </tr>\n",
       "    <tr>\n",
       "      <th>2</th>\n",
       "      <td>care.virtue</td>\n",
       "      <td>aliviada</td>\n",
       "      <td>alivi</td>\n",
       "      <td>NaN</td>\n",
       "      <td>NaN</td>\n",
       "      <td>NaN</td>\n",
       "    </tr>\n",
       "    <tr>\n",
       "      <th>3</th>\n",
       "      <td>care.virtue</td>\n",
       "      <td>alivia</td>\n",
       "      <td>alivi</td>\n",
       "      <td>NaN</td>\n",
       "      <td>NaN</td>\n",
       "      <td>NaN</td>\n",
       "    </tr>\n",
       "    <tr>\n",
       "      <th>4</th>\n",
       "      <td>care.virtue</td>\n",
       "      <td>aliviando</td>\n",
       "      <td>alivi</td>\n",
       "      <td>NaN</td>\n",
       "      <td>NaN</td>\n",
       "      <td>NaN</td>\n",
       "    </tr>\n",
       "    <tr>\n",
       "      <th>...</th>\n",
       "      <td>...</td>\n",
       "      <td>...</td>\n",
       "      <td>...</td>\n",
       "      <td>...</td>\n",
       "      <td>...</td>\n",
       "      <td>...</td>\n",
       "    </tr>\n",
       "    <tr>\n",
       "      <th>2340</th>\n",
       "      <td>sanctity.vice</td>\n",
       "      <td>desechos</td>\n",
       "      <td>desech</td>\n",
       "      <td>NaN</td>\n",
       "      <td>NaN</td>\n",
       "      <td>NaN</td>\n",
       "    </tr>\n",
       "    <tr>\n",
       "      <th>2341</th>\n",
       "      <td>sanctity.vice</td>\n",
       "      <td>desperdiciando</td>\n",
       "      <td>desperdici</td>\n",
       "      <td>NaN</td>\n",
       "      <td>NaN</td>\n",
       "      <td>NaN</td>\n",
       "    </tr>\n",
       "    <tr>\n",
       "      <th>2342</th>\n",
       "      <td>sanctity.vice</td>\n",
       "      <td>prostíbulo</td>\n",
       "      <td>prost[ií]</td>\n",
       "      <td>NaN</td>\n",
       "      <td>NaN</td>\n",
       "      <td>NaN</td>\n",
       "    </tr>\n",
       "    <tr>\n",
       "      <th>2343</th>\n",
       "      <td>sanctity.vice</td>\n",
       "      <td>burdel</td>\n",
       "      <td>burdel</td>\n",
       "      <td>NaN</td>\n",
       "      <td>NaN</td>\n",
       "      <td>NaN</td>\n",
       "    </tr>\n",
       "    <tr>\n",
       "      <th>2344</th>\n",
       "      <td>sanctity.vice</td>\n",
       "      <td>puticlubs</td>\n",
       "      <td>puti</td>\n",
       "      <td>NaN</td>\n",
       "      <td>NaN</td>\n",
       "      <td>NaN</td>\n",
       "    </tr>\n",
       "  </tbody>\n",
       "</table>\n",
       "<p>2345 rows × 6 columns</p>\n",
       "</div>"
      ],
      "text/plain": [
       "         foundation   original_word        stem  possible_double_meaning  \\\n",
       "0       care.virtue         aliviar       alivi                      NaN   \n",
       "1       care.virtue        aliviado       alivi                      NaN   \n",
       "2       care.virtue        aliviada       alivi                      NaN   \n",
       "3       care.virtue          alivia       alivi                      NaN   \n",
       "4       care.virtue       aliviando       alivi                      NaN   \n",
       "...             ...             ...         ...                      ...   \n",
       "2340  sanctity.vice        desechos      desech                      NaN   \n",
       "2341  sanctity.vice  desperdiciando  desperdici                      NaN   \n",
       "2342  sanctity.vice      prostíbulo   prost[ií]                      NaN   \n",
       "2343  sanctity.vice          burdel      burdel                      NaN   \n",
       "2344  sanctity.vice       puticlubs        puti                      NaN   \n",
       "\n",
       "     Notes  Doubt  \n",
       "0      NaN    NaN  \n",
       "1      NaN    NaN  \n",
       "2      NaN    NaN  \n",
       "3      NaN    NaN  \n",
       "4      NaN    NaN  \n",
       "...    ...    ...  \n",
       "2340   NaN    NaN  \n",
       "2341   NaN    NaN  \n",
       "2342   NaN    NaN  \n",
       "2343   NaN    NaN  \n",
       "2344   NaN    NaN  \n",
       "\n",
       "[2345 rows x 6 columns]"
      ]
     },
     "execution_count": 30,
     "metadata": {},
     "output_type": "execute_result"
    }
   ],
   "source": [
    "clean_stems_df = pd.read_excel(\"../data/clean/stems_clean.xlsx\")\n",
    "clean_stems_df"
   ]
  },
  {
   "cell_type": "code",
   "execution_count": 32,
   "id": "a199eed0-2499-479a-87c8-5a8352a9b2ca",
   "metadata": {},
   "outputs": [
    {
     "name": "stdout",
     "output_type": "stream",
     "text": [
      "\n",
      " care.virtue \n",
      "\n",
      "\n",
      " care.vice \n",
      "\n",
      "\n",
      " fairness.virtue \n",
      "\n",
      "\n",
      " fairness.vice \n",
      "\n",
      "\n",
      " loyalty.virtue \n",
      "\n",
      "\n",
      " loyalty.vice \n",
      "\n",
      "\n",
      " authority.virtue \n",
      "\n",
      "\n",
      " authority.vice \n",
      "\n",
      "\n",
      " sanctity.virtue \n",
      "\n",
      "\n",
      " sanctity.vice \n",
      "\n"
     ]
    }
   ],
   "source": [
    "# This code allows to see whether there are smaller stems than the ones we\n",
    "# are looking for (which would create duplicated counts for the same word in the same foundation):\n",
    "final_esp_mfd = {foundation: [] for foundation in mfd_dict_es_final.keys()}\n",
    "for row in range(clean_stems_df.shape[0]):\n",
    "    # Extract stem, original word and foundation\n",
    "    # Add \\b to the beginning of the stem, so that only the term is detected\n",
    "    # E.g.: \"\\brice\" is not detected in \"price\", but \"rice\" is\n",
    "    # When reading the stem, the \\b of the middle of the string is transformed\n",
    "    # into a raw string (\\\\b)\n",
    "    # I would also have added \\b at the beginning of each string, but that would\n",
    "    # hinder legibility.\n",
    "    stem = clean_stems_df.loc[row, \"stem\"]\n",
    "    stem = r'\\b' + stem\n",
    "    \n",
    "    original_word = clean_stems_df.loc[row, \"original_word\"]\n",
    "    foundation = clean_stems_df.loc[row, \"foundation\"]\n",
    "    final_esp_mfd[foundation].append(stem)\n",
    "\n",
    "for foundation, words in final_esp_mfd.items():\n",
    "    print(\"\\n\", foundation, \"\\n\")\n",
    "    for word_id in range(len(words)):\n",
    "        for other_word in words:\n",
    "            if other_word != words[word_id] and other_word in words[word_id]:\n",
    "                print(words[word_id], other_word)  "
   ]
  },
  {
   "cell_type": "code",
   "execution_count": 33,
   "id": "3a7ddd95-bde7-4488-acf1-82bc86f54526",
   "metadata": {},
   "outputs": [],
   "source": [
    "# Finally, create a dictionary of unique words:\n",
    "final_esp_mfd = {foundation: [] for foundation in mfd_dict_es_final.keys()}\n",
    "for row in range(clean_stems_df.shape[0]):\n",
    "    # Extract stem, original word and foundation\n",
    "    # Add \\b to the beginning of the stem, so that only the term is detected\n",
    "    # E.g.: \"\\brice\" is not detected in \"price\", but \"rice\" is\n",
    "    # This also allows to capture the term if it is a hashtag before\n",
    "    stem = clean_stems_df.loc[row, \"stem\"]\n",
    "    stem = r'\\b' + stem\n",
    "    \n",
    "    original_word = clean_stems_df.loc[row, \"original_word\"]\n",
    "    foundation = clean_stems_df.loc[row, \"foundation\"]\n",
    "    # Append only new stems\n",
    "    if stem not in final_esp_mfd[foundation]:\n",
    "        final_esp_mfd[foundation].append(stem)"
   ]
  },
  {
   "cell_type": "markdown",
   "id": "a60d330b-c767-4c11-b4a4-76db8382091f",
   "metadata": {},
   "source": [
    "**Here is our final moral foundations dictionary in Spanish:**"
   ]
  },
  {
   "cell_type": "code",
   "execution_count": 34,
   "id": "ca51e297-55bc-4083-9540-7cba39495aed",
   "metadata": {},
   "outputs": [
    {
     "name": "stdout",
     "output_type": "stream",
     "text": [
      "care.virtue: ['\\\\balivi', '\\\\baltruis', '\\\\bbenefice', '\\\\bbenevolen', '\\\\bcuid']\n",
      "care.vice: ['\\\\babus', '\\\\bdol[iío]', '\\\\bafli', '\\\\bagon', '\\\\bangusti']\n",
      "fairness.virtue: ['\\\\bvenga[rd]|\\\\bvenganz', '\\\\bobjetiva|\\\\bobjetivid', '\\\\bderecho', '\\\\bcompens', '\\\\blegal']\n",
      "fairness.vice: ['\\\\bbuitre', '\\\\bespecul', '\\\\bpropio?\\\\s?benefici', '\\\\boligop', '\\\\boligar[cq]']\n",
      "loyalty.virtue: ['\\\\btodos\\\\spara\\\\sun', '\\\\bleal', '\\\\baliad', '\\\\bpertene', '\\\\breverenc']\n",
      "loyalty.vice: ['\\\\bcontra\\\\snosotr', '\\\\bapóstat', '\\\\bpor\\\\W*la\\\\W*espalda', '\\\\btraici[oó]n|traidor', '\\\\bdesun']\n",
      "authority.virtue: ['\\\\bconsi?e?nt', '\\\\b(?<!los\\\\W)ceder|ced[aiío]', '\\\\bconformad', '\\\\baquiesc', '\\\\badhi?e?r']\n",
      "authority.vice: ['\\\\ban[aá]rq', '\\\\bapóstat', '\\\\balgarabía', '\\\\bcaos|caótic', '\\\\bdesord']\n",
      "sanctity.virtue: ['\\\\babstinen', '\\\\balá', '\\\\btodopoder', '\\\\b[aá]ng[eé]l', '\\\\bap[oó]st[oó]l']\n",
      "sanctity.vice: ['\\\\baborrec', '\\\\badic[ct]', '\\\\badúlter|\\\\badulteri', '\\\\balcoh[oó]l', '\\\\bapóstat']\n"
     ]
    }
   ],
   "source": [
    "for foundation, words in final_esp_mfd.items():\n",
    "    print(f'{foundation}: {words[:5]}')"
   ]
  },
  {
   "cell_type": "code",
   "execution_count": 35,
   "id": "78325005-8c5d-4ae1-a119-8ced9af5b628",
   "metadata": {},
   "outputs": [],
   "source": [
    "# Store the dictionary\n",
    "with open(\"dictionaries/final_mfd_dict_stems.pickle\", \"wb\") as handle:\n",
    "    pickle.dump(final_esp_mfd, handle, protocol = pickle.HIGHEST_PROTOCOL)"
   ]
  },
  {
   "cell_type": "markdown",
   "id": "aacd362f-b617-4479-9fe3-f94eb277dcc8",
   "metadata": {},
   "source": [
    "## 7. VALIDATE DICTIONARY"
   ]
  },
  {
   "cell_type": "code",
   "execution_count": null,
   "id": "6008af45-4ca3-4a89-8186-115cf204c072",
   "metadata": {},
   "outputs": [],
   "source": []
  }
 ],
 "metadata": {
  "kernelspec": {
   "display_name": "Python 3 (ipykernel)",
   "language": "python",
   "name": "python3"
  },
  "language_info": {
   "codemirror_mode": {
    "name": "ipython",
    "version": 3
   },
   "file_extension": ".py",
   "mimetype": "text/x-python",
   "name": "python",
   "nbconvert_exporter": "python",
   "pygments_lexer": "ipython3",
   "version": "3.8.5"
  }
 },
 "nbformat": 4,
 "nbformat_minor": 5
}
